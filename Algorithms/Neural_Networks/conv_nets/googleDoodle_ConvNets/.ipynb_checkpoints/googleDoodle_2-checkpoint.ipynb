{
 "cells": [
  {
   "cell_type": "code",
   "execution_count": 2,
   "metadata": {},
   "outputs": [
    {
     "name": "stderr",
     "output_type": "stream",
     "text": [
      "Using TensorFlow backend.\n"
     ]
    },
    {
     "data": {
      "text/html": [
       "<style>.container { width:100% !important; }</style>"
      ],
      "text/plain": [
       "<IPython.core.display.HTML object>"
      ]
     },
     "metadata": {},
     "output_type": "display_data"
    }
   ],
   "source": [
    "import random\n",
    "import os\n",
    "import re\n",
    "from glob import glob\n",
    "from tqdm import tqdm\n",
    "import numpy as np\n",
    "import pandas as pd\n",
    "import ast\n",
    "import matplotlib.pyplot as plt\n",
    "%matplotlib inline\n",
    "import numpy as np\n",
    "from PIL import Image, ImageDraw\n",
    "from __future__ import print_function\n",
    "import keras\n",
    "from keras.datasets import mnist\n",
    "from keras.models import Sequential\n",
    "from keras.layers import Dense, Dropout, Flatten\n",
    "from keras.layers import Conv2D, MaxPooling2D\n",
    "from keras import backend as K\n",
    "from keras import metrics\n",
    "from IPython.core.display import display, HTML\n",
    "display(HTML(\"<style>.container { width:100% !important; }</style>\"))\n",
    "from sklearn.model_selection import train_test_split"
   ]
  },
  {
   "cell_type": "markdown",
   "metadata": {},
   "source": [
    "# Get Data"
   ]
  },
  {
   "cell_type": "code",
   "execution_count": 16,
   "metadata": {},
   "outputs": [
    {
     "data": {
      "text/plain": [
       "(112199, 3)"
      ]
     },
     "execution_count": 16,
     "metadata": {},
     "output_type": "execute_result"
    }
   ],
   "source": [
    "test_df = pd.read_csv('test_simplified.csv')\n",
    "test_df.shape"
   ]
  },
  {
   "cell_type": "code",
   "execution_count": 17,
   "metadata": {},
   "outputs": [],
   "source": [
    "# Get names of all train csv files with the pattern match below\n",
    "fnames = glob('train_simplified/*.csv')"
   ]
  },
  {
   "cell_type": "code",
   "execution_count": 18,
   "metadata": {},
   "outputs": [],
   "source": [
    "rows = 200\n",
    "# Get n rows from all the csv files and append them into one dataframe\n",
    "train_df = pd.DataFrame(columns=pd.read_csv(fnames[0], nrows=20).columns)\n",
    "for name in fnames:\n",
    "    data = pd.read_csv(name, nrows=rows)\n",
    "    train_df = train_df.append(data)\n",
    "train_df = train_df.reset_index().drop('index', axis=1)\n",
    "# Get only those which were correctly recognized\n",
    "train_df = train_df[train_df['recognized'] == True]"
   ]
  },
  {
   "cell_type": "code",
   "execution_count": 19,
   "metadata": {},
   "outputs": [],
   "source": [
    "# Convert the drawing column to matrix\n",
    "train_df['drawing'] = train_df['drawing'].apply(ast.literal_eval)\n",
    "test_df['drawing'] = test_df['drawing'].apply(ast.literal_eval)"
   ]
  },
  {
   "cell_type": "code",
   "execution_count": 21,
   "metadata": {},
   "outputs": [],
   "source": [
    "# train_df.head()\n",
    "# train_df['recognized'].value_counts()"
   ]
  },
  {
   "cell_type": "markdown",
   "metadata": {},
   "source": [
    "# Draw Sample"
   ]
  },
  {
   "cell_type": "code",
   "execution_count": 22,
   "metadata": {},
   "outputs": [
    {
     "data": {
      "text/html": [
       "<div>\n",
       "<style scoped>\n",
       "    .dataframe tbody tr th:only-of-type {\n",
       "        vertical-align: middle;\n",
       "    }\n",
       "\n",
       "    .dataframe tbody tr th {\n",
       "        vertical-align: top;\n",
       "    }\n",
       "\n",
       "    .dataframe thead th {\n",
       "        text-align: right;\n",
       "    }\n",
       "</style>\n",
       "<table border=\"1\" class=\"dataframe\">\n",
       "  <thead>\n",
       "    <tr style=\"text-align: right;\">\n",
       "      <th></th>\n",
       "      <th>countrycode</th>\n",
       "      <th>drawing</th>\n",
       "      <th>key_id</th>\n",
       "      <th>recognized</th>\n",
       "      <th>timestamp</th>\n",
       "      <th>word</th>\n",
       "    </tr>\n",
       "  </thead>\n",
       "  <tbody>\n",
       "    <tr>\n",
       "      <th>10180</th>\n",
       "      <td>CA</td>\n",
       "      <td>[[[1, 0, 13, 12, 14, 59, 85, 239, 242, 247, 24...</td>\n",
       "      <td>6653756567453696</td>\n",
       "      <td>True</td>\n",
       "      <td>2017-01-24 17:20:35.583030</td>\n",
       "      <td>pants</td>\n",
       "    </tr>\n",
       "    <tr>\n",
       "      <th>20804</th>\n",
       "      <td>US</td>\n",
       "      <td>[[[168, 119, 90, 75, 34, 17, 12, 12, 20, 31, 5...</td>\n",
       "      <td>6607950753824768</td>\n",
       "      <td>True</td>\n",
       "      <td>2017-03-21 00:21:17.095250</td>\n",
       "      <td>frying pan</td>\n",
       "    </tr>\n",
       "    <tr>\n",
       "      <th>39478</th>\n",
       "      <td>AR</td>\n",
       "      <td>[[[5, 4, 23, 23, 25, 48, 49, 44, 3], [249, 209...</td>\n",
       "      <td>6247988559085568</td>\n",
       "      <td>True</td>\n",
       "      <td>2017-01-25 20:48:52.941820</td>\n",
       "      <td>candle</td>\n",
       "    </tr>\n",
       "    <tr>\n",
       "      <th>41172</th>\n",
       "      <td>GB</td>\n",
       "      <td>[[[65, 76, 92, 100, 100, 97, 82, 61, 50, 43, 4...</td>\n",
       "      <td>5546684824158208</td>\n",
       "      <td>True</td>\n",
       "      <td>2017-01-25 15:48:22.486960</td>\n",
       "      <td>tornado</td>\n",
       "    </tr>\n",
       "    <tr>\n",
       "      <th>10166</th>\n",
       "      <td>BR</td>\n",
       "      <td>[[[66, 58, 39, 14, 0, 0, 11, 45, 66, 72, 77, 7...</td>\n",
       "      <td>4599823997075456</td>\n",
       "      <td>True</td>\n",
       "      <td>2017-03-28 03:31:41.766620</td>\n",
       "      <td>pants</td>\n",
       "    </tr>\n",
       "    <tr>\n",
       "      <th>11348</th>\n",
       "      <td>DE</td>\n",
       "      <td>[[[40, 41, 59, 71, 75, 78, 102, 105, 100, 85, ...</td>\n",
       "      <td>6320939383914496</td>\n",
       "      <td>True</td>\n",
       "      <td>2017-01-26 11:49:51.798360</td>\n",
       "      <td>fork</td>\n",
       "    </tr>\n",
       "    <tr>\n",
       "      <th>31564</th>\n",
       "      <td>US</td>\n",
       "      <td>[[[70, 76, 77, 76, 66, 3, 0, 7, 14, 27, 51, 82...</td>\n",
       "      <td>5478579708100608</td>\n",
       "      <td>True</td>\n",
       "      <td>2017-03-21 15:58:53.327450</td>\n",
       "      <td>moustache</td>\n",
       "    </tr>\n",
       "    <tr>\n",
       "      <th>52568</th>\n",
       "      <td>AE</td>\n",
       "      <td>[[[245, 238, 237, 233, 82, 37, 7, 0, 0, 0, 8, ...</td>\n",
       "      <td>5036453425840128</td>\n",
       "      <td>True</td>\n",
       "      <td>2017-03-15 12:38:24.080770</td>\n",
       "      <td>microwave</td>\n",
       "    </tr>\n",
       "    <tr>\n",
       "      <th>53786</th>\n",
       "      <td>US</td>\n",
       "      <td>[[[7, 3, 1, 6, 12, 15, 14, 15, 18, 18, 26, 29,...</td>\n",
       "      <td>4874382499381248</td>\n",
       "      <td>True</td>\n",
       "      <td>2017-03-21 15:24:03.322400</td>\n",
       "      <td>raccoon</td>\n",
       "    </tr>\n",
       "    <tr>\n",
       "      <th>9338</th>\n",
       "      <td>AE</td>\n",
       "      <td>[[[17, 34, 75, 93, 105, 109, 110, 99, 73, 34, ...</td>\n",
       "      <td>5621456291495936</td>\n",
       "      <td>True</td>\n",
       "      <td>2017-03-18 17:15:06.179910</td>\n",
       "      <td>snail</td>\n",
       "    </tr>\n",
       "  </tbody>\n",
       "</table>\n",
       "</div>"
      ],
      "text/plain": [
       "      countrycode                                            drawing  \\\n",
       "10180          CA  [[[1, 0, 13, 12, 14, 59, 85, 239, 242, 247, 24...   \n",
       "20804          US  [[[168, 119, 90, 75, 34, 17, 12, 12, 20, 31, 5...   \n",
       "39478          AR  [[[5, 4, 23, 23, 25, 48, 49, 44, 3], [249, 209...   \n",
       "41172          GB  [[[65, 76, 92, 100, 100, 97, 82, 61, 50, 43, 4...   \n",
       "10166          BR  [[[66, 58, 39, 14, 0, 0, 11, 45, 66, 72, 77, 7...   \n",
       "11348          DE  [[[40, 41, 59, 71, 75, 78, 102, 105, 100, 85, ...   \n",
       "31564          US  [[[70, 76, 77, 76, 66, 3, 0, 7, 14, 27, 51, 82...   \n",
       "52568          AE  [[[245, 238, 237, 233, 82, 37, 7, 0, 0, 0, 8, ...   \n",
       "53786          US  [[[7, 3, 1, 6, 12, 15, 14, 15, 18, 18, 26, 29,...   \n",
       "9338           AE  [[[17, 34, 75, 93, 105, 109, 110, 99, 73, 34, ...   \n",
       "\n",
       "                 key_id recognized                   timestamp        word  \n",
       "10180  6653756567453696       True  2017-01-24 17:20:35.583030       pants  \n",
       "20804  6607950753824768       True  2017-03-21 00:21:17.095250  frying pan  \n",
       "39478  6247988559085568       True  2017-01-25 20:48:52.941820      candle  \n",
       "41172  5546684824158208       True  2017-01-25 15:48:22.486960     tornado  \n",
       "10166  4599823997075456       True  2017-03-28 03:31:41.766620       pants  \n",
       "11348  6320939383914496       True  2017-01-26 11:49:51.798360        fork  \n",
       "31564  5478579708100608       True  2017-03-21 15:58:53.327450   moustache  \n",
       "52568  5036453425840128       True  2017-03-15 12:38:24.080770   microwave  \n",
       "53786  4874382499381248       True  2017-03-21 15:24:03.322400     raccoon  \n",
       "9338   5621456291495936       True  2017-03-18 17:15:06.179910       snail  "
      ]
     },
     "execution_count": 22,
     "metadata": {},
     "output_type": "execute_result"
    }
   ],
   "source": [
    "train_df.sample(10)"
   ]
  },
  {
   "cell_type": "code",
   "execution_count": 23,
   "metadata": {},
   "outputs": [
    {
     "data": {
      "image/png": "[encoded data removed]",
      "text/plain": [
       "<Figure size 288x288 with 3 Axes>"
      ]
     },
     "metadata": {
      "needs_background": "light"
     },
     "output_type": "display_data"
    }
   ],
   "source": [
    "n_samp = 3\n",
    "train_df_sample = train_df.sample(n_samp)\n",
    "plt.figure(figsize=(4,4))\n",
    "for i in range(n_samp):\n",
    "    draw = train_df_sample.iloc[i]['drawing']\n",
    "    label = train_df_sample.iloc[i]['word']\n",
    "    plt.subplot(n_samp,1,i+1)\n",
    "    for stroke in draw:\n",
    "        plt.plot(stroke[0], stroke[1], marker='.', color='black')\n",
    "        plt.title(label)\n",
    "        plt.axis('off')\n",
    "plt.show()    "
   ]
  },
  {
   "cell_type": "markdown",
   "metadata": {},
   "source": [
    "# Convert drawings to images"
   ]
  },
  {
   "cell_type": "code",
   "execution_count": 24,
   "metadata": {},
   "outputs": [],
   "source": [
    "def draw_it(raw_strokes, output_height, output_width):\n",
    "    image = Image.new(\"P\", (255,255)\n",
    "#                       , color=1\n",
    "            )\n",
    "    image_draw = ImageDraw.Draw(image)\n",
    "\n",
    "    for stroke in raw_strokes:\n",
    "        for i in range(len(stroke[0])-1):\n",
    "\n",
    "            image_draw.line([stroke[0][i], \n",
    "                             stroke[1][i],\n",
    "                             stroke[0][i+1], \n",
    "                             stroke[1][i+1]],\n",
    "                            fill=255, width=6)\n",
    "    # Reduce image size\n",
    "    image = image.resize((output_height,output_width),Image.ANTIALIAS)\n",
    "    \n",
    "    return np.array(image)"
   ]
  },
  {
   "cell_type": "code",
   "execution_count": 25,
   "metadata": {},
   "outputs": [],
   "source": [
    "output_height = 32\n",
    "output_width = 32\n",
    "train_df['img'] = train_df[['drawing']].apply(lambda x: draw_it(x['drawing'], output_height, output_width), axis=1)\n",
    "test_df['img'] = test_df[['drawing']].apply(lambda x: draw_it(x['drawing'], output_height, output_width), axis=1)"
   ]
  },
  {
   "cell_type": "code",
   "execution_count": 26,
   "metadata": {},
   "outputs": [
    {
     "data": {
      "image/png": "[encoded data removed]",
      "text/plain": [
       "<Figure size 432x288 with 1 Axes>"
      ]
     },
     "metadata": {
      "needs_background": "light"
     },
     "output_type": "display_data"
    }
   ],
   "source": [
    "# Show an image\n",
    "ind = 100\n",
    "plt.imshow(train_df.iloc[ind]['img'],cmap='gray')\n",
    "plt.title(train_df.iloc[ind]['word'])\n",
    "plt.show()"
   ]
  },
  {
   "cell_type": "code",
   "execution_count": null,
   "metadata": {},
   "outputs": [],
   "source": []
  },
  {
   "cell_type": "markdown",
   "metadata": {},
   "source": [
    "# Create a baseline CNN"
   ]
  },
  {
   "cell_type": "code",
   "execution_count": 27,
   "metadata": {},
   "outputs": [],
   "source": [
    "batch_size = 10\n",
    "num_classes = len(fnames)\n",
    "epochs = 12"
   ]
  },
  {
   "cell_type": "markdown",
   "metadata": {},
   "source": [
    "### Data Preprocessing"
   ]
  },
  {
   "cell_type": "code",
   "execution_count": 28,
   "metadata": {},
   "outputs": [],
   "source": [
    "# Shuffle the data\n",
    "random.seed(111)\n",
    "train_df = train_df.sample(train_df.shape[0])"
   ]
  },
  {
   "cell_type": "code",
   "execution_count": 29,
   "metadata": {},
   "outputs": [],
   "source": [
    "# input image dimensions\n",
    "img_rows, img_cols = output_height, output_width\n",
    "input_shape = (img_rows, img_cols)"
   ]
  },
  {
   "cell_type": "code",
   "execution_count": 30,
   "metadata": {},
   "outputs": [],
   "source": [
    "# Reshape the array\n",
    "imgArr = np.vstack(train_df['img'].values).flatten().reshape((train_df['img'].shape[0], img_rows, img_cols))\n",
    "imgArr_test = np.vstack(test_df['img'].values).flatten().reshape((test_df['img'].shape[0], img_rows, img_cols))"
   ]
  },
  {
   "cell_type": "code",
   "execution_count": 31,
   "metadata": {},
   "outputs": [],
   "source": [
    "# In Keras, the layers used for two-dimensional convolutions expect pixel values with the dimensions [width][height][pixels] for TF.\n",
    "# In the case of RGB, the first dimension pixels would be 3 for the red, green and blue components and it would be like having 3 image inputs for every color image. In this case, the pixel values are gray scale, the pixel dimension is set to 1.\n",
    "imgArr = imgArr.reshape(imgArr.shape[0], img_rows, img_cols, 1).astype('float32')\n",
    "imgArr_test = imgArr_test.reshape(imgArr_test.shape[0], img_rows, img_cols, 1).astype('float32')"
   ]
  },
  {
   "cell_type": "code",
   "execution_count": null,
   "metadata": {},
   "outputs": [],
   "source": []
  },
  {
   "cell_type": "code",
   "execution_count": 32,
   "metadata": {},
   "outputs": [],
   "source": [
    "y_train = train_df['word']"
   ]
  },
  {
   "cell_type": "code",
   "execution_count": 33,
   "metadata": {},
   "outputs": [],
   "source": [
    "# Convert class labels from categorical to numerical\n",
    "unique_classes_list = y_train.unique()\n",
    "map_class_to_numeric = {k: v for v, k in enumerate(y_train.unique())}\n",
    "map_numeric_to_class = {v: k for k, v in map_class_to_numeric.iteritems()}\n",
    "y_train_numeric = y_train.apply(lambda x: map_class_to_numeric[x])\n",
    "\n",
    "# convert class vectors to binary class matrices\n",
    "y_train_one_hot = keras.utils.to_categorical(y_train_numeric, num_classes)\n",
    "num_classes = y_train_one_hot.shape[1]"
   ]
  },
  {
   "cell_type": "code",
   "execution_count": 34,
   "metadata": {},
   "outputs": [],
   "source": [
    "X_train, X_test, y_train, y_test = train_test_split(imgArr, y_train_one_hot, test_size=0.2)"
   ]
  },
  {
   "cell_type": "code",
   "execution_count": 35,
   "metadata": {},
   "outputs": [],
   "source": [
    "def top_3_accuracy(y_true, y_pred):\n",
    "    return metrics.top_k_categorical_accuracy(y_true, y_pred, k=3)"
   ]
  },
  {
   "cell_type": "markdown",
   "metadata": {},
   "source": [
    "### Model Architecture"
   ]
  },
  {
   "cell_type": "code",
   "execution_count": 36,
   "metadata": {},
   "outputs": [],
   "source": [
    "num_filters = 8 # num of channels / filters\n",
    "def baseline_conv_model(num_filters):\n",
    "    model = Sequential()\n",
    "    model.add(Conv2D(num_filters, (5,5), input_shape=(img_rows,img_cols,1), activation='relu')) \n",
    "    model.add(MaxPooling2D(pool_size=(2,2)))\n",
    "    model.add(Dropout(0.2))\n",
    "    model.add(Conv2D(num_filters*2, (3,3), activation='relu')) \n",
    "    model.add(MaxPooling2D(pool_size=(2,2)))\n",
    "    model.add(Dropout(0.2))\n",
    "    model.add(Conv2D(num_filters*4, (3,3), activation='relu')) \n",
    "    model.add(MaxPooling2D(pool_size=(2,2)))\n",
    "    model.add(Dropout(0.2))\n",
    "    model.add(Flatten())\n",
    "    model.add(Dense(2550, activation='relu'))\n",
    "    model.add(Dropout(0.2))\n",
    "    model.add(Dense(1000, activation='relu'))\n",
    "    model.add(Dropout(0.2))\n",
    "#     model.add(Dense(100, activation='relu'))\n",
    "    model.add(Dense(num_classes, activation='softmax'))\n",
    "    \n",
    "    # Compile\n",
    "    model.compile(loss='categorical_crossentropy', optimizer='adam', metrics=['accuracy', top_3_accuracy, 'categorical_crossentropy'])\n",
    "    return model"
   ]
  },
  {
   "cell_type": "code",
   "execution_count": 37,
   "metadata": {},
   "outputs": [
    {
     "name": "stdout",
     "output_type": "stream",
     "text": [
      "_________________________________________________________________\n",
      "Layer (type)                 Output Shape              Param #   \n",
      "=================================================================\n",
      "conv2d_1 (Conv2D)            (None, 28, 28, 8)         208       \n",
      "_________________________________________________________________\n",
      "max_pooling2d_1 (MaxPooling2 (None, 14, 14, 8)         0         \n",
      "_________________________________________________________________\n",
      "dropout_1 (Dropout)          (None, 14, 14, 8)         0         \n",
      "_________________________________________________________________\n",
      "conv2d_2 (Conv2D)            (None, 12, 12, 16)        1168      \n",
      "_________________________________________________________________\n",
      "max_pooling2d_2 (MaxPooling2 (None, 6, 6, 16)          0         \n",
      "_________________________________________________________________\n",
      "dropout_2 (Dropout)          (None, 6, 6, 16)          0         \n",
      "_________________________________________________________________\n",
      "conv2d_3 (Conv2D)            (None, 4, 4, 32)          4640      \n",
      "_________________________________________________________________\n",
      "max_pooling2d_3 (MaxPooling2 (None, 2, 2, 32)          0         \n",
      "_________________________________________________________________\n",
      "dropout_3 (Dropout)          (None, 2, 2, 32)          0         \n",
      "_________________________________________________________________\n",
      "flatten_1 (Flatten)          (None, 128)               0         \n",
      "_________________________________________________________________\n",
      "dense_1 (Dense)              (None, 2550)              328950    \n",
      "_________________________________________________________________\n",
      "dropout_4 (Dropout)          (None, 2550)              0         \n",
      "_________________________________________________________________\n",
      "dense_2 (Dense)              (None, 1000)              2551000   \n",
      "_________________________________________________________________\n",
      "dropout_5 (Dropout)          (None, 1000)              0         \n",
      "_________________________________________________________________\n",
      "dense_3 (Dense)              (None, 340)               340340    \n",
      "=================================================================\n",
      "Total params: 3,226,306\n",
      "Trainable params: 3,226,306\n",
      "Non-trainable params: 0\n",
      "_________________________________________________________________\n"
     ]
    }
   ],
   "source": [
    "model = baseline_conv_model(num_filters)\n",
    "model.summary()"
   ]
  },
  {
   "cell_type": "code",
   "execution_count": null,
   "metadata": {},
   "outputs": [
    {
     "name": "stdout",
     "output_type": "stream",
     "text": [
      "Train on 50072 samples, validate on 12518 samples\n",
      "Epoch 1/500\n",
      " - 68s - loss: 7.9947 - acc: 0.0041 - top_3_accuracy: 0.0116 - categorical_crossentropy: 7.9947 - val_loss: 5.8167 - val_acc: 0.0064 - val_top_3_accuracy: 0.0166 - val_categorical_crossentropy: 5.8167\n",
      "Epoch 2/500\n",
      " - 64s - loss: 5.6681 - acc: 0.0099 - top_3_accuracy: 0.0267 - categorical_crossentropy: 5.6681 - val_loss: 5.3881 - val_acc: 0.0217 - val_top_3_accuracy: 0.0524 - val_categorical_crossentropy: 5.3881\n",
      "Epoch 3/500\n",
      " - 64s - loss: 5.3259 - acc: 0.0204 - top_3_accuracy: 0.0541 - categorical_crossentropy: 5.3259 - val_loss: 5.1537 - val_acc: 0.0373 - val_top_3_accuracy: 0.0907 - val_categorical_crossentropy: 5.1537\n",
      "Epoch 4/500\n",
      " - 64s - loss: 5.1234 - acc: 0.0341 - top_3_accuracy: 0.0813 - categorical_crossentropy: 5.1234 - val_loss: 4.9477 - val_acc: 0.0584 - val_top_3_accuracy: 0.1298 - val_categorical_crossentropy: 4.9477\n",
      "Epoch 5/500\n",
      " - 65s - loss: 4.9529 - acc: 0.0448 - top_3_accuracy: 0.1062 - categorical_crossentropy: 4.9529 - val_loss: 4.7715 - val_acc: 0.0734 - val_top_3_accuracy: 0.1614 - val_categorical_crossentropy: 4.7715\n",
      "Epoch 6/500\n",
      " - 63s - loss: 4.8008 - acc: 0.0571 - top_3_accuracy: 0.1325 - categorical_crossentropy: 4.8008 - val_loss: 4.5923 - val_acc: 0.0885 - val_top_3_accuracy: 0.1948 - val_categorical_crossentropy: 4.5923\n",
      "Epoch 7/500\n",
      " - 65s - loss: 4.6475 - acc: 0.0733 - top_3_accuracy: 0.1585 - categorical_crossentropy: 4.6475 - val_loss: 4.4227 - val_acc: 0.1192 - val_top_3_accuracy: 0.2364 - val_categorical_crossentropy: 4.4227\n",
      "Epoch 8/500\n",
      " - 64s - loss: 4.4815 - acc: 0.0891 - top_3_accuracy: 0.1899 - categorical_crossentropy: 4.4815 - val_loss: 4.2208 - val_acc: 0.1365 - val_top_3_accuracy: 0.2655 - val_categorical_crossentropy: 4.2208\n",
      "Epoch 9/500\n",
      " - 75s - loss: 4.3472 - acc: 0.1019 - top_3_accuracy: 0.2154 - categorical_crossentropy: 4.3472 - val_loss: 4.0551 - val_acc: 0.1582 - val_top_3_accuracy: 0.3026 - val_categorical_crossentropy: 4.0551\n",
      "Epoch 10/500\n",
      " - 73s - loss: 4.2130 - acc: 0.1169 - top_3_accuracy: 0.2412 - categorical_crossentropy: 4.2130 - val_loss: 3.9407 - val_acc: 0.1690 - val_top_3_accuracy: 0.3295 - val_categorical_crossentropy: 3.9407\n",
      "Epoch 11/500\n",
      " - 65s - loss: 4.0851 - acc: 0.1313 - top_3_accuracy: 0.2641 - categorical_crossentropy: 4.0851 - val_loss: 3.8212 - val_acc: 0.1968 - val_top_3_accuracy: 0.3617 - val_categorical_crossentropy: 3.8212\n",
      "Epoch 12/500\n",
      " - 66s - loss: 3.9808 - acc: 0.1450 - top_3_accuracy: 0.2860 - categorical_crossentropy: 3.9808 - val_loss: 3.7382 - val_acc: 0.2066 - val_top_3_accuracy: 0.3751 - val_categorical_crossentropy: 3.7382\n",
      "Epoch 13/500\n",
      " - 67s - loss: 3.8988 - acc: 0.1545 - top_3_accuracy: 0.3012 - categorical_crossentropy: 3.8988 - val_loss: 3.6061 - val_acc: 0.2182 - val_top_3_accuracy: 0.3954 - val_categorical_crossentropy: 3.6061\n",
      "Epoch 14/500\n",
      " - 72s - loss: 3.7949 - acc: 0.1695 - top_3_accuracy: 0.3250 - categorical_crossentropy: 3.7949 - val_loss: 3.5413 - val_acc: 0.2343 - val_top_3_accuracy: 0.4148 - val_categorical_crossentropy: 3.5413\n",
      "Epoch 15/500\n",
      " - 65s - loss: 3.7277 - acc: 0.1787 - top_3_accuracy: 0.3382 - categorical_crossentropy: 3.7277 - val_loss: 3.4705 - val_acc: 0.2433 - val_top_3_accuracy: 0.4280 - val_categorical_crossentropy: 3.4705\n",
      "Epoch 16/500\n",
      " - 66s - loss: 3.6487 - acc: 0.1877 - top_3_accuracy: 0.3536 - categorical_crossentropy: 3.6487 - val_loss: 3.3990 - val_acc: 0.2500 - val_top_3_accuracy: 0.4444 - val_categorical_crossentropy: 3.3990\n",
      "Epoch 17/500\n",
      " - 65s - loss: 3.5787 - acc: 0.1964 - top_3_accuracy: 0.3693 - categorical_crossentropy: 3.5787 - val_loss: 3.3390 - val_acc: 0.2575 - val_top_3_accuracy: 0.4506 - val_categorical_crossentropy: 3.3390\n",
      "Epoch 18/500\n",
      " - 65s - loss: 3.5096 - acc: 0.2080 - top_3_accuracy: 0.3824 - categorical_crossentropy: 3.5096 - val_loss: 3.3042 - val_acc: 0.2747 - val_top_3_accuracy: 0.4628 - val_categorical_crossentropy: 3.3042\n",
      "Epoch 19/500\n",
      " - 70s - loss: 3.4497 - acc: 0.2197 - top_3_accuracy: 0.3947 - categorical_crossentropy: 3.4497 - val_loss: 3.2166 - val_acc: 0.2784 - val_top_3_accuracy: 0.4719 - val_categorical_crossentropy: 3.2166\n",
      "Epoch 20/500\n",
      " - 68s - loss: 3.3987 - acc: 0.2283 - top_3_accuracy: 0.4081 - categorical_crossentropy: 3.3987 - val_loss: 3.1905 - val_acc: 0.2828 - val_top_3_accuracy: 0.4803 - val_categorical_crossentropy: 3.1905\n",
      "Epoch 21/500\n",
      " - 64s - loss: 3.3407 - acc: 0.2346 - top_3_accuracy: 0.4171 - categorical_crossentropy: 3.3407 - val_loss: 3.1622 - val_acc: 0.2910 - val_top_3_accuracy: 0.4886 - val_categorical_crossentropy: 3.1622\n",
      "Epoch 22/500\n",
      " - 65s - loss: 3.2842 - acc: 0.2439 - top_3_accuracy: 0.4292 - categorical_crossentropy: 3.2842 - val_loss: 3.1251 - val_acc: 0.2956 - val_top_3_accuracy: 0.4981 - val_categorical_crossentropy: 3.1251\n",
      "Epoch 23/500\n",
      " - 66s - loss: 3.2366 - acc: 0.2483 - top_3_accuracy: 0.4411 - categorical_crossentropy: 3.2366 - val_loss: 3.0683 - val_acc: 0.2972 - val_top_3_accuracy: 0.4934 - val_categorical_crossentropy: 3.0683\n",
      "Epoch 24/500\n",
      " - 64s - loss: 3.2057 - acc: 0.2532 - top_3_accuracy: 0.4462 - categorical_crossentropy: 3.2057 - val_loss: 3.0860 - val_acc: 0.3008 - val_top_3_accuracy: 0.4982 - val_categorical_crossentropy: 3.0860\n",
      "Epoch 25/500\n",
      " - 75s - loss: 3.1558 - acc: 0.2623 - top_3_accuracy: 0.4590 - categorical_crossentropy: 3.1558 - val_loss: 3.0005 - val_acc: 0.3100 - val_top_3_accuracy: 0.5152 - val_categorical_crossentropy: 3.0005\n",
      "Epoch 26/500\n",
      " - 69s - loss: 3.1112 - acc: 0.2688 - top_3_accuracy: 0.4657 - categorical_crossentropy: 3.1112 - val_loss: 2.9911 - val_acc: 0.3127 - val_top_3_accuracy: 0.5193 - val_categorical_crossentropy: 2.9911\n",
      "Epoch 27/500\n",
      " - 68s - loss: 3.0595 - acc: 0.2766 - top_3_accuracy: 0.4755 - categorical_crossentropy: 3.0595 - val_loss: 2.9701 - val_acc: 0.3116 - val_top_3_accuracy: 0.5219 - val_categorical_crossentropy: 2.9701\n",
      "Epoch 28/500\n",
      " - 65s - loss: 3.0343 - acc: 0.2772 - top_3_accuracy: 0.4799 - categorical_crossentropy: 3.0343 - val_loss: 2.9870 - val_acc: 0.3058 - val_top_3_accuracy: 0.5118 - val_categorical_crossentropy: 2.9870\n",
      "Epoch 29/500\n",
      " - 65s - loss: 3.0139 - acc: 0.2835 - top_3_accuracy: 0.4854 - categorical_crossentropy: 3.0139 - val_loss: 2.9339 - val_acc: 0.3219 - val_top_3_accuracy: 0.5324 - val_categorical_crossentropy: 2.9339\n",
      "Epoch 30/500\n",
      " - 65s - loss: 2.9674 - acc: 0.2914 - top_3_accuracy: 0.4945 - categorical_crossentropy: 2.9674 - val_loss: 2.9134 - val_acc: 0.3257 - val_top_3_accuracy: 0.5328 - val_categorical_crossentropy: 2.9134\n",
      "Epoch 31/500\n",
      " - 66s - loss: 2.9356 - acc: 0.2963 - top_3_accuracy: 0.5018 - categorical_crossentropy: 2.9356 - val_loss: 2.9280 - val_acc: 0.3228 - val_top_3_accuracy: 0.5252 - val_categorical_crossentropy: 2.9280\n",
      "Epoch 32/500\n",
      " - 78s - loss: 2.9066 - acc: 0.2989 - top_3_accuracy: 0.5083 - categorical_crossentropy: 2.9066 - val_loss: 2.9006 - val_acc: 0.3269 - val_top_3_accuracy: 0.5315 - val_categorical_crossentropy: 2.9006\n",
      "Epoch 33/500\n"
     ]
    }
   ],
   "source": [
    "model.fit(X_train, y_train, \n",
    "          validation_data=(X_test, y_test),\n",
    "          epochs=500, batch_size=1000, verbose=2)\n",
    "scores = model.evaluate(X_test, y_test, verbose=0)\n",
    "print(\"CNN Error: %.2f%%\" % (100-scores[1]*100))"
   ]
  },
  {
   "cell_type": "code",
   "execution_count": null,
   "metadata": {},
   "outputs": [],
   "source": [
    "model.fit(X_train, y_train, \n",
    "          validation_data=(X_test, y_test),\n",
    "          epochs=500, batch_size=1000, verbose=2)\n",
    "scores = model.evaluate(X_test, y_test, verbose=0)\n",
    "print(\"CNN Error: %.2f%%\" % (100-scores[1]*100))"
   ]
  },
  {
   "cell_type": "code",
   "execution_count": null,
   "metadata": {},
   "outputs": [],
   "source": []
  },
  {
   "cell_type": "code",
   "execution_count": null,
   "metadata": {},
   "outputs": [],
   "source": []
  },
  {
   "cell_type": "code",
   "execution_count": 131,
   "metadata": {},
   "outputs": [
    {
     "data": {
      "text/plain": [
       "(27200, 50, 50, 1)"
      ]
     },
     "execution_count": 131,
     "metadata": {},
     "output_type": "execute_result"
    }
   ],
   "source": [
    "# X_train.shape"
   ]
  },
  {
   "cell_type": "code",
   "execution_count": null,
   "metadata": {},
   "outputs": [],
   "source": []
  }
 ],
 "metadata": {
  "kernelspec": {
   "display_name": "Python 2",
   "language": "python",
   "name": "python2"
  },
  "language_info": {
   "codemirror_mode": {
    "name": "ipython",
    "version": 2
   },
   "file_extension": ".py",
   "mimetype": "text/x-python",
   "name": "python",
   "nbconvert_exporter": "python",
   "pygments_lexer": "ipython2",
   "version": "2.7.15"
  }
 },
 "nbformat": 4,
 "nbformat_minor": 2
}
