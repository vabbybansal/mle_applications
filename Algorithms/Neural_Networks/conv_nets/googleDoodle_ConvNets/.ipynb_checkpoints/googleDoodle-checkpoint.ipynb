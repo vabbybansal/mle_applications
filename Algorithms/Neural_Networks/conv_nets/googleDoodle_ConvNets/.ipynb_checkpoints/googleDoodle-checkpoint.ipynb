{
 "cells": [
  {
   "cell_type": "code",
   "execution_count": 291,
   "metadata": {},
   "outputs": [
    {
     "data": {
      "text/html": [
       "<style>.container { width:100% !important; }</style>"
      ],
      "text/plain": [
       "<IPython.core.display.HTML object>"
      ]
     },
     "metadata": {},
     "output_type": "display_data"
    }
   ],
   "source": [
    "import random\n",
    "import os\n",
    "import re\n",
    "from glob import glob\n",
    "from tqdm import tqdm\n",
    "import numpy as np\n",
    "import pandas as pd\n",
    "import ast\n",
    "import matplotlib.pyplot as plt\n",
    "%matplotlib inline\n",
    "import numpy as np\n",
    "from PIL import Image, ImageDraw\n",
    "from __future__ import print_function\n",
    "import keras\n",
    "from keras.datasets import mnist\n",
    "from keras.models import Sequential\n",
    "from keras.layers import Dense, Dropout, Flatten\n",
    "from keras.layers import Conv2D, MaxPooling2D\n",
    "from keras import backend as K\n",
    "from keras import metrics\n",
    "from IPython.core.display import display, HTML\n",
    "display(HTML(\"<style>.container { width:100% !important; }</style>\"))\n",
    "from sklearn.model_selection import train_test_split"
   ]
  },
  {
   "cell_type": "markdown",
   "metadata": {},
   "source": [
    "# Get Data"
   ]
  },
  {
   "cell_type": "code",
   "execution_count": 2,
   "metadata": {},
   "outputs": [],
   "source": [
    "test = pd.read_csv('test_simplified.csv')"
   ]
  },
  {
   "cell_type": "code",
   "execution_count": null,
   "metadata": {},
   "outputs": [],
   "source": []
  },
  {
   "cell_type": "code",
   "execution_count": 3,
   "metadata": {},
   "outputs": [],
   "source": [
    "# Get names of all train csv files with the pattern match below\n",
    "fnames = glob('train_simplified/*.csv')"
   ]
  },
  {
   "cell_type": "code",
   "execution_count": 164,
   "metadata": {},
   "outputs": [],
   "source": [
    "rows = 200\n",
    "# Get n rows from all the csv files and append them into one dataframe\n",
    "train_df = pd.DataFrame(columns=pd.read_csv(fnames[0], nrows=20).columns)\n",
    "for name in fnames:\n",
    "    data = pd.read_csv(name, nrows=rows)\n",
    "    train_df = train_df.append(data)\n",
    "train_df = train_df.reset_index().drop('index', axis=1)\n",
    "# Get only those which were correctly recognized\n",
    "train_df = train_df[train_df['recognized'] == True]\n",
    "train_df['drawing'] = train_df['drawing'].apply(ast.literal_eval)"
   ]
  },
  {
   "cell_type": "code",
   "execution_count": 165,
   "metadata": {},
   "outputs": [
    {
     "data": {
      "text/plain": [
       "(62590, 6)"
      ]
     },
     "execution_count": 165,
     "metadata": {},
     "output_type": "execute_result"
    }
   ],
   "source": [
    "train_df.shape\n",
    "# train_df['recognized'].value_counts()"
   ]
  },
  {
   "cell_type": "markdown",
   "metadata": {},
   "source": [
    "# Draw Sample"
   ]
  },
  {
   "cell_type": "code",
   "execution_count": 166,
   "metadata": {},
   "outputs": [
    {
     "data": {
      "text/html": [
       "<div>\n",
       "<style scoped>\n",
       "    .dataframe tbody tr th:only-of-type {\n",
       "        vertical-align: middle;\n",
       "    }\n",
       "\n",
       "    .dataframe tbody tr th {\n",
       "        vertical-align: top;\n",
       "    }\n",
       "\n",
       "    .dataframe thead th {\n",
       "        text-align: right;\n",
       "    }\n",
       "</style>\n",
       "<table border=\"1\" class=\"dataframe\">\n",
       "  <thead>\n",
       "    <tr style=\"text-align: right;\">\n",
       "      <th></th>\n",
       "      <th>countrycode</th>\n",
       "      <th>drawing</th>\n",
       "      <th>key_id</th>\n",
       "      <th>recognized</th>\n",
       "      <th>timestamp</th>\n",
       "      <th>word</th>\n",
       "    </tr>\n",
       "  </thead>\n",
       "  <tbody>\n",
       "    <tr>\n",
       "      <th>20780</th>\n",
       "      <td>US</td>\n",
       "      <td>[[[0, 15, 45, 74, 98, 126, 144, 158, 168, 167,...</td>\n",
       "      <td>5195909119868928</td>\n",
       "      <td>True</td>\n",
       "      <td>2017-03-21 23:59:58.677920</td>\n",
       "      <td>ear</td>\n",
       "    </tr>\n",
       "    <tr>\n",
       "      <th>62715</th>\n",
       "      <td>US</td>\n",
       "      <td>[[[11, 114, 221, 253, 255, 255, 253], [12, 12,...</td>\n",
       "      <td>5715858993184768</td>\n",
       "      <td>True</td>\n",
       "      <td>2017-03-29 15:09:14.599620</td>\n",
       "      <td>bench</td>\n",
       "    </tr>\n",
       "    <tr>\n",
       "      <th>43297</th>\n",
       "      <td>AU</td>\n",
       "      <td>[[[44, 73, 88, 90, 81, 76, 70, 49, 31, 30, 34]...</td>\n",
       "      <td>6409799233175552</td>\n",
       "      <td>True</td>\n",
       "      <td>2017-03-10 02:04:53.649330</td>\n",
       "      <td>microphone</td>\n",
       "    </tr>\n",
       "    <tr>\n",
       "      <th>14254</th>\n",
       "      <td>HR</td>\n",
       "      <td>[[[38, 37, 21, 8, 0, 0], [0, 11, 48, 87, 140, ...</td>\n",
       "      <td>4823576777588736</td>\n",
       "      <td>True</td>\n",
       "      <td>2017-03-05 19:31:22.521970</td>\n",
       "      <td>jail</td>\n",
       "    </tr>\n",
       "    <tr>\n",
       "      <th>15784</th>\n",
       "      <td>US</td>\n",
       "      <td>[[[0, 46, 185, 224, 228, 212, 198, 168, 145, 1...</td>\n",
       "      <td>4843567887417344</td>\n",
       "      <td>True</td>\n",
       "      <td>2017-03-24 21:32:33.949100</td>\n",
       "      <td>purse</td>\n",
       "    </tr>\n",
       "    <tr>\n",
       "      <th>29168</th>\n",
       "      <td>US</td>\n",
       "      <td>[[[52, 52, 57], [91, 212, 255]], [[51, 24, 19,...</td>\n",
       "      <td>5287394158837760</td>\n",
       "      <td>True</td>\n",
       "      <td>2017-01-29 00:20:11.466030</td>\n",
       "      <td>flower</td>\n",
       "    </tr>\n",
       "    <tr>\n",
       "      <th>15054</th>\n",
       "      <td>US</td>\n",
       "      <td>[[[47, 44], [255, 147]], [[42, 29, 0, 26, 47],...</td>\n",
       "      <td>4846770444042240</td>\n",
       "      <td>True</td>\n",
       "      <td>2017-01-31 19:34:36.849900</td>\n",
       "      <td>yoga</td>\n",
       "    </tr>\n",
       "    <tr>\n",
       "      <th>23040</th>\n",
       "      <td>US</td>\n",
       "      <td>[[[94, 77, 65, 60, 60, 64, 72, 85, 99, 107, 11...</td>\n",
       "      <td>4958614156476416</td>\n",
       "      <td>True</td>\n",
       "      <td>2017-03-24 14:35:08.627900</td>\n",
       "      <td>eyeglasses</td>\n",
       "    </tr>\n",
       "    <tr>\n",
       "      <th>49339</th>\n",
       "      <td>US</td>\n",
       "      <td>[[[10, 0, 2, 13, 23, 36, 46, 159, 200, 212, 22...</td>\n",
       "      <td>6205515656855552</td>\n",
       "      <td>True</td>\n",
       "      <td>2017-03-01 19:38:28.997270</td>\n",
       "      <td>baseball bat</td>\n",
       "    </tr>\n",
       "    <tr>\n",
       "      <th>54428</th>\n",
       "      <td>TH</td>\n",
       "      <td>[[[0, 2, 17, 34, 145, 216, 229, 241, 251, 255,...</td>\n",
       "      <td>5386791978795008</td>\n",
       "      <td>True</td>\n",
       "      <td>2017-03-14 14:50:16.321590</td>\n",
       "      <td>fireplace</td>\n",
       "    </tr>\n",
       "  </tbody>\n",
       "</table>\n",
       "</div>"
      ],
      "text/plain": [
       "      countrycode                                            drawing  \\\n",
       "20780          US  [[[0, 15, 45, 74, 98, 126, 144, 158, 168, 167,...   \n",
       "62715          US  [[[11, 114, 221, 253, 255, 255, 253], [12, 12,...   \n",
       "43297          AU  [[[44, 73, 88, 90, 81, 76, 70, 49, 31, 30, 34]...   \n",
       "14254          HR  [[[38, 37, 21, 8, 0, 0], [0, 11, 48, 87, 140, ...   \n",
       "15784          US  [[[0, 46, 185, 224, 228, 212, 198, 168, 145, 1...   \n",
       "29168          US  [[[52, 52, 57], [91, 212, 255]], [[51, 24, 19,...   \n",
       "15054          US  [[[47, 44], [255, 147]], [[42, 29, 0, 26, 47],...   \n",
       "23040          US  [[[94, 77, 65, 60, 60, 64, 72, 85, 99, 107, 11...   \n",
       "49339          US  [[[10, 0, 2, 13, 23, 36, 46, 159, 200, 212, 22...   \n",
       "54428          TH  [[[0, 2, 17, 34, 145, 216, 229, 241, 251, 255,...   \n",
       "\n",
       "                 key_id recognized                   timestamp          word  \n",
       "20780  5195909119868928       True  2017-03-21 23:59:58.677920           ear  \n",
       "62715  5715858993184768       True  2017-03-29 15:09:14.599620         bench  \n",
       "43297  6409799233175552       True  2017-03-10 02:04:53.649330    microphone  \n",
       "14254  4823576777588736       True  2017-03-05 19:31:22.521970          jail  \n",
       "15784  4843567887417344       True  2017-03-24 21:32:33.949100         purse  \n",
       "29168  5287394158837760       True  2017-01-29 00:20:11.466030        flower  \n",
       "15054  4846770444042240       True  2017-01-31 19:34:36.849900          yoga  \n",
       "23040  4958614156476416       True  2017-03-24 14:35:08.627900    eyeglasses  \n",
       "49339  6205515656855552       True  2017-03-01 19:38:28.997270  baseball bat  \n",
       "54428  5386791978795008       True  2017-03-14 14:50:16.321590     fireplace  "
      ]
     },
     "execution_count": 166,
     "metadata": {},
     "output_type": "execute_result"
    }
   ],
   "source": [
    "train_df.sample(10)"
   ]
  },
  {
   "cell_type": "code",
   "execution_count": 167,
   "metadata": {},
   "outputs": [
    {
     "data": {
      "image/png": "[encoded data removed]",
      "text/plain": [
       "<Figure size 288x288 with 3 Axes>"
      ]
     },
     "metadata": {
      "needs_background": "light"
     },
     "output_type": "display_data"
    }
   ],
   "source": [
    "n_samp = 3\n",
    "train_df_sample = train_df.sample(n_samp)\n",
    "plt.figure(figsize=(4,4))\n",
    "for i in range(n_samp):\n",
    "    draw = train_df_sample.iloc[i]['drawing']\n",
    "    label = train_df_sample.iloc[i]['word']\n",
    "    plt.subplot(n_samp,1,i+1)\n",
    "    for stroke in draw:\n",
    "        plt.plot(stroke[0], stroke[1], marker='.', color='black')\n",
    "        plt.title(label)\n",
    "        plt.axis('off')\n",
    "plt.show()    "
   ]
  },
  {
   "cell_type": "markdown",
   "metadata": {},
   "source": [
    "# Convert drawings to images"
   ]
  },
  {
   "cell_type": "code",
   "execution_count": 277,
   "metadata": {},
   "outputs": [],
   "source": [
    "def draw_it(raw_strokes, output_height, output_width):\n",
    "    image = Image.new(\"P\", (255,255)\n",
    "#                       , color=1\n",
    "            )\n",
    "    image_draw = ImageDraw.Draw(image)\n",
    "\n",
    "    for stroke in raw_strokes:\n",
    "        for i in range(len(stroke[0])-1):\n",
    "\n",
    "            image_draw.line([stroke[0][i], \n",
    "                             stroke[1][i],\n",
    "                             stroke[0][i+1], \n",
    "                             stroke[1][i+1]],\n",
    "                            fill=255, width=6)\n",
    "    # Reduce image size\n",
    "    image = image.resize((output_height,output_width),Image.ANTIALIAS)\n",
    "    \n",
    "    return np.array(image)"
   ]
  },
  {
   "cell_type": "code",
   "execution_count": 278,
   "metadata": {},
   "outputs": [],
   "source": [
    "output_height = 32\n",
    "output_width = 32\n",
    "train_df['img'] = train_df[['drawing']].apply(lambda x: draw_it(x['drawing'], output_height, output_width), axis=1)"
   ]
  },
  {
   "cell_type": "code",
   "execution_count": 279,
   "metadata": {},
   "outputs": [
    {
     "data": {
      "image/png": "[encoded data removed]",
      "text/plain": [
       "<Figure size 432x288 with 1 Axes>"
      ]
     },
     "metadata": {
      "needs_background": "light"
     },
     "output_type": "display_data"
    }
   ],
   "source": [
    "# Show an image\n",
    "ind = 100\n",
    "plt.imshow(train_df.iloc[ind]['img'],cmap='gray')\n",
    "plt.title(train_df.iloc[ind]['word'])\n",
    "plt.show()"
   ]
  },
  {
   "cell_type": "code",
   "execution_count": null,
   "metadata": {},
   "outputs": [],
   "source": []
  },
  {
   "cell_type": "markdown",
   "metadata": {},
   "source": [
    "# Create a baseline CNN"
   ]
  },
  {
   "cell_type": "code",
   "execution_count": 280,
   "metadata": {},
   "outputs": [],
   "source": [
    "batch_size = 10\n",
    "num_classes = len(fnames)\n",
    "epochs = 12"
   ]
  },
  {
   "cell_type": "markdown",
   "metadata": {},
   "source": [
    "### Data Preprocessing"
   ]
  },
  {
   "cell_type": "code",
   "execution_count": 281,
   "metadata": {},
   "outputs": [],
   "source": [
    "# Shuffle the data\n",
    "random.seed(111)\n",
    "train_df = train_df.sample(train_df.shape[0])"
   ]
  },
  {
   "cell_type": "code",
   "execution_count": 282,
   "metadata": {},
   "outputs": [],
   "source": [
    "# input image dimensions\n",
    "img_rows, img_cols = output_height, output_width\n",
    "input_shape = (img_rows, img_cols)"
   ]
  },
  {
   "cell_type": "code",
   "execution_count": 283,
   "metadata": {},
   "outputs": [],
   "source": [
    "# Reshape the array\n",
    "imgArr = np.vstack(train_df['img'].values).flatten().reshape((train_df['img'].shape[0], img_rows, img_cols))"
   ]
  },
  {
   "cell_type": "code",
   "execution_count": 284,
   "metadata": {},
   "outputs": [],
   "source": [
    "# In Keras, the layers used for two-dimensional convolutions expect pixel values with the dimensions [width][height][pixels] for TF.\n",
    "# In the case of RGB, the first dimension pixels would be 3 for the red, green and blue components and it would be like having 3 image inputs for every color image. In this case, the pixel values are gray scale, the pixel dimension is set to 1.\n",
    "imgArr = imgArr.reshape(imgArr.shape[0], img_rows, img_cols, 1).astype('float32')"
   ]
  },
  {
   "cell_type": "code",
   "execution_count": null,
   "metadata": {},
   "outputs": [],
   "source": []
  },
  {
   "cell_type": "code",
   "execution_count": 285,
   "metadata": {},
   "outputs": [],
   "source": [
    "y_train = train_df['word']"
   ]
  },
  {
   "cell_type": "code",
   "execution_count": 286,
   "metadata": {},
   "outputs": [],
   "source": [
    "# Convert class labels from categorical to numerical\n",
    "unique_classes_list = y_train.unique()\n",
    "map_class_to_numeric = {k: v for v, k in enumerate(y_train.unique())}\n",
    "map_numeric_to_class = {v: k for k, v in map_class_to_numeric.iteritems()}\n",
    "y_train_numeric = y_train.apply(lambda x: map_class_to_numeric[x])\n",
    "\n",
    "# convert class vectors to binary class matrices\n",
    "y_train_one_hot = keras.utils.to_categorical(y_train_numeric, num_classes)\n",
    "num_classes = y_train_one_hot.shape[1]"
   ]
  },
  {
   "cell_type": "code",
   "execution_count": 287,
   "metadata": {},
   "outputs": [],
   "source": [
    "X_train, X_test, y_train, y_test = train_test_split(imgArr, y_train_one_hot, test_size=0.2)"
   ]
  },
  {
   "cell_type": "code",
   "execution_count": 297,
   "metadata": {},
   "outputs": [],
   "source": [
    "def top_3_accuracy(y_true, y_pred):\n",
    "    return metrics.top_k_categorical_accuracy(y_true, y_pred, k=3)"
   ]
  },
  {
   "cell_type": "markdown",
   "metadata": {},
   "source": [
    "### Model Architecture"
   ]
  },
  {
   "cell_type": "code",
   "execution_count": 328,
   "metadata": {},
   "outputs": [],
   "source": [
    "num_filters = 8 # num of channels / filters\n",
    "def baseline_conv_model(num_filters):\n",
    "    model = Sequential()\n",
    "    model.add(Conv2D(num_filters, (11,11), input_shape=(img_rows,img_cols,1), activation='relu')) \n",
    "#     model.add(MaxPooling2D(pool_size=(2,2)))\n",
    "    model.add(Dropout(0.2))\n",
    "    model.add(Flatten())\n",
    "    model.add(Dense(700, activation='relu'))\n",
    "    model.add(Dropout(0.2))\n",
    "    model.add(Dense(700, activation='relu'))\n",
    "    model.add(Dropout(0.2))\n",
    "#     model.add(Dense(100, activation='relu'))\n",
    "    model.add(Dense(num_classes, activation='softmax'))\n",
    "    \n",
    "    # Compile\n",
    "    model.compile(loss='categorical_crossentropy', optimizer='adam', metrics=['accuracy', top_3_accuracy, 'categorical_crossentropy'])\n",
    "    return model"
   ]
  },
  {
   "cell_type": "code",
   "execution_count": 329,
   "metadata": {},
   "outputs": [
    {
     "name": "stdout",
     "output_type": "stream",
     "text": [
      "_________________________________________________________________\n",
      "Layer (type)                 Output Shape              Param #   \n",
      "=================================================================\n",
      "conv2d_90 (Conv2D)           (None, 30, 30, 8)         80        \n",
      "_________________________________________________________________\n",
      "max_pooling2d_81 (MaxPooling (None, 15, 15, 8)         0         \n",
      "_________________________________________________________________\n",
      "dropout_39 (Dropout)         (None, 15, 15, 8)         0         \n",
      "_________________________________________________________________\n",
      "conv2d_91 (Conv2D)           (None, 13, 13, 16)        1168      \n",
      "_________________________________________________________________\n",
      "max_pooling2d_82 (MaxPooling (None, 6, 6, 16)          0         \n",
      "_________________________________________________________________\n",
      "dropout_40 (Dropout)         (None, 6, 6, 16)          0         \n",
      "_________________________________________________________________\n",
      "conv2d_92 (Conv2D)           (None, 4, 4, 32)          4640      \n",
      "_________________________________________________________________\n",
      "max_pooling2d_83 (MaxPooling (None, 2, 2, 32)          0         \n",
      "_________________________________________________________________\n",
      "dropout_41 (Dropout)         (None, 2, 2, 32)          0         \n",
      "_________________________________________________________________\n",
      "flatten_33 (Flatten)         (None, 128)               0         \n",
      "_________________________________________________________________\n",
      "dense_79 (Dense)             (None, 2550)              328950    \n",
      "_________________________________________________________________\n",
      "dropout_42 (Dropout)         (None, 2550)              0         \n",
      "_________________________________________________________________\n",
      "dense_80 (Dense)             (None, 1550)              3954050   \n",
      "_________________________________________________________________\n",
      "dropout_43 (Dropout)         (None, 1550)              0         \n",
      "_________________________________________________________________\n",
      "dense_81 (Dense)             (None, 340)               527340    \n",
      "=================================================================\n",
      "Total params: 4,816,228\n",
      "Trainable params: 4,816,228\n",
      "Non-trainable params: 0\n",
      "_________________________________________________________________\n"
     ]
    }
   ],
   "source": [
    "model = baseline_conv_model(num_filters)\n",
    "model.summary()"
   ]
  },
  {
   "cell_type": "code",
   "execution_count": 330,
   "metadata": {},
   "outputs": [
    {
     "name": "stdout",
     "output_type": "stream",
     "text": [
      "Train on 50072 samples, validate on 12518 samples\n",
      "Epoch 1/500\n",
      " - 46s - loss: 9.6732 - acc: 0.0063 - top_3_accuracy: 0.0163 - categorical_crossentropy: 9.6732 - val_loss: 5.8065 - val_acc: 0.0067 - val_top_3_accuracy: 0.0161 - val_categorical_crossentropy: 5.8065\n",
      "Epoch 2/500\n",
      " - 39s - loss: 5.6311 - acc: 0.0124 - top_3_accuracy: 0.0338 - categorical_crossentropy: 5.6311 - val_loss: 5.4450 - val_acc: 0.0223 - val_top_3_accuracy: 0.0612 - val_categorical_crossentropy: 5.4450\n",
      "Epoch 3/500\n",
      " - 39s - loss: 5.2836 - acc: 0.0267 - top_3_accuracy: 0.0660 - categorical_crossentropy: 5.2836 - val_loss: 5.1651 - val_acc: 0.0422 - val_top_3_accuracy: 0.0978 - val_categorical_crossentropy: 5.1651\n",
      "Epoch 4/500\n",
      " - 34s - loss: 5.0802 - acc: 0.0379 - top_3_accuracy: 0.0895 - categorical_crossentropy: 5.0802 - val_loss: 4.9711 - val_acc: 0.0588 - val_top_3_accuracy: 0.1317 - val_categorical_crossentropy: 4.9711\n",
      "Epoch 5/500\n",
      " - 35s - loss: 4.9216 - acc: 0.0512 - top_3_accuracy: 0.1171 - categorical_crossentropy: 4.9216 - val_loss: 4.7898 - val_acc: 0.0759 - val_top_3_accuracy: 0.1639 - val_categorical_crossentropy: 4.7898\n",
      "Epoch 6/500\n",
      " - 37s - loss: 4.7823 - acc: 0.0625 - top_3_accuracy: 0.1388 - categorical_crossentropy: 4.7823 - val_loss: 4.6161 - val_acc: 0.0928 - val_top_3_accuracy: 0.1901 - val_categorical_crossentropy: 4.6161\n",
      "Epoch 7/500\n",
      " - 42s - loss: 4.6406 - acc: 0.0753 - top_3_accuracy: 0.1644 - categorical_crossentropy: 4.6406 - val_loss: 4.4665 - val_acc: 0.1064 - val_top_3_accuracy: 0.2174 - val_categorical_crossentropy: 4.4665\n",
      "Epoch 8/500\n",
      " - 35s - loss: 4.4984 - acc: 0.0883 - top_3_accuracy: 0.1901 - categorical_crossentropy: 4.4984 - val_loss: 4.3174 - val_acc: 0.1291 - val_top_3_accuracy: 0.2548 - val_categorical_crossentropy: 4.3174\n",
      "Epoch 9/500\n",
      " - 35s - loss: 4.3626 - acc: 0.1026 - top_3_accuracy: 0.2143 - categorical_crossentropy: 4.3626 - val_loss: 4.1842 - val_acc: 0.1517 - val_top_3_accuracy: 0.2872 - val_categorical_crossentropy: 4.1842\n",
      "Epoch 10/500\n",
      " - 37s - loss: 4.2097 - acc: 0.1197 - top_3_accuracy: 0.2424 - categorical_crossentropy: 4.2097 - val_loss: 3.9788 - val_acc: 0.1662 - val_top_3_accuracy: 0.3195 - val_categorical_crossentropy: 3.9788\n",
      "Epoch 11/500\n",
      " - 38s - loss: 4.0719 - acc: 0.1345 - top_3_accuracy: 0.2673 - categorical_crossentropy: 4.0719 - val_loss: 3.8463 - val_acc: 0.1906 - val_top_3_accuracy: 0.3503 - val_categorical_crossentropy: 3.8463\n",
      "Epoch 12/500\n",
      " - 35s - loss: 3.9517 - acc: 0.1506 - top_3_accuracy: 0.2919 - categorical_crossentropy: 3.9517 - val_loss: 3.7334 - val_acc: 0.2104 - val_top_3_accuracy: 0.3763 - val_categorical_crossentropy: 3.7334\n",
      "Epoch 13/500\n",
      " - 35s - loss: 3.8358 - acc: 0.1659 - top_3_accuracy: 0.3183 - categorical_crossentropy: 3.8358 - val_loss: 3.6359 - val_acc: 0.2222 - val_top_3_accuracy: 0.3954 - val_categorical_crossentropy: 3.6359\n",
      "Epoch 14/500\n",
      " - 37s - loss: 3.7329 - acc: 0.1787 - top_3_accuracy: 0.3370 - categorical_crossentropy: 3.7329 - val_loss: 3.5433 - val_acc: 0.2380 - val_top_3_accuracy: 0.4110 - val_categorical_crossentropy: 3.5433\n",
      "Epoch 15/500\n",
      " - 43s - loss: 3.6429 - acc: 0.1914 - top_3_accuracy: 0.3537 - categorical_crossentropy: 3.6429 - val_loss: 3.4438 - val_acc: 0.2460 - val_top_3_accuracy: 0.4287 - val_categorical_crossentropy: 3.4438\n",
      "Epoch 16/500\n",
      " - 45s - loss: 3.5531 - acc: 0.2026 - top_3_accuracy: 0.3705 - categorical_crossentropy: 3.5531 - val_loss: 3.3884 - val_acc: 0.2612 - val_top_3_accuracy: 0.4465 - val_categorical_crossentropy: 3.3884\n",
      "Epoch 17/500\n",
      " - 50s - loss: 3.4732 - acc: 0.2144 - top_3_accuracy: 0.3900 - categorical_crossentropy: 3.4732 - val_loss: 3.3290 - val_acc: 0.2649 - val_top_3_accuracy: 0.4560 - val_categorical_crossentropy: 3.3290\n",
      "Epoch 18/500\n",
      " - 52s - loss: 3.3963 - acc: 0.2263 - top_3_accuracy: 0.4070 - categorical_crossentropy: 3.3963 - val_loss: 3.2619 - val_acc: 0.2798 - val_top_3_accuracy: 0.4664 - val_categorical_crossentropy: 3.2619\n",
      "Epoch 19/500\n",
      " - 38s - loss: 3.3298 - acc: 0.2357 - top_3_accuracy: 0.4181 - categorical_crossentropy: 3.3298 - val_loss: 3.2177 - val_acc: 0.2798 - val_top_3_accuracy: 0.4718 - val_categorical_crossentropy: 3.2177\n",
      "Epoch 20/500\n",
      " - 38s - loss: 3.2528 - acc: 0.2448 - top_3_accuracy: 0.4344 - categorical_crossentropy: 3.2528 - val_loss: 3.1675 - val_acc: 0.2916 - val_top_3_accuracy: 0.4838 - val_categorical_crossentropy: 3.1675\n",
      "Epoch 21/500\n",
      " - 51s - loss: 3.2036 - acc: 0.2516 - top_3_accuracy: 0.4399 - categorical_crossentropy: 3.2036 - val_loss: 3.1406 - val_acc: 0.2984 - val_top_3_accuracy: 0.4923 - val_categorical_crossentropy: 3.1406\n",
      "Epoch 22/500\n",
      " - 68s - loss: 3.1412 - acc: 0.2610 - top_3_accuracy: 0.4550 - categorical_crossentropy: 3.1412 - val_loss: 3.0948 - val_acc: 0.3047 - val_top_3_accuracy: 0.4992 - val_categorical_crossentropy: 3.0948\n",
      "Epoch 23/500\n",
      " - 64s - loss: 3.0892 - acc: 0.2693 - top_3_accuracy: 0.4695 - categorical_crossentropy: 3.0892 - val_loss: 3.0574 - val_acc: 0.3069 - val_top_3_accuracy: 0.5042 - val_categorical_crossentropy: 3.0574\n",
      "Epoch 24/500\n",
      " - 62s - loss: 3.0267 - acc: 0.2801 - top_3_accuracy: 0.4828 - categorical_crossentropy: 3.0267 - val_loss: 3.0467 - val_acc: 0.3127 - val_top_3_accuracy: 0.5130 - val_categorical_crossentropy: 3.0467\n",
      "Epoch 25/500\n",
      " - 63s - loss: 2.9952 - acc: 0.2825 - top_3_accuracy: 0.4850 - categorical_crossentropy: 2.9952 - val_loss: 3.0003 - val_acc: 0.3197 - val_top_3_accuracy: 0.5129 - val_categorical_crossentropy: 3.0003\n",
      "Epoch 26/500\n",
      " - 63s - loss: 2.9445 - acc: 0.2879 - top_3_accuracy: 0.4971 - categorical_crossentropy: 2.9445 - val_loss: 3.0117 - val_acc: 0.3163 - val_top_3_accuracy: 0.5169 - val_categorical_crossentropy: 3.0117\n",
      "Epoch 27/500\n",
      " - 63s - loss: 2.8974 - acc: 0.2981 - top_3_accuracy: 0.5057 - categorical_crossentropy: 2.8974 - val_loss: 2.9725 - val_acc: 0.3240 - val_top_3_accuracy: 0.5218 - val_categorical_crossentropy: 2.9725\n",
      "Epoch 28/500\n",
      " - 63s - loss: 2.8515 - acc: 0.3075 - top_3_accuracy: 0.5158 - categorical_crossentropy: 2.8515 - val_loss: 2.9561 - val_acc: 0.3274 - val_top_3_accuracy: 0.5212 - val_categorical_crossentropy: 2.9561\n",
      "Epoch 29/500\n",
      " - 64s - loss: 2.8157 - acc: 0.3122 - top_3_accuracy: 0.5231 - categorical_crossentropy: 2.8157 - val_loss: 2.9428 - val_acc: 0.3286 - val_top_3_accuracy: 0.5248 - val_categorical_crossentropy: 2.9428\n",
      "Epoch 30/500\n",
      " - 63s - loss: 2.7859 - acc: 0.3176 - top_3_accuracy: 0.5311 - categorical_crossentropy: 2.7859 - val_loss: 2.9405 - val_acc: 0.3291 - val_top_3_accuracy: 0.5264 - val_categorical_crossentropy: 2.9405\n",
      "Epoch 31/500\n",
      " - 65s - loss: 2.7413 - acc: 0.3225 - top_3_accuracy: 0.5382 - categorical_crossentropy: 2.7413 - val_loss: 2.9268 - val_acc: 0.3326 - val_top_3_accuracy: 0.5317 - val_categorical_crossentropy: 2.9268\n",
      "Epoch 32/500\n",
      " - 63s - loss: 2.7258 - acc: 0.3260 - top_3_accuracy: 0.5429 - categorical_crossentropy: 2.7258 - val_loss: 2.9137 - val_acc: 0.3334 - val_top_3_accuracy: 0.5356 - val_categorical_crossentropy: 2.9137\n",
      "Epoch 33/500\n",
      " - 65s - loss: 2.6765 - acc: 0.3329 - top_3_accuracy: 0.5504 - categorical_crossentropy: 2.6765 - val_loss: 2.8957 - val_acc: 0.3339 - val_top_3_accuracy: 0.5324 - val_categorical_crossentropy: 2.8957\n",
      "Epoch 34/500\n",
      " - 62s - loss: 2.6371 - acc: 0.3394 - top_3_accuracy: 0.5580 - categorical_crossentropy: 2.6371 - val_loss: 2.9264 - val_acc: 0.3256 - val_top_3_accuracy: 0.5308 - val_categorical_crossentropy: 2.9264\n",
      "Epoch 35/500\n",
      " - 63s - loss: 2.6244 - acc: 0.3410 - top_3_accuracy: 0.5608 - categorical_crossentropy: 2.6244 - val_loss: 2.9140 - val_acc: 0.3323 - val_top_3_accuracy: 0.5374 - val_categorical_crossentropy: 2.9140\n",
      "Epoch 36/500\n",
      " - 63s - loss: 2.5857 - acc: 0.3506 - top_3_accuracy: 0.5686 - categorical_crossentropy: 2.5857 - val_loss: 2.8907 - val_acc: 0.3345 - val_top_3_accuracy: 0.5415 - val_categorical_crossentropy: 2.8907\n",
      "Epoch 37/500\n",
      " - 63s - loss: 2.5546 - acc: 0.3554 - top_3_accuracy: 0.5752 - categorical_crossentropy: 2.5546 - val_loss: 2.8857 - val_acc: 0.3357 - val_top_3_accuracy: 0.5411 - val_categorical_crossentropy: 2.8857\n",
      "Epoch 38/500\n",
      " - 63s - loss: 2.5178 - acc: 0.3619 - top_3_accuracy: 0.5833 - categorical_crossentropy: 2.5178 - val_loss: 2.8841 - val_acc: 0.3389 - val_top_3_accuracy: 0.5395 - val_categorical_crossentropy: 2.8841\n",
      "Epoch 39/500\n",
      " - 61s - loss: 2.4891 - acc: 0.3681 - top_3_accuracy: 0.5909 - categorical_crossentropy: 2.4891 - val_loss: 2.8803 - val_acc: 0.3428 - val_top_3_accuracy: 0.5398 - val_categorical_crossentropy: 2.8803\n"
     ]
    },
    {
     "name": "stdout",
     "output_type": "stream",
     "text": [
      "Epoch 40/500\n",
      " - 63s - loss: 2.4710 - acc: 0.3681 - top_3_accuracy: 0.5924 - categorical_crossentropy: 2.4710 - val_loss: 2.8829 - val_acc: 0.3394 - val_top_3_accuracy: 0.5426 - val_categorical_crossentropy: 2.8829\n",
      "Epoch 41/500\n",
      " - 64s - loss: 2.4288 - acc: 0.3758 - top_3_accuracy: 0.6032 - categorical_crossentropy: 2.4288 - val_loss: 2.8899 - val_acc: 0.3417 - val_top_3_accuracy: 0.5418 - val_categorical_crossentropy: 2.8899\n",
      "Epoch 42/500\n",
      " - 65s - loss: 2.4069 - acc: 0.3796 - top_3_accuracy: 0.6068 - categorical_crossentropy: 2.4069 - val_loss: 2.8932 - val_acc: 0.3386 - val_top_3_accuracy: 0.5427 - val_categorical_crossentropy: 2.8932\n",
      "Epoch 43/500\n",
      " - 62s - loss: 2.3872 - acc: 0.3848 - top_3_accuracy: 0.6125 - categorical_crossentropy: 2.3872 - val_loss: 2.8957 - val_acc: 0.3384 - val_top_3_accuracy: 0.5419 - val_categorical_crossentropy: 2.8957\n",
      "Epoch 44/500\n",
      " - 63s - loss: 2.3693 - acc: 0.3878 - top_3_accuracy: 0.6160 - categorical_crossentropy: 2.3693 - val_loss: 2.8874 - val_acc: 0.3450 - val_top_3_accuracy: 0.5425 - val_categorical_crossentropy: 2.8874\n",
      "Epoch 45/500\n",
      " - 68s - loss: 2.3397 - acc: 0.3947 - top_3_accuracy: 0.6228 - categorical_crossentropy: 2.3397 - val_loss: 2.8868 - val_acc: 0.3439 - val_top_3_accuracy: 0.5447 - val_categorical_crossentropy: 2.8868\n",
      "Epoch 46/500\n",
      " - 41s - loss: 2.3113 - acc: 0.3970 - top_3_accuracy: 0.6277 - categorical_crossentropy: 2.3113 - val_loss: 2.8919 - val_acc: 0.3429 - val_top_3_accuracy: 0.5450 - val_categorical_crossentropy: 2.8919\n",
      "Epoch 47/500\n",
      " - 61s - loss: 2.2721 - acc: 0.4048 - top_3_accuracy: 0.6334 - categorical_crossentropy: 2.2721 - val_loss: 2.8817 - val_acc: 0.3433 - val_top_3_accuracy: 0.5502 - val_categorical_crossentropy: 2.8817\n",
      "Epoch 48/500\n",
      " - 67s - loss: 2.2599 - acc: 0.4062 - top_3_accuracy: 0.6386 - categorical_crossentropy: 2.2599 - val_loss: 2.8994 - val_acc: 0.3407 - val_top_3_accuracy: 0.5439 - val_categorical_crossentropy: 2.8994\n",
      "Epoch 49/500\n",
      " - 66s - loss: 2.2329 - acc: 0.4121 - top_3_accuracy: 0.6448 - categorical_crossentropy: 2.2329 - val_loss: 2.9174 - val_acc: 0.3417 - val_top_3_accuracy: 0.5428 - val_categorical_crossentropy: 2.9174\n",
      "Epoch 50/500\n",
      " - 62s - loss: 2.2110 - acc: 0.4187 - top_3_accuracy: 0.6498 - categorical_crossentropy: 2.2110 - val_loss: 2.9267 - val_acc: 0.3448 - val_top_3_accuracy: 0.5398 - val_categorical_crossentropy: 2.9267\n",
      "Epoch 51/500\n",
      " - 62s - loss: 2.1903 - acc: 0.4223 - top_3_accuracy: 0.6547 - categorical_crossentropy: 2.1903 - val_loss: 2.9049 - val_acc: 0.3421 - val_top_3_accuracy: 0.5460 - val_categorical_crossentropy: 2.9049\n",
      "Epoch 52/500\n",
      " - 60s - loss: 2.1646 - acc: 0.4289 - top_3_accuracy: 0.6601 - categorical_crossentropy: 2.1646 - val_loss: 2.9103 - val_acc: 0.3455 - val_top_3_accuracy: 0.5470 - val_categorical_crossentropy: 2.9103\n",
      "Epoch 53/500\n",
      " - 71s - loss: 2.1447 - acc: 0.4305 - top_3_accuracy: 0.6627 - categorical_crossentropy: 2.1447 - val_loss: 2.9315 - val_acc: 0.3408 - val_top_3_accuracy: 0.5395 - val_categorical_crossentropy: 2.9315\n",
      "Epoch 54/500\n",
      " - 91s - loss: 2.1207 - acc: 0.4331 - top_3_accuracy: 0.6675 - categorical_crossentropy: 2.1207 - val_loss: 2.9476 - val_acc: 0.3417 - val_top_3_accuracy: 0.5419 - val_categorical_crossentropy: 2.9476\n",
      "Epoch 55/500\n",
      " - 91s - loss: 2.1113 - acc: 0.4348 - top_3_accuracy: 0.6687 - categorical_crossentropy: 2.1113 - val_loss: 2.9179 - val_acc: 0.3395 - val_top_3_accuracy: 0.5463 - val_categorical_crossentropy: 2.9179\n",
      "Epoch 56/500\n",
      " - 91s - loss: 2.0826 - acc: 0.4422 - top_3_accuracy: 0.6753 - categorical_crossentropy: 2.0826 - val_loss: 2.9299 - val_acc: 0.3430 - val_top_3_accuracy: 0.5433 - val_categorical_crossentropy: 2.9299\n",
      "Epoch 57/500\n",
      " - 90s - loss: 2.0631 - acc: 0.4474 - top_3_accuracy: 0.6786 - categorical_crossentropy: 2.0631 - val_loss: 2.9443 - val_acc: 0.3394 - val_top_3_accuracy: 0.5434 - val_categorical_crossentropy: 2.9443\n",
      "Epoch 58/500\n",
      " - 90s - loss: 2.0422 - acc: 0.4526 - top_3_accuracy: 0.6839 - categorical_crossentropy: 2.0422 - val_loss: 2.9632 - val_acc: 0.3461 - val_top_3_accuracy: 0.5422 - val_categorical_crossentropy: 2.9632\n",
      "Epoch 59/500\n",
      " - 91s - loss: 2.0250 - acc: 0.4547 - top_3_accuracy: 0.6883 - categorical_crossentropy: 2.0250 - val_loss: 2.9727 - val_acc: 0.3399 - val_top_3_accuracy: 0.5394 - val_categorical_crossentropy: 2.9727\n",
      "Epoch 60/500\n",
      " - 92s - loss: 2.0118 - acc: 0.4579 - top_3_accuracy: 0.6907 - categorical_crossentropy: 2.0118 - val_loss: 2.9550 - val_acc: 0.3464 - val_top_3_accuracy: 0.5419 - val_categorical_crossentropy: 2.9550\n",
      "Epoch 61/500\n",
      " - 90s - loss: 1.9806 - acc: 0.4641 - top_3_accuracy: 0.6971 - categorical_crossentropy: 1.9806 - val_loss: 2.9606 - val_acc: 0.3441 - val_top_3_accuracy: 0.5449 - val_categorical_crossentropy: 2.9606\n",
      "Epoch 62/500\n",
      " - 93s - loss: 1.9795 - acc: 0.4658 - top_3_accuracy: 0.6951 - categorical_crossentropy: 1.9795 - val_loss: 2.9622 - val_acc: 0.3447 - val_top_3_accuracy: 0.5424 - val_categorical_crossentropy: 2.9622\n",
      "Epoch 63/500\n",
      " - 99s - loss: 1.9522 - acc: 0.4706 - top_3_accuracy: 0.7044 - categorical_crossentropy: 1.9522 - val_loss: 2.9613 - val_acc: 0.3433 - val_top_3_accuracy: 0.5448 - val_categorical_crossentropy: 2.9613\n",
      "Epoch 64/500\n",
      " - 91s - loss: 1.9288 - acc: 0.4745 - top_3_accuracy: 0.7089 - categorical_crossentropy: 1.9288 - val_loss: 2.9755 - val_acc: 0.3445 - val_top_3_accuracy: 0.5462 - val_categorical_crossentropy: 2.9755\n",
      "Epoch 65/500\n",
      " - 91s - loss: 1.9190 - acc: 0.4781 - top_3_accuracy: 0.7090 - categorical_crossentropy: 1.9190 - val_loss: 2.9760 - val_acc: 0.3453 - val_top_3_accuracy: 0.5456 - val_categorical_crossentropy: 2.9760\n",
      "Epoch 66/500\n",
      " - 89s - loss: 1.9004 - acc: 0.4829 - top_3_accuracy: 0.7138 - categorical_crossentropy: 1.9004 - val_loss: 2.9985 - val_acc: 0.3438 - val_top_3_accuracy: 0.5413 - val_categorical_crossentropy: 2.9985\n",
      "Epoch 67/500\n",
      " - 96s - loss: 1.8927 - acc: 0.4843 - top_3_accuracy: 0.7182 - categorical_crossentropy: 1.8927 - val_loss: 3.0126 - val_acc: 0.3444 - val_top_3_accuracy: 0.5384 - val_categorical_crossentropy: 3.0126\n",
      "Epoch 68/500\n",
      " - 91s - loss: 1.8741 - acc: 0.4887 - top_3_accuracy: 0.7212 - categorical_crossentropy: 1.8741 - val_loss: 3.0032 - val_acc: 0.3453 - val_top_3_accuracy: 0.5429 - val_categorical_crossentropy: 3.0032\n",
      "Epoch 69/500\n",
      " - 90s - loss: 1.8505 - acc: 0.4932 - top_3_accuracy: 0.7234 - categorical_crossentropy: 1.8505 - val_loss: 3.0209 - val_acc: 0.3412 - val_top_3_accuracy: 0.5411 - val_categorical_crossentropy: 3.0209\n",
      "Epoch 70/500\n",
      " - 98s - loss: 1.8521 - acc: 0.4934 - top_3_accuracy: 0.7248 - categorical_crossentropy: 1.8521 - val_loss: 3.0112 - val_acc: 0.3438 - val_top_3_accuracy: 0.5443 - val_categorical_crossentropy: 3.0112\n",
      "Epoch 71/500\n",
      " - 93s - loss: 1.8293 - acc: 0.4970 - top_3_accuracy: 0.7298 - categorical_crossentropy: 1.8293 - val_loss: 3.0178 - val_acc: 0.3406 - val_top_3_accuracy: 0.5404 - val_categorical_crossentropy: 3.0178\n",
      "Epoch 72/500\n",
      " - 90s - loss: 1.8210 - acc: 0.5025 - top_3_accuracy: 0.7318 - categorical_crossentropy: 1.8210 - val_loss: 3.0106 - val_acc: 0.3416 - val_top_3_accuracy: 0.5423 - val_categorical_crossentropy: 3.0106\n",
      "Epoch 73/500\n",
      " - 91s - loss: 1.8054 - acc: 0.5031 - top_3_accuracy: 0.7348 - categorical_crossentropy: 1.8054 - val_loss: 3.0580 - val_acc: 0.3395 - val_top_3_accuracy: 0.5431 - val_categorical_crossentropy: 3.0580\n",
      "Epoch 74/500\n",
      " - 90s - loss: 1.7783 - acc: 0.5100 - top_3_accuracy: 0.7376 - categorical_crossentropy: 1.7783 - val_loss: 3.0561 - val_acc: 0.3430 - val_top_3_accuracy: 0.5463 - val_categorical_crossentropy: 3.0561\n",
      "Epoch 75/500\n",
      " - 92s - loss: 1.7699 - acc: 0.5135 - top_3_accuracy: 0.7398 - categorical_crossentropy: 1.7699 - val_loss: 3.0656 - val_acc: 0.3408 - val_top_3_accuracy: 0.5461 - val_categorical_crossentropy: 3.0656\n",
      "Epoch 76/500\n",
      " - 91s - loss: 1.7475 - acc: 0.5182 - top_3_accuracy: 0.7455 - categorical_crossentropy: 1.7475 - val_loss: 3.0619 - val_acc: 0.3428 - val_top_3_accuracy: 0.5396 - val_categorical_crossentropy: 3.0619\n",
      "Epoch 77/500\n",
      " - 90s - loss: 1.7363 - acc: 0.5204 - top_3_accuracy: 0.7484 - categorical_crossentropy: 1.7363 - val_loss: 3.1081 - val_acc: 0.3338 - val_top_3_accuracy: 0.5345 - val_categorical_crossentropy: 3.1081\n",
      "Epoch 78/500\n",
      " - 91s - loss: 1.7162 - acc: 0.5238 - top_3_accuracy: 0.7520 - categorical_crossentropy: 1.7162 - val_loss: 3.0681 - val_acc: 0.3424 - val_top_3_accuracy: 0.5464 - val_categorical_crossentropy: 3.0681\n"
     ]
    },
    {
     "name": "stdout",
     "output_type": "stream",
     "text": [
      "Epoch 79/500\n",
      " - 90s - loss: 1.7038 - acc: 0.5283 - top_3_accuracy: 0.7529 - categorical_crossentropy: 1.7038 - val_loss: 3.0912 - val_acc: 0.3350 - val_top_3_accuracy: 0.5370 - val_categorical_crossentropy: 3.0912\n",
      "Epoch 80/500\n",
      " - 92s - loss: 1.7036 - acc: 0.5256 - top_3_accuracy: 0.7517 - categorical_crossentropy: 1.7036 - val_loss: 3.0687 - val_acc: 0.3375 - val_top_3_accuracy: 0.5397 - val_categorical_crossentropy: 3.0687\n",
      "Epoch 81/500\n",
      " - 91s - loss: 1.6774 - acc: 0.5330 - top_3_accuracy: 0.7582 - categorical_crossentropy: 1.6774 - val_loss: 3.0794 - val_acc: 0.3398 - val_top_3_accuracy: 0.5410 - val_categorical_crossentropy: 3.0794\n",
      "Epoch 82/500\n",
      " - 90s - loss: 1.6824 - acc: 0.5324 - top_3_accuracy: 0.7571 - categorical_crossentropy: 1.6824 - val_loss: 3.0830 - val_acc: 0.3405 - val_top_3_accuracy: 0.5413 - val_categorical_crossentropy: 3.0830\n",
      "Epoch 83/500\n",
      " - 91s - loss: 1.6662 - acc: 0.5367 - top_3_accuracy: 0.7615 - categorical_crossentropy: 1.6662 - val_loss: 3.0868 - val_acc: 0.3429 - val_top_3_accuracy: 0.5433 - val_categorical_crossentropy: 3.0868\n",
      "Epoch 84/500\n",
      " - 103s - loss: 1.6401 - acc: 0.5411 - top_3_accuracy: 0.7653 - categorical_crossentropy: 1.6401 - val_loss: 3.1513 - val_acc: 0.3399 - val_top_3_accuracy: 0.5391 - val_categorical_crossentropy: 3.1513\n",
      "Epoch 85/500\n",
      " - 103s - loss: 1.6414 - acc: 0.5422 - top_3_accuracy: 0.7668 - categorical_crossentropy: 1.6414 - val_loss: 3.1393 - val_acc: 0.3415 - val_top_3_accuracy: 0.5427 - val_categorical_crossentropy: 3.1393\n",
      "Epoch 86/500\n",
      " - 115s - loss: 1.6345 - acc: 0.5438 - top_3_accuracy: 0.7662 - categorical_crossentropy: 1.6345 - val_loss: 3.1246 - val_acc: 0.3383 - val_top_3_accuracy: 0.5396 - val_categorical_crossentropy: 3.1246\n",
      "Epoch 87/500\n",
      " - 124s - loss: 1.5949 - acc: 0.5525 - top_3_accuracy: 0.7761 - categorical_crossentropy: 1.5949 - val_loss: 3.1509 - val_acc: 0.3355 - val_top_3_accuracy: 0.5396 - val_categorical_crossentropy: 3.1509\n",
      "Epoch 88/500\n",
      " - 101s - loss: 1.6023 - acc: 0.5507 - top_3_accuracy: 0.7736 - categorical_crossentropy: 1.6023 - val_loss: 3.1490 - val_acc: 0.3330 - val_top_3_accuracy: 0.5378 - val_categorical_crossentropy: 3.1490\n",
      "Epoch 89/500\n",
      " - 97s - loss: 1.5998 - acc: 0.5526 - top_3_accuracy: 0.7730 - categorical_crossentropy: 1.5998 - val_loss: 3.1643 - val_acc: 0.3404 - val_top_3_accuracy: 0.5427 - val_categorical_crossentropy: 3.1643\n",
      "Epoch 90/500\n",
      " - 109s - loss: 1.5880 - acc: 0.5545 - top_3_accuracy: 0.7771 - categorical_crossentropy: 1.5880 - val_loss: 3.1281 - val_acc: 0.3376 - val_top_3_accuracy: 0.5424 - val_categorical_crossentropy: 3.1281\n",
      "Epoch 91/500\n",
      " - 112s - loss: 1.5816 - acc: 0.5542 - top_3_accuracy: 0.7778 - categorical_crossentropy: 1.5816 - val_loss: 3.1322 - val_acc: 0.3419 - val_top_3_accuracy: 0.5404 - val_categorical_crossentropy: 3.1322\n",
      "Epoch 92/500\n",
      " - 102s - loss: 1.5644 - acc: 0.5602 - top_3_accuracy: 0.7810 - categorical_crossentropy: 1.5644 - val_loss: 3.1577 - val_acc: 0.3396 - val_top_3_accuracy: 0.5391 - val_categorical_crossentropy: 3.1577\n",
      "Epoch 93/500\n",
      " - 113s - loss: 1.5563 - acc: 0.5639 - top_3_accuracy: 0.7831 - categorical_crossentropy: 1.5563 - val_loss: 3.1709 - val_acc: 0.3404 - val_top_3_accuracy: 0.5352 - val_categorical_crossentropy: 3.1709\n",
      "Epoch 94/500\n",
      " - 108s - loss: 1.5458 - acc: 0.5647 - top_3_accuracy: 0.7863 - categorical_crossentropy: 1.5458 - val_loss: 3.1676 - val_acc: 0.3438 - val_top_3_accuracy: 0.5387 - val_categorical_crossentropy: 3.1676\n",
      "Epoch 95/500\n",
      " - 112s - loss: 1.5303 - acc: 0.5668 - top_3_accuracy: 0.7891 - categorical_crossentropy: 1.5303 - val_loss: 3.1944 - val_acc: 0.3361 - val_top_3_accuracy: 0.5384 - val_categorical_crossentropy: 3.1944\n",
      "Epoch 96/500\n",
      " - 111s - loss: 1.5376 - acc: 0.5709 - top_3_accuracy: 0.7864 - categorical_crossentropy: 1.5376 - val_loss: 3.1741 - val_acc: 0.3353 - val_top_3_accuracy: 0.5357 - val_categorical_crossentropy: 3.1741\n",
      "Epoch 97/500\n",
      " - 98s - loss: 1.5208 - acc: 0.5715 - top_3_accuracy: 0.7888 - categorical_crossentropy: 1.5208 - val_loss: 3.1998 - val_acc: 0.3335 - val_top_3_accuracy: 0.5311 - val_categorical_crossentropy: 3.1998\n",
      "Epoch 98/500\n",
      " - 105s - loss: 1.4989 - acc: 0.5782 - top_3_accuracy: 0.7937 - categorical_crossentropy: 1.4989 - val_loss: 3.1701 - val_acc: 0.3382 - val_top_3_accuracy: 0.5379 - val_categorical_crossentropy: 3.1701\n",
      "Epoch 99/500\n",
      " - 113s - loss: 1.5033 - acc: 0.5762 - top_3_accuracy: 0.7918 - categorical_crossentropy: 1.5033 - val_loss: 3.1693 - val_acc: 0.3387 - val_top_3_accuracy: 0.5407 - val_categorical_crossentropy: 3.1693\n",
      "Epoch 100/500\n",
      " - 126s - loss: 1.4900 - acc: 0.5784 - top_3_accuracy: 0.7957 - categorical_crossentropy: 1.4900 - val_loss: 3.2148 - val_acc: 0.3370 - val_top_3_accuracy: 0.5387 - val_categorical_crossentropy: 3.2148\n",
      "Epoch 101/500\n",
      " - 95s - loss: 1.4790 - acc: 0.5817 - top_3_accuracy: 0.7991 - categorical_crossentropy: 1.4790 - val_loss: 3.2594 - val_acc: 0.3390 - val_top_3_accuracy: 0.5340 - val_categorical_crossentropy: 3.2594\n",
      "Epoch 102/500\n"
     ]
    },
    {
     "ename": "KeyboardInterrupt",
     "evalue": "",
     "output_type": "error",
     "traceback": [
      "\u001b[0;31m---------------------------------------------------------------------------\u001b[0m",
      "\u001b[0;31mKeyboardInterrupt\u001b[0m                         Traceback (most recent call last)",
      "\u001b[0;32m<ipython-input-330-5dec8ef3db75>\u001b[0m in \u001b[0;36m<module>\u001b[0;34m()\u001b[0m\n\u001b[1;32m      1\u001b[0m model.fit(X_train, y_train, \n\u001b[1;32m      2\u001b[0m           \u001b[0mvalidation_data\u001b[0m\u001b[0;34m=\u001b[0m\u001b[0;34m(\u001b[0m\u001b[0mX_test\u001b[0m\u001b[0;34m,\u001b[0m \u001b[0my_test\u001b[0m\u001b[0;34m)\u001b[0m\u001b[0;34m,\u001b[0m\u001b[0;34m\u001b[0m\u001b[0m\n\u001b[0;32m----> 3\u001b[0;31m           epochs=500, batch_size=1000, verbose=2)\n\u001b[0m\u001b[1;32m      4\u001b[0m \u001b[0mscores\u001b[0m \u001b[0;34m=\u001b[0m \u001b[0mmodel\u001b[0m\u001b[0;34m.\u001b[0m\u001b[0mevaluate\u001b[0m\u001b[0;34m(\u001b[0m\u001b[0mX_test\u001b[0m\u001b[0;34m,\u001b[0m \u001b[0my_test\u001b[0m\u001b[0;34m,\u001b[0m \u001b[0mverbose\u001b[0m\u001b[0;34m=\u001b[0m\u001b[0;36m0\u001b[0m\u001b[0;34m)\u001b[0m\u001b[0;34m\u001b[0m\u001b[0m\n\u001b[1;32m      5\u001b[0m \u001b[0;32mprint\u001b[0m\u001b[0;34m(\u001b[0m\u001b[0;34m\"CNN Error: %.2f%%\"\u001b[0m \u001b[0;34m%\u001b[0m \u001b[0;34m(\u001b[0m\u001b[0;36m100\u001b[0m\u001b[0;34m-\u001b[0m\u001b[0mscores\u001b[0m\u001b[0;34m[\u001b[0m\u001b[0;36m1\u001b[0m\u001b[0;34m]\u001b[0m\u001b[0;34m*\u001b[0m\u001b[0;36m100\u001b[0m\u001b[0;34m)\u001b[0m\u001b[0;34m)\u001b[0m\u001b[0;34m\u001b[0m\u001b[0m\n",
      "\u001b[0;32m/usr/local/lib/python2.7/site-packages/keras/engine/training.pyc\u001b[0m in \u001b[0;36mfit\u001b[0;34m(self, x, y, batch_size, epochs, verbose, callbacks, validation_split, validation_data, shuffle, class_weight, sample_weight, initial_epoch, steps_per_epoch, validation_steps, **kwargs)\u001b[0m\n\u001b[1;32m   1037\u001b[0m                                         \u001b[0minitial_epoch\u001b[0m\u001b[0;34m=\u001b[0m\u001b[0minitial_epoch\u001b[0m\u001b[0;34m,\u001b[0m\u001b[0;34m\u001b[0m\u001b[0m\n\u001b[1;32m   1038\u001b[0m                                         \u001b[0msteps_per_epoch\u001b[0m\u001b[0;34m=\u001b[0m\u001b[0msteps_per_epoch\u001b[0m\u001b[0;34m,\u001b[0m\u001b[0;34m\u001b[0m\u001b[0m\n\u001b[0;32m-> 1039\u001b[0;31m                                         validation_steps=validation_steps)\n\u001b[0m\u001b[1;32m   1040\u001b[0m \u001b[0;34m\u001b[0m\u001b[0m\n\u001b[1;32m   1041\u001b[0m     def evaluate(self, x=None, y=None,\n",
      "\u001b[0;32m/usr/local/lib/python2.7/site-packages/keras/engine/training_arrays.pyc\u001b[0m in \u001b[0;36mfit_loop\u001b[0;34m(model, f, ins, out_labels, batch_size, epochs, verbose, callbacks, val_f, val_ins, shuffle, callback_metrics, initial_epoch, steps_per_epoch, validation_steps)\u001b[0m\n\u001b[1;32m    197\u001b[0m                     \u001b[0mins_batch\u001b[0m\u001b[0;34m[\u001b[0m\u001b[0mi\u001b[0m\u001b[0;34m]\u001b[0m \u001b[0;34m=\u001b[0m \u001b[0mins_batch\u001b[0m\u001b[0;34m[\u001b[0m\u001b[0mi\u001b[0m\u001b[0;34m]\u001b[0m\u001b[0;34m.\u001b[0m\u001b[0mtoarray\u001b[0m\u001b[0;34m(\u001b[0m\u001b[0;34m)\u001b[0m\u001b[0;34m\u001b[0m\u001b[0m\n\u001b[1;32m    198\u001b[0m \u001b[0;34m\u001b[0m\u001b[0m\n\u001b[0;32m--> 199\u001b[0;31m                 \u001b[0mouts\u001b[0m \u001b[0;34m=\u001b[0m \u001b[0mf\u001b[0m\u001b[0;34m(\u001b[0m\u001b[0mins_batch\u001b[0m\u001b[0;34m)\u001b[0m\u001b[0;34m\u001b[0m\u001b[0m\n\u001b[0m\u001b[1;32m    200\u001b[0m                 \u001b[0mouts\u001b[0m \u001b[0;34m=\u001b[0m \u001b[0mto_list\u001b[0m\u001b[0;34m(\u001b[0m\u001b[0mouts\u001b[0m\u001b[0;34m)\u001b[0m\u001b[0;34m\u001b[0m\u001b[0m\n\u001b[1;32m    201\u001b[0m                 \u001b[0;32mfor\u001b[0m \u001b[0ml\u001b[0m\u001b[0;34m,\u001b[0m \u001b[0mo\u001b[0m \u001b[0;32min\u001b[0m \u001b[0mzip\u001b[0m\u001b[0;34m(\u001b[0m\u001b[0mout_labels\u001b[0m\u001b[0;34m,\u001b[0m \u001b[0mouts\u001b[0m\u001b[0;34m)\u001b[0m\u001b[0;34m:\u001b[0m\u001b[0;34m\u001b[0m\u001b[0m\n",
      "\u001b[0;32m/usr/local/lib/python2.7/site-packages/keras/backend/tensorflow_backend.pyc\u001b[0m in \u001b[0;36m__call__\u001b[0;34m(self, inputs)\u001b[0m\n\u001b[1;32m   2713\u001b[0m                 \u001b[0;32mreturn\u001b[0m \u001b[0mself\u001b[0m\u001b[0;34m.\u001b[0m\u001b[0m_legacy_call\u001b[0m\u001b[0;34m(\u001b[0m\u001b[0minputs\u001b[0m\u001b[0;34m)\u001b[0m\u001b[0;34m\u001b[0m\u001b[0m\n\u001b[1;32m   2714\u001b[0m \u001b[0;34m\u001b[0m\u001b[0m\n\u001b[0;32m-> 2715\u001b[0;31m             \u001b[0;32mreturn\u001b[0m \u001b[0mself\u001b[0m\u001b[0;34m.\u001b[0m\u001b[0m_call\u001b[0m\u001b[0;34m(\u001b[0m\u001b[0minputs\u001b[0m\u001b[0;34m)\u001b[0m\u001b[0;34m\u001b[0m\u001b[0m\n\u001b[0m\u001b[1;32m   2716\u001b[0m         \u001b[0;32melse\u001b[0m\u001b[0;34m:\u001b[0m\u001b[0;34m\u001b[0m\u001b[0m\n\u001b[1;32m   2717\u001b[0m             \u001b[0;32mif\u001b[0m \u001b[0mpy_any\u001b[0m\u001b[0;34m(\u001b[0m\u001b[0mis_tensor\u001b[0m\u001b[0;34m(\u001b[0m\u001b[0mx\u001b[0m\u001b[0;34m)\u001b[0m \u001b[0;32mfor\u001b[0m \u001b[0mx\u001b[0m \u001b[0;32min\u001b[0m \u001b[0minputs\u001b[0m\u001b[0;34m)\u001b[0m\u001b[0;34m:\u001b[0m\u001b[0;34m\u001b[0m\u001b[0m\n",
      "\u001b[0;32m/usr/local/lib/python2.7/site-packages/keras/backend/tensorflow_backend.pyc\u001b[0m in \u001b[0;36m_call\u001b[0;34m(self, inputs)\u001b[0m\n\u001b[1;32m   2673\u001b[0m             \u001b[0mfetched\u001b[0m \u001b[0;34m=\u001b[0m \u001b[0mself\u001b[0m\u001b[0;34m.\u001b[0m\u001b[0m_callable_fn\u001b[0m\u001b[0;34m(\u001b[0m\u001b[0;34m*\u001b[0m\u001b[0marray_vals\u001b[0m\u001b[0;34m,\u001b[0m \u001b[0mrun_metadata\u001b[0m\u001b[0;34m=\u001b[0m\u001b[0mself\u001b[0m\u001b[0;34m.\u001b[0m\u001b[0mrun_metadata\u001b[0m\u001b[0;34m)\u001b[0m\u001b[0;34m\u001b[0m\u001b[0m\n\u001b[1;32m   2674\u001b[0m         \u001b[0;32melse\u001b[0m\u001b[0;34m:\u001b[0m\u001b[0;34m\u001b[0m\u001b[0m\n\u001b[0;32m-> 2675\u001b[0;31m             \u001b[0mfetched\u001b[0m \u001b[0;34m=\u001b[0m \u001b[0mself\u001b[0m\u001b[0;34m.\u001b[0m\u001b[0m_callable_fn\u001b[0m\u001b[0;34m(\u001b[0m\u001b[0;34m*\u001b[0m\u001b[0marray_vals\u001b[0m\u001b[0;34m)\u001b[0m\u001b[0;34m\u001b[0m\u001b[0m\n\u001b[0m\u001b[1;32m   2676\u001b[0m         \u001b[0;32mreturn\u001b[0m \u001b[0mfetched\u001b[0m\u001b[0;34m[\u001b[0m\u001b[0;34m:\u001b[0m\u001b[0mlen\u001b[0m\u001b[0;34m(\u001b[0m\u001b[0mself\u001b[0m\u001b[0;34m.\u001b[0m\u001b[0moutputs\u001b[0m\u001b[0;34m)\u001b[0m\u001b[0;34m]\u001b[0m\u001b[0;34m\u001b[0m\u001b[0m\n\u001b[1;32m   2677\u001b[0m \u001b[0;34m\u001b[0m\u001b[0m\n",
      "\u001b[0;32m/usr/local/lib/python2.7/site-packages/tensorflow/python/client/session.pyc\u001b[0m in \u001b[0;36m__call__\u001b[0;34m(self, *args, **kwargs)\u001b[0m\n\u001b[1;32m   1397\u001b[0m           ret = tf_session.TF_SessionRunCallable(\n\u001b[1;32m   1398\u001b[0m               \u001b[0mself\u001b[0m\u001b[0;34m.\u001b[0m\u001b[0m_session\u001b[0m\u001b[0;34m.\u001b[0m\u001b[0m_session\u001b[0m\u001b[0;34m,\u001b[0m \u001b[0mself\u001b[0m\u001b[0;34m.\u001b[0m\u001b[0m_handle\u001b[0m\u001b[0;34m,\u001b[0m \u001b[0margs\u001b[0m\u001b[0;34m,\u001b[0m \u001b[0mstatus\u001b[0m\u001b[0;34m,\u001b[0m\u001b[0;34m\u001b[0m\u001b[0m\n\u001b[0;32m-> 1399\u001b[0;31m               run_metadata_ptr)\n\u001b[0m\u001b[1;32m   1400\u001b[0m         \u001b[0;32mif\u001b[0m \u001b[0mrun_metadata\u001b[0m\u001b[0;34m:\u001b[0m\u001b[0;34m\u001b[0m\u001b[0m\n\u001b[1;32m   1401\u001b[0m           \u001b[0mproto_data\u001b[0m \u001b[0;34m=\u001b[0m \u001b[0mtf_session\u001b[0m\u001b[0;34m.\u001b[0m\u001b[0mTF_GetBuffer\u001b[0m\u001b[0;34m(\u001b[0m\u001b[0mrun_metadata_ptr\u001b[0m\u001b[0;34m)\u001b[0m\u001b[0;34m\u001b[0m\u001b[0m\n",
      "\u001b[0;31mKeyboardInterrupt\u001b[0m: "
     ]
    }
   ],
   "source": [
    "model.fit(X_train, y_train, \n",
    "          validation_data=(X_test, y_test),\n",
    "          epochs=500, batch_size=1000, verbose=2)\n",
    "scores = model.evaluate(X_test, y_test, verbose=0)\n",
    "print(\"CNN Error: %.2f%%\" % (100-scores[1]*100))"
   ]
  },
  {
   "cell_type": "code",
   "execution_count": null,
   "metadata": {},
   "outputs": [],
   "source": [
    "model.fit(X_train, y_train, \n",
    "          validation_data=(X_test, y_test),\n",
    "          epochs=500, batch_size=1000, verbose=2)\n",
    "scores = model.evaluate(X_test, y_test, verbose=0)\n",
    "print(\"CNN Error: %.2f%%\" % (100-scores[1]*100))"
   ]
  },
  {
   "cell_type": "code",
   "execution_count": null,
   "metadata": {},
   "outputs": [],
   "source": []
  },
  {
   "cell_type": "code",
   "execution_count": null,
   "metadata": {},
   "outputs": [],
   "source": []
  },
  {
   "cell_type": "code",
   "execution_count": 131,
   "metadata": {},
   "outputs": [
    {
     "data": {
      "text/plain": [
       "(27200, 50, 50, 1)"
      ]
     },
     "execution_count": 131,
     "metadata": {},
     "output_type": "execute_result"
    }
   ],
   "source": [
    "# X_train.shape"
   ]
  },
  {
   "cell_type": "code",
   "execution_count": null,
   "metadata": {},
   "outputs": [],
   "source": []
  }
 ],
 "metadata": {
  "kernelspec": {
   "display_name": "Python 2",
   "language": "python",
   "name": "python2"
  },
  "language_info": {
   "codemirror_mode": {
    "name": "ipython",
    "version": 2
   },
   "file_extension": ".py",
   "mimetype": "text/x-python",
   "name": "python",
   "nbconvert_exporter": "python",
   "pygments_lexer": "ipython2",
   "version": "2.7.15"
  }
 },
 "nbformat": 4,
 "nbformat_minor": 2
}
