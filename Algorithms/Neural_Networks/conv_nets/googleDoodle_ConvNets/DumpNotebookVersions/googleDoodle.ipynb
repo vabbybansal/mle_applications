{
 "cells": [
  {
   "cell_type": "code",
   "execution_count": 291,
   "metadata": {},
   "outputs": [
    {
     "data": {
      "text/html": [
       "<style>.container { width:100% !important; }</style>"
      ],
      "text/plain": [
       "<IPython.core.display.HTML object>"
      ]
     },
     "metadata": {},
     "output_type": "display_data"
    }
   ],
   "source": [
    "import random\n",
    "import os\n",
    "import re\n",
    "from glob import glob\n",
    "from tqdm import tqdm\n",
    "import numpy as np\n",
    "import pandas as pd\n",
    "import ast\n",
    "import matplotlib.pyplot as plt\n",
    "%matplotlib inline\n",
    "import numpy as np\n",
    "from PIL import Image, ImageDraw\n",
    "from __future__ import print_function\n",
    "import keras\n",
    "from keras.datasets import mnist\n",
    "from keras.models import Sequential\n",
    "from keras.layers import Dense, Dropout, Flatten\n",
    "from keras.layers import Conv2D, MaxPooling2D\n",
    "from keras import backend as K\n",
    "from keras import metrics\n",
    "from IPython.core.display import display, HTML\n",
    "display(HTML(\"<style>.container { width:100% !important; }</style>\"))\n",
    "from sklearn.model_selection import train_test_split"
   ]
  },
  {
   "cell_type": "markdown",
   "metadata": {},
   "source": [
    "# Get Data"
   ]
  },
  {
   "cell_type": "code",
   "execution_count": 2,
   "metadata": {},
   "outputs": [],
   "source": [
    "test = pd.read_csv('test_simplified.csv')"
   ]
  },
  {
   "cell_type": "code",
   "execution_count": 332,
   "metadata": {},
   "outputs": [],
   "source": [
    "# test"
   ]
  },
  {
   "cell_type": "code",
   "execution_count": 3,
   "metadata": {},
   "outputs": [],
   "source": [
    "# Get names of all train csv files with the pattern match below\n",
    "fnames = glob('train_simplified/*.csv')"
   ]
  },
  {
   "cell_type": "code",
   "execution_count": 164,
   "metadata": {},
   "outputs": [],
   "source": [
    "rows = 200\n",
    "# Get n rows from all the csv files and append them into one dataframe\n",
    "train_df = pd.DataFrame(columns=pd.read_csv(fnames[0], nrows=20).columns)\n",
    "for name in fnames:\n",
    "    data = pd.read_csv(name, nrows=rows)\n",
    "    train_df = train_df.append(data)\n",
    "train_df = train_df.reset_index().drop('index', axis=1)\n",
    "# Get only those which were correctly recognized\n",
    "train_df = train_df[train_df['recognized'] == True]\n",
    "train_df['drawing'] = train_df['drawing'].apply(ast.literal_eval)"
   ]
  },
  {
   "cell_type": "code",
   "execution_count": 165,
   "metadata": {},
   "outputs": [
    {
     "data": {
      "text/plain": [
       "(62590, 6)"
      ]
     },
     "execution_count": 165,
     "metadata": {},
     "output_type": "execute_result"
    }
   ],
   "source": [
    "train_df.shape\n",
    "# train_df['recognized'].value_counts()"
   ]
  },
  {
   "cell_type": "markdown",
   "metadata": {},
   "source": [
    "# Draw Sample"
   ]
  },
  {
   "cell_type": "code",
   "execution_count": 166,
   "metadata": {},
   "outputs": [
    {
     "data": {
      "text/html": [
       "<div>\n",
       "<style scoped>\n",
       "    .dataframe tbody tr th:only-of-type {\n",
       "        vertical-align: middle;\n",
       "    }\n",
       "\n",
       "    .dataframe tbody tr th {\n",
       "        vertical-align: top;\n",
       "    }\n",
       "\n",
       "    .dataframe thead th {\n",
       "        text-align: right;\n",
       "    }\n",
       "</style>\n",
       "<table border=\"1\" class=\"dataframe\">\n",
       "  <thead>\n",
       "    <tr style=\"text-align: right;\">\n",
       "      <th></th>\n",
       "      <th>countrycode</th>\n",
       "      <th>drawing</th>\n",
       "      <th>key_id</th>\n",
       "      <th>recognized</th>\n",
       "      <th>timestamp</th>\n",
       "      <th>word</th>\n",
       "    </tr>\n",
       "  </thead>\n",
       "  <tbody>\n",
       "    <tr>\n",
       "      <th>20780</th>\n",
       "      <td>US</td>\n",
       "      <td>[[[0, 15, 45, 74, 98, 126, 144, 158, 168, 167,...</td>\n",
       "      <td>5195909119868928</td>\n",
       "      <td>True</td>\n",
       "      <td>2017-03-21 23:59:58.677920</td>\n",
       "      <td>ear</td>\n",
       "    </tr>\n",
       "    <tr>\n",
       "      <th>62715</th>\n",
       "      <td>US</td>\n",
       "      <td>[[[11, 114, 221, 253, 255, 255, 253], [12, 12,...</td>\n",
       "      <td>5715858993184768</td>\n",
       "      <td>True</td>\n",
       "      <td>2017-03-29 15:09:14.599620</td>\n",
       "      <td>bench</td>\n",
       "    </tr>\n",
       "    <tr>\n",
       "      <th>43297</th>\n",
       "      <td>AU</td>\n",
       "      <td>[[[44, 73, 88, 90, 81, 76, 70, 49, 31, 30, 34]...</td>\n",
       "      <td>6409799233175552</td>\n",
       "      <td>True</td>\n",
       "      <td>2017-03-10 02:04:53.649330</td>\n",
       "      <td>microphone</td>\n",
       "    </tr>\n",
       "    <tr>\n",
       "      <th>14254</th>\n",
       "      <td>HR</td>\n",
       "      <td>[[[38, 37, 21, 8, 0, 0], [0, 11, 48, 87, 140, ...</td>\n",
       "      <td>4823576777588736</td>\n",
       "      <td>True</td>\n",
       "      <td>2017-03-05 19:31:22.521970</td>\n",
       "      <td>jail</td>\n",
       "    </tr>\n",
       "    <tr>\n",
       "      <th>15784</th>\n",
       "      <td>US</td>\n",
       "      <td>[[[0, 46, 185, 224, 228, 212, 198, 168, 145, 1...</td>\n",
       "      <td>4843567887417344</td>\n",
       "      <td>True</td>\n",
       "      <td>2017-03-24 21:32:33.949100</td>\n",
       "      <td>purse</td>\n",
       "    </tr>\n",
       "    <tr>\n",
       "      <th>29168</th>\n",
       "      <td>US</td>\n",
       "      <td>[[[52, 52, 57], [91, 212, 255]], [[51, 24, 19,...</td>\n",
       "      <td>5287394158837760</td>\n",
       "      <td>True</td>\n",
       "      <td>2017-01-29 00:20:11.466030</td>\n",
       "      <td>flower</td>\n",
       "    </tr>\n",
       "    <tr>\n",
       "      <th>15054</th>\n",
       "      <td>US</td>\n",
       "      <td>[[[47, 44], [255, 147]], [[42, 29, 0, 26, 47],...</td>\n",
       "      <td>4846770444042240</td>\n",
       "      <td>True</td>\n",
       "      <td>2017-01-31 19:34:36.849900</td>\n",
       "      <td>yoga</td>\n",
       "    </tr>\n",
       "    <tr>\n",
       "      <th>23040</th>\n",
       "      <td>US</td>\n",
       "      <td>[[[94, 77, 65, 60, 60, 64, 72, 85, 99, 107, 11...</td>\n",
       "      <td>4958614156476416</td>\n",
       "      <td>True</td>\n",
       "      <td>2017-03-24 14:35:08.627900</td>\n",
       "      <td>eyeglasses</td>\n",
       "    </tr>\n",
       "    <tr>\n",
       "      <th>49339</th>\n",
       "      <td>US</td>\n",
       "      <td>[[[10, 0, 2, 13, 23, 36, 46, 159, 200, 212, 22...</td>\n",
       "      <td>6205515656855552</td>\n",
       "      <td>True</td>\n",
       "      <td>2017-03-01 19:38:28.997270</td>\n",
       "      <td>baseball bat</td>\n",
       "    </tr>\n",
       "    <tr>\n",
       "      <th>54428</th>\n",
       "      <td>TH</td>\n",
       "      <td>[[[0, 2, 17, 34, 145, 216, 229, 241, 251, 255,...</td>\n",
       "      <td>5386791978795008</td>\n",
       "      <td>True</td>\n",
       "      <td>2017-03-14 14:50:16.321590</td>\n",
       "      <td>fireplace</td>\n",
       "    </tr>\n",
       "  </tbody>\n",
       "</table>\n",
       "</div>"
      ],
      "text/plain": [
       "      countrycode                                            drawing  \\\n",
       "20780          US  [[[0, 15, 45, 74, 98, 126, 144, 158, 168, 167,...   \n",
       "62715          US  [[[11, 114, 221, 253, 255, 255, 253], [12, 12,...   \n",
       "43297          AU  [[[44, 73, 88, 90, 81, 76, 70, 49, 31, 30, 34]...   \n",
       "14254          HR  [[[38, 37, 21, 8, 0, 0], [0, 11, 48, 87, 140, ...   \n",
       "15784          US  [[[0, 46, 185, 224, 228, 212, 198, 168, 145, 1...   \n",
       "29168          US  [[[52, 52, 57], [91, 212, 255]], [[51, 24, 19,...   \n",
       "15054          US  [[[47, 44], [255, 147]], [[42, 29, 0, 26, 47],...   \n",
       "23040          US  [[[94, 77, 65, 60, 60, 64, 72, 85, 99, 107, 11...   \n",
       "49339          US  [[[10, 0, 2, 13, 23, 36, 46, 159, 200, 212, 22...   \n",
       "54428          TH  [[[0, 2, 17, 34, 145, 216, 229, 241, 251, 255,...   \n",
       "\n",
       "                 key_id recognized                   timestamp          word  \n",
       "20780  5195909119868928       True  2017-03-21 23:59:58.677920           ear  \n",
       "62715  5715858993184768       True  2017-03-29 15:09:14.599620         bench  \n",
       "43297  6409799233175552       True  2017-03-10 02:04:53.649330    microphone  \n",
       "14254  4823576777588736       True  2017-03-05 19:31:22.521970          jail  \n",
       "15784  4843567887417344       True  2017-03-24 21:32:33.949100         purse  \n",
       "29168  5287394158837760       True  2017-01-29 00:20:11.466030        flower  \n",
       "15054  4846770444042240       True  2017-01-31 19:34:36.849900          yoga  \n",
       "23040  4958614156476416       True  2017-03-24 14:35:08.627900    eyeglasses  \n",
       "49339  6205515656855552       True  2017-03-01 19:38:28.997270  baseball bat  \n",
       "54428  5386791978795008       True  2017-03-14 14:50:16.321590     fireplace  "
      ]
     },
     "execution_count": 166,
     "metadata": {},
     "output_type": "execute_result"
    }
   ],
   "source": [
    "train_df.sample(10)"
   ]
  },
  {
   "cell_type": "code",
   "execution_count": 167,
   "metadata": {},
   "outputs": [
    {
     "data": {
      "image/png": "[encoded data removed]",
      "text/plain": [
       "<Figure size 288x288 with 3 Axes>"
      ]
     },
     "metadata": {
      "needs_background": "light"
     },
     "output_type": "display_data"
    }
   ],
   "source": [
    "n_samp = 3\n",
    "train_df_sample = train_df.sample(n_samp)\n",
    "plt.figure(figsize=(4,4))\n",
    "for i in range(n_samp):\n",
    "    draw = train_df_sample.iloc[i]['drawing']\n",
    "    label = train_df_sample.iloc[i]['word']\n",
    "    plt.subplot(n_samp,1,i+1)\n",
    "    for stroke in draw:\n",
    "        plt.plot(stroke[0], stroke[1], marker='.', color='black')\n",
    "        plt.title(label)\n",
    "        plt.axis('off')\n",
    "plt.show()    "
   ]
  },
  {
   "cell_type": "markdown",
   "metadata": {},
   "source": [
    "# Convert drawings to images"
   ]
  },
  {
   "cell_type": "code",
   "execution_count": 277,
   "metadata": {},
   "outputs": [],
   "source": [
    "def draw_it(raw_strokes, output_height, output_width):\n",
    "    image = Image.new(\"P\", (255,255)\n",
    "#                       , color=1\n",
    "            )\n",
    "    image_draw = ImageDraw.Draw(image)\n",
    "\n",
    "    for stroke in raw_strokes:\n",
    "        for i in range(len(stroke[0])-1):\n",
    "\n",
    "            image_draw.line([stroke[0][i], \n",
    "                             stroke[1][i],\n",
    "                             stroke[0][i+1], \n",
    "                             stroke[1][i+1]],\n",
    "                            fill=255, width=6)\n",
    "    # Reduce image size\n",
    "    image = image.resize((output_height,output_width),Image.ANTIALIAS)\n",
    "    \n",
    "    return np.array(image)"
   ]
  },
  {
   "cell_type": "code",
   "execution_count": 353,
   "metadata": {},
   "outputs": [],
   "source": [
    "output_height = 64\n",
    "output_width = 64\n",
    "train_df['img'] = train_df[['drawing']].apply(lambda x: draw_it(x['drawing'], output_height, output_width), axis=1)"
   ]
  },
  {
   "cell_type": "code",
   "execution_count": 354,
   "metadata": {},
   "outputs": [
    {
     "data": {
      "image/png": "[encoded data removed]",
      "text/plain": [
       "<Figure size 432x288 with 1 Axes>"
      ]
     },
     "metadata": {
      "needs_background": "light"
     },
     "output_type": "display_data"
    }
   ],
   "source": [
    "# Show an image\n",
    "ind = 100\n",
    "plt.imshow(train_df.iloc[ind]['img'],cmap='gray')\n",
    "plt.title(train_df.iloc[ind]['word'])\n",
    "plt.show()"
   ]
  },
  {
   "cell_type": "code",
   "execution_count": null,
   "metadata": {},
   "outputs": [],
   "source": []
  },
  {
   "cell_type": "markdown",
   "metadata": {},
   "source": [
    "# Create a baseline CNN"
   ]
  },
  {
   "cell_type": "code",
   "execution_count": 355,
   "metadata": {},
   "outputs": [],
   "source": [
    "batch_size = 10\n",
    "num_classes = len(fnames)\n",
    "epochs = 12"
   ]
  },
  {
   "cell_type": "markdown",
   "metadata": {},
   "source": [
    "### Data Preprocessing"
   ]
  },
  {
   "cell_type": "code",
   "execution_count": 356,
   "metadata": {},
   "outputs": [],
   "source": [
    "# Shuffle the data\n",
    "random.seed(111)\n",
    "train_df = train_df.sample(train_df.shape[0])"
   ]
  },
  {
   "cell_type": "code",
   "execution_count": 357,
   "metadata": {},
   "outputs": [],
   "source": [
    "# input image dimensions\n",
    "img_rows, img_cols = output_height, output_width\n",
    "input_shape = (img_rows, img_cols)"
   ]
  },
  {
   "cell_type": "code",
   "execution_count": 358,
   "metadata": {},
   "outputs": [],
   "source": [
    "# Reshape the array\n",
    "imgArr = np.vstack(train_df['img'].values).flatten().reshape((train_df['img'].shape[0], img_rows, img_cols))"
   ]
  },
  {
   "cell_type": "code",
   "execution_count": 359,
   "metadata": {},
   "outputs": [],
   "source": [
    "# In Keras, the layers used for two-dimensional convolutions expect pixel values with the dimensions [width][height][pixels] for TF.\n",
    "# In the case of RGB, the first dimension pixels would be 3 for the red, green and blue components and it would be like having 3 image inputs for every color image. In this case, the pixel values are gray scale, the pixel dimension is set to 1.\n",
    "imgArr = imgArr.reshape(imgArr.shape[0], img_rows, img_cols, 1).astype('float32')"
   ]
  },
  {
   "cell_type": "code",
   "execution_count": null,
   "metadata": {},
   "outputs": [],
   "source": []
  },
  {
   "cell_type": "code",
   "execution_count": 360,
   "metadata": {},
   "outputs": [],
   "source": [
    "y_train = train_df['word']"
   ]
  },
  {
   "cell_type": "code",
   "execution_count": 361,
   "metadata": {},
   "outputs": [],
   "source": [
    "# Convert class labels from categorical to numerical\n",
    "unique_classes_list = y_train.unique()\n",
    "map_class_to_numeric = {k: v for v, k in enumerate(y_train.unique())}\n",
    "map_numeric_to_class = {v: k for k, v in map_class_to_numeric.iteritems()}\n",
    "y_train_numeric = y_train.apply(lambda x: map_class_to_numeric[x])\n",
    "\n",
    "# convert class vectors to binary class matrices\n",
    "y_train_one_hot = keras.utils.to_categorical(y_train_numeric, num_classes)\n",
    "num_classes = y_train_one_hot.shape[1]"
   ]
  },
  {
   "cell_type": "code",
   "execution_count": 362,
   "metadata": {},
   "outputs": [],
   "source": [
    "X_train, X_test, y_train, y_test = train_test_split(imgArr, y_train_one_hot, test_size=0.2)"
   ]
  },
  {
   "cell_type": "code",
   "execution_count": 363,
   "metadata": {},
   "outputs": [],
   "source": [
    "def top_3_accuracy(y_true, y_pred):\n",
    "    return metrics.top_k_categorical_accuracy(y_true, y_pred, k=3)"
   ]
  },
  {
   "cell_type": "markdown",
   "metadata": {},
   "source": [
    "### Model Architecture"
   ]
  },
  {
   "cell_type": "code",
   "execution_count": 367,
   "metadata": {},
   "outputs": [],
   "source": [
    "num_filters = 8 # num of channels / filters\n",
    "def baseline_conv_model(num_filters):\n",
    "    model = Sequential()\n",
    "    model.add(Conv2D(num_filters, (10,10), input_shape=(img_rows,img_cols,1), activation='relu')) \n",
    "    model.add(MaxPooling2D(pool_size=(2,2)))\n",
    "    model.add(Dropout(0.2))\n",
    "    model.add(Conv2D(num_filters*2, (10,10), input_shape=(img_rows,img_cols,1), activation='relu')) \n",
    "    model.add(MaxPooling2D(pool_size=(2,2)))\n",
    "    model.add(Dropout(0.2))\n",
    "    model.add(Flatten())\n",
    "    model.add(Dense(1000, activation='relu'))\n",
    "    model.add(Dropout(0.2))\n",
    "    model.add(Dense(500, activation='relu'))\n",
    "    model.add(Dropout(0.2))\n",
    "#     model.add(Dense(100, activation='relu'))\n",
    "    model.add(Dense(num_classes, activation='softmax'))\n",
    "    \n",
    "    # Compile\n",
    "    model.compile(loss='categorical_crossentropy', optimizer='adam', metrics=['accuracy', top_3_accuracy, 'categorical_crossentropy'])\n",
    "    return model"
   ]
  },
  {
   "cell_type": "code",
   "execution_count": 368,
   "metadata": {},
   "outputs": [
    {
     "name": "stdout",
     "output_type": "stream",
     "text": [
      "_________________________________________________________________\n",
      "Layer (type)                 Output Shape              Param #   \n",
      "=================================================================\n",
      "conv2d_103 (Conv2D)          (None, 55, 55, 8)         808       \n",
      "_________________________________________________________________\n",
      "max_pooling2d_92 (MaxPooling (None, 27, 27, 8)         0         \n",
      "_________________________________________________________________\n",
      "dropout_66 (Dropout)         (None, 27, 27, 8)         0         \n",
      "_________________________________________________________________\n",
      "conv2d_104 (Conv2D)          (None, 18, 18, 16)        12816     \n",
      "_________________________________________________________________\n",
      "max_pooling2d_93 (MaxPooling (None, 9, 9, 16)          0         \n",
      "_________________________________________________________________\n",
      "dropout_67 (Dropout)         (None, 9, 9, 16)          0         \n",
      "_________________________________________________________________\n",
      "flatten_41 (Flatten)         (None, 1296)              0         \n",
      "_________________________________________________________________\n",
      "dense_101 (Dense)            (None, 1000)              1297000   \n",
      "_________________________________________________________________\n",
      "dropout_68 (Dropout)         (None, 1000)              0         \n",
      "_________________________________________________________________\n",
      "dense_102 (Dense)            (None, 500)               500500    \n",
      "_________________________________________________________________\n",
      "dropout_69 (Dropout)         (None, 500)               0         \n",
      "_________________________________________________________________\n",
      "dense_103 (Dense)            (None, 340)               170340    \n",
      "=================================================================\n",
      "Total params: 1,981,464\n",
      "Trainable params: 1,981,464\n",
      "Non-trainable params: 0\n",
      "_________________________________________________________________\n"
     ]
    }
   ],
   "source": [
    "model = baseline_conv_model(num_filters)\n",
    "model.summary()"
   ]
  },
  {
   "cell_type": "code",
   "execution_count": 369,
   "metadata": {},
   "outputs": [
    {
     "name": "stdout",
     "output_type": "stream",
     "text": [
      "Train on 50072 samples, validate on 12518 samples\n",
      "Epoch 1/500\n",
      " - 764s - loss: 16.0194 - acc: 0.0055 - top_3_accuracy: 0.8176 - categorical_crossentropy: 16.0194 - val_loss: 16.0322 - val_acc: 0.0050 - val_top_3_accuracy: 0.9819 - val_categorical_crossentropy: 16.0322\n",
      "Epoch 2/500\n",
      " - 795s - loss: 14.4218 - acc: 0.0053 - top_3_accuracy: 0.7370 - categorical_crossentropy: 14.4218 - val_loss: 5.8255 - val_acc: 0.0038 - val_top_3_accuracy: 0.0121 - val_categorical_crossentropy: 5.8255\n",
      "Epoch 3/500\n",
      " - 764s - loss: 5.7782 - acc: 0.0062 - top_3_accuracy: 0.0168 - categorical_crossentropy: 5.7782 - val_loss: 5.7172 - val_acc: 0.0105 - val_top_3_accuracy: 0.0256 - val_categorical_crossentropy: 5.7172\n",
      "Epoch 4/500\n",
      " - 773s - loss: 5.6391 - acc: 0.0141 - top_3_accuracy: 0.0353 - categorical_crossentropy: 5.6391 - val_loss: 5.5485 - val_acc: 0.0171 - val_top_3_accuracy: 0.0429 - val_categorical_crossentropy: 5.5485\n",
      "Epoch 5/500\n",
      " - 797s - loss: 5.4464 - acc: 0.0229 - top_3_accuracy: 0.0553 - categorical_crossentropy: 5.4464 - val_loss: 5.3180 - val_acc: 0.0367 - val_top_3_accuracy: 0.0776 - val_categorical_crossentropy: 5.3180\n",
      "Epoch 6/500\n",
      " - 779s - loss: 5.2218 - acc: 0.0382 - top_3_accuracy: 0.0863 - categorical_crossentropy: 5.2218 - val_loss: 5.0885 - val_acc: 0.0470 - val_top_3_accuracy: 0.1066 - val_categorical_crossentropy: 5.0885\n",
      "Epoch 7/500\n",
      " - 805s - loss: 5.0026 - acc: 0.0486 - top_3_accuracy: 0.1093 - categorical_crossentropy: 5.0026 - val_loss: 4.9198 - val_acc: 0.0602 - val_top_3_accuracy: 0.1293 - val_categorical_crossentropy: 4.9198\n",
      "Epoch 8/500\n",
      " - 755s - loss: 4.8488 - acc: 0.0593 - top_3_accuracy: 0.1317 - categorical_crossentropy: 4.8488 - val_loss: 4.7938 - val_acc: 0.0696 - val_top_3_accuracy: 0.1521 - val_categorical_crossentropy: 4.7938\n",
      "Epoch 9/500\n",
      " - 777s - loss: 4.7207 - acc: 0.0725 - top_3_accuracy: 0.1535 - categorical_crossentropy: 4.7207 - val_loss: 4.6462 - val_acc: 0.0852 - val_top_3_accuracy: 0.1769 - val_categorical_crossentropy: 4.6462\n",
      "Epoch 10/500\n",
      " - 754s - loss: 4.5882 - acc: 0.0812 - top_3_accuracy: 0.1735 - categorical_crossentropy: 4.5882 - val_loss: 4.5059 - val_acc: 0.0967 - val_top_3_accuracy: 0.1974 - val_categorical_crossentropy: 4.5059\n",
      "Epoch 11/500\n",
      " - 757s - loss: 4.4695 - acc: 0.0958 - top_3_accuracy: 0.1952 - categorical_crossentropy: 4.4695 - val_loss: 4.4265 - val_acc: 0.1076 - val_top_3_accuracy: 0.2155 - val_categorical_crossentropy: 4.4265\n",
      "Epoch 12/500\n",
      " - 778s - loss: 4.3227 - acc: 0.1087 - top_3_accuracy: 0.2228 - categorical_crossentropy: 4.3227 - val_loss: 4.3515 - val_acc: 0.1173 - val_top_3_accuracy: 0.2299 - val_categorical_crossentropy: 4.3515\n",
      "Epoch 13/500\n",
      " - 750s - loss: 4.1974 - acc: 0.1242 - top_3_accuracy: 0.2452 - categorical_crossentropy: 4.1974 - val_loss: 4.2081 - val_acc: 0.1368 - val_top_3_accuracy: 0.2606 - val_categorical_crossentropy: 4.2081\n",
      "Epoch 14/500\n",
      " - 763s - loss: 4.0727 - acc: 0.1384 - top_3_accuracy: 0.2705 - categorical_crossentropy: 4.0727 - val_loss: 4.0891 - val_acc: 0.1513 - val_top_3_accuracy: 0.2851 - val_categorical_crossentropy: 4.0891\n",
      "Epoch 15/500\n",
      " - 756s - loss: 3.9606 - acc: 0.1526 - top_3_accuracy: 0.2928 - categorical_crossentropy: 3.9606 - val_loss: 4.0334 - val_acc: 0.1569 - val_top_3_accuracy: 0.2882 - val_categorical_crossentropy: 4.0334\n",
      "Epoch 16/500\n",
      " - 757s - loss: 3.8552 - acc: 0.1662 - top_3_accuracy: 0.3153 - categorical_crossentropy: 3.8552 - val_loss: 3.9197 - val_acc: 0.1757 - val_top_3_accuracy: 0.3191 - val_categorical_crossentropy: 3.9197\n",
      "Epoch 17/500\n",
      " - 770s - loss: 3.7428 - acc: 0.1829 - top_3_accuracy: 0.3391 - categorical_crossentropy: 3.7428 - val_loss: 3.8716 - val_acc: 0.1759 - val_top_3_accuracy: 0.3282 - val_categorical_crossentropy: 3.8716\n",
      "Epoch 18/500\n",
      " - 750s - loss: 3.6382 - acc: 0.1938 - top_3_accuracy: 0.3555 - categorical_crossentropy: 3.6382 - val_loss: 3.8875 - val_acc: 0.1769 - val_top_3_accuracy: 0.3235 - val_categorical_crossentropy: 3.8875\n",
      "Epoch 19/500\n",
      " - 762s - loss: 3.5607 - acc: 0.2087 - top_3_accuracy: 0.3741 - categorical_crossentropy: 3.5607 - val_loss: 3.7486 - val_acc: 0.1960 - val_top_3_accuracy: 0.3535 - val_categorical_crossentropy: 3.7486\n",
      "Epoch 20/500\n",
      " - 754s - loss: 3.4578 - acc: 0.2217 - top_3_accuracy: 0.3946 - categorical_crossentropy: 3.4578 - val_loss: 3.7672 - val_acc: 0.1948 - val_top_3_accuracy: 0.3509 - val_categorical_crossentropy: 3.7672\n",
      "Epoch 21/500\n",
      " - 772s - loss: 3.3761 - acc: 0.2326 - top_3_accuracy: 0.4103 - categorical_crossentropy: 3.3761 - val_loss: 3.6961 - val_acc: 0.2043 - val_top_3_accuracy: 0.3645 - val_categorical_crossentropy: 3.6961\n",
      "Epoch 22/500\n",
      " - 755s - loss: 3.2860 - acc: 0.2480 - top_3_accuracy: 0.4321 - categorical_crossentropy: 3.2860 - val_loss: 3.6968 - val_acc: 0.2011 - val_top_3_accuracy: 0.3653 - val_categorical_crossentropy: 3.6968\n",
      "Epoch 23/500\n",
      " - 758s - loss: 3.2029 - acc: 0.2589 - top_3_accuracy: 0.4477 - categorical_crossentropy: 3.2029 - val_loss: 3.6238 - val_acc: 0.2149 - val_top_3_accuracy: 0.3808 - val_categorical_crossentropy: 3.6238\n",
      "Epoch 24/500\n",
      " - 776s - loss: 3.1163 - acc: 0.2741 - top_3_accuracy: 0.4634 - categorical_crossentropy: 3.1163 - val_loss: 3.6280 - val_acc: 0.2166 - val_top_3_accuracy: 0.3811 - val_categorical_crossentropy: 3.6280\n",
      "Epoch 25/500\n",
      " - 754s - loss: 3.0514 - acc: 0.2836 - top_3_accuracy: 0.4765 - categorical_crossentropy: 3.0514 - val_loss: 3.6150 - val_acc: 0.2226 - val_top_3_accuracy: 0.3894 - val_categorical_crossentropy: 3.6150\n",
      "Epoch 26/500\n",
      " - 764s - loss: 2.9950 - acc: 0.2944 - top_3_accuracy: 0.4907 - categorical_crossentropy: 2.9950 - val_loss: 3.5553 - val_acc: 0.2257 - val_top_3_accuracy: 0.3996 - val_categorical_crossentropy: 3.5553\n",
      "Epoch 27/500\n",
      " - 751s - loss: 2.9228 - acc: 0.3025 - top_3_accuracy: 0.5025 - categorical_crossentropy: 2.9228 - val_loss: 3.5818 - val_acc: 0.2247 - val_top_3_accuracy: 0.3961 - val_categorical_crossentropy: 3.5818\n",
      "Epoch 28/500\n",
      " - 771s - loss: 2.8440 - acc: 0.3173 - top_3_accuracy: 0.5184 - categorical_crossentropy: 2.8440 - val_loss: 3.5548 - val_acc: 0.2293 - val_top_3_accuracy: 0.4057 - val_categorical_crossentropy: 3.5548\n",
      "Epoch 29/500\n",
      " - 854s - loss: 2.7825 - acc: 0.3283 - top_3_accuracy: 0.5316 - categorical_crossentropy: 2.7825 - val_loss: 3.5653 - val_acc: 0.2313 - val_top_3_accuracy: 0.4045 - val_categorical_crossentropy: 3.5653\n",
      "Epoch 30/500\n",
      " - 937s - loss: 2.7346 - acc: 0.3367 - top_3_accuracy: 0.5427 - categorical_crossentropy: 2.7346 - val_loss: 3.5621 - val_acc: 0.2345 - val_top_3_accuracy: 0.4120 - val_categorical_crossentropy: 3.5621\n",
      "Epoch 31/500\n",
      " - 1011s - loss: 2.6680 - acc: 0.3484 - top_3_accuracy: 0.5558 - categorical_crossentropy: 2.6680 - val_loss: 3.5725 - val_acc: 0.2301 - val_top_3_accuracy: 0.4093 - val_categorical_crossentropy: 3.5725\n",
      "Epoch 32/500\n",
      " - 915s - loss: 2.5927 - acc: 0.3618 - top_3_accuracy: 0.5727 - categorical_crossentropy: 2.5927 - val_loss: 3.6116 - val_acc: 0.2297 - val_top_3_accuracy: 0.4061 - val_categorical_crossentropy: 3.6116\n",
      "Epoch 33/500\n",
      " - 1043s - loss: 2.5699 - acc: 0.3660 - top_3_accuracy: 0.5753 - categorical_crossentropy: 2.5699 - val_loss: 3.6103 - val_acc: 0.2396 - val_top_3_accuracy: 0.4148 - val_categorical_crossentropy: 3.6103\n",
      "Epoch 34/500\n"
     ]
    },
    {
     "ename": "KeyboardInterrupt",
     "evalue": "",
     "output_type": "error",
     "traceback": [
      "\u001b[0;31m---------------------------------------------------------------------------\u001b[0m",
      "\u001b[0;31mKeyboardInterrupt\u001b[0m                         Traceback (most recent call last)",
      "\u001b[0;32m<ipython-input-369-5dec8ef3db75>\u001b[0m in \u001b[0;36m<module>\u001b[0;34m()\u001b[0m\n\u001b[1;32m      1\u001b[0m model.fit(X_train, y_train, \n\u001b[1;32m      2\u001b[0m           \u001b[0mvalidation_data\u001b[0m\u001b[0;34m=\u001b[0m\u001b[0;34m(\u001b[0m\u001b[0mX_test\u001b[0m\u001b[0;34m,\u001b[0m \u001b[0my_test\u001b[0m\u001b[0;34m)\u001b[0m\u001b[0;34m,\u001b[0m\u001b[0;34m\u001b[0m\u001b[0m\n\u001b[0;32m----> 3\u001b[0;31m           epochs=500, batch_size=1000, verbose=2)\n\u001b[0m\u001b[1;32m      4\u001b[0m \u001b[0mscores\u001b[0m \u001b[0;34m=\u001b[0m \u001b[0mmodel\u001b[0m\u001b[0;34m.\u001b[0m\u001b[0mevaluate\u001b[0m\u001b[0;34m(\u001b[0m\u001b[0mX_test\u001b[0m\u001b[0;34m,\u001b[0m \u001b[0my_test\u001b[0m\u001b[0;34m,\u001b[0m \u001b[0mverbose\u001b[0m\u001b[0;34m=\u001b[0m\u001b[0;36m0\u001b[0m\u001b[0;34m)\u001b[0m\u001b[0;34m\u001b[0m\u001b[0m\n\u001b[1;32m      5\u001b[0m \u001b[0;32mprint\u001b[0m\u001b[0;34m(\u001b[0m\u001b[0;34m\"CNN Error: %.2f%%\"\u001b[0m \u001b[0;34m%\u001b[0m \u001b[0;34m(\u001b[0m\u001b[0;36m100\u001b[0m\u001b[0;34m-\u001b[0m\u001b[0mscores\u001b[0m\u001b[0;34m[\u001b[0m\u001b[0;36m1\u001b[0m\u001b[0;34m]\u001b[0m\u001b[0;34m*\u001b[0m\u001b[0;36m100\u001b[0m\u001b[0;34m)\u001b[0m\u001b[0;34m)\u001b[0m\u001b[0;34m\u001b[0m\u001b[0m\n",
      "\u001b[0;32m/usr/local/lib/python2.7/site-packages/keras/engine/training.pyc\u001b[0m in \u001b[0;36mfit\u001b[0;34m(self, x, y, batch_size, epochs, verbose, callbacks, validation_split, validation_data, shuffle, class_weight, sample_weight, initial_epoch, steps_per_epoch, validation_steps, **kwargs)\u001b[0m\n\u001b[1;32m   1037\u001b[0m                                         \u001b[0minitial_epoch\u001b[0m\u001b[0;34m=\u001b[0m\u001b[0minitial_epoch\u001b[0m\u001b[0;34m,\u001b[0m\u001b[0;34m\u001b[0m\u001b[0m\n\u001b[1;32m   1038\u001b[0m                                         \u001b[0msteps_per_epoch\u001b[0m\u001b[0;34m=\u001b[0m\u001b[0msteps_per_epoch\u001b[0m\u001b[0;34m,\u001b[0m\u001b[0;34m\u001b[0m\u001b[0m\n\u001b[0;32m-> 1039\u001b[0;31m                                         validation_steps=validation_steps)\n\u001b[0m\u001b[1;32m   1040\u001b[0m \u001b[0;34m\u001b[0m\u001b[0m\n\u001b[1;32m   1041\u001b[0m     def evaluate(self, x=None, y=None,\n",
      "\u001b[0;32m/usr/local/lib/python2.7/site-packages/keras/engine/training_arrays.pyc\u001b[0m in \u001b[0;36mfit_loop\u001b[0;34m(model, f, ins, out_labels, batch_size, epochs, verbose, callbacks, val_f, val_ins, shuffle, callback_metrics, initial_epoch, steps_per_epoch, validation_steps)\u001b[0m\n\u001b[1;32m    197\u001b[0m                     \u001b[0mins_batch\u001b[0m\u001b[0;34m[\u001b[0m\u001b[0mi\u001b[0m\u001b[0;34m]\u001b[0m \u001b[0;34m=\u001b[0m \u001b[0mins_batch\u001b[0m\u001b[0;34m[\u001b[0m\u001b[0mi\u001b[0m\u001b[0;34m]\u001b[0m\u001b[0;34m.\u001b[0m\u001b[0mtoarray\u001b[0m\u001b[0;34m(\u001b[0m\u001b[0;34m)\u001b[0m\u001b[0;34m\u001b[0m\u001b[0m\n\u001b[1;32m    198\u001b[0m \u001b[0;34m\u001b[0m\u001b[0m\n\u001b[0;32m--> 199\u001b[0;31m                 \u001b[0mouts\u001b[0m \u001b[0;34m=\u001b[0m \u001b[0mf\u001b[0m\u001b[0;34m(\u001b[0m\u001b[0mins_batch\u001b[0m\u001b[0;34m)\u001b[0m\u001b[0;34m\u001b[0m\u001b[0m\n\u001b[0m\u001b[1;32m    200\u001b[0m                 \u001b[0mouts\u001b[0m \u001b[0;34m=\u001b[0m \u001b[0mto_list\u001b[0m\u001b[0;34m(\u001b[0m\u001b[0mouts\u001b[0m\u001b[0;34m)\u001b[0m\u001b[0;34m\u001b[0m\u001b[0m\n\u001b[1;32m    201\u001b[0m                 \u001b[0;32mfor\u001b[0m \u001b[0ml\u001b[0m\u001b[0;34m,\u001b[0m \u001b[0mo\u001b[0m \u001b[0;32min\u001b[0m \u001b[0mzip\u001b[0m\u001b[0;34m(\u001b[0m\u001b[0mout_labels\u001b[0m\u001b[0;34m,\u001b[0m \u001b[0mouts\u001b[0m\u001b[0;34m)\u001b[0m\u001b[0;34m:\u001b[0m\u001b[0;34m\u001b[0m\u001b[0m\n",
      "\u001b[0;32m/usr/local/lib/python2.7/site-packages/keras/backend/tensorflow_backend.pyc\u001b[0m in \u001b[0;36m__call__\u001b[0;34m(self, inputs)\u001b[0m\n\u001b[1;32m   2713\u001b[0m                 \u001b[0;32mreturn\u001b[0m \u001b[0mself\u001b[0m\u001b[0;34m.\u001b[0m\u001b[0m_legacy_call\u001b[0m\u001b[0;34m(\u001b[0m\u001b[0minputs\u001b[0m\u001b[0;34m)\u001b[0m\u001b[0;34m\u001b[0m\u001b[0m\n\u001b[1;32m   2714\u001b[0m \u001b[0;34m\u001b[0m\u001b[0m\n\u001b[0;32m-> 2715\u001b[0;31m             \u001b[0;32mreturn\u001b[0m \u001b[0mself\u001b[0m\u001b[0;34m.\u001b[0m\u001b[0m_call\u001b[0m\u001b[0;34m(\u001b[0m\u001b[0minputs\u001b[0m\u001b[0;34m)\u001b[0m\u001b[0;34m\u001b[0m\u001b[0m\n\u001b[0m\u001b[1;32m   2716\u001b[0m         \u001b[0;32melse\u001b[0m\u001b[0;34m:\u001b[0m\u001b[0;34m\u001b[0m\u001b[0m\n\u001b[1;32m   2717\u001b[0m             \u001b[0;32mif\u001b[0m \u001b[0mpy_any\u001b[0m\u001b[0;34m(\u001b[0m\u001b[0mis_tensor\u001b[0m\u001b[0;34m(\u001b[0m\u001b[0mx\u001b[0m\u001b[0;34m)\u001b[0m \u001b[0;32mfor\u001b[0m \u001b[0mx\u001b[0m \u001b[0;32min\u001b[0m \u001b[0minputs\u001b[0m\u001b[0;34m)\u001b[0m\u001b[0;34m:\u001b[0m\u001b[0;34m\u001b[0m\u001b[0m\n",
      "\u001b[0;32m/usr/local/lib/python2.7/site-packages/keras/backend/tensorflow_backend.pyc\u001b[0m in \u001b[0;36m_call\u001b[0;34m(self, inputs)\u001b[0m\n\u001b[1;32m   2673\u001b[0m             \u001b[0mfetched\u001b[0m \u001b[0;34m=\u001b[0m \u001b[0mself\u001b[0m\u001b[0;34m.\u001b[0m\u001b[0m_callable_fn\u001b[0m\u001b[0;34m(\u001b[0m\u001b[0;34m*\u001b[0m\u001b[0marray_vals\u001b[0m\u001b[0;34m,\u001b[0m \u001b[0mrun_metadata\u001b[0m\u001b[0;34m=\u001b[0m\u001b[0mself\u001b[0m\u001b[0;34m.\u001b[0m\u001b[0mrun_metadata\u001b[0m\u001b[0;34m)\u001b[0m\u001b[0;34m\u001b[0m\u001b[0m\n\u001b[1;32m   2674\u001b[0m         \u001b[0;32melse\u001b[0m\u001b[0;34m:\u001b[0m\u001b[0;34m\u001b[0m\u001b[0m\n\u001b[0;32m-> 2675\u001b[0;31m             \u001b[0mfetched\u001b[0m \u001b[0;34m=\u001b[0m \u001b[0mself\u001b[0m\u001b[0;34m.\u001b[0m\u001b[0m_callable_fn\u001b[0m\u001b[0;34m(\u001b[0m\u001b[0;34m*\u001b[0m\u001b[0marray_vals\u001b[0m\u001b[0;34m)\u001b[0m\u001b[0;34m\u001b[0m\u001b[0m\n\u001b[0m\u001b[1;32m   2676\u001b[0m         \u001b[0;32mreturn\u001b[0m \u001b[0mfetched\u001b[0m\u001b[0;34m[\u001b[0m\u001b[0;34m:\u001b[0m\u001b[0mlen\u001b[0m\u001b[0;34m(\u001b[0m\u001b[0mself\u001b[0m\u001b[0;34m.\u001b[0m\u001b[0moutputs\u001b[0m\u001b[0;34m)\u001b[0m\u001b[0;34m]\u001b[0m\u001b[0;34m\u001b[0m\u001b[0m\n\u001b[1;32m   2677\u001b[0m \u001b[0;34m\u001b[0m\u001b[0m\n",
      "\u001b[0;32m/usr/local/lib/python2.7/site-packages/tensorflow/python/client/session.pyc\u001b[0m in \u001b[0;36m__call__\u001b[0;34m(self, *args, **kwargs)\u001b[0m\n\u001b[1;32m   1397\u001b[0m           ret = tf_session.TF_SessionRunCallable(\n\u001b[1;32m   1398\u001b[0m               \u001b[0mself\u001b[0m\u001b[0;34m.\u001b[0m\u001b[0m_session\u001b[0m\u001b[0;34m.\u001b[0m\u001b[0m_session\u001b[0m\u001b[0;34m,\u001b[0m \u001b[0mself\u001b[0m\u001b[0;34m.\u001b[0m\u001b[0m_handle\u001b[0m\u001b[0;34m,\u001b[0m \u001b[0margs\u001b[0m\u001b[0;34m,\u001b[0m \u001b[0mstatus\u001b[0m\u001b[0;34m,\u001b[0m\u001b[0;34m\u001b[0m\u001b[0m\n\u001b[0;32m-> 1399\u001b[0;31m               run_metadata_ptr)\n\u001b[0m\u001b[1;32m   1400\u001b[0m         \u001b[0;32mif\u001b[0m \u001b[0mrun_metadata\u001b[0m\u001b[0;34m:\u001b[0m\u001b[0;34m\u001b[0m\u001b[0m\n\u001b[1;32m   1401\u001b[0m           \u001b[0mproto_data\u001b[0m \u001b[0;34m=\u001b[0m \u001b[0mtf_session\u001b[0m\u001b[0;34m.\u001b[0m\u001b[0mTF_GetBuffer\u001b[0m\u001b[0;34m(\u001b[0m\u001b[0mrun_metadata_ptr\u001b[0m\u001b[0;34m)\u001b[0m\u001b[0;34m\u001b[0m\u001b[0m\n",
      "\u001b[0;31mKeyboardInterrupt\u001b[0m: "
     ]
    }
   ],
   "source": [
    "model.fit(X_train, y_train, \n",
    "          validation_data=(X_test, y_test),\n",
    "          epochs=500, batch_size=1000, verbose=2)\n",
    "scores = model.evaluate(X_test, y_test, verbose=0)\n",
    "print(\"CNN Error: %.2f%%\" % (100-scores[1]*100))"
   ]
  },
  {
   "cell_type": "code",
   "execution_count": null,
   "metadata": {},
   "outputs": [],
   "source": [
    "model.fit(X_train, y_train, \n",
    "          validation_data=(X_test, y_test),\n",
    "          epochs=500, batch_size=1000, verbose=2)\n",
    "scores = model.evaluate(X_test, y_test, verbose=0)\n",
    "print(\"CNN Error: %.2f%%\" % (100-scores[1]*100))"
   ]
  },
  {
   "cell_type": "code",
   "execution_count": null,
   "metadata": {},
   "outputs": [],
   "source": []
  },
  {
   "cell_type": "code",
   "execution_count": null,
   "metadata": {},
   "outputs": [],
   "source": []
  },
  {
   "cell_type": "code",
   "execution_count": 131,
   "metadata": {},
   "outputs": [
    {
     "data": {
      "text/plain": [
       "(27200, 50, 50, 1)"
      ]
     },
     "execution_count": 131,
     "metadata": {},
     "output_type": "execute_result"
    }
   ],
   "source": [
    "# X_train.shape"
   ]
  },
  {
   "cell_type": "code",
   "execution_count": null,
   "metadata": {},
   "outputs": [],
   "source": []
  }
 ],
 "metadata": {
  "kernelspec": {
   "display_name": "Python 2",
   "language": "python",
   "name": "python2"
  },
  "language_info": {
   "codemirror_mode": {
    "name": "ipython",
    "version": 2
   },
   "file_extension": ".py",
   "mimetype": "text/x-python",
   "name": "python",
   "nbconvert_exporter": "python",
   "pygments_lexer": "ipython2",
   "version": "2.7.15"
  }
 },
 "nbformat": 4,
 "nbformat_minor": 2
}
