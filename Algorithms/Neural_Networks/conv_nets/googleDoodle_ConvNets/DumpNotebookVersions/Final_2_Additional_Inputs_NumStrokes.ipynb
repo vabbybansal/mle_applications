{
 "cells": [
  {
   "cell_type": "code",
   "execution_count": 3,
   "metadata": {},
   "outputs": [
    {
     "name": "stderr",
     "output_type": "stream",
     "text": [
      "Using TensorFlow backend.\n"
     ]
    },
    {
     "data": {
      "text/html": [
       "<style>.container { width:100% !important; }</style>"
      ],
      "text/plain": [
       "<IPython.core.display.HTML object>"
      ]
     },
     "metadata": {},
     "output_type": "display_data"
    }
   ],
   "source": [
    "import random\n",
    "import os\n",
    "import re\n",
    "from glob import glob\n",
    "from tqdm import tqdm\n",
    "import numpy as np\n",
    "\n",
    "import pandas as pd\n",
    "import ast\n",
    "import matplotlib.pyplot as plt\n",
    "%matplotlib inline\n",
    "import numpy as np\n",
    "from PIL import Image, ImageDraw, _imaging\n",
    "from __future__ import print_function\n",
    "import keras\n",
    "from keras.datasets import mnist\n",
    "from keras.models import Sequential\n",
    "from keras.layers import Input, Dense, Dropout, Flatten, Activation, Embedding\n",
    "from keras.layers import Conv2D, MaxPooling2D\n",
    "from keras.layers.merge import concatenate\n",
    "from keras.utils import plot_model\n",
    "from keras.models import Model\n",
    "from keras import backend as K\n",
    "from keras import metrics\n",
    "from IPython.core.display import display, HTML\n",
    "display(HTML(\"<style>.container { width:100% !important; }</style>\"))\n",
    "from sklearn.model_selection import train_test_split\n",
    "import tensorflow as tf\n",
    "from datetime import datetime\n",
    "from keras.callbacks import History, ModelCheckpoint\n",
    "history = History()\n",
    "from keras.models import model_from_json\n",
    "import graphviz"
   ]
  },
  {
   "cell_type": "code",
   "execution_count": 4,
   "metadata": {},
   "outputs": [],
   "source": [
    "def showSampleImgs():\n",
    "    n_samp = 3\n",
    "    train_df_sample = train_df.sample(n_samp)\n",
    "    plt.figure(figsize=(4,4))\n",
    "    for i in range(n_samp):\n",
    "        draw = train_df_sample.iloc[i]['drawing']\n",
    "        label = train_df_sample.iloc[i]['word']\n",
    "        plt.subplot(n_samp,1,i+1)\n",
    "        for stroke in draw:\n",
    "            plt.plot(stroke[0], stroke[1], marker='.', color='black')\n",
    "            plt.title(label)\n",
    "            plt.axis('off')\n",
    "    plt.show()    \n",
    "    \n",
    "# Show an image from the dataframe\n",
    "def showImgFromDf(df, index):\n",
    "    # Show an image\n",
    "    plt.imshow(df.iloc[index]['img'],cmap='gray')\n",
    "    plt.title(df.iloc[index]['word'])\n",
    "    plt.show()\n",
    "    \n",
    "def top_3_accuracy(y_true, y_pred):\n",
    "    return metrics.top_k_categorical_accuracy(y_true, y_pred, k=3)\n",
    "\n",
    "\n",
    "# def baseline_conv_model(num_filters, num_classes, img_height, img_width):\n",
    "#     model = Sequential()\n",
    "#     model.add(Conv2D(num_filters*1, (5,5), input_shape=(img_height,img_width,1), activation='relu')) \n",
    "#     model.add(MaxPooling2D(pool_size=(2,2)))\n",
    "#     model.add(Dropout(0.2))\n",
    "#     model.add(Conv2D(num_filters*2, (5,5), activation='relu')) \n",
    "#     model.add(MaxPooling2D(pool_size=(2,2)))\n",
    "#     model.add(Dropout(0.2))\n",
    "#     model.add(Conv2D(num_filters*4, (3,3), activation='relu')) \n",
    "# #     model.add(MaxPooling2D(pool_size=(2,2)))\n",
    "# #     model.add(Conv2D(num_filters*8, (3,3), activation='relu')) \n",
    "#     model.add(Dropout(0.2))\n",
    "#     model.add(Flatten())\n",
    "# #     model.add(Dense(2500, activation='relu'))\n",
    "# #     model.add(Dropout(0.2))\n",
    "#     model.add(Dense(2000, activation='relu'))\n",
    "#     model.add(Dropout(0.2))\n",
    "#     model.add(Dense(1500, activation='relu'))\n",
    "#     model.add(Dropout(0.2))\n",
    "#     model.add(Dense(1000, activation='relu'))\n",
    "#     model.add(Dropout(0.2))\n",
    "#     # model.add(Dense(num_classes, activation='softmax'))\n",
    "#     # model.add(Activation('softmax'))\n",
    "#     model.add(Dense(units=num_classes))\n",
    "#     model.add(Activation(tf.nn.softmax))\n",
    "\n",
    "#     # Compile\n",
    "#     model.compile(loss='categorical_crossentropy', optimizer='adam', metrics=['accuracy', top_3_accuracy, 'categorical_crossentropy'])\n",
    "#     return model\n",
    "\n",
    "def baseline_conv_model_functional_API(num_filters, num_classes, img_height, img_width):\n",
    "    # Input Layer\n",
    "    inputLayerImg = Input(shape=(img_height,img_width,1))\n",
    "    \n",
    "    conv1 = Conv2D(num_filters*1, (5,5), activation='relu')(inputLayerImg)\n",
    "    pool1 = MaxPooling2D(pool_size=(2,2))(conv1)\n",
    "    dropout1 = Dropout(0.2)(pool1)\n",
    "    \n",
    "    conv2 = Conv2D(num_filters*2, (5,5), activation='relu')(dropout1)\n",
    "    pool2 = MaxPooling2D(pool_size=(2,2))(conv2)\n",
    "    dropout2 = Dropout(0.2)(pool2)\n",
    "    \n",
    "    conv3 = Conv2D(num_filters*4, (3,3), activation='relu')(dropout2)\n",
    "    dropout3 = Dropout(0.2)(conv3)\n",
    "    \n",
    "    flat = Flatten()(dropout3)\n",
    "    \n",
    "    # Add the other scalar inputs as another data stream\n",
    "    # Continuous variables\n",
    "    inputLayerScalars = Input(shape=(1,))\n",
    "        \n",
    "    # Merge the CNN flat layer and the other input layer\n",
    "    mergedInput = concatenate([flat, inputLayerScalars])\n",
    "    \n",
    "    dense1 = Dense(2000, activation='relu')(mergedInput)\n",
    "    drop_dense1 = Dropout(0.2)(dense1)\n",
    "    \n",
    "    dense2 = Dense(1500, activation='relu')(drop_dense1)\n",
    "    drop_dense2 = Dropout(0.2)(dense2)\n",
    "    \n",
    "    dense3 = Dense(1000, activation='relu')(drop_dense2)\n",
    "    drop_dense3 = Dropout(0.2)(dense3)\n",
    "    \n",
    "    outputLayer = Dense(num_classes, activation=tf.nn.softmax)(drop_dense3)\n",
    "    \n",
    "    model = Model(inputs=[inputLayerImg, inputLayerScalars], outputs=outputLayer)\n",
    "    \n",
    "    model.compile(loss='categorical_crossentropy', optimizer='adam', metrics=['accuracy', top_3_accuracy, 'categorical_crossentropy'])\n",
    "    return model\n"
   ]
  },
  {
   "cell_type": "code",
   "execution_count": null,
   "metadata": {},
   "outputs": [],
   "source": []
  },
  {
   "cell_type": "code",
   "execution_count": null,
   "metadata": {},
   "outputs": [],
   "source": []
  },
  {
   "cell_type": "code",
   "execution_count": 5,
   "metadata": {},
   "outputs": [],
   "source": [
    "random.seed(111)\n",
    "\n",
    "# Generate class mappings\n",
    "fnames = glob('train_simplified/*.csv')\n",
    "tempDf = pd.DataFrame(columns=pd.read_csv(fnames[0], nrows=1).columns)\n",
    "\n",
    "for name in fnames:\n",
    "    data = pd.read_csv(name, nrows=2)\n",
    "    tempDf = tempDf.append(data)\n",
    "    \n",
    "ys = tempDf['word']\n",
    "    \n",
    "# Convert class labels from categorical to numerical\n",
    "unique_classes_list = ys.unique()\n",
    "map_class_to_numeric = {k: v for v, k in enumerate(unique_classes_list)}\n",
    "map_numeric_to_class = {v: k for k, v in map_class_to_numeric.iteritems()}\n",
    "\n",
    "countryList = '''['BD','BE','BF','BG','BA','NotAvlbl','BM','BN','BO','JP','BI','BJ','BT','JM','JO','WS','BR','CR','JE','BY','BZ','RU','RW','BB','RS','TL','RE','TM','LR','RO','GU','GT','GR','GP','BH','GY','GG','GF','GE','GD','GB','GA','GN','GM','GL','GI','GH','OM','TN','BU','BW','HR','BS','HT','HU','HK','HN','AD','PR','PS','PW','PT','KN','PY','AI','PA','PF','PG','PE','PK','PH','PL','PM','ZM','EE','EG','ZA','EC','AL','AO','ZZ','ET','ZW','KY','ES','ME','MD','MG','MF','MA','MC','UZ','MM','ML','MO','MN','MH','US','MU','MT','MW','MV','MQ','MP','MS','MR','IM','UG','TZ','MY','MX','IL','FR','SJ','FI','FJ','FM','FO','NI','NL','NO','SO','VU','NC','NF','NG','NZ','NP','CI','CH','CO','CN','CM','CL','CA','CG','CF','OTHER','CD','CZ','CY','CX','UY','CW','CV','SZ','SX','KG','KE','SS','SR','KH','SV','ST','SK','KR','SI','KW','SN','SM','SC','KZ','SA','SG','SE','DO','DM','DJ','DK','VG','DE','YE','DZ','MK','YT','LB','LC','LA','TW','TT','TR','LK','LI','LV','TO','LT','LU','TJ','LS','TH','TG','TC','LY','VC','AE','VE','AG','AF','IQ','VI','IS','IR','AM','IT','VN','AN','AS','AR','AU','AT','AW','IN','AX','AZ','IE','ID','UA','QA','MZ']'''\n",
    "countryList = eval(countryList)"
   ]
  },
  {
   "cell_type": "code",
   "execution_count": 6,
   "metadata": {
    "scrolled": false
   },
   "outputs": [],
   "source": [
    "countryIntMap = {value: int_value+1 for int_value, value in enumerate(countryList)}\n",
    "# for x,y in enumerate(countryList): \n",
    "#     print(y)"
   ]
  },
  {
   "cell_type": "code",
   "execution_count": 7,
   "metadata": {},
   "outputs": [],
   "source": [
    "# np.array(data['countrycode'].map(countryIntMap)).astype('int32')"
   ]
  },
  {
   "cell_type": "code",
   "execution_count": null,
   "metadata": {},
   "outputs": [],
   "source": [
    "############################### GET NEW FEATURES"
   ]
  },
  {
   "cell_type": "code",
   "execution_count": 8,
   "metadata": {},
   "outputs": [],
   "source": [
    "# model = baseline_conv_model_functional_API(numStartFilters, numClasses, img_height, img_width)\n",
    "# from IPython.display import SVG\n",
    "# from keras.utils.vis_utils import model_to_dot\n",
    "\n",
    "# SVG(model_to_dot(model).create(prog='dot', format='svg'))"
   ]
  },
  {
   "cell_type": "code",
   "execution_count": 124,
   "metadata": {},
   "outputs": [],
   "source": [
    "# model.summary()"
   ]
  },
  {
   "cell_type": "code",
   "execution_count": null,
   "metadata": {},
   "outputs": [],
   "source": []
  },
  {
   "cell_type": "code",
   "execution_count": null,
   "metadata": {},
   "outputs": [],
   "source": [
    "############################### GET NEW FEATURES"
   ]
  },
  {
   "cell_type": "code",
   "execution_count": 9,
   "metadata": {},
   "outputs": [],
   "source": [
    "def draw_it(raw_strokes, output_height, output_width):\n",
    "#     raw_strokes = eval(raw_strokes)\n",
    "    image = Image.new(\"P\", (255,255)\n",
    "#                       , color=1\n",
    "            )\n",
    "    image_draw = ImageDraw.Draw(image)\n",
    "\n",
    "    for stroke in raw_strokes:\n",
    "        for i in range(len(stroke[0])-1):\n",
    "\n",
    "            image_draw.line([stroke[0][i], \n",
    "                             stroke[1][i],\n",
    "                             stroke[0][i+1], \n",
    "                             stroke[1][i+1]],\n",
    "                            fill=255, width=6)\n",
    "    # Reduce image size\n",
    "    image = image.resize((output_height,output_width),Image.ANTIALIAS)\n",
    "    \n",
    "    return np.array(image)\n",
    "\n",
    "\n",
    "class DataGenerator(keras.utils.Sequence):\n",
    "    def __init__(self, num_samples_to_train, batch_size, trainGeneratorDataOffsetPerClass, img_width, img_height):\n",
    "        self.batch_size = batch_size\n",
    "        self.num_samples_to_train = num_samples_to_train\n",
    "        self.img_width = img_width\n",
    "        self.img_height = img_height\n",
    "        self.trainGeneratorDataOffsetPerClass = trainGeneratorDataOffsetPerClass\n",
    "    \n",
    "    def __len__(self):\n",
    "        return np.ceil(self.num_samples_to_train / float(self.batch_size))\n",
    "    \n",
    "    def __getitem__(self, idx):\n",
    "        \n",
    "        numRowsEachDf = int(self.batch_size / float(numClasses))\n",
    "        skipRows = (idx * numRowsEachDf) + self.trainGeneratorDataOffsetPerClass\n",
    "        img_height = self.img_height \n",
    "        img_width = self.img_width\n",
    "        \n",
    "        X, y = DataGenerator._getNextData(numRowsEachDf, skipRows, img_height, img_width)\n",
    "        \n",
    "        return X, y\n",
    "    \n",
    "    @staticmethod\n",
    "    def _getNextData(numRowsEachDf, skipRows, img_height, img_width):\n",
    "        \n",
    "        fnames = glob('train_simplified/*.csv')\n",
    "        numClasses = len(fnames)\n",
    "\n",
    "        # Get n rows from all the csv files and append them into one dataframe\n",
    "        train_df = pd.DataFrame(columns=pd.read_csv(fnames[0], nrows=1).columns)\n",
    "        \n",
    "        for name in fnames:\n",
    "            if skipRows == 0:\n",
    "                data = pd.read_csv(name, nrows=numRowsEachDf)\n",
    "            else:\n",
    "                data = pd.read_csv(name, nrows=numRowsEachDf, skiprows=range(1,skipRows)) # 0th row is the header, so not skipping that\n",
    "            # Append the training data of all the classes\n",
    "            train_df = train_df.append(data)\n",
    "            \n",
    "        train_df = train_df.reset_index().drop('index', axis=1)\n",
    "        \n",
    "        # Some data manipulations\n",
    "        train_df['countrycode'] = train_df['countrycode'].fillna('NotAvlbl')\n",
    "\n",
    "        # Shuffle all data points\n",
    "        train_df = train_df.sample(train_df.shape[0])\n",
    "\n",
    "        # Get only those which were correctly recognized\n",
    "        train_df = train_df[train_df['recognized'] == True]\n",
    "\n",
    "        # Apply eval to drawing object\n",
    "        train_df['drawing'] = train_df['drawing'].apply(eval)\n",
    "        \n",
    "        # Other features from the drawing array\n",
    "        numStrokes = train_df['drawing'].apply(len)\n",
    "        \n",
    "        # Convert drawing to images\n",
    "        train_df['drawing'] = train_df['drawing'].apply(lambda x: draw_it(x, img_height, img_width))\n",
    "\n",
    "        # Reshape the array\n",
    "        train_imgArr = np.vstack(train_df['drawing'].values).flatten().reshape((train_df['drawing'].shape[0], img_height, img_width))\n",
    "    \n",
    "        # In Keras, the layers used for two-dimensional convolutions expect pixel values with the dimensions [width][height][pixels] for TF.\n",
    "        # In the case of RGB, the first dimension pixels would be 3 for the red, green and blue components and it would be like having 3 image inputs for every color image. In this case, the pixel values are gray scale, the pixel dimension is set to 1.\n",
    "        train_X = train_imgArr.reshape(train_imgArr.shape[0], img_height, img_width, 1).astype('float32')\n",
    "        \n",
    "        \n",
    "         # Initialize the y_train\n",
    "        y_train = train_df['word']\n",
    "    \n",
    "        y_train_numeric = y_train.apply(lambda x: map_class_to_numeric[x])\n",
    "\n",
    "        # convert class vectors to binary class matrices\n",
    "        train_y = keras.utils.to_categorical(y_train_numeric, numClasses)\n",
    "    \n",
    "        # Get other features\n",
    "        # Convert numStrokes into numpy array for ingestion [TODO: normalize]\n",
    "        numStrokes = np.array(numStrokes).astype('float32')\n",
    "        train_X_scalars = numStrokes\n",
    "        \n",
    "        return [train_X, train_X_scalars], train_y\n",
    "    "
   ]
  },
  {
   "cell_type": "code",
   "execution_count": 10,
   "metadata": {},
   "outputs": [],
   "source": [
    "img_width = img_height = 32"
   ]
  },
  {
   "cell_type": "code",
   "execution_count": 11,
   "metadata": {},
   "outputs": [],
   "source": [
    "X_test, y_test = DataGenerator._getNextData(100, 90000, img_height, img_width)"
   ]
  },
  {
   "cell_type": "code",
   "execution_count": null,
   "metadata": {},
   "outputs": [],
   "source": []
  },
  {
   "cell_type": "code",
   "execution_count": 12,
   "metadata": {},
   "outputs": [],
   "source": [
    "# pp = []\n",
    "batch_size = 1000\n",
    "numTrainExamplesPerClass = 500\n",
    "numClasses = 340\n",
    "num_samples_to_train = (numTrainExamplesPerClass*numClasses)\n",
    "trainGeneratorDataOffsetPerClass = 0\n",
    "dataGenerator = DataGenerator(num_samples_to_train, batch_size, trainGeneratorDataOffsetPerClass, img_width, img_height)"
   ]
  },
  {
   "cell_type": "code",
   "execution_count": 13,
   "metadata": {},
   "outputs": [],
   "source": [
    "# ############## Remove\n",
    "# img_width = img_height = 32\n",
    "# numClasses = 340\n",
    "# numStartFilters = 8\n",
    "# model = baseline_conv_model_functional_API(numStartFilters, numClasses, img_height, img_width)\n",
    "# ############## Remove\n",
    "# model.summary()"
   ]
  },
  {
   "cell_type": "code",
   "execution_count": 15,
   "metadata": {},
   "outputs": [
    {
     "name": "stdout",
     "output_type": "stream",
     "text": [
      "Epoch 1/100\n",
      "170/170 [==============================] - 839s 5s/step - loss: 5.7913 - acc: 0.0112 - top_3_accuracy: 0.0304 - categorical_crossentropy: 5.7913 - val_loss: 5.0135 - val_acc: 0.0440 - val_top_3_accuracy: 0.1069 - val_categorical_crossentropy: 5.0135\n",
      "Epoch 2/100\n",
      "170/170 [==============================] - 1184s 7s/step - loss: 4.7468 - acc: 0.0628 - top_3_accuracy: 0.1432 - categorical_crossentropy: 4.7468 - val_loss: 4.3421 - val_acc: 0.1206 - val_top_3_accuracy: 0.2437 - val_categorical_crossentropy: 4.3421\n",
      "Epoch 3/100\n",
      "170/170 [==============================] - 1105s 6s/step - loss: 4.2742 - acc: 0.1137 - top_3_accuracy: 0.2318 - categorical_crossentropy: 4.2742 - val_loss: 3.9079 - val_acc: 0.1706 - val_top_3_accuracy: 0.3267 - val_categorical_crossentropy: 3.9079\n",
      "Epoch 4/100\n",
      "170/170 [==============================] - 995s 6s/step - loss: 3.9249 - acc: 0.1551 - top_3_accuracy: 0.3038 - categorical_crossentropy: 3.9249 - val_loss: 3.5185 - val_acc: 0.2293 - val_top_3_accuracy: 0.4055 - val_categorical_crossentropy: 3.5185\n",
      "Epoch 5/100\n",
      "170/170 [==============================] - 977s 6s/step - loss: 3.6538 - acc: 0.1927 - top_3_accuracy: 0.3583 - categorical_crossentropy: 3.6538 - val_loss: 3.2857 - val_acc: 0.2618 - val_top_3_accuracy: 0.4523 - val_categorical_crossentropy: 3.2857\n",
      "Epoch 6/100\n",
      "170/170 [==============================] - 982s 6s/step - loss: 3.4554 - acc: 0.2195 - top_3_accuracy: 0.3991 - categorical_crossentropy: 3.4554 - val_loss: 3.0929 - val_acc: 0.2957 - val_top_3_accuracy: 0.4936 - val_categorical_crossentropy: 3.0929\n",
      "Epoch 7/100\n",
      "170/170 [==============================] - 968s 6s/step - loss: 3.2968 - acc: 0.2466 - top_3_accuracy: 0.4332 - categorical_crossentropy: 3.2968 - val_loss: 2.9725 - val_acc: 0.3167 - val_top_3_accuracy: 0.5154 - val_categorical_crossentropy: 2.9725\n",
      "Epoch 8/100\n",
      "170/170 [==============================] - 994s 6s/step - loss: 3.1726 - acc: 0.2655 - top_3_accuracy: 0.4599 - categorical_crossentropy: 3.1726 - val_loss: 2.8447 - val_acc: 0.3357 - val_top_3_accuracy: 0.5403 - val_categorical_crossentropy: 2.8447\n",
      "Epoch 9/100\n",
      "170/170 [==============================] - 989s 6s/step - loss: 3.0549 - acc: 0.2826 - top_3_accuracy: 0.4829 - categorical_crossentropy: 3.0549 - val_loss: 2.7467 - val_acc: 0.3512 - val_top_3_accuracy: 0.5590 - val_categorical_crossentropy: 2.7467\n",
      "Epoch 10/100\n",
      "170/170 [==============================] - 980s 6s/step - loss: 2.9636 - acc: 0.2990 - top_3_accuracy: 0.5032 - categorical_crossentropy: 2.9636 - val_loss: 2.6840 - val_acc: 0.3587 - val_top_3_accuracy: 0.5710 - val_categorical_crossentropy: 2.6840\n",
      "Epoch 11/100\n",
      "170/170 [==============================] - 984s 6s/step - loss: 2.8875 - acc: 0.3111 - top_3_accuracy: 0.5192 - categorical_crossentropy: 2.8875 - val_loss: 2.6268 - val_acc: 0.3716 - val_top_3_accuracy: 0.5839 - val_categorical_crossentropy: 2.6268\n",
      "Epoch 12/100\n",
      "170/170 [==============================] - 988s 6s/step - loss: 2.8165 - acc: 0.3222 - top_3_accuracy: 0.5332 - categorical_crossentropy: 2.8165 - val_loss: 2.5908 - val_acc: 0.3783 - val_top_3_accuracy: 0.5910 - val_categorical_crossentropy: 2.5908\n",
      "Epoch 13/100\n",
      "170/170 [==============================] - 965s 6s/step - loss: 2.7578 - acc: 0.3310 - top_3_accuracy: 0.5443 - categorical_crossentropy: 2.7578 - val_loss: 2.5363 - val_acc: 0.3905 - val_top_3_accuracy: 0.6029 - val_categorical_crossentropy: 2.5363\n",
      "Epoch 14/100\n",
      "170/170 [==============================] - 990s 6s/step - loss: 2.6986 - acc: 0.3431 - top_3_accuracy: 0.5570 - categorical_crossentropy: 2.6986 - val_loss: 2.5264 - val_acc: 0.3947 - val_top_3_accuracy: 0.6063 - val_categorical_crossentropy: 2.5264\n",
      "Epoch 15/100\n",
      "170/170 [==============================] - 983s 6s/step - loss: 2.6472 - acc: 0.3524 - top_3_accuracy: 0.5671 - categorical_crossentropy: 2.6472 - val_loss: 2.4920 - val_acc: 0.3975 - val_top_3_accuracy: 0.6121 - val_categorical_crossentropy: 2.4920\n",
      "Epoch 16/100\n",
      "170/170 [==============================] - 994s 6s/step - loss: 2.5975 - acc: 0.3589 - top_3_accuracy: 0.5784 - categorical_crossentropy: 2.5975 - val_loss: 2.4717 - val_acc: 0.4038 - val_top_3_accuracy: 0.6143 - val_categorical_crossentropy: 2.4717\n",
      "Epoch 17/100\n",
      "170/170 [==============================] - 977s 6s/step - loss: 2.5575 - acc: 0.3662 - top_3_accuracy: 0.5859 - categorical_crossentropy: 2.5575 - val_loss: 2.5054 - val_acc: 0.3963 - val_top_3_accuracy: 0.6072 - val_categorical_crossentropy: 2.5054\n",
      "Epoch 18/100\n",
      "170/170 [==============================] - 993s 6s/step - loss: 2.5202 - acc: 0.3719 - top_3_accuracy: 0.5934 - categorical_crossentropy: 2.5202 - val_loss: 2.4401 - val_acc: 0.4093 - val_top_3_accuracy: 0.6227 - val_categorical_crossentropy: 2.4401\n",
      "Epoch 19/100\n",
      "170/170 [==============================] - 988s 6s/step - loss: 2.4787 - acc: 0.3781 - top_3_accuracy: 0.6016 - categorical_crossentropy: 2.4787 - val_loss: 2.4645 - val_acc: 0.4062 - val_top_3_accuracy: 0.6167 - val_categorical_crossentropy: 2.4645\n",
      "Epoch 20/100\n",
      "170/170 [==============================] - 975s 6s/step - loss: 2.4506 - acc: 0.3829 - top_3_accuracy: 0.6064 - categorical_crossentropy: 2.4506 - val_loss: 2.4072 - val_acc: 0.4150 - val_top_3_accuracy: 0.6277 - val_categorical_crossentropy: 2.4072\n",
      "Epoch 21/100\n",
      "170/170 [==============================] - 999s 6s/step - loss: 2.4167 - acc: 0.3910 - top_3_accuracy: 0.6137 - categorical_crossentropy: 2.4167 - val_loss: 2.3821 - val_acc: 0.4202 - val_top_3_accuracy: 0.6353 - val_categorical_crossentropy: 2.3821\n",
      "Epoch 22/100\n",
      "170/170 [==============================] - 987s 6s/step - loss: 2.3859 - acc: 0.3953 - top_3_accuracy: 0.6202 - categorical_crossentropy: 2.3859 - val_loss: 2.3862 - val_acc: 0.4184 - val_top_3_accuracy: 0.6299 - val_categorical_crossentropy: 2.3862\n",
      "Epoch 23/100\n",
      "170/170 [==============================] - 1034s 6s/step - loss: 2.3572 - acc: 0.4017 - top_3_accuracy: 0.6272 - categorical_crossentropy: 2.3572 - val_loss: 2.3922 - val_acc: 0.4200 - val_top_3_accuracy: 0.6339 - val_categorical_crossentropy: 2.3922\n",
      "Epoch 24/100\n",
      "170/170 [==============================] - 987s 6s/step - loss: 2.3345 - acc: 0.4039 - top_3_accuracy: 0.6303 - categorical_crossentropy: 2.3345 - val_loss: 2.3984 - val_acc: 0.4198 - val_top_3_accuracy: 0.6310 - val_categorical_crossentropy: 2.3984\n",
      "Epoch 25/100\n",
      "170/170 [==============================] - 990s 6s/step - loss: 2.3059 - acc: 0.4079 - top_3_accuracy: 0.6371 - categorical_crossentropy: 2.3059 - val_loss: 2.4138 - val_acc: 0.4166 - val_top_3_accuracy: 0.6294 - val_categorical_crossentropy: 2.4138\n",
      "Epoch 26/100\n",
      "170/170 [==============================] - 969s 6s/step - loss: 2.2972 - acc: 0.4105 - top_3_accuracy: 0.6383 - categorical_crossentropy: 2.2972 - val_loss: 2.4294 - val_acc: 0.4116 - val_top_3_accuracy: 0.6261 - val_categorical_crossentropy: 2.4294\n",
      "Epoch 27/100\n",
      "170/170 [==============================] - 986s 6s/step - loss: 2.2727 - acc: 0.4144 - top_3_accuracy: 0.6408 - categorical_crossentropy: 2.2727 - val_loss: 2.4285 - val_acc: 0.4149 - val_top_3_accuracy: 0.6273 - val_categorical_crossentropy: 2.4285\n",
      "Epoch 28/100\n",
      "170/170 [==============================] - 977s 6s/step - loss: 2.2380 - acc: 0.4206 - top_3_accuracy: 0.6517 - categorical_crossentropy: 2.2380 - val_loss: 2.3791 - val_acc: 0.4248 - val_top_3_accuracy: 0.6371 - val_categorical_crossentropy: 2.3791\n",
      "Epoch 29/100\n",
      "170/170 [==============================] - 972s 6s/step - loss: 2.2259 - acc: 0.4234 - top_3_accuracy: 0.6517 - categorical_crossentropy: 2.2259 - val_loss: 2.3818 - val_acc: 0.4231 - val_top_3_accuracy: 0.6354 - val_categorical_crossentropy: 2.3818\n",
      "Epoch 30/100\n",
      "170/170 [==============================] - 1001s 6s/step - loss: 2.1921 - acc: 0.4308 - top_3_accuracy: 0.6596 - categorical_crossentropy: 2.1921 - val_loss: 2.3843 - val_acc: 0.4210 - val_top_3_accuracy: 0.6358 - val_categorical_crossentropy: 2.3843\n",
      "Epoch 31/100\n",
      "170/170 [==============================] - 995s 6s/step - loss: 2.1830 - acc: 0.4297 - top_3_accuracy: 0.6604 - categorical_crossentropy: 2.1830 - val_loss: 2.3579 - val_acc: 0.4284 - val_top_3_accuracy: 0.6410 - val_categorical_crossentropy: 2.3579\n",
      "Epoch 32/100\n"
     ]
    },
    {
     "name": "stdout",
     "output_type": "stream",
     "text": [
      "170/170 [==============================] - 1007s 6s/step - loss: 2.1501 - acc: 0.4362 - top_3_accuracy: 0.6678 - categorical_crossentropy: 2.1501 - val_loss: 2.3756 - val_acc: 0.4264 - val_top_3_accuracy: 0.6383 - val_categorical_crossentropy: 2.3756\n",
      "Epoch 33/100\n",
      "170/170 [==============================] - 1159s 7s/step - loss: 2.1328 - acc: 0.4403 - top_3_accuracy: 0.6709 - categorical_crossentropy: 2.1328 - val_loss: 2.3650 - val_acc: 0.4252 - val_top_3_accuracy: 0.6412 - val_categorical_crossentropy: 2.3650\n",
      "Epoch 34/100\n",
      "170/170 [==============================] - 1170s 7s/step - loss: 2.1037 - acc: 0.4459 - top_3_accuracy: 0.6760 - categorical_crossentropy: 2.1037 - val_loss: 2.3823 - val_acc: 0.4249 - val_top_3_accuracy: 0.6400 - val_categorical_crossentropy: 2.3823\n",
      "Epoch 35/100\n",
      "170/170 [==============================] - 1049s 6s/step - loss: 2.0860 - acc: 0.4478 - top_3_accuracy: 0.6794 - categorical_crossentropy: 2.0860 - val_loss: 2.3987 - val_acc: 0.4268 - val_top_3_accuracy: 0.6363 - val_categorical_crossentropy: 2.3987\n",
      "Epoch 36/100\n",
      "170/170 [==============================] - 1000s 6s/step - loss: 2.0780 - acc: 0.4500 - top_3_accuracy: 0.6818 - categorical_crossentropy: 2.0780 - val_loss: 2.4146 - val_acc: 0.4212 - val_top_3_accuracy: 0.6323 - val_categorical_crossentropy: 2.4146\n",
      "Epoch 37/100\n",
      "170/170 [==============================] - 980s 6s/step - loss: 2.0731 - acc: 0.4511 - top_3_accuracy: 0.6835 - categorical_crossentropy: 2.0731 - val_loss: 2.4058 - val_acc: 0.4214 - val_top_3_accuracy: 0.6349 - val_categorical_crossentropy: 2.4058\n",
      "Epoch 38/100\n",
      "170/170 [==============================] - 991s 6s/step - loss: 2.0475 - acc: 0.4557 - top_3_accuracy: 0.6884 - categorical_crossentropy: 2.0475 - val_loss: 2.3907 - val_acc: 0.4272 - val_top_3_accuracy: 0.6402 - val_categorical_crossentropy: 2.3907\n",
      "Epoch 39/100\n",
      "170/170 [==============================] - 1066s 6s/step - loss: 2.0386 - acc: 0.4567 - top_3_accuracy: 0.6901 - categorical_crossentropy: 2.0386 - val_loss: 2.3944 - val_acc: 0.4285 - val_top_3_accuracy: 0.6424 - val_categorical_crossentropy: 2.3944\n",
      "Epoch 40/100\n",
      "170/170 [==============================] - 1138s 7s/step - loss: 2.0367 - acc: 0.4578 - top_3_accuracy: 0.6880 - categorical_crossentropy: 2.0367 - val_loss: 2.4123 - val_acc: 0.4251 - val_top_3_accuracy: 0.6377 - val_categorical_crossentropy: 2.4123\n",
      "Epoch 41/100\n",
      "170/170 [==============================] - 1296s 8s/step - loss: 2.0017 - acc: 0.4617 - top_3_accuracy: 0.6953 - categorical_crossentropy: 2.0017 - val_loss: 2.3885 - val_acc: 0.4278 - val_top_3_accuracy: 0.6396 - val_categorical_crossentropy: 2.3885\n",
      "Epoch 42/100\n",
      "170/170 [==============================] - 1165s 7s/step - loss: 1.9893 - acc: 0.4668 - top_3_accuracy: 0.6990 - categorical_crossentropy: 1.9893 - val_loss: 2.4065 - val_acc: 0.4254 - val_top_3_accuracy: 0.6404 - val_categorical_crossentropy: 2.4065\n",
      "Epoch 43/100\n",
      "170/170 [==============================] - 1172s 7s/step - loss: 1.9843 - acc: 0.4689 - top_3_accuracy: 0.7011 - categorical_crossentropy: 1.9843 - val_loss: 2.4017 - val_acc: 0.4278 - val_top_3_accuracy: 0.6393 - val_categorical_crossentropy: 2.4017\n",
      "Epoch 44/100\n",
      "170/170 [==============================] - 1158s 7s/step - loss: 1.9598 - acc: 0.4720 - top_3_accuracy: 0.7065 - categorical_crossentropy: 1.9598 - val_loss: 2.4109 - val_acc: 0.4260 - val_top_3_accuracy: 0.6385 - val_categorical_crossentropy: 2.4109\n",
      "Epoch 45/100\n",
      "170/170 [==============================] - 1152s 7s/step - loss: 1.9403 - acc: 0.4778 - top_3_accuracy: 0.7099 - categorical_crossentropy: 1.9403 - val_loss: 2.4070 - val_acc: 0.4278 - val_top_3_accuracy: 0.6409 - val_categorical_crossentropy: 2.4070\n",
      "Epoch 46/100\n",
      "170/170 [==============================] - 1149s 7s/step - loss: 1.9156 - acc: 0.4796 - top_3_accuracy: 0.7145 - categorical_crossentropy: 1.9156 - val_loss: 2.4170 - val_acc: 0.4256 - val_top_3_accuracy: 0.6388 - val_categorical_crossentropy: 2.4170\n",
      "Epoch 47/100\n",
      "170/170 [==============================] - 1161s 7s/step - loss: 1.9163 - acc: 0.4814 - top_3_accuracy: 0.7166 - categorical_crossentropy: 1.9163 - val_loss: 2.4286 - val_acc: 0.4239 - val_top_3_accuracy: 0.6371 - val_categorical_crossentropy: 2.4286\n",
      "Epoch 48/100\n",
      "170/170 [==============================] - 1136s 7s/step - loss: 1.8921 - acc: 0.4874 - top_3_accuracy: 0.7207 - categorical_crossentropy: 1.8921 - val_loss: 2.4317 - val_acc: 0.4249 - val_top_3_accuracy: 0.6376 - val_categorical_crossentropy: 2.4317\n",
      "Epoch 49/100\n",
      "170/170 [==============================] - 992s 6s/step - loss: 1.8954 - acc: 0.4848 - top_3_accuracy: 0.7199 - categorical_crossentropy: 1.8954 - val_loss: 2.4376 - val_acc: 0.4243 - val_top_3_accuracy: 0.6384 - val_categorical_crossentropy: 2.4376\n",
      "Epoch 50/100\n",
      "170/170 [==============================] - 1004s 6s/step - loss: 1.8941 - acc: 0.4868 - top_3_accuracy: 0.7199 - categorical_crossentropy: 1.8941 - val_loss: 2.4212 - val_acc: 0.4257 - val_top_3_accuracy: 0.6372 - val_categorical_crossentropy: 2.4212\n",
      "Epoch 51/100\n",
      "170/170 [==============================] - 997s 6s/step - loss: 1.8885 - acc: 0.4852 - top_3_accuracy: 0.7217 - categorical_crossentropy: 1.8885 - val_loss: 2.4295 - val_acc: 0.4258 - val_top_3_accuracy: 0.6391 - val_categorical_crossentropy: 2.4295\n",
      "Epoch 52/100\n",
      "170/170 [==============================] - 994s 6s/step - loss: 1.8992 - acc: 0.4862 - top_3_accuracy: 0.7195 - categorical_crossentropy: 1.8992 - val_loss: 2.4614 - val_acc: 0.4218 - val_top_3_accuracy: 0.6325 - val_categorical_crossentropy: 2.4614\n",
      "Epoch 53/100\n",
      "170/170 [==============================] - 1017s 6s/step - loss: 1.8819 - acc: 0.4891 - top_3_accuracy: 0.7228 - categorical_crossentropy: 1.8819 - val_loss: 2.4679 - val_acc: 0.4195 - val_top_3_accuracy: 0.6321 - val_categorical_crossentropy: 2.4679\n",
      "Epoch 54/100\n",
      "170/170 [==============================] - 1217s 7s/step - loss: 1.8548 - acc: 0.4946 - top_3_accuracy: 0.7280 - categorical_crossentropy: 1.8548 - val_loss: 2.4416 - val_acc: 0.4279 - val_top_3_accuracy: 0.6394 - val_categorical_crossentropy: 2.4416\n",
      "Epoch 55/100\n",
      "170/170 [==============================] - 1132s 7s/step - loss: 1.8357 - acc: 0.4960 - top_3_accuracy: 0.7313 - categorical_crossentropy: 1.8357 - val_loss: 2.4699 - val_acc: 0.4239 - val_top_3_accuracy: 0.6338 - val_categorical_crossentropy: 2.4699\n",
      "Epoch 56/100\n",
      "170/170 [==============================] - 1500s 9s/step - loss: 1.8361 - acc: 0.4978 - top_3_accuracy: 0.7313 - categorical_crossentropy: 1.8361 - val_loss: 2.4998 - val_acc: 0.4218 - val_top_3_accuracy: 0.6325 - val_categorical_crossentropy: 2.4998\n",
      "Epoch 57/100\n",
      "170/170 [==============================] - 1429s 8s/step - loss: 1.8217 - acc: 0.4995 - top_3_accuracy: 0.7343 - categorical_crossentropy: 1.8217 - val_loss: 2.5090 - val_acc: 0.4193 - val_top_3_accuracy: 0.6323 - val_categorical_crossentropy: 2.5090\n",
      "Epoch 58/100\n",
      "170/170 [==============================] - 1388s 8s/step - loss: 1.8139 - acc: 0.5036 - top_3_accuracy: 0.7372 - categorical_crossentropy: 1.8139 - val_loss: 2.4907 - val_acc: 0.4229 - val_top_3_accuracy: 0.6344 - val_categorical_crossentropy: 2.4907\n",
      "Epoch 59/100\n",
      "170/170 [==============================] - 1259s 7s/step - loss: 1.8071 - acc: 0.5051 - top_3_accuracy: 0.7369 - categorical_crossentropy: 1.8071 - val_loss: 2.5036 - val_acc: 0.4188 - val_top_3_accuracy: 0.6309 - val_categorical_crossentropy: 2.5036\n",
      "Epoch 60/100\n",
      "170/170 [==============================] - 1246s 7s/step - loss: 1.8095 - acc: 0.5046 - top_3_accuracy: 0.7373 - categorical_crossentropy: 1.8095 - val_loss: 2.5141 - val_acc: 0.4187 - val_top_3_accuracy: 0.6298 - val_categorical_crossentropy: 2.5141\n",
      "Epoch 61/100\n",
      "170/170 [==============================] - 1234s 7s/step - loss: 1.7842 - acc: 0.5098 - top_3_accuracy: 0.7421 - categorical_crossentropy: 1.7842 - val_loss: 2.5094 - val_acc: 0.4210 - val_top_3_accuracy: 0.6305 - val_categorical_crossentropy: 2.5094\n",
      "Epoch 62/100\n",
      "170/170 [==============================] - 1242s 7s/step - loss: 1.7727 - acc: 0.5103 - top_3_accuracy: 0.7459 - categorical_crossentropy: 1.7727 - val_loss: 2.5076 - val_acc: 0.4244 - val_top_3_accuracy: 0.6334 - val_categorical_crossentropy: 2.5076\n",
      "Epoch 63/100\n"
     ]
    },
    {
     "name": "stdout",
     "output_type": "stream",
     "text": [
      "170/170 [==============================] - 1228s 7s/step - loss: 1.7673 - acc: 0.5141 - top_3_accuracy: 0.7459 - categorical_crossentropy: 1.7673 - val_loss: 2.5369 - val_acc: 0.4201 - val_top_3_accuracy: 0.6290 - val_categorical_crossentropy: 2.5369\n",
      "Epoch 64/100\n",
      "170/170 [==============================] - 1238s 7s/step - loss: 1.7629 - acc: 0.5134 - top_3_accuracy: 0.7478 - categorical_crossentropy: 1.7629 - val_loss: 2.5448 - val_acc: 0.4187 - val_top_3_accuracy: 0.6289 - val_categorical_crossentropy: 2.5448\n",
      "Epoch 65/100\n",
      "170/170 [==============================] - 1356s 8s/step - loss: 1.7457 - acc: 0.5171 - top_3_accuracy: 0.7515 - categorical_crossentropy: 1.7457 - val_loss: 2.5244 - val_acc: 0.4240 - val_top_3_accuracy: 0.6321 - val_categorical_crossentropy: 2.5244\n",
      "Epoch 66/100\n",
      "170/170 [==============================] - 1389s 8s/step - loss: 1.7329 - acc: 0.5200 - top_3_accuracy: 0.7534 - categorical_crossentropy: 1.7329 - val_loss: 2.5102 - val_acc: 0.4207 - val_top_3_accuracy: 0.6330 - val_categorical_crossentropy: 2.5102\n",
      "Epoch 67/100\n",
      "170/170 [==============================] - 1269s 7s/step - loss: 1.7041 - acc: 0.5233 - top_3_accuracy: 0.7597 - categorical_crossentropy: 1.7041 - val_loss: 2.5408 - val_acc: 0.4214 - val_top_3_accuracy: 0.6311 - val_categorical_crossentropy: 2.5408\n",
      "Epoch 68/100\n",
      "170/170 [==============================] - 1243s 7s/step - loss: 1.7003 - acc: 0.5252 - top_3_accuracy: 0.7590 - categorical_crossentropy: 1.7003 - val_loss: 2.5394 - val_acc: 0.4223 - val_top_3_accuracy: 0.6326 - val_categorical_crossentropy: 2.5394\n",
      "Epoch 69/100\n",
      "170/170 [==============================] - 1288s 8s/step - loss: 1.6839 - acc: 0.5312 - top_3_accuracy: 0.7646 - categorical_crossentropy: 1.6839 - val_loss: 2.5600 - val_acc: 0.4202 - val_top_3_accuracy: 0.6323 - val_categorical_crossentropy: 2.5600\n",
      "Epoch 70/100\n",
      "170/170 [==============================] - 1254s 7s/step - loss: 1.6867 - acc: 0.5302 - top_3_accuracy: 0.7613 - categorical_crossentropy: 1.6867 - val_loss: 2.5619 - val_acc: 0.4224 - val_top_3_accuracy: 0.6328 - val_categorical_crossentropy: 2.5619\n",
      "Epoch 71/100\n",
      "170/170 [==============================] - 1245s 7s/step - loss: 1.6660 - acc: 0.5335 - top_3_accuracy: 0.7666 - categorical_crossentropy: 1.6660 - val_loss: 2.5373 - val_acc: 0.4267 - val_top_3_accuracy: 0.6358 - val_categorical_crossentropy: 2.5373\n",
      "Epoch 72/100\n",
      "170/170 [==============================] - 1248s 7s/step - loss: 1.6660 - acc: 0.5342 - top_3_accuracy: 0.7659 - categorical_crossentropy: 1.6660 - val_loss: 2.5544 - val_acc: 0.4248 - val_top_3_accuracy: 0.6317 - val_categorical_crossentropy: 2.5544\n",
      "Epoch 73/100\n",
      "170/170 [==============================] - 1251s 7s/step - loss: 1.6793 - acc: 0.5321 - top_3_accuracy: 0.7641 - categorical_crossentropy: 1.6793 - val_loss: 2.5595 - val_acc: 0.4228 - val_top_3_accuracy: 0.6310 - val_categorical_crossentropy: 2.5595\n",
      "Epoch 74/100\n",
      "170/170 [==============================] - 1250s 7s/step - loss: 1.6659 - acc: 0.5331 - top_3_accuracy: 0.7678 - categorical_crossentropy: 1.6659 - val_loss: 2.6115 - val_acc: 0.4182 - val_top_3_accuracy: 0.6249 - val_categorical_crossentropy: 2.6115\n",
      "Epoch 75/100\n",
      "170/170 [==============================] - 1260s 7s/step - loss: 1.6839 - acc: 0.5306 - top_3_accuracy: 0.7637 - categorical_crossentropy: 1.6839 - val_loss: 2.5896 - val_acc: 0.4147 - val_top_3_accuracy: 0.6253 - val_categorical_crossentropy: 2.5896\n",
      "Epoch 76/100\n",
      "170/170 [==============================] - 1259s 7s/step - loss: 1.6729 - acc: 0.5344 - top_3_accuracy: 0.7652 - categorical_crossentropy: 1.6729 - val_loss: 2.5567 - val_acc: 0.4257 - val_top_3_accuracy: 0.6367 - val_categorical_crossentropy: 2.5567\n",
      "Epoch 77/100\n",
      "170/170 [==============================] - 1245s 7s/step - loss: 1.6599 - acc: 0.5365 - top_3_accuracy: 0.7682 - categorical_crossentropy: 1.6599 - val_loss: 2.5479 - val_acc: 0.4274 - val_top_3_accuracy: 0.6385 - val_categorical_crossentropy: 2.5479\n",
      "Epoch 78/100\n",
      "170/170 [==============================] - 1260s 7s/step - loss: 1.6445 - acc: 0.5407 - top_3_accuracy: 0.7716 - categorical_crossentropy: 1.6445 - val_loss: 2.5650 - val_acc: 0.4248 - val_top_3_accuracy: 0.6337 - val_categorical_crossentropy: 2.5650\n",
      "Epoch 79/100\n",
      "170/170 [==============================] - 1278s 8s/step - loss: 1.6275 - acc: 0.5426 - top_3_accuracy: 0.7747 - categorical_crossentropy: 1.6275 - val_loss: 2.5583 - val_acc: 0.4242 - val_top_3_accuracy: 0.6343 - val_categorical_crossentropy: 2.5583\n",
      "Epoch 80/100\n",
      "170/170 [==============================] - 1291s 8s/step - loss: 1.6216 - acc: 0.5445 - top_3_accuracy: 0.7750 - categorical_crossentropy: 1.6216 - val_loss: 2.5846 - val_acc: 0.4185 - val_top_3_accuracy: 0.6284 - val_categorical_crossentropy: 2.5846\n",
      "Epoch 81/100\n",
      "170/170 [==============================] - 1274s 7s/step - loss: 1.6014 - acc: 0.5497 - top_3_accuracy: 0.7805 - categorical_crossentropy: 1.6014 - val_loss: 2.5917 - val_acc: 0.4222 - val_top_3_accuracy: 0.6303 - val_categorical_crossentropy: 2.5917\n",
      "Epoch 82/100\n",
      "170/170 [==============================] - 1259s 7s/step - loss: 1.6139 - acc: 0.5472 - top_3_accuracy: 0.7783 - categorical_crossentropy: 1.6139 - val_loss: 2.5897 - val_acc: 0.4213 - val_top_3_accuracy: 0.6273 - val_categorical_crossentropy: 2.5897\n",
      "Epoch 83/100\n",
      "170/170 [==============================] - 1263s 7s/step - loss: 1.6280 - acc: 0.5442 - top_3_accuracy: 0.7756 - categorical_crossentropy: 1.6280 - val_loss: 2.6134 - val_acc: 0.4172 - val_top_3_accuracy: 0.6234 - val_categorical_crossentropy: 2.6134\n",
      "Epoch 84/100\n",
      "170/170 [==============================] - 1258s 7s/step - loss: 1.6365 - acc: 0.5425 - top_3_accuracy: 0.7728 - categorical_crossentropy: 1.6365 - val_loss: 2.6531 - val_acc: 0.4108 - val_top_3_accuracy: 0.6191 - val_categorical_crossentropy: 2.6531\n",
      "Epoch 85/100\n",
      "170/170 [==============================] - 1239s 7s/step - loss: 1.6319 - acc: 0.5437 - top_3_accuracy: 0.7755 - categorical_crossentropy: 1.6319 - val_loss: 2.6273 - val_acc: 0.4122 - val_top_3_accuracy: 0.6204 - val_categorical_crossentropy: 2.6273\n",
      "Epoch 86/100\n",
      "170/170 [==============================] - 1228s 7s/step - loss: 1.6339 - acc: 0.5442 - top_3_accuracy: 0.7733 - categorical_crossentropy: 1.6339 - val_loss: 2.6530 - val_acc: 0.4154 - val_top_3_accuracy: 0.6240 - val_categorical_crossentropy: 2.6530\n",
      "Epoch 87/100\n",
      "170/170 [==============================] - 1237s 7s/step - loss: 1.5977 - acc: 0.5491 - top_3_accuracy: 0.7800 - categorical_crossentropy: 1.5977 - val_loss: 2.6575 - val_acc: 0.4120 - val_top_3_accuracy: 0.6200 - val_categorical_crossentropy: 2.6575\n",
      "Epoch 88/100\n",
      "170/170 [==============================] - 1232s 7s/step - loss: 1.5940 - acc: 0.5522 - top_3_accuracy: 0.7821 - categorical_crossentropy: 1.5940 - val_loss: 2.6327 - val_acc: 0.4160 - val_top_3_accuracy: 0.6259 - val_categorical_crossentropy: 2.6327\n",
      "Epoch 89/100\n",
      "170/170 [==============================] - 1235s 7s/step - loss: 1.6070 - acc: 0.5503 - top_3_accuracy: 0.7793 - categorical_crossentropy: 1.6070 - val_loss: 2.6647 - val_acc: 0.4119 - val_top_3_accuracy: 0.6194 - val_categorical_crossentropy: 2.6647\n",
      "Epoch 90/100\n",
      "170/170 [==============================] - 1236s 7s/step - loss: 1.5840 - acc: 0.5536 - top_3_accuracy: 0.7833 - categorical_crossentropy: 1.5840 - val_loss: 2.6415 - val_acc: 0.4224 - val_top_3_accuracy: 0.6295 - val_categorical_crossentropy: 2.6415\n",
      "Epoch 91/100\n",
      "170/170 [==============================] - 1259s 7s/step - loss: 1.5658 - acc: 0.5585 - top_3_accuracy: 0.7871 - categorical_crossentropy: 1.5658 - val_loss: 2.6564 - val_acc: 0.4131 - val_top_3_accuracy: 0.6219 - val_categorical_crossentropy: 2.6564\n",
      "Epoch 92/100\n",
      "170/170 [==============================] - 1231s 7s/step - loss: 1.5755 - acc: 0.5565 - top_3_accuracy: 0.7842 - categorical_crossentropy: 1.5755 - val_loss: 2.6653 - val_acc: 0.4182 - val_top_3_accuracy: 0.6215 - val_categorical_crossentropy: 2.6653\n",
      "Epoch 93/100\n",
      "170/170 [==============================] - 1250s 7s/step - loss: 1.5527 - acc: 0.5598 - top_3_accuracy: 0.7898 - categorical_crossentropy: 1.5527 - val_loss: 2.6590 - val_acc: 0.4130 - val_top_3_accuracy: 0.6231 - val_categorical_crossentropy: 2.6590\n",
      "Epoch 94/100\n"
     ]
    },
    {
     "name": "stdout",
     "output_type": "stream",
     "text": [
      "170/170 [==============================] - 1276s 8s/step - loss: 1.5753 - acc: 0.5570 - top_3_accuracy: 0.7869 - categorical_crossentropy: 1.5753 - val_loss: 2.6590 - val_acc: 0.4162 - val_top_3_accuracy: 0.6225 - val_categorical_crossentropy: 2.6590\n",
      "Epoch 95/100\n",
      "170/170 [==============================] - 1250s 7s/step - loss: 1.5582 - acc: 0.5609 - top_3_accuracy: 0.7894 - categorical_crossentropy: 1.5582 - val_loss: 2.6943 - val_acc: 0.4075 - val_top_3_accuracy: 0.6168 - val_categorical_crossentropy: 2.6943\n",
      "Epoch 96/100\n",
      "170/170 [==============================] - 1237s 7s/step - loss: 1.5731 - acc: 0.5581 - top_3_accuracy: 0.7863 - categorical_crossentropy: 1.5731 - val_loss: 2.6611 - val_acc: 0.4138 - val_top_3_accuracy: 0.6192 - val_categorical_crossentropy: 2.6611\n",
      "Epoch 97/100\n",
      "170/170 [==============================] - 3391s 20s/step - loss: 1.5802 - acc: 0.5555 - top_3_accuracy: 0.7856 - categorical_crossentropy: 1.5802 - val_loss: 2.7003 - val_acc: 0.4058 - val_top_3_accuracy: 0.6130 - val_categorical_crossentropy: 2.7003\n",
      "Epoch 98/100\n",
      "170/170 [==============================] - 1384s 8s/step - loss: 1.5896 - acc: 0.5540 - top_3_accuracy: 0.7845 - categorical_crossentropy: 1.5896 - val_loss: 2.7507 - val_acc: 0.3986 - val_top_3_accuracy: 0.6055 - val_categorical_crossentropy: 2.7507\n",
      "Epoch 99/100\n",
      "170/170 [==============================] - 1289s 8s/step - loss: 1.5985 - acc: 0.5517 - top_3_accuracy: 0.7805 - categorical_crossentropy: 1.5985 - val_loss: 2.7064 - val_acc: 0.4048 - val_top_3_accuracy: 0.6119 - val_categorical_crossentropy: 2.7064\n",
      "Epoch 100/100\n",
      "170/170 [==============================] - 1303s 8s/step - loss: 1.5832 - acc: 0.5554 - top_3_accuracy: 0.7850 - categorical_crossentropy: 1.5832 - val_loss: 2.6732 - val_acc: 0.4135 - val_top_3_accuracy: 0.6201 - val_categorical_crossentropy: 2.6732\n"
     ]
    },
    {
     "data": {
      "text/plain": [
       "<keras.callbacks.History at 0x122fc2f10>"
      ]
     },
     "execution_count": 15,
     "metadata": {},
     "output_type": "execute_result"
    }
   ],
   "source": [
    "# model = baseline_conv_model(4, 340, 32, 32)\n",
    "numStartFilters = 8\n",
    "model = baseline_conv_model_functional_API(numStartFilters, numClasses, img_height, img_width)\n",
    "model.fit_generator(\n",
    "        generator=dataGenerator,\n",
    "        epochs=100,\n",
    "        verbose=1,\n",
    "        shuffle=False,\n",
    "        validation_data=(X_test, y_test)\n",
    "    \n",
    "#         ,\n",
    "#         use_multiprocessing=True,\n",
    ")\n",
    "#       steps_per_epoch=(num_training_samples // batch_size),\n",
    "#       validation_data=my_validation_batch_generator,\n",
    "#       validation_steps=(num_validation_samples // batch_size),\n",
    "#       use_multiprocessing=False,\n",
    "#       workers=16,\n",
    "#       max_queue_size=32)\n"
   ]
  },
  {
   "cell_type": "code",
   "execution_count": 10,
   "metadata": {},
   "outputs": [
    {
     "name": "stdout",
     "output_type": "stream",
     "text": [
      "CNN Error: 29.11%\n"
     ]
    }
   ],
   "source": [
    "scores = model.evaluate(X_test, y_test, verbose=0)\n",
    "print(\"CNN Error: %.2f%%\" % (100-scores[1]*100))\n",
    "# model"
   ]
  },
  {
   "cell_type": "code",
   "execution_count": 17,
   "metadata": {},
   "outputs": [],
   "source": [
    "# model = 0"
   ]
  },
  {
   "cell_type": "code",
   "execution_count": 132,
   "metadata": {},
   "outputs": [],
   "source": [
    "# %%time\n",
    "# # Transform data for CNN\n",
    "# X_train, X_test, y_train, y_test, imgArr_test, map_class_to_numeric, map_numeric_to_class = CNN_dataPrep(train_df, img_height, img_width)"
   ]
  },
  {
   "cell_type": "code",
   "execution_count": 2,
   "metadata": {},
   "outputs": [],
   "source": [
    "# num_filters = 2\n",
    "# num_classes = 340\n",
    "# continueTrain = False\n",
    "# if continueTrain == False:\n",
    "#     model = baseline_conv_model(num_filters, num_classes, img_height, img_width)\n",
    "\n",
    "# # checkpoint\n",
    "# filepath=\"Saved_Models/weights.best.hdf5\"\n",
    "# checkpoint = ModelCheckpoint(filepath, monitor='val_acc', verbose=1, save_best_only=True, mode='max')\n",
    "# callbacks = [checkpoint]\n",
    "\n",
    "# print(model.summary())\n",
    "\n",
    "# hist = model.fit(X_train, \n",
    "#           y_train, \n",
    "#           validation_data=(X_test, y_test),\n",
    "#           epochs=2, \n",
    "#           batch_size=5, \n",
    "#           verbose=2,\n",
    "#           callbacks = callbacks)"
   ]
  },
  {
   "cell_type": "code",
   "execution_count": 3,
   "metadata": {},
   "outputs": [],
   "source": []
  },
  {
   "cell_type": "code",
   "execution_count": null,
   "metadata": {},
   "outputs": [],
   "source": []
  },
  {
   "cell_type": "code",
   "execution_count": 37,
   "metadata": {},
   "outputs": [
    {
     "name": "stdout",
     "output_type": "stream",
     "text": [
      "Saved model to disk\n"
     ]
    }
   ],
   "source": [
    "# Save the model\n",
    "# serialize model to JSON\n",
    "model_json = model.to_json()\n",
    "with open((\"Saved_Models/model_\" + str(datetime.today())[:16].replace(\" \", \"_\").replace(\":\",\"-\") + \".json\"), \"w\") as json_file:\n",
    "    json_file.write(model_json)\n",
    "# serialize weights to HDF5\n",
    "model.save_weights((\"Saved_Models/model_\" + str(datetime.today())[:16].replace(\" \", \"_\").replace(\":\",\"-\") + \".h5\"))\n",
    "print(\"Saved model to disk\")"
   ]
  },
  {
   "cell_type": "code",
   "execution_count": 25,
   "metadata": {},
   "outputs": [],
   "source": [
    "# model = \"\""
   ]
  },
  {
   "cell_type": "code",
   "execution_count": 24,
   "metadata": {},
   "outputs": [
    {
     "name": "stdout",
     "output_type": "stream",
     "text": [
      "Loaded model from disk\n"
     ]
    }
   ],
   "source": [
    "# Load the model back\n",
    "# load json and create model\n",
    "json_file = open('Saved_Models/model_2018-11-21_02-44.json', 'r')\n",
    "loaded_model_json = json_file.read()\n",
    "json_file.close()\n",
    "loaded_model = model_from_json(loaded_model_json)\n",
    "# load weights into new model\n",
    "loaded_model.load_weights(\"Saved_Models/model_2018-11-21_02-44.h5\")\n",
    "print(\"Loaded model from disk\")\n",
    " \n",
    "# evaluate loaded model on test data\n",
    "loaded_model.compile(loss='categorical_crossentropy', optimizer='adam', metrics=['accuracy', top_3_accuracy, 'categorical_crossentropy'])\n",
    "# score = loaded_model.evaluate(X, Y, verbose=0)\n",
    "# print(\"%s: %.2f%%\" % (loaded_model.metrics_names[1], score[1]*100))\n",
    "model = loaded_model"
   ]
  },
  {
   "cell_type": "code",
   "execution_count": null,
   "metadata": {},
   "outputs": [],
   "source": []
  },
  {
   "cell_type": "markdown",
   "metadata": {},
   "source": [
    "# Create Test Data Set"
   ]
  },
  {
   "cell_type": "code",
   "execution_count": 38,
   "metadata": {},
   "outputs": [],
   "source": [
    "def getTestData(img_height, img_width):\n",
    "        \n",
    "        numClasses = 340\n",
    "\n",
    "        test_df = pd.read_csv('test_simplified.csv')            \n",
    "\n",
    "        # Convert drawing to images\n",
    "        test_df['drawing'] = test_df['drawing'].apply(lambda x: draw_it(x, img_height, img_width))\n",
    "\n",
    "        # Reshape the array\n",
    "        test_imgArr = np.vstack(test_df['drawing'].values).flatten().reshape((test_df['drawing'].shape[0], img_height, img_width))\n",
    "    \n",
    "        # In Keras, the layers used for two-dimensional convolutions expect pixel values with the dimensions [width][height][pixels] for TF.\n",
    "        # In the case of RGB, the first dimension pixels would be 3 for the red, green and blue components and it would be like having 3 image inputs for every color image. In this case, the pixel values are gray scale, the pixel dimension is set to 1.\n",
    "        test_X = test_imgArr.reshape(test_imgArr.shape[0], img_height, img_width, 1).astype('float32')\n",
    "                \n",
    "        return test_df, test_X"
   ]
  },
  {
   "cell_type": "code",
   "execution_count": 39,
   "metadata": {},
   "outputs": [],
   "source": [
    "test_df, test_X = getTestData(img_width, img_height)"
   ]
  },
  {
   "cell_type": "code",
   "execution_count": 40,
   "metadata": {},
   "outputs": [
    {
     "name": "stderr",
     "output_type": "stream",
     "text": [
      "100%|██████████| 112199/112199 [00:22<00:00, 5018.47it/s]\n"
     ]
    }
   ],
   "source": [
    "# Make predictions\n",
    "preds = model.predict(test_X)\n",
    "outputDf = test_df.copy()[['key_id']]\n",
    "outputDf['word'] = ''\n",
    "map_numeric_to_class_space_normal = map_numeric_to_class.copy()\n",
    "for key in map_numeric_to_class_space_normal:\n",
    "    map_numeric_to_class_space_normal[key] = (map_numeric_to_class_space_normal[key].replace(\" \", \"_\"))\n",
    "\n",
    "for i in tqdm(range(preds.shape[0])):\n",
    "    outputDf['word'].at[i] = ' '.join(([map_numeric_to_class_space_normal[predClass] for predClass in [tup[1] for tup in sorted(zip(preds[i], range(340)), reverse=True)[:3]]]))\n",
    "\n",
    "# Create csv\n",
    "outputDf.to_csv('initial_pred.csv', index=False)"
   ]
  },
  {
   "cell_type": "code",
   "execution_count": null,
   "metadata": {},
   "outputs": [],
   "source": []
  }
 ],
 "metadata": {
  "kernelspec": {
   "display_name": "Python 2",
   "language": "python",
   "name": "python2"
  },
  "language_info": {
   "codemirror_mode": {
    "name": "ipython",
    "version": 2
   },
   "file_extension": ".py",
   "mimetype": "text/x-python",
   "name": "python",
   "nbconvert_exporter": "python",
   "pygments_lexer": "ipython2",
   "version": "2.7.15"
  }
 },
 "nbformat": 4,
 "nbformat_minor": 2
}
