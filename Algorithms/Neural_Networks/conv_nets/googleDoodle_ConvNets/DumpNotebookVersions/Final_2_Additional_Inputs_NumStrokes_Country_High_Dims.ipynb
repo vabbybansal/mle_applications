{
 "cells": [
  {
   "cell_type": "code",
   "execution_count": 1,
   "metadata": {},
   "outputs": [
    {
     "name": "stderr",
     "output_type": "stream",
     "text": [
      "Using TensorFlow backend.\n"
     ]
    },
    {
     "data": {
      "text/html": [
       "<style>.container { width:100% !important; }</style>"
      ],
      "text/plain": [
       "<IPython.core.display.HTML object>"
      ]
     },
     "metadata": {},
     "output_type": "display_data"
    }
   ],
   "source": [
    "import random\n",
    "import os\n",
    "import re\n",
    "from glob import glob\n",
    "from tqdm import tqdm\n",
    "import numpy as np\n",
    "\n",
    "import pandas as pd\n",
    "import ast\n",
    "import matplotlib.pyplot as plt\n",
    "%matplotlib inline\n",
    "import numpy as np\n",
    "from PIL import Image, ImageDraw, _imaging\n",
    "from __future__ import print_function\n",
    "import keras\n",
    "from keras.datasets import mnist\n",
    "from keras.models import Sequential\n",
    "from keras.layers import Input, Dense, Dropout, Flatten, Activation, Embedding\n",
    "from keras.layers import Conv2D, MaxPooling2D\n",
    "from keras.layers.merge import concatenate\n",
    "from keras.utils import plot_model\n",
    "from keras.models import Model\n",
    "from keras import backend as K\n",
    "from keras import metrics\n",
    "from IPython.core.display import display, HTML\n",
    "display(HTML(\"<style>.container { width:100% !important; }</style>\"))\n",
    "from sklearn.model_selection import train_test_split\n",
    "import tensorflow as tf\n",
    "from datetime import datetime\n",
    "from keras.callbacks import History, ModelCheckpoint\n",
    "history = History()\n",
    "from keras.models import model_from_json\n",
    "import graphviz"
   ]
  },
  {
   "cell_type": "code",
   "execution_count": 2,
   "metadata": {},
   "outputs": [],
   "source": [
    "def showSampleImgs():\n",
    "    n_samp = 3\n",
    "    train_df_sample = train_df.sample(n_samp)\n",
    "    plt.figure(figsize=(4,4))\n",
    "    for i in range(n_samp):\n",
    "        draw = train_df_sample.iloc[i]['drawing']\n",
    "        label = train_df_sample.iloc[i]['word']\n",
    "        plt.subplot(n_samp,1,i+1)\n",
    "        for stroke in draw:\n",
    "            plt.plot(stroke[0], stroke[1], marker='.', color='black')\n",
    "            plt.title(label)\n",
    "            plt.axis('off')\n",
    "    plt.show()    \n",
    "    \n",
    "# Show an image from the dataframe\n",
    "def showImgFromDf(df, index):\n",
    "    # Show an image\n",
    "    plt.imshow(df.iloc[index]['img'],cmap='gray')\n",
    "    plt.title(df.iloc[index]['word'])\n",
    "    plt.show()\n",
    "    \n",
    "def top_3_accuracy(y_true, y_pred):\n",
    "    return metrics.top_k_categorical_accuracy(y_true, y_pred, k=3)\n",
    "\n",
    "\n",
    "# def baseline_conv_model(num_filters, num_classes, img_height, img_width):\n",
    "#     model = Sequential()\n",
    "#     model.add(Conv2D(num_filters*1, (5,5), input_shape=(img_height,img_width,1), activation='relu')) \n",
    "#     model.add(MaxPooling2D(pool_size=(2,2)))\n",
    "#     model.add(Dropout(0.2))\n",
    "#     model.add(Conv2D(num_filters*2, (5,5), activation='relu')) \n",
    "#     model.add(MaxPooling2D(pool_size=(2,2)))\n",
    "#     model.add(Dropout(0.2))\n",
    "#     model.add(Conv2D(num_filters*4, (3,3), activation='relu')) \n",
    "# #     model.add(MaxPooling2D(pool_size=(2,2)))\n",
    "# #     model.add(Conv2D(num_filters*8, (3,3), activation='relu')) \n",
    "#     model.add(Dropout(0.2))\n",
    "#     model.add(Flatten())\n",
    "# #     model.add(Dense(2500, activation='relu'))\n",
    "# #     model.add(Dropout(0.2))\n",
    "#     model.add(Dense(2000, activation='relu'))\n",
    "#     model.add(Dropout(0.2))\n",
    "#     model.add(Dense(1500, activation='relu'))\n",
    "#     model.add(Dropout(0.2))\n",
    "#     model.add(Dense(1000, activation='relu'))\n",
    "#     model.add(Dropout(0.2))\n",
    "#     # model.add(Dense(num_classes, activation='softmax'))\n",
    "#     # model.add(Activation('softmax'))\n",
    "#     model.add(Dense(units=num_classes))\n",
    "#     model.add(Activation(tf.nn.softmax))\n",
    "\n",
    "#     # Compile\n",
    "#     model.compile(loss='categorical_crossentropy', optimizer='adam', metrics=['accuracy', top_3_accuracy, 'categorical_crossentropy'])\n",
    "#     return model\n",
    "\n",
    "def baseline_conv_model_functional_API(num_filters, num_classes, img_height, img_width):\n",
    "    # Input Layer\n",
    "    inputLayerImg = Input(shape=(img_height,img_width,1))\n",
    "    \n",
    "    conv1 = Conv2D(num_filters*1, (5,5), activation='relu')(inputLayerImg)\n",
    "    pool1 = MaxPooling2D(pool_size=(2,2))(conv1)\n",
    "    dropout1 = Dropout(0.2)(pool1)\n",
    "    \n",
    "    conv2 = Conv2D(num_filters*2, (5,5), activation='relu')(dropout1)\n",
    "    pool2 = MaxPooling2D(pool_size=(2,2))(conv2)\n",
    "    dropout2 = Dropout(0.2)(pool2)\n",
    "    \n",
    "    conv3 = Conv2D(num_filters*4, (3,3), activation='relu')(dropout2)\n",
    "    dropout3 = Dropout(0.2)(conv3)\n",
    "    \n",
    "    flat = Flatten()(dropout3)\n",
    "    \n",
    "    # Add the other scalar inputs as another data stream\n",
    "    # Continuous variables\n",
    "    inputLayerScalars = Input(shape=(1,))\n",
    "    \n",
    "    # Categorical variables\n",
    "    # Define the embedding input\n",
    "    inputLayer_Country = Input(shape=(1,)) \n",
    "    countryEmbeddingsLength = 15\n",
    "#     # Let’s define the embedding layer and flatten it\n",
    "    countryEmbeddings = Embedding(input_dim=(len(countryList)+1), output_dim=countryEmbeddingsLength, input_length=1)(inputLayer_Country)\n",
    "    countryEmbeddings = keras.layers.Reshape((countryEmbeddingsLength,))(countryEmbeddings)\n",
    "    \n",
    "    # Merge the CNN flat layer and the other input layer\n",
    "    mergedInput = concatenate([flat, inputLayerScalars, countryEmbeddings])\n",
    "    \n",
    "    dense1 = Dense(2000, activation='relu')(mergedInput)\n",
    "    drop_dense1 = Dropout(0.2)(dense1)\n",
    "    \n",
    "    dense2 = Dense(1500, activation='relu')(drop_dense1)\n",
    "    drop_dense2 = Dropout(0.2)(dense2)\n",
    "    \n",
    "    dense3 = Dense(1000, activation='relu')(drop_dense2)\n",
    "    drop_dense3 = Dropout(0.2)(dense3)\n",
    "    \n",
    "    outputLayer = Dense(num_classes, activation=tf.nn.softmax)(drop_dense3)\n",
    "    \n",
    "    model = Model(inputs=[inputLayerImg, inputLayerScalars, inputLayer_Country], outputs=outputLayer)\n",
    "    \n",
    "    model.compile(loss='categorical_crossentropy', optimizer='adam', metrics=['accuracy', top_3_accuracy, 'categorical_crossentropy'])\n",
    "    return model\n"
   ]
  },
  {
   "cell_type": "code",
   "execution_count": null,
   "metadata": {},
   "outputs": [],
   "source": []
  },
  {
   "cell_type": "code",
   "execution_count": null,
   "metadata": {},
   "outputs": [],
   "source": []
  },
  {
   "cell_type": "code",
   "execution_count": 3,
   "metadata": {},
   "outputs": [],
   "source": [
    "random.seed(111)\n",
    "\n",
    "# Generate class mappings\n",
    "fnames = glob('train_simplified/*.csv')\n",
    "tempDf = pd.DataFrame(columns=pd.read_csv(fnames[0], nrows=1).columns)\n",
    "\n",
    "for name in fnames:\n",
    "    data = pd.read_csv(name, nrows=2)\n",
    "    tempDf = tempDf.append(data)\n",
    "    \n",
    "ys = tempDf['word']\n",
    "    \n",
    "# Convert class labels from categorical to numerical\n",
    "unique_classes_list = ys.unique()\n",
    "map_class_to_numeric = {k: v for v, k in enumerate(unique_classes_list)}\n",
    "map_numeric_to_class = {v: k for k, v in map_class_to_numeric.iteritems()}\n",
    "\n",
    "countryList = '''['BD','BE','BF','BG','BA','NotAvlbl','BM','BN','BO','JP','BI','BJ','BT','JM','JO','WS','BR','CR','JE','BY','BZ','RU','RW','BB','RS','TL','RE','TM','LR','RO','GU','GT','GR','GP','BH','GY','GG','GF','GE','GD','GB','GA','GN','GM','GL','GI','GH','OM','TN','BU','BW','HR','BS','HT','HU','HK','HN','AD','PR','PS','PW','PT','KN','PY','AI','PA','PF','PG','PE','PK','PH','PL','PM','ZM','EE','EG','ZA','EC','AL','AO','ZZ','ET','ZW','KY','ES','ME','MD','MG','MF','MA','MC','UZ','MM','ML','MO','MN','MH','US','MU','MT','MW','MV','MQ','MP','MS','MR','IM','UG','TZ','MY','MX','IL','FR','SJ','FI','FJ','FM','FO','NI','NL','NO','SO','VU','NC','NF','NG','NZ','NP','CI','CH','CO','CN','CM','CL','CA','CG','CF','OTHER','CD','CZ','CY','CX','UY','CW','CV','SZ','SX','KG','KE','SS','SR','KH','SV','ST','SK','KR','SI','KW','SN','SM','SC','KZ','SA','SG','SE','DO','DM','DJ','DK','VG','DE','YE','DZ','MK','YT','LB','LC','LA','TW','TT','TR','LK','LI','LV','TO','LT','LU','TJ','LS','TH','TG','TC','LY','VC','AE','VE','AG','AF','IQ','VI','IS','IR','AM','IT','VN','AN','AS','AR','AU','AT','AW','IN','AX','AZ','IE','ID','UA','QA','MZ']'''\n",
    "countryList = eval(countryList)"
   ]
  },
  {
   "cell_type": "code",
   "execution_count": 4,
   "metadata": {
    "scrolled": false
   },
   "outputs": [],
   "source": [
    "countryIntMap = {value: int_value+1 for int_value, value in enumerate(countryList)}\n",
    "# for x,y in enumerate(countryList): \n",
    "#     print(y)"
   ]
  },
  {
   "cell_type": "code",
   "execution_count": 5,
   "metadata": {},
   "outputs": [],
   "source": [
    "# np.array(data['countrycode'].map(countryIntMap)).astype('int32')"
   ]
  },
  {
   "cell_type": "code",
   "execution_count": null,
   "metadata": {},
   "outputs": [],
   "source": [
    "############################### GET NEW FEATURES"
   ]
  },
  {
   "cell_type": "code",
   "execution_count": 6,
   "metadata": {},
   "outputs": [],
   "source": [
    "# # model = baseline_conv_model_functional_API(numStartFilters, numClasses, img_height, img_width)\n",
    "# from IPython.display import SVG\n",
    "# from keras.utils.vis_utils import model_to_dot\n",
    "\n",
    "# SVG(model_to_dot(model).create(prog='dot', format='svg'))"
   ]
  },
  {
   "cell_type": "code",
   "execution_count": 124,
   "metadata": {},
   "outputs": [],
   "source": [
    "# model.summary()"
   ]
  },
  {
   "cell_type": "code",
   "execution_count": null,
   "metadata": {},
   "outputs": [],
   "source": []
  },
  {
   "cell_type": "code",
   "execution_count": null,
   "metadata": {},
   "outputs": [],
   "source": [
    "############################### GET NEW FEATURES"
   ]
  },
  {
   "cell_type": "code",
   "execution_count": 7,
   "metadata": {},
   "outputs": [],
   "source": [
    "def draw_it(raw_strokes, output_height, output_width):\n",
    "#     raw_strokes = eval(raw_strokes)\n",
    "    image = Image.new(\"P\", (255,255)\n",
    "#                       , color=1\n",
    "            )\n",
    "    image_draw = ImageDraw.Draw(image)\n",
    "\n",
    "    for stroke in raw_strokes:\n",
    "        for i in range(len(stroke[0])-1):\n",
    "\n",
    "            image_draw.line([stroke[0][i], \n",
    "                             stroke[1][i],\n",
    "                             stroke[0][i+1], \n",
    "                             stroke[1][i+1]],\n",
    "                            fill=255, width=6)\n",
    "    # Reduce image size\n",
    "    image = image.resize((output_height,output_width),Image.ANTIALIAS)\n",
    "    \n",
    "    return np.array(image)\n",
    "\n",
    "\n",
    "class DataGenerator(keras.utils.Sequence):\n",
    "    def __init__(self, num_samples_to_train, batch_size, trainGeneratorDataOffsetPerClass, img_width, img_height):\n",
    "        self.batch_size = batch_size\n",
    "        self.num_samples_to_train = num_samples_to_train\n",
    "        self.img_width = img_width\n",
    "        self.img_height = img_height\n",
    "        self.trainGeneratorDataOffsetPerClass = trainGeneratorDataOffsetPerClass\n",
    "    \n",
    "    def __len__(self):\n",
    "        return np.ceil(self.num_samples_to_train / float(self.batch_size))\n",
    "    \n",
    "    def __getitem__(self, idx):\n",
    "        \n",
    "        numRowsEachDf = int(self.batch_size / float(numClasses))\n",
    "        skipRows = (idx * numRowsEachDf) + self.trainGeneratorDataOffsetPerClass\n",
    "        img_height = self.img_height \n",
    "        img_width = self.img_width\n",
    "        \n",
    "        X, y = DataGenerator._getNextData(numRowsEachDf, skipRows, img_height, img_width)\n",
    "        \n",
    "        return X, y\n",
    "    \n",
    "    @staticmethod\n",
    "    def _getNextData(numRowsEachDf, skipRows, img_height, img_width):\n",
    "        \n",
    "        fnames = glob('train_simplified/*.csv')\n",
    "        numClasses = len(fnames)\n",
    "\n",
    "        # Get n rows from all the csv files and append them into one dataframe\n",
    "        train_df = pd.DataFrame(columns=pd.read_csv(fnames[0], nrows=1).columns)\n",
    "        \n",
    "        for name in fnames:\n",
    "            if skipRows == 0:\n",
    "                data = pd.read_csv(name, nrows=numRowsEachDf)\n",
    "            else:\n",
    "                data = pd.read_csv(name, nrows=numRowsEachDf, skiprows=range(1,skipRows)) # 0th row is the header, so not skipping that\n",
    "            # Append the training data of all the classes\n",
    "            train_df = train_df.append(data)\n",
    "            \n",
    "        train_df = train_df.reset_index().drop('index', axis=1)\n",
    "        \n",
    "        # Some data manipulations\n",
    "        train_df['countrycode'] = train_df['countrycode'].fillna('NotAvlbl')\n",
    "\n",
    "        # Shuffle all data points\n",
    "        train_df = train_df.sample(train_df.shape[0])\n",
    "\n",
    "        # Get only those which were correctly recognized\n",
    "        train_df = train_df[train_df['recognized'] == True]\n",
    "\n",
    "        # Apply eval to drawing object\n",
    "        train_df['drawing'] = train_df['drawing'].apply(eval)\n",
    "        \n",
    "        # Other features from the drawing array\n",
    "        numStrokes = train_df['drawing'].apply(len)\n",
    "        \n",
    "        # Convert drawing to images\n",
    "        train_df['drawing'] = train_df['drawing'].apply(lambda x: draw_it(x, img_height, img_width))\n",
    "\n",
    "        # Reshape the array\n",
    "        train_imgArr = np.vstack(train_df['drawing'].values).flatten().reshape((train_df['drawing'].shape[0], img_height, img_width))\n",
    "    \n",
    "        # In Keras, the layers used for two-dimensional convolutions expect pixel values with the dimensions [width][height][pixels] for TF.\n",
    "        # In the case of RGB, the first dimension pixels would be 3 for the red, green and blue components and it would be like having 3 image inputs for every color image. In this case, the pixel values are gray scale, the pixel dimension is set to 1.\n",
    "        train_X = train_imgArr.reshape(train_imgArr.shape[0], img_height, img_width, 1).astype('float32')\n",
    "        \n",
    "        \n",
    "         # Initialize the y_train\n",
    "        y_train = train_df['word']\n",
    "    \n",
    "        y_train_numeric = y_train.apply(lambda x: map_class_to_numeric[x])\n",
    "\n",
    "        # convert class vectors to binary class matrices\n",
    "        train_y = keras.utils.to_categorical(y_train_numeric, numClasses)\n",
    "    \n",
    "        # Get other features\n",
    "        # Convert numStrokes into numpy array for ingestion [TODO: normalize]\n",
    "        numStrokes = np.array(numStrokes).astype('float32')\n",
    "        train_X_scalars = numStrokes\n",
    "        \n",
    "        train_X_countryInt = np.array(train_df['countrycode'].map(countryIntMap)).astype('int32')\n",
    "        \n",
    "        return [train_X, train_X_scalars, train_X_countryInt], train_y\n",
    "    "
   ]
  },
  {
   "cell_type": "code",
   "execution_count": 8,
   "metadata": {},
   "outputs": [],
   "source": [
    "img_width = img_height = 32"
   ]
  },
  {
   "cell_type": "code",
   "execution_count": 9,
   "metadata": {},
   "outputs": [],
   "source": [
    "X_test, y_test = DataGenerator._getNextData(100, 90000, img_height, img_width)"
   ]
  },
  {
   "cell_type": "code",
   "execution_count": null,
   "metadata": {},
   "outputs": [],
   "source": []
  },
  {
   "cell_type": "code",
   "execution_count": 10,
   "metadata": {},
   "outputs": [],
   "source": [
    "# pp = []\n",
    "batch_size = 1000\n",
    "numTrainExamplesPerClass = 500\n",
    "numClasses = 340\n",
    "num_samples_to_train = (numTrainExamplesPerClass*numClasses)\n",
    "trainGeneratorDataOffsetPerClass = 0\n",
    "dataGenerator = DataGenerator(num_samples_to_train, batch_size, trainGeneratorDataOffsetPerClass, img_width, img_height)"
   ]
  },
  {
   "cell_type": "code",
   "execution_count": 11,
   "metadata": {},
   "outputs": [],
   "source": [
    "# ############## Remove\n",
    "# img_width = img_height = 32\n",
    "# numClasses = 340\n",
    "# numStartFilters = 8\n",
    "# model = baseline_conv_model_functional_API(numStartFilters, numClasses, img_height, img_width)\n",
    "# ############## Remove\n",
    "# model.summary()"
   ]
  },
  {
   "cell_type": "code",
   "execution_count": 12,
   "metadata": {},
   "outputs": [
    {
     "name": "stdout",
     "output_type": "stream",
     "text": [
      "Epoch 1/100\n",
      "170/170 [==============================] - 1203s 7s/step - loss: 5.7035 - acc: 0.0157 - top_3_accuracy: 0.0395 - categorical_crossentropy: 5.7035 - val_loss: 4.8953 - val_acc: 0.0611 - val_top_3_accuracy: 0.1344 - val_categorical_crossentropy: 4.8953\n",
      "Epoch 2/100\n",
      "170/170 [==============================] - 1093s 6s/step - loss: 4.6631 - acc: 0.0722 - top_3_accuracy: 0.1597 - categorical_crossentropy: 4.6631 - val_loss: 4.2217 - val_acc: 0.1350 - val_top_3_accuracy: 0.2662 - val_categorical_crossentropy: 4.2217\n",
      "Epoch 3/100\n",
      "170/170 [==============================] - 992s 6s/step - loss: 4.1739 - acc: 0.1240 - top_3_accuracy: 0.2519 - categorical_crossentropy: 4.1739 - val_loss: 3.7995 - val_acc: 0.1928 - val_top_3_accuracy: 0.3533 - val_categorical_crossentropy: 3.7995\n",
      "Epoch 4/100\n",
      "170/170 [==============================] - 974s 6s/step - loss: 3.8424 - acc: 0.1663 - top_3_accuracy: 0.3184 - categorical_crossentropy: 3.8424 - val_loss: 3.4497 - val_acc: 0.2455 - val_top_3_accuracy: 0.4290 - val_categorical_crossentropy: 3.4497\n",
      "Epoch 5/100\n",
      "170/170 [==============================] - 974s 6s/step - loss: 3.5971 - acc: 0.2013 - top_3_accuracy: 0.3716 - categorical_crossentropy: 3.5971 - val_loss: 3.2178 - val_acc: 0.2799 - val_top_3_accuracy: 0.4748 - val_categorical_crossentropy: 3.2178\n",
      "Epoch 6/100\n",
      "170/170 [==============================] - 969s 6s/step - loss: 3.4042 - acc: 0.2297 - top_3_accuracy: 0.4118 - categorical_crossentropy: 3.4042 - val_loss: 3.0253 - val_acc: 0.3101 - val_top_3_accuracy: 0.5123 - val_categorical_crossentropy: 3.0253\n",
      "Epoch 7/100\n",
      "170/170 [==============================] - 987s 6s/step - loss: 3.2502 - acc: 0.2512 - top_3_accuracy: 0.4443 - categorical_crossentropy: 3.2502 - val_loss: 2.9085 - val_acc: 0.3259 - val_top_3_accuracy: 0.5356 - val_categorical_crossentropy: 2.9085\n",
      "Epoch 8/100\n",
      "170/170 [==============================] - 983s 6s/step - loss: 3.1302 - acc: 0.2709 - top_3_accuracy: 0.4679 - categorical_crossentropy: 3.1302 - val_loss: 2.7904 - val_acc: 0.3394 - val_top_3_accuracy: 0.5518 - val_categorical_crossentropy: 2.7904\n",
      "Epoch 9/100\n",
      "170/170 [==============================] - 975s 6s/step - loss: 3.0310 - acc: 0.2875 - top_3_accuracy: 0.4888 - categorical_crossentropy: 3.0310 - val_loss: 2.7147 - val_acc: 0.3568 - val_top_3_accuracy: 0.5684 - val_categorical_crossentropy: 2.7147\n",
      "Epoch 10/100\n",
      "170/170 [==============================] - 978s 6s/step - loss: 2.9425 - acc: 0.3008 - top_3_accuracy: 0.5082 - categorical_crossentropy: 2.9425 - val_loss: 2.6472 - val_acc: 0.3669 - val_top_3_accuracy: 0.5771 - val_categorical_crossentropy: 2.6472\n",
      "Epoch 11/100\n",
      "170/170 [==============================] - 980s 6s/step - loss: 2.8666 - acc: 0.3130 - top_3_accuracy: 0.5220 - categorical_crossentropy: 2.8666 - val_loss: 2.6140 - val_acc: 0.3726 - val_top_3_accuracy: 0.5846 - val_categorical_crossentropy: 2.6140\n",
      "Epoch 12/100\n",
      "170/170 [==============================] - 958s 6s/step - loss: 2.8019 - acc: 0.3253 - top_3_accuracy: 0.5358 - categorical_crossentropy: 2.8019 - val_loss: 2.5804 - val_acc: 0.3798 - val_top_3_accuracy: 0.5944 - val_categorical_crossentropy: 2.5804\n",
      "Epoch 13/100\n",
      "170/170 [==============================] - 989s 6s/step - loss: 2.7425 - acc: 0.3335 - top_3_accuracy: 0.5470 - categorical_crossentropy: 2.7425 - val_loss: 2.5333 - val_acc: 0.3870 - val_top_3_accuracy: 0.6037 - val_categorical_crossentropy: 2.5333\n",
      "Epoch 14/100\n",
      "170/170 [==============================] - 980s 6s/step - loss: 2.6892 - acc: 0.3427 - top_3_accuracy: 0.5578 - categorical_crossentropy: 2.6892 - val_loss: 2.5103 - val_acc: 0.3907 - val_top_3_accuracy: 0.6066 - val_categorical_crossentropy: 2.5103\n",
      "Epoch 15/100\n",
      "170/170 [==============================] - 988s 6s/step - loss: 2.6350 - acc: 0.3515 - top_3_accuracy: 0.5713 - categorical_crossentropy: 2.6350 - val_loss: 2.4632 - val_acc: 0.4022 - val_top_3_accuracy: 0.6180 - val_categorical_crossentropy: 2.4632\n",
      "Epoch 16/100\n",
      "170/170 [==============================] - 976s 6s/step - loss: 2.5956 - acc: 0.3591 - top_3_accuracy: 0.5781 - categorical_crossentropy: 2.5956 - val_loss: 2.4815 - val_acc: 0.3981 - val_top_3_accuracy: 0.6115 - val_categorical_crossentropy: 2.4815\n",
      "Epoch 17/100\n",
      "170/170 [==============================] - 986s 6s/step - loss: 2.5543 - acc: 0.3661 - top_3_accuracy: 0.5867 - categorical_crossentropy: 2.5543 - val_loss: 2.4481 - val_acc: 0.4038 - val_top_3_accuracy: 0.6184 - val_categorical_crossentropy: 2.4481\n",
      "Epoch 18/100\n",
      "170/170 [==============================] - 980s 6s/step - loss: 2.5237 - acc: 0.3705 - top_3_accuracy: 0.5920 - categorical_crossentropy: 2.5237 - val_loss: 2.4400 - val_acc: 0.4058 - val_top_3_accuracy: 0.6206 - val_categorical_crossentropy: 2.4400\n",
      "Epoch 19/100\n",
      "170/170 [==============================] - 972s 6s/step - loss: 2.4849 - acc: 0.3770 - top_3_accuracy: 0.6009 - categorical_crossentropy: 2.4849 - val_loss: 2.3958 - val_acc: 0.4121 - val_top_3_accuracy: 0.6307 - val_categorical_crossentropy: 2.3958\n",
      "Epoch 20/100\n",
      "170/170 [==============================] - 989s 6s/step - loss: 2.4533 - acc: 0.3832 - top_3_accuracy: 0.6072 - categorical_crossentropy: 2.4533 - val_loss: 2.3772 - val_acc: 0.4184 - val_top_3_accuracy: 0.6355 - val_categorical_crossentropy: 2.3772\n",
      "Epoch 21/100\n",
      "170/170 [==============================] - 986s 6s/step - loss: 2.4260 - acc: 0.3864 - top_3_accuracy: 0.6117 - categorical_crossentropy: 2.4260 - val_loss: 2.3909 - val_acc: 0.4173 - val_top_3_accuracy: 0.6317 - val_categorical_crossentropy: 2.3909\n",
      "Epoch 22/100\n",
      "170/170 [==============================] - 1034s 6s/step - loss: 2.3879 - acc: 0.3944 - top_3_accuracy: 0.6213 - categorical_crossentropy: 2.3879 - val_loss: 2.3849 - val_acc: 0.4182 - val_top_3_accuracy: 0.6370 - val_categorical_crossentropy: 2.3849\n",
      "Epoch 23/100\n",
      "170/170 [==============================] - 978s 6s/step - loss: 2.3670 - acc: 0.3970 - top_3_accuracy: 0.6241 - categorical_crossentropy: 2.3670 - val_loss: 2.4072 - val_acc: 0.4131 - val_top_3_accuracy: 0.6309 - val_categorical_crossentropy: 2.4072\n",
      "Epoch 24/100\n",
      "170/170 [==============================] - 995s 6s/step - loss: 2.3393 - acc: 0.4039 - top_3_accuracy: 0.6301 - categorical_crossentropy: 2.3393 - val_loss: 2.3712 - val_acc: 0.4241 - val_top_3_accuracy: 0.6379 - val_categorical_crossentropy: 2.3712\n",
      "Epoch 25/100\n",
      "170/170 [==============================] - 968s 6s/step - loss: 2.3125 - acc: 0.4058 - top_3_accuracy: 0.6354 - categorical_crossentropy: 2.3125 - val_loss: 2.3429 - val_acc: 0.4263 - val_top_3_accuracy: 0.6420 - val_categorical_crossentropy: 2.3429\n",
      "Epoch 26/100\n",
      "170/170 [==============================] - 980s 6s/step - loss: 2.2866 - acc: 0.4102 - top_3_accuracy: 0.6416 - categorical_crossentropy: 2.2866 - val_loss: 2.3515 - val_acc: 0.4249 - val_top_3_accuracy: 0.6424 - val_categorical_crossentropy: 2.3515\n",
      "Epoch 27/100\n",
      "170/170 [==============================] - 974s 6s/step - loss: 2.2706 - acc: 0.4139 - top_3_accuracy: 0.6439 - categorical_crossentropy: 2.2706 - val_loss: 2.3679 - val_acc: 0.4251 - val_top_3_accuracy: 0.6405 - val_categorical_crossentropy: 2.3679\n",
      "Epoch 28/100\n",
      "170/170 [==============================] - 972s 6s/step - loss: 2.2559 - acc: 0.4163 - top_3_accuracy: 0.6461 - categorical_crossentropy: 2.2559 - val_loss: 2.3477 - val_acc: 0.4285 - val_top_3_accuracy: 0.6463 - val_categorical_crossentropy: 2.3477\n",
      "Epoch 29/100\n",
      "170/170 [==============================] - 995s 6s/step - loss: 2.2208 - acc: 0.4235 - top_3_accuracy: 0.6542 - categorical_crossentropy: 2.2208 - val_loss: 2.3720 - val_acc: 0.4257 - val_top_3_accuracy: 0.6373 - val_categorical_crossentropy: 2.3720\n",
      "Epoch 30/100\n",
      "170/170 [==============================] - 987s 6s/step - loss: 2.1984 - acc: 0.4272 - top_3_accuracy: 0.6594 - categorical_crossentropy: 2.1984 - val_loss: 2.3767 - val_acc: 0.4214 - val_top_3_accuracy: 0.6394 - val_categorical_crossentropy: 2.3767\n",
      "Epoch 31/100\n",
      "170/170 [==============================] - 1001s 6s/step - loss: 2.1826 - acc: 0.4304 - top_3_accuracy: 0.6616 - categorical_crossentropy: 2.1826 - val_loss: 2.3964 - val_acc: 0.4227 - val_top_3_accuracy: 0.6364 - val_categorical_crossentropy: 2.3964\n",
      "Epoch 32/100\n"
     ]
    },
    {
     "name": "stdout",
     "output_type": "stream",
     "text": [
      "170/170 [==============================] - 1152s 7s/step - loss: 2.1530 - acc: 0.4370 - top_3_accuracy: 0.6683 - categorical_crossentropy: 2.1530 - val_loss: 2.4441 - val_acc: 0.4145 - val_top_3_accuracy: 0.6262 - val_categorical_crossentropy: 2.4441\n",
      "Epoch 33/100\n",
      "170/170 [==============================] - 1169s 7s/step - loss: 2.1635 - acc: 0.4337 - top_3_accuracy: 0.6663 - categorical_crossentropy: 2.1635 - val_loss: 2.4350 - val_acc: 0.4138 - val_top_3_accuracy: 0.6254 - val_categorical_crossentropy: 2.4350\n",
      "Epoch 34/100\n",
      "170/170 [==============================] - 1058s 6s/step - loss: 2.1278 - acc: 0.4418 - top_3_accuracy: 0.6733 - categorical_crossentropy: 2.1278 - val_loss: 2.4426 - val_acc: 0.4146 - val_top_3_accuracy: 0.6282 - val_categorical_crossentropy: 2.4426\n",
      "Epoch 35/100\n",
      "170/170 [==============================] - 987s 6s/step - loss: 2.0950 - acc: 0.4468 - top_3_accuracy: 0.6800 - categorical_crossentropy: 2.0950 - val_loss: 2.4526 - val_acc: 0.4136 - val_top_3_accuracy: 0.6231 - val_categorical_crossentropy: 2.4526\n",
      "Epoch 36/100\n",
      "170/170 [==============================] - 983s 6s/step - loss: 2.0659 - acc: 0.4524 - top_3_accuracy: 0.6845 - categorical_crossentropy: 2.0659 - val_loss: 2.4709 - val_acc: 0.4154 - val_top_3_accuracy: 0.6233 - val_categorical_crossentropy: 2.4709\n",
      "Epoch 37/100\n",
      "170/170 [==============================] - 987s 6s/step - loss: 2.0599 - acc: 0.4495 - top_3_accuracy: 0.6858 - categorical_crossentropy: 2.0599 - val_loss: 2.4367 - val_acc: 0.4185 - val_top_3_accuracy: 0.6327 - val_categorical_crossentropy: 2.4367\n",
      "Epoch 38/100\n",
      "170/170 [==============================] - 1043s 6s/step - loss: 2.0239 - acc: 0.4603 - top_3_accuracy: 0.6937 - categorical_crossentropy: 2.0239 - val_loss: 2.4557 - val_acc: 0.4179 - val_top_3_accuracy: 0.6261 - val_categorical_crossentropy: 2.4557\n",
      "Epoch 39/100\n",
      "170/170 [==============================] - 1141s 7s/step - loss: 2.0080 - acc: 0.4629 - top_3_accuracy: 0.6955 - categorical_crossentropy: 2.0080 - val_loss: 2.4168 - val_acc: 0.4257 - val_top_3_accuracy: 0.6358 - val_categorical_crossentropy: 2.4168\n",
      "Epoch 40/100\n",
      "170/170 [==============================] - 1256s 7s/step - loss: 2.0034 - acc: 0.4636 - top_3_accuracy: 0.6979 - categorical_crossentropy: 2.0034 - val_loss: 2.4665 - val_acc: 0.4154 - val_top_3_accuracy: 0.6243 - val_categorical_crossentropy: 2.4665\n",
      "Epoch 41/100\n",
      "170/170 [==============================] - 1186s 7s/step - loss: 1.9923 - acc: 0.4649 - top_3_accuracy: 0.7011 - categorical_crossentropy: 1.9923 - val_loss: 2.4324 - val_acc: 0.4244 - val_top_3_accuracy: 0.6328 - val_categorical_crossentropy: 2.4324\n",
      "Epoch 42/100\n",
      "170/170 [==============================] - 1158s 7s/step - loss: 1.9765 - acc: 0.4680 - top_3_accuracy: 0.7031 - categorical_crossentropy: 1.9765 - val_loss: 2.4548 - val_acc: 0.4217 - val_top_3_accuracy: 0.6327 - val_categorical_crossentropy: 2.4548\n",
      "Epoch 43/100\n",
      "170/170 [==============================] - 1154s 7s/step - loss: 1.9733 - acc: 0.4712 - top_3_accuracy: 0.7043 - categorical_crossentropy: 1.9733 - val_loss: 2.4883 - val_acc: 0.4127 - val_top_3_accuracy: 0.6238 - val_categorical_crossentropy: 2.4883\n",
      "Epoch 44/100\n",
      "170/170 [==============================] - 1146s 7s/step - loss: 1.9884 - acc: 0.4671 - top_3_accuracy: 0.7003 - categorical_crossentropy: 1.9884 - val_loss: 2.4646 - val_acc: 0.4190 - val_top_3_accuracy: 0.6288 - val_categorical_crossentropy: 2.4646\n",
      "Epoch 45/100\n",
      "170/170 [==============================] - 1146s 7s/step - loss: 1.9612 - acc: 0.4708 - top_3_accuracy: 0.7064 - categorical_crossentropy: 1.9612 - val_loss: 2.4619 - val_acc: 0.4197 - val_top_3_accuracy: 0.6302 - val_categorical_crossentropy: 2.4619\n",
      "Epoch 46/100\n",
      "170/170 [==============================] - 1139s 7s/step - loss: 1.9253 - acc: 0.4799 - top_3_accuracy: 0.7142 - categorical_crossentropy: 1.9253 - val_loss: 2.4829 - val_acc: 0.4189 - val_top_3_accuracy: 0.6277 - val_categorical_crossentropy: 2.4829\n",
      "Epoch 47/100\n",
      "170/170 [==============================] - 1154s 7s/step - loss: 1.9064 - acc: 0.4835 - top_3_accuracy: 0.7186 - categorical_crossentropy: 1.9064 - val_loss: 2.5072 - val_acc: 0.4136 - val_top_3_accuracy: 0.6257 - val_categorical_crossentropy: 2.5072\n",
      "Epoch 48/100\n",
      "170/170 [==============================] - 1014s 6s/step - loss: 1.8948 - acc: 0.4860 - top_3_accuracy: 0.7213 - categorical_crossentropy: 1.8948 - val_loss: 2.4823 - val_acc: 0.4208 - val_top_3_accuracy: 0.6346 - val_categorical_crossentropy: 2.4823\n",
      "Epoch 49/100\n",
      "170/170 [==============================] - 994s 6s/step - loss: 1.8925 - acc: 0.4860 - top_3_accuracy: 0.7220 - categorical_crossentropy: 1.8925 - val_loss: 2.4727 - val_acc: 0.4219 - val_top_3_accuracy: 0.6314 - val_categorical_crossentropy: 2.4727\n",
      "Epoch 50/100\n",
      "170/170 [==============================] - 1006s 6s/step - loss: 1.8872 - acc: 0.4885 - top_3_accuracy: 0.7220 - categorical_crossentropy: 1.8872 - val_loss: 2.5387 - val_acc: 0.4110 - val_top_3_accuracy: 0.6218 - val_categorical_crossentropy: 2.5387\n",
      "Epoch 51/100\n",
      "170/170 [==============================] - 985s 6s/step - loss: 1.8899 - acc: 0.4876 - top_3_accuracy: 0.7221 - categorical_crossentropy: 1.8899 - val_loss: 2.4926 - val_acc: 0.4194 - val_top_3_accuracy: 0.6293 - val_categorical_crossentropy: 2.4926\n",
      "Epoch 52/100\n",
      "170/170 [==============================] - 993s 6s/step - loss: 1.8781 - acc: 0.4900 - top_3_accuracy: 0.7241 - categorical_crossentropy: 1.8781 - val_loss: 2.4588 - val_acc: 0.4299 - val_top_3_accuracy: 0.6385 - val_categorical_crossentropy: 2.4588\n",
      "Epoch 53/100\n",
      "170/170 [==============================] - 1218s 7s/step - loss: 1.8660 - acc: 0.4924 - top_3_accuracy: 0.7290 - categorical_crossentropy: 1.8660 - val_loss: 2.4896 - val_acc: 0.4237 - val_top_3_accuracy: 0.6341 - val_categorical_crossentropy: 2.4896\n",
      "Epoch 54/100\n",
      "170/170 [==============================] - 1138s 7s/step - loss: 1.8535 - acc: 0.4941 - top_3_accuracy: 0.7295 - categorical_crossentropy: 1.8535 - val_loss: 2.4793 - val_acc: 0.4261 - val_top_3_accuracy: 0.6373 - val_categorical_crossentropy: 2.4793\n",
      "Epoch 55/100\n",
      "170/170 [==============================] - 1423s 8s/step - loss: 1.8250 - acc: 0.5026 - top_3_accuracy: 0.7357 - categorical_crossentropy: 1.8250 - val_loss: 2.4627 - val_acc: 0.4294 - val_top_3_accuracy: 0.6424 - val_categorical_crossentropy: 2.4627\n",
      "Epoch 56/100\n",
      "170/170 [==============================] - 1441s 8s/step - loss: 1.8170 - acc: 0.5036 - top_3_accuracy: 0.7374 - categorical_crossentropy: 1.8170 - val_loss: 2.4791 - val_acc: 0.4232 - val_top_3_accuracy: 0.6353 - val_categorical_crossentropy: 2.4791\n",
      "Epoch 57/100\n",
      "170/170 [==============================] - 1369s 8s/step - loss: 1.8131 - acc: 0.5021 - top_3_accuracy: 0.7377 - categorical_crossentropy: 1.8131 - val_loss: 2.4727 - val_acc: 0.4263 - val_top_3_accuracy: 0.6380 - val_categorical_crossentropy: 2.4727\n",
      "Epoch 58/100\n",
      "170/170 [==============================] - 1283s 8s/step - loss: 1.7760 - acc: 0.5108 - top_3_accuracy: 0.7468 - categorical_crossentropy: 1.7760 - val_loss: 2.4810 - val_acc: 0.4257 - val_top_3_accuracy: 0.6376 - val_categorical_crossentropy: 2.4810\n",
      "Epoch 59/100\n",
      "170/170 [==============================] - 1231s 7s/step - loss: 1.7660 - acc: 0.5130 - top_3_accuracy: 0.7471 - categorical_crossentropy: 1.7660 - val_loss: 2.4975 - val_acc: 0.4221 - val_top_3_accuracy: 0.6352 - val_categorical_crossentropy: 2.4975\n",
      "Epoch 60/100\n",
      "170/170 [==============================] - 1244s 7s/step - loss: 1.7945 - acc: 0.5066 - top_3_accuracy: 0.7430 - categorical_crossentropy: 1.7945 - val_loss: 2.5235 - val_acc: 0.4200 - val_top_3_accuracy: 0.6327 - val_categorical_crossentropy: 2.5235\n",
      "Epoch 61/100\n",
      "170/170 [==============================] - 1239s 7s/step - loss: 1.7777 - acc: 0.5096 - top_3_accuracy: 0.7444 - categorical_crossentropy: 1.7777 - val_loss: 2.5183 - val_acc: 0.4273 - val_top_3_accuracy: 0.6359 - val_categorical_crossentropy: 2.5183\n",
      "Epoch 62/100\n",
      "170/170 [==============================] - 1222s 7s/step - loss: 1.7502 - acc: 0.5165 - top_3_accuracy: 0.7497 - categorical_crossentropy: 1.7502 - val_loss: 2.5277 - val_acc: 0.4194 - val_top_3_accuracy: 0.6296 - val_categorical_crossentropy: 2.5277\n",
      "Epoch 63/100\n"
     ]
    },
    {
     "name": "stdout",
     "output_type": "stream",
     "text": [
      "170/170 [==============================] - 1225s 7s/step - loss: 1.7578 - acc: 0.5157 - top_3_accuracy: 0.7498 - categorical_crossentropy: 1.7578 - val_loss: 2.5709 - val_acc: 0.4133 - val_top_3_accuracy: 0.6216 - val_categorical_crossentropy: 2.5709\n",
      "Epoch 64/100\n",
      "170/170 [==============================] - 1331s 8s/step - loss: 1.7542 - acc: 0.5160 - top_3_accuracy: 0.7497 - categorical_crossentropy: 1.7542 - val_loss: 2.5481 - val_acc: 0.4180 - val_top_3_accuracy: 0.6263 - val_categorical_crossentropy: 2.5481\n",
      "Epoch 65/100\n",
      "170/170 [==============================] - 1406s 8s/step - loss: 1.7435 - acc: 0.5182 - top_3_accuracy: 0.7530 - categorical_crossentropy: 1.7435 - val_loss: 2.5814 - val_acc: 0.4129 - val_top_3_accuracy: 0.6246 - val_categorical_crossentropy: 2.5814\n",
      "Epoch 66/100\n",
      "170/170 [==============================] - 1252s 7s/step - loss: 1.7432 - acc: 0.5189 - top_3_accuracy: 0.7537 - categorical_crossentropy: 1.7432 - val_loss: 2.5834 - val_acc: 0.4157 - val_top_3_accuracy: 0.6238 - val_categorical_crossentropy: 2.5834\n",
      "Epoch 67/100\n",
      "170/170 [==============================] - 1251s 7s/step - loss: 1.7093 - acc: 0.5251 - top_3_accuracy: 0.7591 - categorical_crossentropy: 1.7093 - val_loss: 2.5619 - val_acc: 0.4173 - val_top_3_accuracy: 0.6248 - val_categorical_crossentropy: 2.5619\n",
      "Epoch 68/100\n",
      "170/170 [==============================] - 1282s 8s/step - loss: 1.6949 - acc: 0.5273 - top_3_accuracy: 0.7626 - categorical_crossentropy: 1.6949 - val_loss: 2.5956 - val_acc: 0.4092 - val_top_3_accuracy: 0.6186 - val_categorical_crossentropy: 2.5956\n",
      "Epoch 69/100\n",
      "170/170 [==============================] - 1232s 7s/step - loss: 1.6563 - acc: 0.5369 - top_3_accuracy: 0.7707 - categorical_crossentropy: 1.6563 - val_loss: 2.5475 - val_acc: 0.4217 - val_top_3_accuracy: 0.6333 - val_categorical_crossentropy: 2.5475\n",
      "Epoch 70/100\n",
      "170/170 [==============================] - 1238s 7s/step - loss: 1.6341 - acc: 0.5426 - top_3_accuracy: 0.7762 - categorical_crossentropy: 1.6341 - val_loss: 2.5582 - val_acc: 0.4192 - val_top_3_accuracy: 0.6309 - val_categorical_crossentropy: 2.5582\n",
      "Epoch 71/100\n",
      "170/170 [==============================] - 1259s 7s/step - loss: 1.6262 - acc: 0.5442 - top_3_accuracy: 0.7749 - categorical_crossentropy: 1.6262 - val_loss: 2.5678 - val_acc: 0.4199 - val_top_3_accuracy: 0.6310 - val_categorical_crossentropy: 2.5678\n",
      "Epoch 72/100\n",
      "170/170 [==============================] - 1227s 7s/step - loss: 1.6108 - acc: 0.5467 - top_3_accuracy: 0.7777 - categorical_crossentropy: 1.6108 - val_loss: 2.5729 - val_acc: 0.4241 - val_top_3_accuracy: 0.6307 - val_categorical_crossentropy: 2.5729\n",
      "Epoch 73/100\n",
      "170/170 [==============================] - 1265s 7s/step - loss: 1.6167 - acc: 0.5482 - top_3_accuracy: 0.7769 - categorical_crossentropy: 1.6167 - val_loss: 2.5752 - val_acc: 0.4197 - val_top_3_accuracy: 0.6326 - val_categorical_crossentropy: 2.5752\n",
      "Epoch 74/100\n",
      "170/170 [==============================] - 1252s 7s/step - loss: 1.5963 - acc: 0.5488 - top_3_accuracy: 0.7804 - categorical_crossentropy: 1.5963 - val_loss: 2.6222 - val_acc: 0.4139 - val_top_3_accuracy: 0.6247 - val_categorical_crossentropy: 2.6222\n",
      "Epoch 75/100\n",
      "170/170 [==============================] - 1244s 7s/step - loss: 1.5907 - acc: 0.5505 - top_3_accuracy: 0.7837 - categorical_crossentropy: 1.5907 - val_loss: 2.5978 - val_acc: 0.4193 - val_top_3_accuracy: 0.6296 - val_categorical_crossentropy: 2.5978\n",
      "Epoch 76/100\n",
      "170/170 [==============================] - 1249s 7s/step - loss: 1.5758 - acc: 0.5558 - top_3_accuracy: 0.7869 - categorical_crossentropy: 1.5758 - val_loss: 2.6096 - val_acc: 0.4181 - val_top_3_accuracy: 0.6264 - val_categorical_crossentropy: 2.6096\n",
      "Epoch 77/100\n",
      "170/170 [==============================] - 1256s 7s/step - loss: 1.5654 - acc: 0.5569 - top_3_accuracy: 0.7881 - categorical_crossentropy: 1.5654 - val_loss: 2.6400 - val_acc: 0.4160 - val_top_3_accuracy: 0.6239 - val_categorical_crossentropy: 2.6400\n",
      "Epoch 78/100\n",
      "170/170 [==============================] - 1246s 7s/step - loss: 1.5601 - acc: 0.5595 - top_3_accuracy: 0.7889 - categorical_crossentropy: 1.5601 - val_loss: 2.6333 - val_acc: 0.4198 - val_top_3_accuracy: 0.6304 - val_categorical_crossentropy: 2.6333\n",
      "Epoch 79/100\n",
      "170/170 [==============================] - 1309s 8s/step - loss: 1.5718 - acc: 0.5568 - top_3_accuracy: 0.7859 - categorical_crossentropy: 1.5718 - val_loss: 2.6040 - val_acc: 0.4176 - val_top_3_accuracy: 0.6282 - val_categorical_crossentropy: 2.6040\n",
      "Epoch 80/100\n",
      "170/170 [==============================] - 1271s 7s/step - loss: 1.5558 - acc: 0.5616 - top_3_accuracy: 0.7888 - categorical_crossentropy: 1.5558 - val_loss: 2.6817 - val_acc: 0.4070 - val_top_3_accuracy: 0.6181 - val_categorical_crossentropy: 2.6817\n",
      "Epoch 81/100\n",
      "170/170 [==============================] - 1249s 7s/step - loss: 1.5408 - acc: 0.5646 - top_3_accuracy: 0.7939 - categorical_crossentropy: 1.5408 - val_loss: 2.6358 - val_acc: 0.4176 - val_top_3_accuracy: 0.6266 - val_categorical_crossentropy: 2.6358\n",
      "Epoch 82/100\n",
      "170/170 [==============================] - 1256s 7s/step - loss: 1.5228 - acc: 0.5672 - top_3_accuracy: 0.7973 - categorical_crossentropy: 1.5228 - val_loss: 2.6549 - val_acc: 0.4167 - val_top_3_accuracy: 0.6277 - val_categorical_crossentropy: 2.6549\n",
      "Epoch 83/100\n",
      "170/170 [==============================] - 1258s 7s/step - loss: 1.5272 - acc: 0.5668 - top_3_accuracy: 0.7953 - categorical_crossentropy: 1.5272 - val_loss: 2.6476 - val_acc: 0.4130 - val_top_3_accuracy: 0.6240 - val_categorical_crossentropy: 2.6476\n",
      "Epoch 84/100\n",
      "170/170 [==============================] - 1237s 7s/step - loss: 1.5328 - acc: 0.5644 - top_3_accuracy: 0.7958 - categorical_crossentropy: 1.5328 - val_loss: 2.6538 - val_acc: 0.4120 - val_top_3_accuracy: 0.6238 - val_categorical_crossentropy: 2.6538\n",
      "Epoch 85/100\n",
      "170/170 [==============================] - 1238s 7s/step - loss: 1.5147 - acc: 0.5698 - top_3_accuracy: 0.7980 - categorical_crossentropy: 1.5147 - val_loss: 2.6378 - val_acc: 0.4200 - val_top_3_accuracy: 0.6309 - val_categorical_crossentropy: 2.6378\n",
      "Epoch 86/100\n",
      "170/170 [==============================] - 1222s 7s/step - loss: 1.5237 - acc: 0.5694 - top_3_accuracy: 0.7974 - categorical_crossentropy: 1.5237 - val_loss: 2.6292 - val_acc: 0.4172 - val_top_3_accuracy: 0.6288 - val_categorical_crossentropy: 2.6292\n",
      "Epoch 87/100\n",
      "170/170 [==============================] - 1233s 7s/step - loss: 1.5114 - acc: 0.5723 - top_3_accuracy: 0.7975 - categorical_crossentropy: 1.5114 - val_loss: 2.7040 - val_acc: 0.4114 - val_top_3_accuracy: 0.6208 - val_categorical_crossentropy: 2.7040\n",
      "Epoch 88/100\n",
      "170/170 [==============================] - 1236s 7s/step - loss: 1.4967 - acc: 0.5756 - top_3_accuracy: 0.8017 - categorical_crossentropy: 1.4967 - val_loss: 2.7055 - val_acc: 0.4095 - val_top_3_accuracy: 0.6221 - val_categorical_crossentropy: 2.7055\n",
      "Epoch 89/100\n",
      "170/170 [==============================] - 1239s 7s/step - loss: 1.5067 - acc: 0.5741 - top_3_accuracy: 0.8004 - categorical_crossentropy: 1.5067 - val_loss: 2.7538 - val_acc: 0.4020 - val_top_3_accuracy: 0.6065 - val_categorical_crossentropy: 2.7538\n",
      "Epoch 90/100\n",
      "170/170 [==============================] - 1226s 7s/step - loss: 1.5157 - acc: 0.5717 - top_3_accuracy: 0.7987 - categorical_crossentropy: 1.5157 - val_loss: 2.7597 - val_acc: 0.3988 - val_top_3_accuracy: 0.6087 - val_categorical_crossentropy: 2.7597\n",
      "Epoch 91/100\n",
      "170/170 [==============================] - 1256s 7s/step - loss: 1.5140 - acc: 0.5703 - top_3_accuracy: 0.7979 - categorical_crossentropy: 1.5140 - val_loss: 2.7793 - val_acc: 0.4011 - val_top_3_accuracy: 0.6075 - val_categorical_crossentropy: 2.7793\n",
      "Epoch 92/100\n",
      "170/170 [==============================] - 1236s 7s/step - loss: 1.5450 - acc: 0.5652 - top_3_accuracy: 0.7931 - categorical_crossentropy: 1.5450 - val_loss: 2.8742 - val_acc: 0.3848 - val_top_3_accuracy: 0.5880 - val_categorical_crossentropy: 2.8742\n",
      "Epoch 93/100\n",
      "170/170 [==============================] - 1239s 7s/step - loss: 1.5756 - acc: 0.5585 - top_3_accuracy: 0.7881 - categorical_crossentropy: 1.5756 - val_loss: 2.8203 - val_acc: 0.3922 - val_top_3_accuracy: 0.5979 - val_categorical_crossentropy: 2.8203\n",
      "Epoch 94/100\n"
     ]
    },
    {
     "name": "stdout",
     "output_type": "stream",
     "text": [
      "170/170 [==============================] - 1277s 8s/step - loss: 1.5884 - acc: 0.5567 - top_3_accuracy: 0.7865 - categorical_crossentropy: 1.5884 - val_loss: 2.8080 - val_acc: 0.3932 - val_top_3_accuracy: 0.5999 - val_categorical_crossentropy: 2.8080\n",
      "Epoch 95/100\n",
      "170/170 [==============================] - 1242s 7s/step - loss: 1.5744 - acc: 0.5610 - top_3_accuracy: 0.7863 - categorical_crossentropy: 1.5744 - val_loss: 2.7772 - val_acc: 0.4001 - val_top_3_accuracy: 0.6047 - val_categorical_crossentropy: 2.7772\n",
      "Epoch 96/100\n",
      "170/170 [==============================] - 1236s 7s/step - loss: 1.5313 - acc: 0.5660 - top_3_accuracy: 0.7944 - categorical_crossentropy: 1.5313 - val_loss: 2.8041 - val_acc: 0.4001 - val_top_3_accuracy: 0.6056 - val_categorical_crossentropy: 2.8041\n",
      "Epoch 97/100\n",
      "170/170 [==============================] - 3518s 21s/step - loss: 1.5049 - acc: 0.5742 - top_3_accuracy: 0.8015 - categorical_crossentropy: 1.5049 - val_loss: 2.7582 - val_acc: 0.4075 - val_top_3_accuracy: 0.6152 - val_categorical_crossentropy: 2.7582\n",
      "Epoch 98/100\n",
      "170/170 [==============================] - 1327s 8s/step - loss: 1.4965 - acc: 0.5775 - top_3_accuracy: 0.8020 - categorical_crossentropy: 1.4965 - val_loss: 2.6965 - val_acc: 0.4126 - val_top_3_accuracy: 0.6218 - val_categorical_crossentropy: 2.6965\n",
      "Epoch 99/100\n",
      "170/170 [==============================] - 1266s 7s/step - loss: 1.5358 - acc: 0.5697 - top_3_accuracy: 0.7957 - categorical_crossentropy: 1.5358 - val_loss: 2.7728 - val_acc: 0.4024 - val_top_3_accuracy: 0.6157 - val_categorical_crossentropy: 2.7728\n",
      "Epoch 100/100\n",
      "170/170 [==============================] - 1149s 7s/step - loss: 1.5309 - acc: 0.5696 - top_3_accuracy: 0.7965 - categorical_crossentropy: 1.5309 - val_loss: 2.7344 - val_acc: 0.4116 - val_top_3_accuracy: 0.6183 - val_categorical_crossentropy: 2.7344\n"
     ]
    },
    {
     "data": {
      "text/plain": [
       "<keras.callbacks.History at 0x11cea8b90>"
      ]
     },
     "execution_count": 12,
     "metadata": {},
     "output_type": "execute_result"
    }
   ],
   "source": [
    "# model = baseline_conv_model(4, 340, 32, 32)\n",
    "numStartFilters = 8\n",
    "model = baseline_conv_model_functional_API(numStartFilters, numClasses, img_height, img_width)\n",
    "model.fit_generator(\n",
    "        generator=dataGenerator,\n",
    "        epochs=100,\n",
    "        verbose=1,\n",
    "        shuffle=False,\n",
    "        validation_data=(X_test, y_test)\n",
    "    \n",
    "#         ,\n",
    "#         use_multiprocessing=True,\n",
    ")\n",
    "#       steps_per_epoch=(num_training_samples // batch_size),\n",
    "#       validation_data=my_validation_batch_generator,\n",
    "#       validation_steps=(num_validation_samples // batch_size),\n",
    "#       use_multiprocessing=False,\n",
    "#       workers=16,\n",
    "#       max_queue_size=32)\n"
   ]
  },
  {
   "cell_type": "code",
   "execution_count": 10,
   "metadata": {},
   "outputs": [
    {
     "name": "stdout",
     "output_type": "stream",
     "text": [
      "CNN Error: 29.11%\n"
     ]
    }
   ],
   "source": [
    "scores = model.evaluate(X_test, y_test, verbose=0)\n",
    "print(\"CNN Error: %.2f%%\" % (100-scores[1]*100))\n",
    "# model"
   ]
  },
  {
   "cell_type": "code",
   "execution_count": 17,
   "metadata": {},
   "outputs": [],
   "source": [
    "# model = 0"
   ]
  },
  {
   "cell_type": "code",
   "execution_count": 132,
   "metadata": {},
   "outputs": [],
   "source": [
    "# %%time\n",
    "# # Transform data for CNN\n",
    "# X_train, X_test, y_train, y_test, imgArr_test, map_class_to_numeric, map_numeric_to_class = CNN_dataPrep(train_df, img_height, img_width)"
   ]
  },
  {
   "cell_type": "code",
   "execution_count": 2,
   "metadata": {},
   "outputs": [],
   "source": [
    "# num_filters = 2\n",
    "# num_classes = 340\n",
    "# continueTrain = False\n",
    "# if continueTrain == False:\n",
    "#     model = baseline_conv_model(num_filters, num_classes, img_height, img_width)\n",
    "\n",
    "# # checkpoint\n",
    "# filepath=\"Saved_Models/weights.best.hdf5\"\n",
    "# checkpoint = ModelCheckpoint(filepath, monitor='val_acc', verbose=1, save_best_only=True, mode='max')\n",
    "# callbacks = [checkpoint]\n",
    "\n",
    "# print(model.summary())\n",
    "\n",
    "# hist = model.fit(X_train, \n",
    "#           y_train, \n",
    "#           validation_data=(X_test, y_test),\n",
    "#           epochs=2, \n",
    "#           batch_size=5, \n",
    "#           verbose=2,\n",
    "#           callbacks = callbacks)"
   ]
  },
  {
   "cell_type": "code",
   "execution_count": 3,
   "metadata": {},
   "outputs": [],
   "source": []
  },
  {
   "cell_type": "code",
   "execution_count": null,
   "metadata": {},
   "outputs": [],
   "source": []
  },
  {
   "cell_type": "code",
   "execution_count": 37,
   "metadata": {},
   "outputs": [
    {
     "name": "stdout",
     "output_type": "stream",
     "text": [
      "Saved model to disk\n"
     ]
    }
   ],
   "source": [
    "# Save the model\n",
    "# serialize model to JSON\n",
    "model_json = model.to_json()\n",
    "with open((\"Saved_Models/model_\" + str(datetime.today())[:16].replace(\" \", \"_\").replace(\":\",\"-\") + \".json\"), \"w\") as json_file:\n",
    "    json_file.write(model_json)\n",
    "# serialize weights to HDF5\n",
    "model.save_weights((\"Saved_Models/model_\" + str(datetime.today())[:16].replace(\" \", \"_\").replace(\":\",\"-\") + \".h5\"))\n",
    "print(\"Saved model to disk\")"
   ]
  },
  {
   "cell_type": "code",
   "execution_count": 25,
   "metadata": {},
   "outputs": [],
   "source": [
    "# model = \"\""
   ]
  },
  {
   "cell_type": "code",
   "execution_count": 24,
   "metadata": {},
   "outputs": [
    {
     "name": "stdout",
     "output_type": "stream",
     "text": [
      "Loaded model from disk\n"
     ]
    }
   ],
   "source": [
    "# Load the model back\n",
    "# load json and create model\n",
    "json_file = open('Saved_Models/model_2018-11-21_02-44.json', 'r')\n",
    "loaded_model_json = json_file.read()\n",
    "json_file.close()\n",
    "loaded_model = model_from_json(loaded_model_json)\n",
    "# load weights into new model\n",
    "loaded_model.load_weights(\"Saved_Models/model_2018-11-21_02-44.h5\")\n",
    "print(\"Loaded model from disk\")\n",
    " \n",
    "# evaluate loaded model on test data\n",
    "loaded_model.compile(loss='categorical_crossentropy', optimizer='adam', metrics=['accuracy', top_3_accuracy, 'categorical_crossentropy'])\n",
    "# score = loaded_model.evaluate(X, Y, verbose=0)\n",
    "# print(\"%s: %.2f%%\" % (loaded_model.metrics_names[1], score[1]*100))\n",
    "model = loaded_model"
   ]
  },
  {
   "cell_type": "code",
   "execution_count": null,
   "metadata": {},
   "outputs": [],
   "source": []
  },
  {
   "cell_type": "markdown",
   "metadata": {},
   "source": [
    "# Create Test Data Set"
   ]
  },
  {
   "cell_type": "code",
   "execution_count": 38,
   "metadata": {},
   "outputs": [],
   "source": [
    "def getTestData(img_height, img_width):\n",
    "        \n",
    "        numClasses = 340\n",
    "\n",
    "        test_df = pd.read_csv('test_simplified.csv')            \n",
    "\n",
    "        # Convert drawing to images\n",
    "        test_df['drawing'] = test_df['drawing'].apply(lambda x: draw_it(x, img_height, img_width))\n",
    "\n",
    "        # Reshape the array\n",
    "        test_imgArr = np.vstack(test_df['drawing'].values).flatten().reshape((test_df['drawing'].shape[0], img_height, img_width))\n",
    "    \n",
    "        # In Keras, the layers used for two-dimensional convolutions expect pixel values with the dimensions [width][height][pixels] for TF.\n",
    "        # In the case of RGB, the first dimension pixels would be 3 for the red, green and blue components and it would be like having 3 image inputs for every color image. In this case, the pixel values are gray scale, the pixel dimension is set to 1.\n",
    "        test_X = test_imgArr.reshape(test_imgArr.shape[0], img_height, img_width, 1).astype('float32')\n",
    "                \n",
    "        return test_df, test_X"
   ]
  },
  {
   "cell_type": "code",
   "execution_count": 39,
   "metadata": {},
   "outputs": [],
   "source": [
    "test_df, test_X = getTestData(img_width, img_height)"
   ]
  },
  {
   "cell_type": "code",
   "execution_count": 40,
   "metadata": {},
   "outputs": [
    {
     "name": "stderr",
     "output_type": "stream",
     "text": [
      "100%|██████████| 112199/112199 [00:22<00:00, 5018.47it/s]\n"
     ]
    }
   ],
   "source": [
    "# Make predictions\n",
    "preds = model.predict(test_X)\n",
    "outputDf = test_df.copy()[['key_id']]\n",
    "outputDf['word'] = ''\n",
    "map_numeric_to_class_space_normal = map_numeric_to_class.copy()\n",
    "for key in map_numeric_to_class_space_normal:\n",
    "    map_numeric_to_class_space_normal[key] = (map_numeric_to_class_space_normal[key].replace(\" \", \"_\"))\n",
    "\n",
    "for i in tqdm(range(preds.shape[0])):\n",
    "    outputDf['word'].at[i] = ' '.join(([map_numeric_to_class_space_normal[predClass] for predClass in [tup[1] for tup in sorted(zip(preds[i], range(340)), reverse=True)[:3]]]))\n",
    "\n",
    "# Create csv\n",
    "outputDf.to_csv('initial_pred.csv', index=False)"
   ]
  },
  {
   "cell_type": "code",
   "execution_count": null,
   "metadata": {},
   "outputs": [],
   "source": []
  }
 ],
 "metadata": {
  "kernelspec": {
   "display_name": "Python 2",
   "language": "python",
   "name": "python2"
  },
  "language_info": {
   "codemirror_mode": {
    "name": "ipython",
    "version": 2
   },
   "file_extension": ".py",
   "mimetype": "text/x-python",
   "name": "python",
   "nbconvert_exporter": "python",
   "pygments_lexer": "ipython2",
   "version": "2.7.15"
  }
 },
 "nbformat": 4,
 "nbformat_minor": 2
}
