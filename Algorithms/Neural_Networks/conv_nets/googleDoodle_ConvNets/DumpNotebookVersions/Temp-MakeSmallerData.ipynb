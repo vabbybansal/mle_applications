{
 "cells": [
  {
   "cell_type": "code",
   "execution_count": 1,
   "metadata": {},
   "outputs": [
    {
     "name": "stderr",
     "output_type": "stream",
     "text": [
      "Using TensorFlow backend.\n"
     ]
    },
    {
     "data": {
      "text/html": [
       "<style>.container { width:100% !important; }</style>"
      ],
      "text/plain": [
       "<IPython.core.display.HTML object>"
      ]
     },
     "metadata": {},
     "output_type": "display_data"
    }
   ],
   "source": [
    "import random\n",
    "import os\n",
    "import re\n",
    "from glob import glob\n",
    "from tqdm import tqdm\n",
    "import numpy as np\n",
    "\n",
    "import pandas as pd\n",
    "import ast\n",
    "import matplotlib.pyplot as plt\n",
    "%matplotlib inline\n",
    "import numpy as np\n",
    "from PIL import Image, ImageDraw, _imaging\n",
    "from __future__ import print_function\n",
    "import keras\n",
    "from keras.datasets import mnist\n",
    "from keras.models import Sequential\n",
    "from keras.layers import Dense, Dropout, Flatten, Activation\n",
    "from keras.layers import Conv2D, MaxPooling2D\n",
    "from keras import backend as K\n",
    "from keras import metrics\n",
    "from IPython.core.display import display, HTML\n",
    "display(HTML(\"<style>.container { width:100% !important; }</style>\"))\n",
    "from sklearn.model_selection import train_test_split\n",
    "import tensorflow as tf\n",
    "from datetime import datetime\n",
    "from keras.callbacks import History, ModelCheckpoint\n",
    "history = History()\n",
    "from keras.models import model_from_json"
   ]
  },
  {
   "cell_type": "code",
   "execution_count": 58,
   "metadata": {},
   "outputs": [],
   "source": [
    "fnames = glob('train_sample/*.csv')\n",
    "data = {}\n",
    "rows = 2\n",
    "skiprows = 10\n",
    "# Get n rows from all the csv files and append them into one dataframe\n",
    "train_df = pd.DataFrame(columns=pd.read_csv(fnames[0], nrows=1).columns)\n",
    "for name in fnames:\n",
    "    if skiprows == 0:\n",
    "        data = pd.read_csv(name, nrows=rows)\n",
    "    else:\n",
    "        data = pd.read_csv(name, nrows=rows, skiprows=range(1,skiprows))\n",
    "    \n",
    "#     data.to_csv('train_sample/' + name[17:])\n",
    "    train_df = train_df.append(data)\n",
    "# train_df.to_csv(\"test_sample/test.csv\")"
   ]
  },
  {
   "cell_type": "code",
   "execution_count": 59,
   "metadata": {},
   "outputs": [],
   "source": [
    "# pd.read_csv('test_sample/test.csv')"
   ]
  },
  {
   "cell_type": "code",
   "execution_count": null,
   "metadata": {},
   "outputs": [],
   "source": []
  },
  {
   "cell_type": "code",
   "execution_count": 65,
   "metadata": {},
   "outputs": [],
   "source": [
    "# train_df.reset_index().iloc[2]\n",
    "# train_df.iloc[5]\n",
    "train_df = train_df.reset_index().drop('index', axis=1)"
   ]
  },
  {
   "cell_type": "code",
   "execution_count": 67,
   "metadata": {},
   "outputs": [
    {
     "data": {
      "text/html": [
       "<div>\n",
       "<style scoped>\n",
       "    .dataframe tbody tr th:only-of-type {\n",
       "        vertical-align: middle;\n",
       "    }\n",
       "\n",
       "    .dataframe tbody tr th {\n",
       "        vertical-align: top;\n",
       "    }\n",
       "\n",
       "    .dataframe thead th {\n",
       "        text-align: right;\n",
       "    }\n",
       "</style>\n",
       "<table border=\"1\" class=\"dataframe\">\n",
       "  <thead>\n",
       "    <tr style=\"text-align: right;\">\n",
       "      <th></th>\n",
       "      <th>Unnamed: 0</th>\n",
       "      <th>countrycode</th>\n",
       "      <th>drawing</th>\n",
       "      <th>key_id</th>\n",
       "      <th>recognized</th>\n",
       "      <th>timestamp</th>\n",
       "      <th>word</th>\n",
       "    </tr>\n",
       "  </thead>\n",
       "  <tbody>\n",
       "    <tr>\n",
       "      <th>0</th>\n",
       "      <td>9</td>\n",
       "      <td>HU</td>\n",
       "      <td>[[[242, 227, 205, 177, 145, 0], [0, 3, 15, 38,...</td>\n",
       "      <td>6106664400846848</td>\n",
       "      <td>True</td>\n",
       "      <td>2017-03-07 10:20:05.322620</td>\n",
       "      <td>line</td>\n",
       "    </tr>\n",
       "    <tr>\n",
       "      <th>1</th>\n",
       "      <td>9</td>\n",
       "      <td>GB</td>\n",
       "      <td>[[[20, 8, 6, 0, 44, 132, 156, 159, 163, 168, 1...</td>\n",
       "      <td>6318719020040192</td>\n",
       "      <td>True</td>\n",
       "      <td>2017-01-28 07:20:35.652760</td>\n",
       "      <td>bucket</td>\n",
       "    </tr>\n",
       "    <tr>\n",
       "      <th>2</th>\n",
       "      <td>9</td>\n",
       "      <td>US</td>\n",
       "      <td>[[[31, 99, 135, 235, 251, 255, 253, 230, 220, ...</td>\n",
       "      <td>5191697354981376</td>\n",
       "      <td>True</td>\n",
       "      <td>2017-01-23 21:36:42.508790</td>\n",
       "      <td>bus</td>\n",
       "    </tr>\n",
       "    <tr>\n",
       "      <th>3</th>\n",
       "      <td>9</td>\n",
       "      <td>SE</td>\n",
       "      <td>[[[160, 160], [22, 76]], [[160, 205, 212], [2,...</td>\n",
       "      <td>4945535578406912</td>\n",
       "      <td>True</td>\n",
       "      <td>2017-03-26 09:18:56.612280</td>\n",
       "      <td>cello</td>\n",
       "    </tr>\n",
       "    <tr>\n",
       "      <th>4</th>\n",
       "      <td>9</td>\n",
       "      <td>DE</td>\n",
       "      <td>[[[0, 5, 13, 38, 43, 49, 83, 91, 111, 119, 138...</td>\n",
       "      <td>5293366713516032</td>\n",
       "      <td>True</td>\n",
       "      <td>2017-01-29 14:22:18.112640</td>\n",
       "      <td>ocean</td>\n",
       "    </tr>\n",
       "  </tbody>\n",
       "</table>\n",
       "</div>"
      ],
      "text/plain": [
       "  Unnamed: 0 countrycode                                            drawing  \\\n",
       "0          9          HU  [[[242, 227, 205, 177, 145, 0], [0, 3, 15, 38,...   \n",
       "1          9          GB  [[[20, 8, 6, 0, 44, 132, 156, 159, 163, 168, 1...   \n",
       "2          9          US  [[[31, 99, 135, 235, 251, 255, 253, 230, 220, ...   \n",
       "3          9          SE  [[[160, 160], [22, 76]], [[160, 205, 212], [2,...   \n",
       "4          9          DE  [[[0, 5, 13, 38, 43, 49, 83, 91, 111, 119, 138...   \n",
       "\n",
       "             key_id recognized                   timestamp    word  \n",
       "0  6106664400846848       True  2017-03-07 10:20:05.322620    line  \n",
       "1  6318719020040192       True  2017-01-28 07:20:35.652760  bucket  \n",
       "2  5191697354981376       True  2017-01-23 21:36:42.508790     bus  \n",
       "3  4945535578406912       True  2017-03-26 09:18:56.612280   cello  \n",
       "4  5293366713516032       True  2017-01-29 14:22:18.112640   ocean  "
      ]
     },
     "execution_count": 67,
     "metadata": {},
     "output_type": "execute_result"
    }
   ],
   "source": [
    "train_df.head()"
   ]
  },
  {
   "cell_type": "code",
   "execution_count": 69,
   "metadata": {},
   "outputs": [
    {
     "ename": "TypeError",
     "evalue": "Index does not support mutable operations",
     "output_type": "error",
     "traceback": [
      "\u001b[0;31m---------------------------------------------------------------------------\u001b[0m",
      "\u001b[0;31mTypeError\u001b[0m                                 Traceback (most recent call last)",
      "\u001b[0;32m<ipython-input-69-b7920e33fcdd>\u001b[0m in \u001b[0;36m<module>\u001b[0;34m()\u001b[0m\n\u001b[1;32m      1\u001b[0m \u001b[0;32mfrom\u001b[0m \u001b[0mrandom\u001b[0m \u001b[0;32mimport\u001b[0m \u001b[0mshuffle\u001b[0m\u001b[0;34m\u001b[0m\u001b[0m\n\u001b[0;32m----> 2\u001b[0;31m \u001b[0mshuffle\u001b[0m\u001b[0;34m(\u001b[0m\u001b[0mtrain_df\u001b[0m\u001b[0;34m.\u001b[0m\u001b[0mindex\u001b[0m\u001b[0;34m)\u001b[0m\u001b[0;34m\u001b[0m\u001b[0m\n\u001b[0m",
      "\u001b[0;32m/usr/local/Cellar/python@2/2.7.15_1/Frameworks/Python.framework/Versions/2.7/lib/python2.7/random.pyc\u001b[0m in \u001b[0;36mshuffle\u001b[0;34m(self, x, random)\u001b[0m\n\u001b[1;32m    291\u001b[0m             \u001b[0;31m# pick an element in x[:i+1] with which to exchange x[i]\u001b[0m\u001b[0;34m\u001b[0m\u001b[0;34m\u001b[0m\u001b[0m\n\u001b[1;32m    292\u001b[0m             \u001b[0mj\u001b[0m \u001b[0;34m=\u001b[0m \u001b[0m_int\u001b[0m\u001b[0;34m(\u001b[0m\u001b[0mrandom\u001b[0m\u001b[0;34m(\u001b[0m\u001b[0;34m)\u001b[0m \u001b[0;34m*\u001b[0m \u001b[0;34m(\u001b[0m\u001b[0mi\u001b[0m\u001b[0;34m+\u001b[0m\u001b[0;36m1\u001b[0m\u001b[0;34m)\u001b[0m\u001b[0;34m)\u001b[0m\u001b[0;34m\u001b[0m\u001b[0m\n\u001b[0;32m--> 293\u001b[0;31m             \u001b[0mx\u001b[0m\u001b[0;34m[\u001b[0m\u001b[0mi\u001b[0m\u001b[0;34m]\u001b[0m\u001b[0;34m,\u001b[0m \u001b[0mx\u001b[0m\u001b[0;34m[\u001b[0m\u001b[0mj\u001b[0m\u001b[0;34m]\u001b[0m \u001b[0;34m=\u001b[0m \u001b[0mx\u001b[0m\u001b[0;34m[\u001b[0m\u001b[0mj\u001b[0m\u001b[0;34m]\u001b[0m\u001b[0;34m,\u001b[0m \u001b[0mx\u001b[0m\u001b[0;34m[\u001b[0m\u001b[0mi\u001b[0m\u001b[0;34m]\u001b[0m\u001b[0;34m\u001b[0m\u001b[0m\n\u001b[0m\u001b[1;32m    294\u001b[0m \u001b[0;34m\u001b[0m\u001b[0m\n\u001b[1;32m    295\u001b[0m     \u001b[0;32mdef\u001b[0m \u001b[0msample\u001b[0m\u001b[0;34m(\u001b[0m\u001b[0mself\u001b[0m\u001b[0;34m,\u001b[0m \u001b[0mpopulation\u001b[0m\u001b[0;34m,\u001b[0m \u001b[0mk\u001b[0m\u001b[0;34m)\u001b[0m\u001b[0;34m:\u001b[0m\u001b[0;34m\u001b[0m\u001b[0m\n",
      "\u001b[0;32m/usr/local/lib/python2.7/site-packages/pandas/core/indexes/base.pyc\u001b[0m in \u001b[0;36m__setitem__\u001b[0;34m(self, key, value)\u001b[0m\n\u001b[1;32m   2063\u001b[0m \u001b[0;34m\u001b[0m\u001b[0m\n\u001b[1;32m   2064\u001b[0m     \u001b[0;32mdef\u001b[0m \u001b[0m__setitem__\u001b[0m\u001b[0;34m(\u001b[0m\u001b[0mself\u001b[0m\u001b[0;34m,\u001b[0m \u001b[0mkey\u001b[0m\u001b[0;34m,\u001b[0m \u001b[0mvalue\u001b[0m\u001b[0;34m)\u001b[0m\u001b[0;34m:\u001b[0m\u001b[0;34m\u001b[0m\u001b[0m\n\u001b[0;32m-> 2065\u001b[0;31m         \u001b[0;32mraise\u001b[0m \u001b[0mTypeError\u001b[0m\u001b[0;34m(\u001b[0m\u001b[0;34m\"Index does not support mutable operations\"\u001b[0m\u001b[0;34m)\u001b[0m\u001b[0;34m\u001b[0m\u001b[0m\n\u001b[0m\u001b[1;32m   2066\u001b[0m \u001b[0;34m\u001b[0m\u001b[0m\n\u001b[1;32m   2067\u001b[0m     \u001b[0;32mdef\u001b[0m \u001b[0m__getitem__\u001b[0m\u001b[0;34m(\u001b[0m\u001b[0mself\u001b[0m\u001b[0;34m,\u001b[0m \u001b[0mkey\u001b[0m\u001b[0;34m)\u001b[0m\u001b[0;34m:\u001b[0m\u001b[0;34m\u001b[0m\u001b[0m\n",
      "\u001b[0;31mTypeError\u001b[0m: Index does not support mutable operations"
     ]
    }
   ],
   "source": [
    "from random import shuffle\n",
    "shuffle(train_df.index)"
   ]
  },
  {
   "cell_type": "code",
   "execution_count": 81,
   "metadata": {},
   "outputs": [],
   "source": [
    "pp = [0,1,2,3,4,5,6]"
   ]
  },
  {
   "cell_type": "code",
   "execution_count": 91,
   "metadata": {},
   "outputs": [],
   "source": [
    "shuffle(pp)"
   ]
  },
  {
   "cell_type": "code",
   "execution_count": 92,
   "metadata": {},
   "outputs": [
    {
     "data": {
      "text/plain": [
       "[3, 5, 2, 1, 6, 0, 4]"
      ]
     },
     "execution_count": 92,
     "metadata": {},
     "output_type": "execute_result"
    }
   ],
   "source": [
    "pp"
   ]
  },
  {
   "cell_type": "code",
   "execution_count": 97,
   "metadata": {},
   "outputs": [
    {
     "data": {
      "text/html": [
       "<div>\n",
       "<style scoped>\n",
       "    .dataframe tbody tr th:only-of-type {\n",
       "        vertical-align: middle;\n",
       "    }\n",
       "\n",
       "    .dataframe tbody tr th {\n",
       "        vertical-align: top;\n",
       "    }\n",
       "\n",
       "    .dataframe thead th {\n",
       "        text-align: right;\n",
       "    }\n",
       "</style>\n",
       "<table border=\"1\" class=\"dataframe\">\n",
       "  <thead>\n",
       "    <tr style=\"text-align: right;\">\n",
       "      <th></th>\n",
       "      <th>Unnamed: 0</th>\n",
       "      <th>countrycode</th>\n",
       "      <th>drawing</th>\n",
       "      <th>key_id</th>\n",
       "      <th>recognized</th>\n",
       "      <th>timestamp</th>\n",
       "      <th>word</th>\n",
       "    </tr>\n",
       "  </thead>\n",
       "  <tbody>\n",
       "    <tr>\n",
       "      <th>3</th>\n",
       "      <td>9</td>\n",
       "      <td>SE</td>\n",
       "      <td>[[[160, 160], [22, 76]], [[160, 205, 212], [2,...</td>\n",
       "      <td>4945535578406912</td>\n",
       "      <td>True</td>\n",
       "      <td>2017-03-26 09:18:56.612280</td>\n",
       "      <td>cello</td>\n",
       "    </tr>\n",
       "    <tr>\n",
       "      <th>5</th>\n",
       "      <td>9</td>\n",
       "      <td>BR</td>\n",
       "      <td>[[[12, 172, 177, 177, 172, 80, 46, 3, 0, 1, 18...</td>\n",
       "      <td>4612226809856000</td>\n",
       "      <td>True</td>\n",
       "      <td>2017-01-23 17:02:36.349030</td>\n",
       "      <td>truck</td>\n",
       "    </tr>\n",
       "    <tr>\n",
       "      <th>2</th>\n",
       "      <td>9</td>\n",
       "      <td>US</td>\n",
       "      <td>[[[31, 99, 135, 235, 251, 255, 253, 230, 220, ...</td>\n",
       "      <td>5191697354981376</td>\n",
       "      <td>True</td>\n",
       "      <td>2017-01-23 21:36:42.508790</td>\n",
       "      <td>bus</td>\n",
       "    </tr>\n",
       "    <tr>\n",
       "      <th>1</th>\n",
       "      <td>9</td>\n",
       "      <td>GB</td>\n",
       "      <td>[[[20, 8, 6, 0, 44, 132, 156, 159, 163, 168, 1...</td>\n",
       "      <td>6318719020040192</td>\n",
       "      <td>True</td>\n",
       "      <td>2017-01-28 07:20:35.652760</td>\n",
       "      <td>bucket</td>\n",
       "    </tr>\n",
       "    <tr>\n",
       "      <th>6</th>\n",
       "      <td>9</td>\n",
       "      <td>DE</td>\n",
       "      <td>[[[51, 75, 95, 97, 84, 93, 86, 56, 27, 22, 22]...</td>\n",
       "      <td>4993696510509056</td>\n",
       "      <td>True</td>\n",
       "      <td>2017-01-26 20:47:27.109270</td>\n",
       "      <td>camouflage</td>\n",
       "    </tr>\n",
       "    <tr>\n",
       "      <th>0</th>\n",
       "      <td>9</td>\n",
       "      <td>HU</td>\n",
       "      <td>[[[242, 227, 205, 177, 145, 0], [0, 3, 15, 38,...</td>\n",
       "      <td>6106664400846848</td>\n",
       "      <td>True</td>\n",
       "      <td>2017-03-07 10:20:05.322620</td>\n",
       "      <td>line</td>\n",
       "    </tr>\n",
       "    <tr>\n",
       "      <th>4</th>\n",
       "      <td>9</td>\n",
       "      <td>DE</td>\n",
       "      <td>[[[0, 5, 13, 38, 43, 49, 83, 91, 111, 119, 138...</td>\n",
       "      <td>5293366713516032</td>\n",
       "      <td>True</td>\n",
       "      <td>2017-01-29 14:22:18.112640</td>\n",
       "      <td>ocean</td>\n",
       "    </tr>\n",
       "  </tbody>\n",
       "</table>\n",
       "</div>"
      ],
      "text/plain": [
       "  Unnamed: 0 countrycode                                            drawing  \\\n",
       "3          9          SE  [[[160, 160], [22, 76]], [[160, 205, 212], [2,...   \n",
       "5          9          BR  [[[12, 172, 177, 177, 172, 80, 46, 3, 0, 1, 18...   \n",
       "2          9          US  [[[31, 99, 135, 235, 251, 255, 253, 230, 220, ...   \n",
       "1          9          GB  [[[20, 8, 6, 0, 44, 132, 156, 159, 163, 168, 1...   \n",
       "6          9          DE  [[[51, 75, 95, 97, 84, 93, 86, 56, 27, 22, 22]...   \n",
       "0          9          HU  [[[242, 227, 205, 177, 145, 0], [0, 3, 15, 38,...   \n",
       "4          9          DE  [[[0, 5, 13, 38, 43, 49, 83, 91, 111, 119, 138...   \n",
       "\n",
       "             key_id recognized                   timestamp        word  \n",
       "3  4945535578406912       True  2017-03-26 09:18:56.612280       cello  \n",
       "5  4612226809856000       True  2017-01-23 17:02:36.349030       truck  \n",
       "2  5191697354981376       True  2017-01-23 21:36:42.508790         bus  \n",
       "1  6318719020040192       True  2017-01-28 07:20:35.652760      bucket  \n",
       "6  4993696510509056       True  2017-01-26 20:47:27.109270  camouflage  \n",
       "0  6106664400846848       True  2017-03-07 10:20:05.322620        line  \n",
       "4  5293366713516032       True  2017-01-29 14:22:18.112640       ocean  "
      ]
     },
     "execution_count": 97,
     "metadata": {},
     "output_type": "execute_result"
    }
   ],
   "source": [
    "train_df.iloc[pp]"
   ]
  },
  {
   "cell_type": "code",
   "execution_count": null,
   "metadata": {},
   "outputs": [],
   "source": []
  }
 ],
 "metadata": {
  "kernelspec": {
   "display_name": "Python 2",
   "language": "python",
   "name": "python2"
  },
  "language_info": {
   "codemirror_mode": {
    "name": "ipython",
    "version": 2
   },
   "file_extension": ".py",
   "mimetype": "text/x-python",
   "name": "python",
   "nbconvert_exporter": "python",
   "pygments_lexer": "ipython2",
   "version": "2.7.15"
  }
 },
 "nbformat": 4,
 "nbformat_minor": 2
}
