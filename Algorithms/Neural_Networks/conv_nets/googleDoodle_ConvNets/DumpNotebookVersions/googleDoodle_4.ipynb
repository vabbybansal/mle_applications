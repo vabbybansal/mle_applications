{
 "cells": [
  {
   "cell_type": "code",
   "execution_count": 11,
   "metadata": {},
   "outputs": [
    {
     "name": "stderr",
     "output_type": "stream",
     "text": [
      "Using TensorFlow backend.\n"
     ]
    },
    {
     "data": {
      "text/html": [
       "<style>.container { width:100% !important; }</style>"
      ],
      "text/plain": [
       "<IPython.core.display.HTML object>"
      ]
     },
     "metadata": {},
     "output_type": "display_data"
    }
   ],
   "source": [
    "import random\n",
    "import os\n",
    "import re\n",
    "from glob import glob\n",
    "from tqdm import tqdm\n",
    "import numpy as np\n",
    "import pandas as pd\n",
    "import ast\n",
    "import matplotlib.pyplot as plt\n",
    "%matplotlib inline\n",
    "import numpy as np\n",
    "from PIL import Image, ImageDraw\n",
    "from __future__ import print_function\n",
    "import keras\n",
    "from keras.datasets import mnist\n",
    "from keras.models import Sequential\n",
    "from keras.layers import Dense, Dropout, Flatten\n",
    "from keras.layers import Conv2D, MaxPooling2D\n",
    "from keras import backend as K\n",
    "from keras import metrics\n",
    "from IPython.core.display import display, HTML\n",
    "display(HTML(\"<style>.container { width:100% !important; }</style>\"))\n",
    "from sklearn.model_selection import train_test_split"
   ]
  },
  {
   "cell_type": "markdown",
   "metadata": {},
   "source": [
    "# Get Data"
   ]
  },
  {
   "cell_type": "code",
   "execution_count": 12,
   "metadata": {},
   "outputs": [
    {
     "data": {
      "text/plain": [
       "(112199, 3)"
      ]
     },
     "execution_count": 12,
     "metadata": {},
     "output_type": "execute_result"
    }
   ],
   "source": [
    "test_df = pd.read_csv('test_simplified.csv')\n",
    "test_df.shape"
   ]
  },
  {
   "cell_type": "code",
   "execution_count": 13,
   "metadata": {},
   "outputs": [],
   "source": [
    "# Get names of all train csv files with the pattern match below\n",
    "fnames = glob('train_simplified/*.csv')"
   ]
  },
  {
   "cell_type": "code",
   "execution_count": 14,
   "metadata": {},
   "outputs": [],
   "source": [
    "rows = 200\n",
    "# Get n rows from all the csv files and append them into one dataframe\n",
    "train_df = pd.DataFrame(columns=pd.read_csv(fnames[0], nrows=20).columns)\n",
    "for name in fnames:\n",
    "    data = pd.read_csv(name, nrows=rows)\n",
    "    train_df = train_df.append(data)\n",
    "train_df = train_df.reset_index().drop('index', axis=1)\n",
    "# Get only those which were correctly recognized\n",
    "train_df = train_df[train_df['recognized'] == True]"
   ]
  },
  {
   "cell_type": "code",
   "execution_count": 15,
   "metadata": {},
   "outputs": [],
   "source": [
    "# Convert the drawing column to matrix\n",
    "train_df['drawing'] = train_df['drawing'].apply(ast.literal_eval)\n",
    "test_df['drawing'] = test_df['drawing'].apply(ast.literal_eval)"
   ]
  },
  {
   "cell_type": "code",
   "execution_count": 26,
   "metadata": {},
   "outputs": [
    {
     "data": {
      "text/plain": [
       "[[[32, 91, 255], [32, 48, 70]],\n",
       " [[179, 146, 47, 1, 5], [70, 65, 62, 49, 47]],\n",
       " [[228, 209, 116, 15], [17, 23, 22, 0]],\n",
       " [[124, 91], [36, 36]]]"
      ]
     },
     "execution_count": 26,
     "metadata": {},
     "output_type": "execute_result"
    }
   ],
   "source": [
    "train_df['drawing'][2]"
   ]
  },
  {
   "cell_type": "markdown",
   "metadata": {},
   "source": [
    "# Draw Sample"
   ]
  },
  {
   "cell_type": "code",
   "execution_count": 17,
   "metadata": {},
   "outputs": [
    {
     "data": {
      "text/html": [
       "<div>\n",
       "<style scoped>\n",
       "    .dataframe tbody tr th:only-of-type {\n",
       "        vertical-align: middle;\n",
       "    }\n",
       "\n",
       "    .dataframe tbody tr th {\n",
       "        vertical-align: top;\n",
       "    }\n",
       "\n",
       "    .dataframe thead th {\n",
       "        text-align: right;\n",
       "    }\n",
       "</style>\n",
       "<table border=\"1\" class=\"dataframe\">\n",
       "  <thead>\n",
       "    <tr style=\"text-align: right;\">\n",
       "      <th></th>\n",
       "      <th>countrycode</th>\n",
       "      <th>drawing</th>\n",
       "      <th>key_id</th>\n",
       "      <th>recognized</th>\n",
       "      <th>timestamp</th>\n",
       "      <th>word</th>\n",
       "    </tr>\n",
       "  </thead>\n",
       "  <tbody>\n",
       "    <tr>\n",
       "      <th>5664</th>\n",
       "      <td>US</td>\n",
       "      <td>[[[73, 29, 9, 1, 0, 6, 14, 31, 59, 61, 50, 48,...</td>\n",
       "      <td>5492296726347776</td>\n",
       "      <td>True</td>\n",
       "      <td>2017-03-27 15:04:47.190490</td>\n",
       "      <td>teapot</td>\n",
       "    </tr>\n",
       "    <tr>\n",
       "      <th>38325</th>\n",
       "      <td>US</td>\n",
       "      <td>[[[63, 50, 38, 14, 5, 0, 0, 14, 40, 77, 114, 1...</td>\n",
       "      <td>6165915894808576</td>\n",
       "      <td>True</td>\n",
       "      <td>2017-01-27 15:07:09.294030</td>\n",
       "      <td>blueberry</td>\n",
       "    </tr>\n",
       "    <tr>\n",
       "      <th>61742</th>\n",
       "      <td>US</td>\n",
       "      <td>[[[50, 22, 9, 1, 0, 11, 21, 62, 76, 89, 94, 95...</td>\n",
       "      <td>5510930207080448</td>\n",
       "      <td>True</td>\n",
       "      <td>2017-03-20 23:57:02.524820</td>\n",
       "      <td>headphones</td>\n",
       "    </tr>\n",
       "    <tr>\n",
       "      <th>28435</th>\n",
       "      <td>PL</td>\n",
       "      <td>[[[5, 8, 24, 36, 53, 56], [22, 8, 1, 0, 12, 34...</td>\n",
       "      <td>4568107261624320</td>\n",
       "      <td>True</td>\n",
       "      <td>2017-01-29 16:18:19.193150</td>\n",
       "      <td>sleeping bag</td>\n",
       "    </tr>\n",
       "    <tr>\n",
       "      <th>63330</th>\n",
       "      <td>FI</td>\n",
       "      <td>[[[84, 92, 93, 80], [255, 182, 111, 37]], [[76...</td>\n",
       "      <td>4601178845347840</td>\n",
       "      <td>True</td>\n",
       "      <td>2017-01-31 15:09:43.714190</td>\n",
       "      <td>streetlight</td>\n",
       "    </tr>\n",
       "    <tr>\n",
       "      <th>27711</th>\n",
       "      <td>US</td>\n",
       "      <td>[[[39, 123, 186, 227, 252, 255, 222, 217, 188,...</td>\n",
       "      <td>5058779336933376</td>\n",
       "      <td>True</td>\n",
       "      <td>2017-03-18 17:13:03.407040</td>\n",
       "      <td>diamond</td>\n",
       "    </tr>\n",
       "    <tr>\n",
       "      <th>26282</th>\n",
       "      <td>JP</td>\n",
       "      <td>[[[0, 35, 255], [49, 41, 17]], [[34, 46], [21,...</td>\n",
       "      <td>4882485177483264</td>\n",
       "      <td>True</td>\n",
       "      <td>2017-01-26 00:56:16.755050</td>\n",
       "      <td>stitches</td>\n",
       "    </tr>\n",
       "    <tr>\n",
       "      <th>60794</th>\n",
       "      <td>GB</td>\n",
       "      <td>[[[141, 132, 113, 88, 75, 72, 74, 79, 81], [3,...</td>\n",
       "      <td>6572035096444928</td>\n",
       "      <td>True</td>\n",
       "      <td>2017-03-18 21:25:53.619080</td>\n",
       "      <td>spoon</td>\n",
       "    </tr>\n",
       "    <tr>\n",
       "      <th>61956</th>\n",
       "      <td>CA</td>\n",
       "      <td>[[[36, 28, 17, 0, 1, 7, 30], [19, 19, 25, 42, ...</td>\n",
       "      <td>6573161015410688</td>\n",
       "      <td>True</td>\n",
       "      <td>2017-03-28 02:03:38.396430</td>\n",
       "      <td>horse</td>\n",
       "    </tr>\n",
       "    <tr>\n",
       "      <th>25440</th>\n",
       "      <td>US</td>\n",
       "      <td>[[[101, 100], [62, 130]], [[164, 160], [61, 13...</td>\n",
       "      <td>6184950049013760</td>\n",
       "      <td>True</td>\n",
       "      <td>2017-01-30 01:39:16.354550</td>\n",
       "      <td>smiley face</td>\n",
       "    </tr>\n",
       "  </tbody>\n",
       "</table>\n",
       "</div>"
      ],
      "text/plain": [
       "      countrycode                                            drawing  \\\n",
       "5664           US  [[[73, 29, 9, 1, 0, 6, 14, 31, 59, 61, 50, 48,...   \n",
       "38325          US  [[[63, 50, 38, 14, 5, 0, 0, 14, 40, 77, 114, 1...   \n",
       "61742          US  [[[50, 22, 9, 1, 0, 11, 21, 62, 76, 89, 94, 95...   \n",
       "28435          PL  [[[5, 8, 24, 36, 53, 56], [22, 8, 1, 0, 12, 34...   \n",
       "63330          FI  [[[84, 92, 93, 80], [255, 182, 111, 37]], [[76...   \n",
       "27711          US  [[[39, 123, 186, 227, 252, 255, 222, 217, 188,...   \n",
       "26282          JP  [[[0, 35, 255], [49, 41, 17]], [[34, 46], [21,...   \n",
       "60794          GB  [[[141, 132, 113, 88, 75, 72, 74, 79, 81], [3,...   \n",
       "61956          CA  [[[36, 28, 17, 0, 1, 7, 30], [19, 19, 25, 42, ...   \n",
       "25440          US  [[[101, 100], [62, 130]], [[164, 160], [61, 13...   \n",
       "\n",
       "                 key_id recognized                   timestamp          word  \n",
       "5664   5492296726347776       True  2017-03-27 15:04:47.190490        teapot  \n",
       "38325  6165915894808576       True  2017-01-27 15:07:09.294030     blueberry  \n",
       "61742  5510930207080448       True  2017-03-20 23:57:02.524820    headphones  \n",
       "28435  4568107261624320       True  2017-01-29 16:18:19.193150  sleeping bag  \n",
       "63330  4601178845347840       True  2017-01-31 15:09:43.714190   streetlight  \n",
       "27711  5058779336933376       True  2017-03-18 17:13:03.407040       diamond  \n",
       "26282  4882485177483264       True  2017-01-26 00:56:16.755050      stitches  \n",
       "60794  6572035096444928       True  2017-03-18 21:25:53.619080         spoon  \n",
       "61956  6573161015410688       True  2017-03-28 02:03:38.396430         horse  \n",
       "25440  6184950049013760       True  2017-01-30 01:39:16.354550   smiley face  "
      ]
     },
     "execution_count": 17,
     "metadata": {},
     "output_type": "execute_result"
    }
   ],
   "source": [
    "train_df.sample(10)"
   ]
  },
  {
   "cell_type": "code",
   "execution_count": 18,
   "metadata": {},
   "outputs": [
    {
     "data": {
      "image/png": "[encoded data removed]",
      "text/plain": [
       "<Figure size 288x288 with 3 Axes>"
      ]
     },
     "metadata": {
      "needs_background": "light"
     },
     "output_type": "display_data"
    }
   ],
   "source": [
    "n_samp = 3\n",
    "train_df_sample = train_df.sample(n_samp)\n",
    "plt.figure(figsize=(4,4))\n",
    "for i in range(n_samp):\n",
    "    draw = train_df_sample.iloc[i]['drawing']\n",
    "    label = train_df_sample.iloc[i]['word']\n",
    "    plt.subplot(n_samp,1,i+1)\n",
    "    for stroke in draw:\n",
    "        plt.plot(stroke[0], stroke[1], marker='.', color='black')\n",
    "        plt.title(label)\n",
    "        plt.axis('off')\n",
    "plt.show()    "
   ]
  },
  {
   "cell_type": "markdown",
   "metadata": {},
   "source": [
    "# Convert drawings to images"
   ]
  },
  {
   "cell_type": "code",
   "execution_count": 19,
   "metadata": {},
   "outputs": [],
   "source": [
    "def draw_it(raw_strokes, output_height, output_width):\n",
    "    image = Image.new(\"P\", (255,255)\n",
    "#                       , color=1\n",
    "            )\n",
    "    image_draw = ImageDraw.Draw(image)\n",
    "\n",
    "    for stroke in raw_strokes:\n",
    "        for i in range(len(stroke[0])-1):\n",
    "\n",
    "            image_draw.line([stroke[0][i], \n",
    "                             stroke[1][i],\n",
    "                             stroke[0][i+1], \n",
    "                             stroke[1][i+1]],\n",
    "                            fill=255, width=6)\n",
    "    # Reduce image size\n",
    "    image = image.resize((output_height,output_width),Image.ANTIALIAS)\n",
    "    \n",
    "    return np.array(image)"
   ]
  },
  {
   "cell_type": "code",
   "execution_count": 20,
   "metadata": {},
   "outputs": [],
   "source": [
    "output_height = 32\n",
    "output_width = 32\n",
    "train_df['img'] = train_df[['drawing']].apply(lambda x: draw_it(x['drawing'], output_height, output_width), axis=1)\n",
    "test_df['img'] = test_df[['drawing']].apply(lambda x: draw_it(x['drawing'], output_height, output_width), axis=1)"
   ]
  },
  {
   "cell_type": "code",
   "execution_count": 21,
   "metadata": {},
   "outputs": [
    {
     "data": {
      "image/png": "[encoded data removed]",
      "text/plain": [
       "<Figure size 432x288 with 1 Axes>"
      ]
     },
     "metadata": {
      "needs_background": "light"
     },
     "output_type": "display_data"
    }
   ],
   "source": [
    "# Show an image\n",
    "ind = 100\n",
    "plt.imshow(train_df.iloc[ind]['img'],cmap='gray')\n",
    "plt.title(train_df.iloc[ind]['word'])\n",
    "plt.show()"
   ]
  },
  {
   "cell_type": "code",
   "execution_count": null,
   "metadata": {},
   "outputs": [],
   "source": []
  },
  {
   "cell_type": "markdown",
   "metadata": {},
   "source": [
    "# Create a baseline CNN"
   ]
  },
  {
   "cell_type": "code",
   "execution_count": 29,
   "metadata": {},
   "outputs": [],
   "source": [
    "batch_size = 10\n",
    "num_classes = len(fnames)\n",
    "epochs = 12"
   ]
  },
  {
   "cell_type": "markdown",
   "metadata": {},
   "source": [
    "### Data Preprocessing"
   ]
  },
  {
   "cell_type": "code",
   "execution_count": 30,
   "metadata": {},
   "outputs": [],
   "source": [
    "# Shuffle the data\n",
    "random.seed(111)\n",
    "train_df = train_df.sample(train_df.shape[0])"
   ]
  },
  {
   "cell_type": "code",
   "execution_count": 31,
   "metadata": {},
   "outputs": [],
   "source": [
    "# input image dimensions\n",
    "img_rows, img_cols = output_height, output_width\n",
    "input_shape = (img_rows, img_cols)"
   ]
  },
  {
   "cell_type": "code",
   "execution_count": 32,
   "metadata": {},
   "outputs": [],
   "source": [
    "# Reshape the array\n",
    "imgArr = np.vstack(train_df['img'].values).flatten().reshape((train_df['img'].shape[0], img_rows, img_cols))\n",
    "imgArr_test = np.vstack(test_df['img'].values).flatten().reshape((test_df['img'].shape[0], img_rows, img_cols))"
   ]
  },
  {
   "cell_type": "code",
   "execution_count": 33,
   "metadata": {},
   "outputs": [],
   "source": [
    "# In Keras, the layers used for two-dimensional convolutions expect pixel values with the dimensions [width][height][pixels] for TF.\n",
    "# In the case of RGB, the first dimension pixels would be 3 for the red, green and blue components and it would be like having 3 image inputs for every color image. In this case, the pixel values are gray scale, the pixel dimension is set to 1.\n",
    "imgArr = imgArr.reshape(imgArr.shape[0], img_rows, img_cols, 1).astype('float32')\n",
    "imgArr_test = imgArr_test.reshape(imgArr_test.shape[0], img_rows, img_cols, 1).astype('float32')"
   ]
  },
  {
   "cell_type": "code",
   "execution_count": null,
   "metadata": {},
   "outputs": [],
   "source": []
  },
  {
   "cell_type": "code",
   "execution_count": 34,
   "metadata": {},
   "outputs": [],
   "source": [
    "y_train = train_df['word']"
   ]
  },
  {
   "cell_type": "code",
   "execution_count": 35,
   "metadata": {},
   "outputs": [],
   "source": [
    "# Convert class labels from categorical to numerical\n",
    "unique_classes_list = y_train.unique()\n",
    "map_class_to_numeric = {k: v for v, k in enumerate(y_train.unique())}\n",
    "map_numeric_to_class = {v: k for k, v in map_class_to_numeric.iteritems()}\n",
    "y_train_numeric = y_train.apply(lambda x: map_class_to_numeric[x])\n",
    "\n",
    "# convert class vectors to binary class matrices\n",
    "y_train_one_hot = keras.utils.to_categorical(y_train_numeric, num_classes)\n",
    "num_classes = y_train_one_hot.shape[1]"
   ]
  },
  {
   "cell_type": "code",
   "execution_count": 36,
   "metadata": {},
   "outputs": [],
   "source": [
    "X_train, X_test, y_train, y_test = train_test_split(imgArr, y_train_one_hot, test_size=0.2)"
   ]
  },
  {
   "cell_type": "code",
   "execution_count": 37,
   "metadata": {},
   "outputs": [],
   "source": [
    "def top_3_accuracy(y_true, y_pred):\n",
    "    return metrics.top_k_categorical_accuracy(y_true, y_pred, k=3)"
   ]
  },
  {
   "cell_type": "markdown",
   "metadata": {},
   "source": [
    "### Model Architecture"
   ]
  },
  {
   "cell_type": "code",
   "execution_count": 38,
   "metadata": {},
   "outputs": [],
   "source": [
    "num_filters = 8 # num of channels / filters\n",
    "def baseline_conv_model(num_filters):\n",
    "    model = Sequential()\n",
    "    model.add(Conv2D(num_filters, (5,5), input_shape=(img_rows,img_cols,1), activation='relu')) \n",
    "    model.add(MaxPooling2D(pool_size=(2,2)))\n",
    "    model.add(Dropout(0.2))\n",
    "    model.add(Conv2D(num_filters*2, (5,5), input_shape=(img_rows,img_cols,1), activation='relu')) \n",
    "    model.add(MaxPooling2D(pool_size=(2,2)))\n",
    "    model.add(Dropout(0.2))\n",
    "    model.add(Conv2D(num_filters*2, (3,3), input_shape=(img_rows,img_cols,1), activation='relu')) \n",
    "#     model.add(MaxPooling2D(pool_size=(2,2)))\n",
    "    model.add(Dropout(0.2))\n",
    "    model.add(Flatten())\n",
    "    model.add(Dense(1000, activation='relu'))\n",
    "    model.add(Dropout(0.2))\n",
    "    model.add(Dense(500, activation='relu'))\n",
    "    model.add(Dropout(0.2))\n",
    "#     model.add(Dense(100, activation='relu'))\n",
    "    model.add(Dense(num_classes, activation='softmax'))\n",
    "    \n",
    "    # Compile\n",
    "    model.compile(loss='categorical_crossentropy', optimizer='adam', metrics=['accuracy', top_3_accuracy, 'categorical_crossentropy'])\n",
    "    return model"
   ]
  },
  {
   "cell_type": "code",
   "execution_count": 39,
   "metadata": {},
   "outputs": [
    {
     "name": "stdout",
     "output_type": "stream",
     "text": [
      "_________________________________________________________________\n",
      "Layer (type)                 Output Shape              Param #   \n",
      "=================================================================\n",
      "conv2d_1 (Conv2D)            (None, 28, 28, 8)         208       \n",
      "_________________________________________________________________\n",
      "max_pooling2d_1 (MaxPooling2 (None, 14, 14, 8)         0         \n",
      "_________________________________________________________________\n",
      "dropout_1 (Dropout)          (None, 14, 14, 8)         0         \n",
      "_________________________________________________________________\n",
      "conv2d_2 (Conv2D)            (None, 10, 10, 16)        3216      \n",
      "_________________________________________________________________\n",
      "max_pooling2d_2 (MaxPooling2 (None, 5, 5, 16)          0         \n",
      "_________________________________________________________________\n",
      "dropout_2 (Dropout)          (None, 5, 5, 16)          0         \n",
      "_________________________________________________________________\n",
      "conv2d_3 (Conv2D)            (None, 3, 3, 16)          2320      \n",
      "_________________________________________________________________\n",
      "dropout_3 (Dropout)          (None, 3, 3, 16)          0         \n",
      "_________________________________________________________________\n",
      "flatten_1 (Flatten)          (None, 144)               0         \n",
      "_________________________________________________________________\n",
      "dense_1 (Dense)              (None, 1000)              145000    \n",
      "_________________________________________________________________\n",
      "dropout_4 (Dropout)          (None, 1000)              0         \n",
      "_________________________________________________________________\n",
      "dense_2 (Dense)              (None, 500)               500500    \n",
      "_________________________________________________________________\n",
      "dropout_5 (Dropout)          (None, 500)               0         \n",
      "_________________________________________________________________\n",
      "dense_3 (Dense)              (None, 340)               170340    \n",
      "=================================================================\n",
      "Total params: 821,584\n",
      "Trainable params: 821,584\n",
      "Non-trainable params: 0\n",
      "_________________________________________________________________\n"
     ]
    }
   ],
   "source": [
    "model = baseline_conv_model(num_filters)\n",
    "model.summary()"
   ]
  },
  {
   "cell_type": "code",
   "execution_count": null,
   "metadata": {},
   "outputs": [
    {
     "name": "stdout",
     "output_type": "stream",
     "text": [
      "Train on 50072 samples, validate on 12518 samples\n",
      "Epoch 1/500\n",
      " - 35s - loss: 6.9587 - acc: 0.0034 - top_3_accuracy: 0.0102 - categorical_crossentropy: 6.9587 - val_loss: 5.8234 - val_acc: 0.0043 - val_top_3_accuracy: 0.0122 - val_categorical_crossentropy: 5.8234\n",
      "Epoch 2/500\n",
      " - 40s - loss: 5.7927 - acc: 0.0042 - top_3_accuracy: 0.0132 - categorical_crossentropy: 5.7927 - val_loss: 5.7066 - val_acc: 0.0079 - val_top_3_accuracy: 0.0189 - val_categorical_crossentropy: 5.7066\n",
      "Epoch 3/500\n",
      " - 32s - loss: 5.6597 - acc: 0.0094 - top_3_accuracy: 0.0254 - categorical_crossentropy: 5.6597 - val_loss: 5.4920 - val_acc: 0.0167 - val_top_3_accuracy: 0.0436 - val_categorical_crossentropy: 5.4920\n",
      "Epoch 4/500\n",
      " - 30s - loss: 5.4711 - acc: 0.0161 - top_3_accuracy: 0.0429 - categorical_crossentropy: 5.4711 - val_loss: 5.3173 - val_acc: 0.0272 - val_top_3_accuracy: 0.0685 - val_categorical_crossentropy: 5.3173\n",
      "Epoch 5/500\n",
      " - 30s - loss: 5.2923 - acc: 0.0247 - top_3_accuracy: 0.0606 - categorical_crossentropy: 5.2923 - val_loss: 5.1544 - val_acc: 0.0374 - val_top_3_accuracy: 0.0929 - val_categorical_crossentropy: 5.1544\n",
      "Epoch 6/500\n",
      " - 30s - loss: 5.1545 - acc: 0.0296 - top_3_accuracy: 0.0741 - categorical_crossentropy: 5.1545 - val_loss: 4.9969 - val_acc: 0.0499 - val_top_3_accuracy: 0.1147 - val_categorical_crossentropy: 4.9969\n",
      "Epoch 7/500\n",
      " - 31s - loss: 5.0382 - acc: 0.0382 - top_3_accuracy: 0.0912 - categorical_crossentropy: 5.0382 - val_loss: 4.8477 - val_acc: 0.0624 - val_top_3_accuracy: 0.1422 - val_categorical_crossentropy: 4.8477\n",
      "Epoch 8/500\n",
      " - 33s - loss: 4.9241 - acc: 0.0459 - top_3_accuracy: 0.1092 - categorical_crossentropy: 4.9241 - val_loss: 4.7505 - val_acc: 0.0698 - val_top_3_accuracy: 0.1625 - val_categorical_crossentropy: 4.7505\n",
      "Epoch 9/500\n",
      " - 32s - loss: 4.8184 - acc: 0.0536 - top_3_accuracy: 0.1246 - categorical_crossentropy: 4.8184 - val_loss: 4.6349 - val_acc: 0.0799 - val_top_3_accuracy: 0.1765 - val_categorical_crossentropy: 4.6349\n",
      "Epoch 10/500\n",
      " - 30s - loss: 4.7197 - acc: 0.0630 - top_3_accuracy: 0.1430 - categorical_crossentropy: 4.7197 - val_loss: 4.5052 - val_acc: 0.0947 - val_top_3_accuracy: 0.2048 - val_categorical_crossentropy: 4.5052\n",
      "Epoch 11/500\n",
      " - 30s - loss: 4.6124 - acc: 0.0721 - top_3_accuracy: 0.1628 - categorical_crossentropy: 4.6124 - val_loss: 4.4062 - val_acc: 0.1076 - val_top_3_accuracy: 0.2193 - val_categorical_crossentropy: 4.4062\n",
      "Epoch 12/500\n",
      " - 30s - loss: 4.5363 - acc: 0.0804 - top_3_accuracy: 0.1756 - categorical_crossentropy: 4.5363 - val_loss: 4.3058 - val_acc: 0.1166 - val_top_3_accuracy: 0.2404 - val_categorical_crossentropy: 4.3058\n",
      "Epoch 13/500\n",
      " - 30s - loss: 4.4551 - acc: 0.0866 - top_3_accuracy: 0.1905 - categorical_crossentropy: 4.4551 - val_loss: 4.2516 - val_acc: 0.1301 - val_top_3_accuracy: 0.2610 - val_categorical_crossentropy: 4.2516\n",
      "Epoch 14/500\n",
      " - 30s - loss: 4.3858 - acc: 0.0939 - top_3_accuracy: 0.2030 - categorical_crossentropy: 4.3858 - val_loss: 4.1579 - val_acc: 0.1387 - val_top_3_accuracy: 0.2768 - val_categorical_crossentropy: 4.1579\n",
      "Epoch 15/500\n",
      " - 29s - loss: 4.3011 - acc: 0.1038 - top_3_accuracy: 0.2191 - categorical_crossentropy: 4.3011 - val_loss: 4.0743 - val_acc: 0.1499 - val_top_3_accuracy: 0.2916 - val_categorical_crossentropy: 4.0743\n",
      "Epoch 16/500\n",
      " - 29s - loss: 4.2281 - acc: 0.1127 - top_3_accuracy: 0.2323 - categorical_crossentropy: 4.2281 - val_loss: 3.9914 - val_acc: 0.1610 - val_top_3_accuracy: 0.3068 - val_categorical_crossentropy: 3.9914\n",
      "Epoch 17/500\n",
      " - 30s - loss: 4.1662 - acc: 0.1193 - top_3_accuracy: 0.2471 - categorical_crossentropy: 4.1662 - val_loss: 3.9284 - val_acc: 0.1720 - val_top_3_accuracy: 0.3239 - val_categorical_crossentropy: 3.9284\n",
      "Epoch 18/500\n",
      " - 30s - loss: 4.1010 - acc: 0.1270 - top_3_accuracy: 0.2569 - categorical_crossentropy: 4.1010 - val_loss: 3.8645 - val_acc: 0.1815 - val_top_3_accuracy: 0.3371 - val_categorical_crossentropy: 3.8645\n",
      "Epoch 19/500\n",
      " - 35s - loss: 4.0335 - acc: 0.1351 - top_3_accuracy: 0.2734 - categorical_crossentropy: 4.0335 - val_loss: 3.7930 - val_acc: 0.1898 - val_top_3_accuracy: 0.3538 - val_categorical_crossentropy: 3.7930\n",
      "Epoch 20/500\n",
      " - 29s - loss: 3.9662 - acc: 0.1437 - top_3_accuracy: 0.2875 - categorical_crossentropy: 3.9662 - val_loss: 3.6902 - val_acc: 0.2020 - val_top_3_accuracy: 0.3683 - val_categorical_crossentropy: 3.6902\n",
      "Epoch 21/500\n",
      " - 29s - loss: 3.9059 - acc: 0.1522 - top_3_accuracy: 0.2994 - categorical_crossentropy: 3.9059 - val_loss: 3.6538 - val_acc: 0.2054 - val_top_3_accuracy: 0.3782 - val_categorical_crossentropy: 3.6538\n",
      "Epoch 22/500\n",
      " - 29s - loss: 3.8430 - acc: 0.1602 - top_3_accuracy: 0.3136 - categorical_crossentropy: 3.8430 - val_loss: 3.6202 - val_acc: 0.2149 - val_top_3_accuracy: 0.3851 - val_categorical_crossentropy: 3.6202\n",
      "Epoch 23/500\n",
      " - 28s - loss: 3.7956 - acc: 0.1672 - top_3_accuracy: 0.3205 - categorical_crossentropy: 3.7956 - val_loss: 3.5495 - val_acc: 0.2220 - val_top_3_accuracy: 0.3969 - val_categorical_crossentropy: 3.5495\n",
      "Epoch 24/500\n",
      " - 31s - loss: 3.7382 - acc: 0.1741 - top_3_accuracy: 0.3326 - categorical_crossentropy: 3.7382 - val_loss: 3.5442 - val_acc: 0.2217 - val_top_3_accuracy: 0.4005 - val_categorical_crossentropy: 3.5442\n",
      "Epoch 25/500\n",
      " - 29s - loss: 3.6949 - acc: 0.1806 - top_3_accuracy: 0.3431 - categorical_crossentropy: 3.6949 - val_loss: 3.4672 - val_acc: 0.2317 - val_top_3_accuracy: 0.4101 - val_categorical_crossentropy: 3.4672\n",
      "Epoch 26/500\n",
      " - 29s - loss: 3.6502 - acc: 0.1887 - top_3_accuracy: 0.3549 - categorical_crossentropy: 3.6502 - val_loss: 3.4345 - val_acc: 0.2393 - val_top_3_accuracy: 0.4212 - val_categorical_crossentropy: 3.4345\n",
      "Epoch 27/500\n",
      " - 33s - loss: 3.6110 - acc: 0.1915 - top_3_accuracy: 0.3590 - categorical_crossentropy: 3.6110 - val_loss: 3.4064 - val_acc: 0.2459 - val_top_3_accuracy: 0.4294 - val_categorical_crossentropy: 3.4064\n",
      "Epoch 28/500\n",
      " - 33s - loss: 3.5715 - acc: 0.1976 - top_3_accuracy: 0.3687 - categorical_crossentropy: 3.5715 - val_loss: 3.3469 - val_acc: 0.2501 - val_top_3_accuracy: 0.4398 - val_categorical_crossentropy: 3.3469\n",
      "Epoch 29/500\n",
      " - 33s - loss: 3.5441 - acc: 0.2015 - top_3_accuracy: 0.3720 - categorical_crossentropy: 3.5441 - val_loss: 3.3596 - val_acc: 0.2520 - val_top_3_accuracy: 0.4371 - val_categorical_crossentropy: 3.3596\n",
      "Epoch 30/500\n",
      " - 31s - loss: 3.5105 - acc: 0.2062 - top_3_accuracy: 0.3822 - categorical_crossentropy: 3.5105 - val_loss: 3.3029 - val_acc: 0.2575 - val_top_3_accuracy: 0.4451 - val_categorical_crossentropy: 3.3029\n",
      "Epoch 31/500\n",
      " - 31s - loss: 3.4716 - acc: 0.2113 - top_3_accuracy: 0.3913 - categorical_crossentropy: 3.4716 - val_loss: 3.3069 - val_acc: 0.2557 - val_top_3_accuracy: 0.4466 - val_categorical_crossentropy: 3.3069\n",
      "Epoch 32/500\n",
      " - 31s - loss: 3.4386 - acc: 0.2170 - top_3_accuracy: 0.3945 - categorical_crossentropy: 3.4386 - val_loss: 3.2527 - val_acc: 0.2641 - val_top_3_accuracy: 0.4579 - val_categorical_crossentropy: 3.2527\n",
      "Epoch 33/500\n",
      " - 28s - loss: 3.4121 - acc: 0.2191 - top_3_accuracy: 0.3989 - categorical_crossentropy: 3.4121 - val_loss: 3.2471 - val_acc: 0.2679 - val_top_3_accuracy: 0.4586 - val_categorical_crossentropy: 3.2471\n",
      "Epoch 34/500\n",
      " - 30s - loss: 3.3774 - acc: 0.2224 - top_3_accuracy: 0.4063 - categorical_crossentropy: 3.3774 - val_loss: 3.2330 - val_acc: 0.2696 - val_top_3_accuracy: 0.4637 - val_categorical_crossentropy: 3.2330\n",
      "Epoch 35/500\n",
      " - 31s - loss: 3.3411 - acc: 0.2297 - top_3_accuracy: 0.4165 - categorical_crossentropy: 3.3411 - val_loss: 3.2165 - val_acc: 0.2750 - val_top_3_accuracy: 0.4664 - val_categorical_crossentropy: 3.2165\n",
      "Epoch 36/500\n",
      " - 30s - loss: 3.3287 - acc: 0.2297 - top_3_accuracy: 0.4156 - categorical_crossentropy: 3.3287 - val_loss: 3.2030 - val_acc: 0.2777 - val_top_3_accuracy: 0.4672 - val_categorical_crossentropy: 3.2030\n",
      "Epoch 37/500\n",
      " - 31s - loss: 3.3017 - acc: 0.2332 - top_3_accuracy: 0.4210 - categorical_crossentropy: 3.3017 - val_loss: 3.1877 - val_acc: 0.2765 - val_top_3_accuracy: 0.4736 - val_categorical_crossentropy: 3.1877\n",
      "Epoch 38/500\n",
      " - 34s - loss: 3.2730 - acc: 0.2386 - top_3_accuracy: 0.4277 - categorical_crossentropy: 3.2730 - val_loss: 3.1811 - val_acc: 0.2738 - val_top_3_accuracy: 0.4695 - val_categorical_crossentropy: 3.1811\n",
      "Epoch 39/500\n",
      " - 27s - loss: 3.2530 - acc: 0.2426 - top_3_accuracy: 0.4316 - categorical_crossentropy: 3.2530 - val_loss: 3.1447 - val_acc: 0.2816 - val_top_3_accuracy: 0.4761 - val_categorical_crossentropy: 3.1447\n"
     ]
    },
    {
     "name": "stdout",
     "output_type": "stream",
     "text": [
      "Epoch 40/500\n",
      " - 29s - loss: 3.2245 - acc: 0.2451 - top_3_accuracy: 0.4364 - categorical_crossentropy: 3.2245 - val_loss: 3.1627 - val_acc: 0.2837 - val_top_3_accuracy: 0.4742 - val_categorical_crossentropy: 3.1627\n",
      "Epoch 41/500\n",
      " - 28s - loss: 3.1937 - acc: 0.2508 - top_3_accuracy: 0.4448 - categorical_crossentropy: 3.1937 - val_loss: 3.1413 - val_acc: 0.2840 - val_top_3_accuracy: 0.4778 - val_categorical_crossentropy: 3.1413\n",
      "Epoch 42/500\n",
      " - 28s - loss: 3.1751 - acc: 0.2528 - top_3_accuracy: 0.4485 - categorical_crossentropy: 3.1751 - val_loss: 3.1180 - val_acc: 0.2866 - val_top_3_accuracy: 0.4804 - val_categorical_crossentropy: 3.1180\n",
      "Epoch 43/500\n",
      " - 30s - loss: 3.1539 - acc: 0.2564 - top_3_accuracy: 0.4501 - categorical_crossentropy: 3.1539 - val_loss: 3.1034 - val_acc: 0.2897 - val_top_3_accuracy: 0.4901 - val_categorical_crossentropy: 3.1034\n",
      "Epoch 44/500\n",
      " - 29s - loss: 3.1365 - acc: 0.2593 - top_3_accuracy: 0.4565 - categorical_crossentropy: 3.1365 - val_loss: 3.0870 - val_acc: 0.2917 - val_top_3_accuracy: 0.4883 - val_categorical_crossentropy: 3.0870\n",
      "Epoch 45/500\n",
      " - 31s - loss: 3.1160 - acc: 0.2610 - top_3_accuracy: 0.4591 - categorical_crossentropy: 3.1160 - val_loss: 3.0981 - val_acc: 0.2913 - val_top_3_accuracy: 0.4868 - val_categorical_crossentropy: 3.0981\n",
      "Epoch 46/500\n",
      " - 34s - loss: 3.0969 - acc: 0.2666 - top_3_accuracy: 0.4636 - categorical_crossentropy: 3.0969 - val_loss: 3.0842 - val_acc: 0.2965 - val_top_3_accuracy: 0.4920 - val_categorical_crossentropy: 3.0842\n",
      "Epoch 47/500\n",
      " - 31s - loss: 3.0653 - acc: 0.2686 - top_3_accuracy: 0.4673 - categorical_crossentropy: 3.0653 - val_loss: 3.0780 - val_acc: 0.2927 - val_top_3_accuracy: 0.4894 - val_categorical_crossentropy: 3.0780\n",
      "Epoch 48/500\n",
      " - 30s - loss: 3.0554 - acc: 0.2703 - top_3_accuracy: 0.4708 - categorical_crossentropy: 3.0554 - val_loss: 3.0560 - val_acc: 0.2967 - val_top_3_accuracy: 0.4960 - val_categorical_crossentropy: 3.0560\n",
      "Epoch 49/500\n",
      " - 30s - loss: 3.0334 - acc: 0.2716 - top_3_accuracy: 0.4766 - categorical_crossentropy: 3.0334 - val_loss: 3.0921 - val_acc: 0.2910 - val_top_3_accuracy: 0.4921 - val_categorical_crossentropy: 3.0921\n",
      "Epoch 50/500\n",
      " - 29s - loss: 3.0232 - acc: 0.2750 - top_3_accuracy: 0.4769 - categorical_crossentropy: 3.0232 - val_loss: 3.0625 - val_acc: 0.2953 - val_top_3_accuracy: 0.4958 - val_categorical_crossentropy: 3.0625\n",
      "Epoch 51/500\n",
      " - 32s - loss: 3.0003 - acc: 0.2780 - top_3_accuracy: 0.4804 - categorical_crossentropy: 3.0003 - val_loss: 3.0370 - val_acc: 0.2999 - val_top_3_accuracy: 0.5015 - val_categorical_crossentropy: 3.0370\n",
      "Epoch 52/500\n",
      " - 34s - loss: 2.9837 - acc: 0.2827 - top_3_accuracy: 0.4858 - categorical_crossentropy: 2.9837 - val_loss: 3.0308 - val_acc: 0.3004 - val_top_3_accuracy: 0.5040 - val_categorical_crossentropy: 3.0308\n",
      "Epoch 53/500\n",
      " - 31s - loss: 2.9681 - acc: 0.2838 - top_3_accuracy: 0.4893 - categorical_crossentropy: 2.9681 - val_loss: 3.0386 - val_acc: 0.3004 - val_top_3_accuracy: 0.4985 - val_categorical_crossentropy: 3.0386\n",
      "Epoch 54/500\n",
      " - 28s - loss: 2.9517 - acc: 0.2868 - top_3_accuracy: 0.4901 - categorical_crossentropy: 2.9517 - val_loss: 3.0217 - val_acc: 0.3077 - val_top_3_accuracy: 0.5059 - val_categorical_crossentropy: 3.0217\n",
      "Epoch 55/500\n",
      " - 29s - loss: 2.9358 - acc: 0.2915 - top_3_accuracy: 0.4960 - categorical_crossentropy: 2.9358 - val_loss: 3.0307 - val_acc: 0.3008 - val_top_3_accuracy: 0.5016 - val_categorical_crossentropy: 3.0307\n",
      "Epoch 56/500\n",
      " - 29s - loss: 2.9165 - acc: 0.2894 - top_3_accuracy: 0.5000 - categorical_crossentropy: 2.9165 - val_loss: 3.0301 - val_acc: 0.3076 - val_top_3_accuracy: 0.5013 - val_categorical_crossentropy: 3.0301\n",
      "Epoch 57/500\n",
      " - 30s - loss: 2.9062 - acc: 0.2927 - top_3_accuracy: 0.5010 - categorical_crossentropy: 2.9062 - val_loss: 3.0016 - val_acc: 0.3062 - val_top_3_accuracy: 0.5091 - val_categorical_crossentropy: 3.0016\n",
      "Epoch 58/500\n",
      " - 29s - loss: 2.8837 - acc: 0.2961 - top_3_accuracy: 0.5063 - categorical_crossentropy: 2.8837 - val_loss: 3.0135 - val_acc: 0.3085 - val_top_3_accuracy: 0.5117 - val_categorical_crossentropy: 3.0135\n",
      "Epoch 59/500\n",
      " - 29s - loss: 2.8743 - acc: 0.2952 - top_3_accuracy: 0.5072 - categorical_crossentropy: 2.8743 - val_loss: 3.0021 - val_acc: 0.3152 - val_top_3_accuracy: 0.5080 - val_categorical_crossentropy: 3.0021\n",
      "Epoch 60/500\n",
      " - 30s - loss: 2.8652 - acc: 0.3003 - top_3_accuracy: 0.5091 - categorical_crossentropy: 2.8652 - val_loss: 2.9943 - val_acc: 0.3112 - val_top_3_accuracy: 0.5141 - val_categorical_crossentropy: 2.9943\n",
      "Epoch 61/500\n",
      " - 34s - loss: 2.8430 - acc: 0.3024 - top_3_accuracy: 0.5154 - categorical_crossentropy: 2.8430 - val_loss: 2.9975 - val_acc: 0.3075 - val_top_3_accuracy: 0.5113 - val_categorical_crossentropy: 2.9975\n",
      "Epoch 62/500\n",
      " - 29s - loss: 2.8229 - acc: 0.3060 - top_3_accuracy: 0.5170 - categorical_crossentropy: 2.8229 - val_loss: 2.9864 - val_acc: 0.3099 - val_top_3_accuracy: 0.5119 - val_categorical_crossentropy: 2.9864\n",
      "Epoch 63/500\n",
      " - 29s - loss: 2.8126 - acc: 0.3051 - top_3_accuracy: 0.5198 - categorical_crossentropy: 2.8126 - val_loss: 2.9851 - val_acc: 0.3129 - val_top_3_accuracy: 0.5153 - val_categorical_crossentropy: 2.9851\n",
      "Epoch 64/500\n",
      " - 28s - loss: 2.8041 - acc: 0.3093 - top_3_accuracy: 0.5222 - categorical_crossentropy: 2.8041 - val_loss: 2.9956 - val_acc: 0.3120 - val_top_3_accuracy: 0.5137 - val_categorical_crossentropy: 2.9956\n",
      "Epoch 65/500\n",
      " - 26s - loss: 2.7883 - acc: 0.3121 - top_3_accuracy: 0.5245 - categorical_crossentropy: 2.7883 - val_loss: 3.0042 - val_acc: 0.3104 - val_top_3_accuracy: 0.5109 - val_categorical_crossentropy: 3.0042\n",
      "Epoch 66/500\n",
      " - 26s - loss: 2.7754 - acc: 0.3130 - top_3_accuracy: 0.5284 - categorical_crossentropy: 2.7754 - val_loss: 2.9726 - val_acc: 0.3157 - val_top_3_accuracy: 0.5168 - val_categorical_crossentropy: 2.9726\n",
      "Epoch 67/500\n",
      " - 26s - loss: 2.7665 - acc: 0.3124 - top_3_accuracy: 0.5272 - categorical_crossentropy: 2.7665 - val_loss: 2.9786 - val_acc: 0.3131 - val_top_3_accuracy: 0.5168 - val_categorical_crossentropy: 2.9786\n",
      "Epoch 68/500\n",
      " - 26s - loss: 2.7608 - acc: 0.3146 - top_3_accuracy: 0.5302 - categorical_crossentropy: 2.7608 - val_loss: 2.9724 - val_acc: 0.3158 - val_top_3_accuracy: 0.5182 - val_categorical_crossentropy: 2.9724\n",
      "Epoch 69/500\n",
      " - 27s - loss: 2.7440 - acc: 0.3178 - top_3_accuracy: 0.5347 - categorical_crossentropy: 2.7440 - val_loss: 2.9731 - val_acc: 0.3174 - val_top_3_accuracy: 0.5196 - val_categorical_crossentropy: 2.9731\n",
      "Epoch 70/500\n",
      " - 25s - loss: 2.7283 - acc: 0.3195 - top_3_accuracy: 0.5380 - categorical_crossentropy: 2.7283 - val_loss: 2.9842 - val_acc: 0.3154 - val_top_3_accuracy: 0.5159 - val_categorical_crossentropy: 2.9842\n",
      "Epoch 71/500\n",
      " - 27s - loss: 2.7108 - acc: 0.3226 - top_3_accuracy: 0.5402 - categorical_crossentropy: 2.7108 - val_loss: 2.9861 - val_acc: 0.3131 - val_top_3_accuracy: 0.5170 - val_categorical_crossentropy: 2.9861\n",
      "Epoch 72/500\n",
      " - 27s - loss: 2.7126 - acc: 0.3220 - top_3_accuracy: 0.5431 - categorical_crossentropy: 2.7126 - val_loss: 2.9947 - val_acc: 0.3139 - val_top_3_accuracy: 0.5172 - val_categorical_crossentropy: 2.9947\n",
      "Epoch 73/500\n",
      " - 26s - loss: 2.6978 - acc: 0.3264 - top_3_accuracy: 0.5416 - categorical_crossentropy: 2.6978 - val_loss: 2.9686 - val_acc: 0.3192 - val_top_3_accuracy: 0.5168 - val_categorical_crossentropy: 2.9686\n",
      "Epoch 74/500\n",
      " - 26s - loss: 2.6738 - acc: 0.3288 - top_3_accuracy: 0.5481 - categorical_crossentropy: 2.6738 - val_loss: 2.9897 - val_acc: 0.3143 - val_top_3_accuracy: 0.5150 - val_categorical_crossentropy: 2.9897\n",
      "Epoch 75/500\n",
      " - 27s - loss: 2.6679 - acc: 0.3305 - top_3_accuracy: 0.5492 - categorical_crossentropy: 2.6679 - val_loss: 2.9872 - val_acc: 0.3154 - val_top_3_accuracy: 0.5200 - val_categorical_crossentropy: 2.9872\n",
      "Epoch 76/500\n",
      " - 27s - loss: 2.6607 - acc: 0.3334 - top_3_accuracy: 0.5512 - categorical_crossentropy: 2.6607 - val_loss: 3.0091 - val_acc: 0.3120 - val_top_3_accuracy: 0.5145 - val_categorical_crossentropy: 3.0091\n",
      "Epoch 77/500\n",
      " - 26s - loss: 2.6535 - acc: 0.3313 - top_3_accuracy: 0.5524 - categorical_crossentropy: 2.6535 - val_loss: 2.9752 - val_acc: 0.3169 - val_top_3_accuracy: 0.5210 - val_categorical_crossentropy: 2.9752\n",
      "Epoch 78/500\n",
      " - 25s - loss: 2.6373 - acc: 0.3373 - top_3_accuracy: 0.5564 - categorical_crossentropy: 2.6373 - val_loss: 2.9927 - val_acc: 0.3143 - val_top_3_accuracy: 0.5134 - val_categorical_crossentropy: 2.9927\n"
     ]
    },
    {
     "name": "stdout",
     "output_type": "stream",
     "text": [
      "Epoch 79/500\n",
      " - 27s - loss: 2.6489 - acc: 0.3357 - top_3_accuracy: 0.5536 - categorical_crossentropy: 2.6489 - val_loss: 2.9665 - val_acc: 0.3169 - val_top_3_accuracy: 0.5205 - val_categorical_crossentropy: 2.9665\n",
      "Epoch 80/500\n",
      " - 27s - loss: 2.6187 - acc: 0.3387 - top_3_accuracy: 0.5614 - categorical_crossentropy: 2.6187 - val_loss: 2.9958 - val_acc: 0.3160 - val_top_3_accuracy: 0.5183 - val_categorical_crossentropy: 2.9958\n",
      "Epoch 81/500\n",
      " - 27s - loss: 2.6182 - acc: 0.3388 - top_3_accuracy: 0.5614 - categorical_crossentropy: 2.6182 - val_loss: 2.9720 - val_acc: 0.3159 - val_top_3_accuracy: 0.5186 - val_categorical_crossentropy: 2.9720\n",
      "Epoch 82/500\n",
      " - 26s - loss: 2.5954 - acc: 0.3441 - top_3_accuracy: 0.5660 - categorical_crossentropy: 2.5954 - val_loss: 2.9694 - val_acc: 0.3163 - val_top_3_accuracy: 0.5249 - val_categorical_crossentropy: 2.9694\n",
      "Epoch 83/500\n",
      " - 27s - loss: 2.5920 - acc: 0.3441 - top_3_accuracy: 0.5657 - categorical_crossentropy: 2.5920 - val_loss: 2.9595 - val_acc: 0.3211 - val_top_3_accuracy: 0.5268 - val_categorical_crossentropy: 2.9595\n",
      "Epoch 84/500\n",
      " - 27s - loss: 2.5794 - acc: 0.3438 - top_3_accuracy: 0.5656 - categorical_crossentropy: 2.5794 - val_loss: 2.9926 - val_acc: 0.3157 - val_top_3_accuracy: 0.5177 - val_categorical_crossentropy: 2.9926\n",
      "Epoch 85/500\n",
      " - 26s - loss: 2.5807 - acc: 0.3422 - top_3_accuracy: 0.5669 - categorical_crossentropy: 2.5807 - val_loss: 2.9699 - val_acc: 0.3188 - val_top_3_accuracy: 0.5246 - val_categorical_crossentropy: 2.9699\n",
      "Epoch 86/500\n",
      " - 26s - loss: 2.5638 - acc: 0.3447 - top_3_accuracy: 0.5712 - categorical_crossentropy: 2.5638 - val_loss: 2.9622 - val_acc: 0.3210 - val_top_3_accuracy: 0.5274 - val_categorical_crossentropy: 2.9622\n",
      "Epoch 87/500\n",
      " - 28s - loss: 2.5517 - acc: 0.3472 - top_3_accuracy: 0.5746 - categorical_crossentropy: 2.5517 - val_loss: 2.9738 - val_acc: 0.3207 - val_top_3_accuracy: 0.5222 - val_categorical_crossentropy: 2.9738\n",
      "Epoch 88/500\n",
      " - 26s - loss: 2.5489 - acc: 0.3484 - top_3_accuracy: 0.5753 - categorical_crossentropy: 2.5489 - val_loss: 2.9828 - val_acc: 0.3174 - val_top_3_accuracy: 0.5201 - val_categorical_crossentropy: 2.9828\n",
      "Epoch 89/500\n",
      " - 26s - loss: 2.5508 - acc: 0.3496 - top_3_accuracy: 0.5759 - categorical_crossentropy: 2.5508 - val_loss: 2.9834 - val_acc: 0.3147 - val_top_3_accuracy: 0.5201 - val_categorical_crossentropy: 2.9834\n",
      "Epoch 90/500\n",
      " - 26s - loss: 2.5315 - acc: 0.3540 - top_3_accuracy: 0.5756 - categorical_crossentropy: 2.5315 - val_loss: 2.9737 - val_acc: 0.3194 - val_top_3_accuracy: 0.5231 - val_categorical_crossentropy: 2.9737\n",
      "Epoch 91/500\n",
      " - 26s - loss: 2.5242 - acc: 0.3561 - top_3_accuracy: 0.5802 - categorical_crossentropy: 2.5242 - val_loss: 2.9561 - val_acc: 0.3201 - val_top_3_accuracy: 0.5250 - val_categorical_crossentropy: 2.9561\n",
      "Epoch 92/500\n",
      " - 27s - loss: 2.5249 - acc: 0.3559 - top_3_accuracy: 0.5790 - categorical_crossentropy: 2.5249 - val_loss: 2.9783 - val_acc: 0.3224 - val_top_3_accuracy: 0.5230 - val_categorical_crossentropy: 2.9783\n",
      "Epoch 93/500\n",
      " - 26s - loss: 2.5084 - acc: 0.3579 - top_3_accuracy: 0.5841 - categorical_crossentropy: 2.5084 - val_loss: 2.9658 - val_acc: 0.3267 - val_top_3_accuracy: 0.5260 - val_categorical_crossentropy: 2.9658\n",
      "Epoch 94/500\n",
      " - 26s - loss: 2.5008 - acc: 0.3581 - top_3_accuracy: 0.5855 - categorical_crossentropy: 2.5008 - val_loss: 2.9726 - val_acc: 0.3207 - val_top_3_accuracy: 0.5250 - val_categorical_crossentropy: 2.9726\n",
      "Epoch 95/500\n",
      " - 27s - loss: 2.4973 - acc: 0.3580 - top_3_accuracy: 0.5851 - categorical_crossentropy: 2.4973 - val_loss: 2.9764 - val_acc: 0.3181 - val_top_3_accuracy: 0.5200 - val_categorical_crossentropy: 2.9764\n",
      "Epoch 96/500\n",
      " - 27s - loss: 2.4815 - acc: 0.3620 - top_3_accuracy: 0.5899 - categorical_crossentropy: 2.4815 - val_loss: 2.9770 - val_acc: 0.3204 - val_top_3_accuracy: 0.5213 - val_categorical_crossentropy: 2.9770\n",
      "Epoch 97/500\n",
      " - 27s - loss: 2.4767 - acc: 0.3633 - top_3_accuracy: 0.5884 - categorical_crossentropy: 2.4767 - val_loss: 2.9635 - val_acc: 0.3232 - val_top_3_accuracy: 0.5293 - val_categorical_crossentropy: 2.9635\n",
      "Epoch 98/500\n",
      " - 26s - loss: 2.4772 - acc: 0.3625 - top_3_accuracy: 0.5885 - categorical_crossentropy: 2.4772 - val_loss: 2.9666 - val_acc: 0.3225 - val_top_3_accuracy: 0.5260 - val_categorical_crossentropy: 2.9666\n",
      "Epoch 99/500\n",
      " - 26s - loss: 2.4624 - acc: 0.3649 - top_3_accuracy: 0.5925 - categorical_crossentropy: 2.4624 - val_loss: 2.9594 - val_acc: 0.3259 - val_top_3_accuracy: 0.5268 - val_categorical_crossentropy: 2.9594\n",
      "Epoch 100/500\n",
      " - 27s - loss: 2.4510 - acc: 0.3678 - top_3_accuracy: 0.5965 - categorical_crossentropy: 2.4510 - val_loss: 2.9811 - val_acc: 0.3221 - val_top_3_accuracy: 0.5202 - val_categorical_crossentropy: 2.9811\n",
      "Epoch 101/500\n",
      " - 26s - loss: 2.4499 - acc: 0.3670 - top_3_accuracy: 0.5968 - categorical_crossentropy: 2.4499 - val_loss: 2.9918 - val_acc: 0.3191 - val_top_3_accuracy: 0.5237 - val_categorical_crossentropy: 2.9918\n",
      "Epoch 102/500\n",
      " - 29s - loss: 2.4500 - acc: 0.3663 - top_3_accuracy: 0.5949 - categorical_crossentropy: 2.4500 - val_loss: 2.9817 - val_acc: 0.3179 - val_top_3_accuracy: 0.5242 - val_categorical_crossentropy: 2.9817\n",
      "Epoch 103/500\n",
      " - 31s - loss: 2.4309 - acc: 0.3718 - top_3_accuracy: 0.5999 - categorical_crossentropy: 2.4309 - val_loss: 3.0137 - val_acc: 0.3187 - val_top_3_accuracy: 0.5200 - val_categorical_crossentropy: 3.0137\n",
      "Epoch 104/500\n",
      " - 30s - loss: 2.4321 - acc: 0.3707 - top_3_accuracy: 0.5988 - categorical_crossentropy: 2.4321 - val_loss: 2.9775 - val_acc: 0.3213 - val_top_3_accuracy: 0.5246 - val_categorical_crossentropy: 2.9775\n",
      "Epoch 105/500\n",
      " - 27s - loss: 2.4162 - acc: 0.3727 - top_3_accuracy: 0.6015 - categorical_crossentropy: 2.4162 - val_loss: 2.9545 - val_acc: 0.3253 - val_top_3_accuracy: 0.5314 - val_categorical_crossentropy: 2.9545\n",
      "Epoch 106/500\n",
      " - 28s - loss: 2.4081 - acc: 0.3763 - top_3_accuracy: 0.6045 - categorical_crossentropy: 2.4081 - val_loss: 2.9890 - val_acc: 0.3240 - val_top_3_accuracy: 0.5268 - val_categorical_crossentropy: 2.9890\n",
      "Epoch 107/500\n",
      " - 26s - loss: 2.4149 - acc: 0.3731 - top_3_accuracy: 0.6035 - categorical_crossentropy: 2.4149 - val_loss: 2.9804 - val_acc: 0.3206 - val_top_3_accuracy: 0.5247 - val_categorical_crossentropy: 2.9804\n",
      "Epoch 108/500\n",
      " - 27s - loss: 2.3977 - acc: 0.3757 - top_3_accuracy: 0.6068 - categorical_crossentropy: 2.3977 - val_loss: 2.9767 - val_acc: 0.3231 - val_top_3_accuracy: 0.5257 - val_categorical_crossentropy: 2.9767\n",
      "Epoch 109/500\n",
      " - 27s - loss: 2.3888 - acc: 0.3789 - top_3_accuracy: 0.6059 - categorical_crossentropy: 2.3888 - val_loss: 2.9589 - val_acc: 0.3233 - val_top_3_accuracy: 0.5319 - val_categorical_crossentropy: 2.9589\n",
      "Epoch 110/500\n",
      " - 27s - loss: 2.3858 - acc: 0.3777 - top_3_accuracy: 0.6093 - categorical_crossentropy: 2.3858 - val_loss: 3.0032 - val_acc: 0.3198 - val_top_3_accuracy: 0.5225 - val_categorical_crossentropy: 3.0032\n",
      "Epoch 111/500\n",
      " - 25s - loss: 2.3916 - acc: 0.3783 - top_3_accuracy: 0.6072 - categorical_crossentropy: 2.3916 - val_loss: 2.9869 - val_acc: 0.3238 - val_top_3_accuracy: 0.5261 - val_categorical_crossentropy: 2.9869\n",
      "Epoch 112/500\n",
      " - 28s - loss: 2.3881 - acc: 0.3770 - top_3_accuracy: 0.6077 - categorical_crossentropy: 2.3881 - val_loss: 3.0134 - val_acc: 0.3136 - val_top_3_accuracy: 0.5169 - val_categorical_crossentropy: 3.0134\n",
      "Epoch 113/500\n",
      " - 30s - loss: 2.4027 - acc: 0.3761 - top_3_accuracy: 0.6064 - categorical_crossentropy: 2.4027 - val_loss: 2.9686 - val_acc: 0.3251 - val_top_3_accuracy: 0.5237 - val_categorical_crossentropy: 2.9686\n",
      "Epoch 114/500\n",
      " - 32s - loss: 2.3620 - acc: 0.3826 - top_3_accuracy: 0.6142 - categorical_crossentropy: 2.3620 - val_loss: 2.9837 - val_acc: 0.3243 - val_top_3_accuracy: 0.5276 - val_categorical_crossentropy: 2.9837\n",
      "Epoch 115/500\n",
      " - 29s - loss: 2.3666 - acc: 0.3840 - top_3_accuracy: 0.6130 - categorical_crossentropy: 2.3666 - val_loss: 3.0204 - val_acc: 0.3178 - val_top_3_accuracy: 0.5181 - val_categorical_crossentropy: 3.0204\n",
      "Epoch 116/500\n",
      " - 27s - loss: 2.3608 - acc: 0.3818 - top_3_accuracy: 0.6119 - categorical_crossentropy: 2.3608 - val_loss: 2.9911 - val_acc: 0.3213 - val_top_3_accuracy: 0.5225 - val_categorical_crossentropy: 2.9911\n",
      "Epoch 117/500\n",
      " - 26s - loss: 2.3462 - acc: 0.3860 - top_3_accuracy: 0.6186 - categorical_crossentropy: 2.3462 - val_loss: 3.0551 - val_acc: 0.3149 - val_top_3_accuracy: 0.5140 - val_categorical_crossentropy: 3.0551\n"
     ]
    },
    {
     "name": "stdout",
     "output_type": "stream",
     "text": [
      "Epoch 118/500\n",
      " - 27s - loss: 2.3428 - acc: 0.3868 - top_3_accuracy: 0.6178 - categorical_crossentropy: 2.3428 - val_loss: 3.0169 - val_acc: 0.3169 - val_top_3_accuracy: 0.5197 - val_categorical_crossentropy: 3.0169\n",
      "Epoch 119/500\n",
      " - 26s - loss: 2.3390 - acc: 0.3875 - top_3_accuracy: 0.6214 - categorical_crossentropy: 2.3390 - val_loss: 3.0307 - val_acc: 0.3192 - val_top_3_accuracy: 0.5185 - val_categorical_crossentropy: 3.0307\n",
      "Epoch 120/500\n",
      " - 26s - loss: 2.3494 - acc: 0.3861 - top_3_accuracy: 0.6158 - categorical_crossentropy: 2.3494 - val_loss: 2.9893 - val_acc: 0.3263 - val_top_3_accuracy: 0.5292 - val_categorical_crossentropy: 2.9893\n",
      "Epoch 121/500\n",
      " - 27s - loss: 2.3437 - acc: 0.3852 - top_3_accuracy: 0.6175 - categorical_crossentropy: 2.3437 - val_loss: 2.9985 - val_acc: 0.3227 - val_top_3_accuracy: 0.5283 - val_categorical_crossentropy: 2.9985\n",
      "Epoch 122/500\n",
      " - 27s - loss: 2.3225 - acc: 0.3915 - top_3_accuracy: 0.6229 - categorical_crossentropy: 2.3225 - val_loss: 3.0237 - val_acc: 0.3194 - val_top_3_accuracy: 0.5239 - val_categorical_crossentropy: 3.0237\n",
      "Epoch 123/500\n",
      " - 26s - loss: 2.3261 - acc: 0.3925 - top_3_accuracy: 0.6232 - categorical_crossentropy: 2.3261 - val_loss: 3.0255 - val_acc: 0.3175 - val_top_3_accuracy: 0.5255 - val_categorical_crossentropy: 3.0255\n",
      "Epoch 124/500\n",
      " - 26s - loss: 2.3276 - acc: 0.3875 - top_3_accuracy: 0.6229 - categorical_crossentropy: 2.3276 - val_loss: 2.9866 - val_acc: 0.3263 - val_top_3_accuracy: 0.5278 - val_categorical_crossentropy: 2.9866\n",
      "Epoch 125/500\n",
      " - 27s - loss: 2.3021 - acc: 0.3956 - top_3_accuracy: 0.6260 - categorical_crossentropy: 2.3021 - val_loss: 2.9993 - val_acc: 0.3222 - val_top_3_accuracy: 0.5266 - val_categorical_crossentropy: 2.9993\n",
      "Epoch 126/500\n",
      " - 26s - loss: 2.3184 - acc: 0.3898 - top_3_accuracy: 0.6246 - categorical_crossentropy: 2.3184 - val_loss: 3.0053 - val_acc: 0.3211 - val_top_3_accuracy: 0.5258 - val_categorical_crossentropy: 3.0053\n",
      "Epoch 127/500\n",
      " - 27s - loss: 2.2946 - acc: 0.3926 - top_3_accuracy: 0.6283 - categorical_crossentropy: 2.2946 - val_loss: 2.9819 - val_acc: 0.3315 - val_top_3_accuracy: 0.5331 - val_categorical_crossentropy: 2.9819\n",
      "Epoch 128/500\n",
      " - 26s - loss: 2.2962 - acc: 0.3954 - top_3_accuracy: 0.6280 - categorical_crossentropy: 2.2962 - val_loss: 3.0005 - val_acc: 0.3218 - val_top_3_accuracy: 0.5266 - val_categorical_crossentropy: 3.0005\n",
      "Epoch 129/500\n",
      " - 26s - loss: 2.2827 - acc: 0.3981 - top_3_accuracy: 0.6323 - categorical_crossentropy: 2.2827 - val_loss: 3.0096 - val_acc: 0.3215 - val_top_3_accuracy: 0.5278 - val_categorical_crossentropy: 3.0096\n",
      "Epoch 130/500\n",
      " - 26s - loss: 2.2939 - acc: 0.3944 - top_3_accuracy: 0.6270 - categorical_crossentropy: 2.2939 - val_loss: 3.0286 - val_acc: 0.3183 - val_top_3_accuracy: 0.5193 - val_categorical_crossentropy: 3.0286\n",
      "Epoch 131/500\n",
      " - 27s - loss: 2.2929 - acc: 0.3981 - top_3_accuracy: 0.6283 - categorical_crossentropy: 2.2929 - val_loss: 3.0092 - val_acc: 0.3224 - val_top_3_accuracy: 0.5298 - val_categorical_crossentropy: 3.0092\n",
      "Epoch 132/500\n",
      " - 26s - loss: 2.2830 - acc: 0.3972 - top_3_accuracy: 0.6305 - categorical_crossentropy: 2.2830 - val_loss: 3.0231 - val_acc: 0.3205 - val_top_3_accuracy: 0.5237 - val_categorical_crossentropy: 3.0231\n",
      "Epoch 133/500\n",
      " - 26s - loss: 2.2742 - acc: 0.3974 - top_3_accuracy: 0.6334 - categorical_crossentropy: 2.2742 - val_loss: 3.0068 - val_acc: 0.3197 - val_top_3_accuracy: 0.5224 - val_categorical_crossentropy: 3.0068\n",
      "Epoch 134/500\n",
      " - 27s - loss: 2.2755 - acc: 0.4009 - top_3_accuracy: 0.6322 - categorical_crossentropy: 2.2755 - val_loss: 2.9883 - val_acc: 0.3266 - val_top_3_accuracy: 0.5298 - val_categorical_crossentropy: 2.9883\n",
      "Epoch 135/500\n",
      " - 27s - loss: 2.2541 - acc: 0.4033 - top_3_accuracy: 0.6362 - categorical_crossentropy: 2.2541 - val_loss: 3.0138 - val_acc: 0.3219 - val_top_3_accuracy: 0.5268 - val_categorical_crossentropy: 3.0138\n",
      "Epoch 136/500\n",
      " - 26s - loss: 2.2634 - acc: 0.4021 - top_3_accuracy: 0.6365 - categorical_crossentropy: 2.2634 - val_loss: 2.9858 - val_acc: 0.3245 - val_top_3_accuracy: 0.5290 - val_categorical_crossentropy: 2.9858\n",
      "Epoch 137/500\n",
      " - 27s - loss: 2.2598 - acc: 0.4011 - top_3_accuracy: 0.6360 - categorical_crossentropy: 2.2598 - val_loss: 3.0118 - val_acc: 0.3227 - val_top_3_accuracy: 0.5254 - val_categorical_crossentropy: 3.0118\n",
      "Epoch 138/500\n",
      " - 27s - loss: 2.2596 - acc: 0.4022 - top_3_accuracy: 0.6344 - categorical_crossentropy: 2.2596 - val_loss: 3.0098 - val_acc: 0.3247 - val_top_3_accuracy: 0.5282 - val_categorical_crossentropy: 3.0098\n",
      "Epoch 139/500\n",
      " - 26s - loss: 2.2509 - acc: 0.4035 - top_3_accuracy: 0.6381 - categorical_crossentropy: 2.2509 - val_loss: 3.0056 - val_acc: 0.3262 - val_top_3_accuracy: 0.5312 - val_categorical_crossentropy: 3.0056\n",
      "Epoch 140/500\n",
      " - 25s - loss: 2.2540 - acc: 0.4037 - top_3_accuracy: 0.6370 - categorical_crossentropy: 2.2540 - val_loss: 3.0199 - val_acc: 0.3266 - val_top_3_accuracy: 0.5292 - val_categorical_crossentropy: 3.0199\n",
      "Epoch 141/500\n",
      " - 27s - loss: 2.2251 - acc: 0.4089 - top_3_accuracy: 0.6431 - categorical_crossentropy: 2.2251 - val_loss: 3.0392 - val_acc: 0.3227 - val_top_3_accuracy: 0.5270 - val_categorical_crossentropy: 3.0392\n",
      "Epoch 142/500\n",
      " - 27s - loss: 2.2382 - acc: 0.4073 - top_3_accuracy: 0.6414 - categorical_crossentropy: 2.2382 - val_loss: 3.0307 - val_acc: 0.3176 - val_top_3_accuracy: 0.5228 - val_categorical_crossentropy: 3.0307\n",
      "Epoch 143/500\n",
      " - 27s - loss: 2.2340 - acc: 0.4064 - top_3_accuracy: 0.6416 - categorical_crossentropy: 2.2340 - val_loss: 3.0340 - val_acc: 0.3224 - val_top_3_accuracy: 0.5256 - val_categorical_crossentropy: 3.0340\n",
      "Epoch 144/500\n",
      " - 26s - loss: 2.2300 - acc: 0.4085 - top_3_accuracy: 0.6412 - categorical_crossentropy: 2.2300 - val_loss: 3.0456 - val_acc: 0.3179 - val_top_3_accuracy: 0.5242 - val_categorical_crossentropy: 3.0456\n",
      "Epoch 145/500\n",
      " - 26s - loss: 2.2387 - acc: 0.4069 - top_3_accuracy: 0.6381 - categorical_crossentropy: 2.2387 - val_loss: 3.0471 - val_acc: 0.3177 - val_top_3_accuracy: 0.5213 - val_categorical_crossentropy: 3.0471\n",
      "Epoch 146/500\n",
      " - 27s - loss: 2.2239 - acc: 0.4076 - top_3_accuracy: 0.6423 - categorical_crossentropy: 2.2239 - val_loss: 3.0046 - val_acc: 0.3208 - val_top_3_accuracy: 0.5288 - val_categorical_crossentropy: 3.0046\n",
      "Epoch 147/500\n",
      " - 26s - loss: 2.2208 - acc: 0.4090 - top_3_accuracy: 0.6443 - categorical_crossentropy: 2.2208 - val_loss: 3.0137 - val_acc: 0.3234 - val_top_3_accuracy: 0.5267 - val_categorical_crossentropy: 3.0137\n",
      "Epoch 148/500\n",
      " - 26s - loss: 2.2178 - acc: 0.4131 - top_3_accuracy: 0.6446 - categorical_crossentropy: 2.2178 - val_loss: 3.0317 - val_acc: 0.3231 - val_top_3_accuracy: 0.5244 - val_categorical_crossentropy: 3.0317\n",
      "Epoch 149/500\n",
      " - 26s - loss: 2.2074 - acc: 0.4110 - top_3_accuracy: 0.6483 - categorical_crossentropy: 2.2074 - val_loss: 3.0156 - val_acc: 0.3244 - val_top_3_accuracy: 0.5275 - val_categorical_crossentropy: 3.0156\n",
      "Epoch 150/500\n",
      " - 27s - loss: 2.2064 - acc: 0.4141 - top_3_accuracy: 0.6486 - categorical_crossentropy: 2.2064 - val_loss: 3.0024 - val_acc: 0.3237 - val_top_3_accuracy: 0.5299 - val_categorical_crossentropy: 3.0024\n",
      "Epoch 151/500\n",
      " - 26s - loss: 2.1994 - acc: 0.4135 - top_3_accuracy: 0.6472 - categorical_crossentropy: 2.1994 - val_loss: 3.0363 - val_acc: 0.3210 - val_top_3_accuracy: 0.5289 - val_categorical_crossentropy: 3.0363\n",
      "Epoch 152/500\n",
      " - 25s - loss: 2.2052 - acc: 0.4132 - top_3_accuracy: 0.6476 - categorical_crossentropy: 2.2052 - val_loss: 3.0104 - val_acc: 0.3225 - val_top_3_accuracy: 0.5307 - val_categorical_crossentropy: 3.0104\n",
      "Epoch 153/500\n",
      " - 26s - loss: 2.1976 - acc: 0.4127 - top_3_accuracy: 0.6476 - categorical_crossentropy: 2.1976 - val_loss: 3.0133 - val_acc: 0.3235 - val_top_3_accuracy: 0.5288 - val_categorical_crossentropy: 3.0133\n",
      "Epoch 154/500\n",
      " - 26s - loss: 2.1899 - acc: 0.4156 - top_3_accuracy: 0.6506 - categorical_crossentropy: 2.1899 - val_loss: 3.0482 - val_acc: 0.3201 - val_top_3_accuracy: 0.5221 - val_categorical_crossentropy: 3.0482\n",
      "Epoch 155/500\n",
      " - 28s - loss: 2.1829 - acc: 0.4154 - top_3_accuracy: 0.6521 - categorical_crossentropy: 2.1829 - val_loss: 3.0171 - val_acc: 0.3247 - val_top_3_accuracy: 0.5310 - val_categorical_crossentropy: 3.0171\n",
      "Epoch 156/500\n",
      " - 26s - loss: 2.1929 - acc: 0.4165 - top_3_accuracy: 0.6492 - categorical_crossentropy: 2.1929 - val_loss: 3.0341 - val_acc: 0.3216 - val_top_3_accuracy: 0.5279 - val_categorical_crossentropy: 3.0341\n"
     ]
    },
    {
     "name": "stdout",
     "output_type": "stream",
     "text": [
      "Epoch 157/500\n",
      " - 26s - loss: 2.1839 - acc: 0.4172 - top_3_accuracy: 0.6520 - categorical_crossentropy: 2.1839 - val_loss: 3.0269 - val_acc: 0.3239 - val_top_3_accuracy: 0.5260 - val_categorical_crossentropy: 3.0269\n",
      "Epoch 158/500\n",
      " - 27s - loss: 2.1735 - acc: 0.4204 - top_3_accuracy: 0.6542 - categorical_crossentropy: 2.1735 - val_loss: 3.0185 - val_acc: 0.3257 - val_top_3_accuracy: 0.5252 - val_categorical_crossentropy: 3.0185\n",
      "Epoch 159/500\n",
      " - 27s - loss: 2.1686 - acc: 0.4199 - top_3_accuracy: 0.6556 - categorical_crossentropy: 2.1686 - val_loss: 3.0434 - val_acc: 0.3211 - val_top_3_accuracy: 0.5233 - val_categorical_crossentropy: 3.0434\n",
      "Epoch 160/500\n",
      " - 26s - loss: 2.1770 - acc: 0.4167 - top_3_accuracy: 0.6530 - categorical_crossentropy: 2.1770 - val_loss: 3.0178 - val_acc: 0.3245 - val_top_3_accuracy: 0.5288 - val_categorical_crossentropy: 3.0178\n",
      "Epoch 161/500\n",
      " - 27s - loss: 2.1598 - acc: 0.4231 - top_3_accuracy: 0.6576 - categorical_crossentropy: 2.1598 - val_loss: 3.0436 - val_acc: 0.3239 - val_top_3_accuracy: 0.5280 - val_categorical_crossentropy: 3.0436\n",
      "Epoch 162/500\n",
      " - 27s - loss: 2.1692 - acc: 0.4197 - top_3_accuracy: 0.6570 - categorical_crossentropy: 2.1692 - val_loss: 3.0062 - val_acc: 0.3259 - val_top_3_accuracy: 0.5326 - val_categorical_crossentropy: 3.0062\n",
      "Epoch 163/500\n",
      " - 27s - loss: 2.1749 - acc: 0.4184 - top_3_accuracy: 0.6529 - categorical_crossentropy: 2.1749 - val_loss: 3.0275 - val_acc: 0.3214 - val_top_3_accuracy: 0.5241 - val_categorical_crossentropy: 3.0275\n",
      "Epoch 164/500\n",
      " - 27s - loss: 2.1648 - acc: 0.4187 - top_3_accuracy: 0.6560 - categorical_crossentropy: 2.1648 - val_loss: 3.0291 - val_acc: 0.3224 - val_top_3_accuracy: 0.5256 - val_categorical_crossentropy: 3.0291\n",
      "Epoch 165/500\n",
      " - 26s - loss: 2.1607 - acc: 0.4234 - top_3_accuracy: 0.6568 - categorical_crossentropy: 2.1607 - val_loss: 3.0430 - val_acc: 0.3223 - val_top_3_accuracy: 0.5249 - val_categorical_crossentropy: 3.0430\n",
      "Epoch 166/500\n",
      " - 26s - loss: 2.1484 - acc: 0.4246 - top_3_accuracy: 0.6601 - categorical_crossentropy: 2.1484 - val_loss: 3.0609 - val_acc: 0.3227 - val_top_3_accuracy: 0.5212 - val_categorical_crossentropy: 3.0609\n",
      "Epoch 167/500\n",
      " - 27s - loss: 2.1593 - acc: 0.4218 - top_3_accuracy: 0.6564 - categorical_crossentropy: 2.1593 - val_loss: 3.0319 - val_acc: 0.3234 - val_top_3_accuracy: 0.5308 - val_categorical_crossentropy: 3.0319\n",
      "Epoch 168/500\n",
      " - 26s - loss: 2.1454 - acc: 0.4263 - top_3_accuracy: 0.6595 - categorical_crossentropy: 2.1454 - val_loss: 3.0596 - val_acc: 0.3198 - val_top_3_accuracy: 0.5249 - val_categorical_crossentropy: 3.0596\n",
      "Epoch 169/500\n",
      " - 26s - loss: 2.1406 - acc: 0.4246 - top_3_accuracy: 0.6646 - categorical_crossentropy: 2.1406 - val_loss: 3.0456 - val_acc: 0.3266 - val_top_3_accuracy: 0.5298 - val_categorical_crossentropy: 3.0456\n",
      "Epoch 170/500\n",
      " - 26s - loss: 2.1230 - acc: 0.4284 - top_3_accuracy: 0.6642 - categorical_crossentropy: 2.1230 - val_loss: 3.0529 - val_acc: 0.3203 - val_top_3_accuracy: 0.5267 - val_categorical_crossentropy: 3.0529\n",
      "Epoch 171/500\n",
      " - 26s - loss: 2.1283 - acc: 0.4273 - top_3_accuracy: 0.6631 - categorical_crossentropy: 2.1283 - val_loss: 3.0921 - val_acc: 0.3167 - val_top_3_accuracy: 0.5189 - val_categorical_crossentropy: 3.0921\n",
      "Epoch 172/500\n",
      " - 26s - loss: 2.1369 - acc: 0.4281 - top_3_accuracy: 0.6627 - categorical_crossentropy: 2.1369 - val_loss: 3.0587 - val_acc: 0.3229 - val_top_3_accuracy: 0.5240 - val_categorical_crossentropy: 3.0587\n",
      "Epoch 173/500\n",
      " - 27s - loss: 2.1237 - acc: 0.4298 - top_3_accuracy: 0.6660 - categorical_crossentropy: 2.1237 - val_loss: 3.0487 - val_acc: 0.3207 - val_top_3_accuracy: 0.5251 - val_categorical_crossentropy: 3.0487\n",
      "Epoch 174/500\n",
      " - 27s - loss: 2.1268 - acc: 0.4284 - top_3_accuracy: 0.6632 - categorical_crossentropy: 2.1268 - val_loss: 3.0522 - val_acc: 0.3214 - val_top_3_accuracy: 0.5251 - val_categorical_crossentropy: 3.0522\n",
      "Epoch 175/500\n",
      " - 26s - loss: 2.1182 - acc: 0.4298 - top_3_accuracy: 0.6642 - categorical_crossentropy: 2.1182 - val_loss: 3.0269 - val_acc: 0.3232 - val_top_3_accuracy: 0.5308 - val_categorical_crossentropy: 3.0269\n",
      "Epoch 176/500\n",
      " - 26s - loss: 2.1327 - acc: 0.4239 - top_3_accuracy: 0.6621 - categorical_crossentropy: 2.1327 - val_loss: 3.0991 - val_acc: 0.3203 - val_top_3_accuracy: 0.5214 - val_categorical_crossentropy: 3.0991\n",
      "Epoch 177/500\n",
      " - 26s - loss: 2.1171 - acc: 0.4330 - top_3_accuracy: 0.6675 - categorical_crossentropy: 2.1171 - val_loss: 3.0909 - val_acc: 0.3227 - val_top_3_accuracy: 0.5268 - val_categorical_crossentropy: 3.0909\n",
      "Epoch 178/500\n",
      " - 26s - loss: 2.1184 - acc: 0.4299 - top_3_accuracy: 0.6664 - categorical_crossentropy: 2.1184 - val_loss: 3.0718 - val_acc: 0.3244 - val_top_3_accuracy: 0.5241 - val_categorical_crossentropy: 3.0718\n",
      "Epoch 179/500\n",
      " - 26s - loss: 2.1079 - acc: 0.4314 - top_3_accuracy: 0.6682 - categorical_crossentropy: 2.1079 - val_loss: 3.0353 - val_acc: 0.3261 - val_top_3_accuracy: 0.5316 - val_categorical_crossentropy: 3.0353\n",
      "Epoch 180/500\n",
      " - 26s - loss: 2.1140 - acc: 0.4316 - top_3_accuracy: 0.6646 - categorical_crossentropy: 2.1140 - val_loss: 3.0670 - val_acc: 0.3222 - val_top_3_accuracy: 0.5251 - val_categorical_crossentropy: 3.0670\n",
      "Epoch 181/500\n",
      " - 26s - loss: 2.1109 - acc: 0.4329 - top_3_accuracy: 0.6664 - categorical_crossentropy: 2.1109 - val_loss: 3.1171 - val_acc: 0.3137 - val_top_3_accuracy: 0.5180 - val_categorical_crossentropy: 3.1171\n",
      "Epoch 182/500\n",
      " - 27s - loss: 2.1229 - acc: 0.4292 - top_3_accuracy: 0.6677 - categorical_crossentropy: 2.1229 - val_loss: 3.0746 - val_acc: 0.3213 - val_top_3_accuracy: 0.5243 - val_categorical_crossentropy: 3.0746\n",
      "Epoch 183/500\n",
      " - 28s - loss: 2.0986 - acc: 0.4327 - top_3_accuracy: 0.6725 - categorical_crossentropy: 2.0986 - val_loss: 3.0755 - val_acc: 0.3197 - val_top_3_accuracy: 0.5221 - val_categorical_crossentropy: 3.0755\n",
      "Epoch 184/500\n",
      " - 30s - loss: 2.0965 - acc: 0.4319 - top_3_accuracy: 0.6702 - categorical_crossentropy: 2.0965 - val_loss: 3.0749 - val_acc: 0.3153 - val_top_3_accuracy: 0.5186 - val_categorical_crossentropy: 3.0749\n",
      "Epoch 185/500\n",
      " - 31s - loss: 2.0879 - acc: 0.4338 - top_3_accuracy: 0.6737 - categorical_crossentropy: 2.0879 - val_loss: 3.0610 - val_acc: 0.3252 - val_top_3_accuracy: 0.5260 - val_categorical_crossentropy: 3.0610\n",
      "Epoch 186/500\n",
      " - 29s - loss: 2.0990 - acc: 0.4360 - top_3_accuracy: 0.6708 - categorical_crossentropy: 2.0990 - val_loss: 3.0668 - val_acc: 0.3215 - val_top_3_accuracy: 0.5248 - val_categorical_crossentropy: 3.0668\n",
      "Epoch 187/500\n",
      " - 27s - loss: 2.0929 - acc: 0.4357 - top_3_accuracy: 0.6688 - categorical_crossentropy: 2.0929 - val_loss: 3.0817 - val_acc: 0.3193 - val_top_3_accuracy: 0.5249 - val_categorical_crossentropy: 3.0817\n",
      "Epoch 188/500\n",
      " - 26s - loss: 2.0925 - acc: 0.4347 - top_3_accuracy: 0.6722 - categorical_crossentropy: 2.0925 - val_loss: 3.0675 - val_acc: 0.3203 - val_top_3_accuracy: 0.5288 - val_categorical_crossentropy: 3.0675\n",
      "Epoch 189/500\n",
      " - 26s - loss: 2.0946 - acc: 0.4347 - top_3_accuracy: 0.6724 - categorical_crossentropy: 2.0946 - val_loss: 3.0952 - val_acc: 0.3174 - val_top_3_accuracy: 0.5210 - val_categorical_crossentropy: 3.0952\n",
      "Epoch 190/500\n",
      " - 26s - loss: 2.0992 - acc: 0.4325 - top_3_accuracy: 0.6725 - categorical_crossentropy: 2.0992 - val_loss: 3.0439 - val_acc: 0.3236 - val_top_3_accuracy: 0.5277 - val_categorical_crossentropy: 3.0439\n",
      "Epoch 191/500\n",
      " - 27s - loss: 2.0868 - acc: 0.4372 - top_3_accuracy: 0.6734 - categorical_crossentropy: 2.0868 - val_loss: 3.0748 - val_acc: 0.3192 - val_top_3_accuracy: 0.5256 - val_categorical_crossentropy: 3.0748\n",
      "Epoch 192/500\n",
      " - 27s - loss: 2.0692 - acc: 0.4392 - top_3_accuracy: 0.6756 - categorical_crossentropy: 2.0692 - val_loss: 3.0523 - val_acc: 0.3245 - val_top_3_accuracy: 0.5302 - val_categorical_crossentropy: 3.0523\n",
      "Epoch 193/500\n",
      " - 29s - loss: 2.0760 - acc: 0.4350 - top_3_accuracy: 0.6750 - categorical_crossentropy: 2.0760 - val_loss: 3.1225 - val_acc: 0.3114 - val_top_3_accuracy: 0.5182 - val_categorical_crossentropy: 3.1225\n",
      "Epoch 194/500\n",
      " - 29s - loss: 2.0915 - acc: 0.4356 - top_3_accuracy: 0.6723 - categorical_crossentropy: 2.0915 - val_loss: 3.0893 - val_acc: 0.3177 - val_top_3_accuracy: 0.5196 - val_categorical_crossentropy: 3.0893\n",
      "Epoch 195/500\n",
      " - 29s - loss: 2.0803 - acc: 0.4381 - top_3_accuracy: 0.6750 - categorical_crossentropy: 2.0803 - val_loss: 3.1056 - val_acc: 0.3194 - val_top_3_accuracy: 0.5170 - val_categorical_crossentropy: 3.1056\n"
     ]
    },
    {
     "name": "stdout",
     "output_type": "stream",
     "text": [
      "Epoch 196/500\n",
      " - 26s - loss: 2.0644 - acc: 0.4436 - top_3_accuracy: 0.6769 - categorical_crossentropy: 2.0644 - val_loss: 3.0598 - val_acc: 0.3208 - val_top_3_accuracy: 0.5242 - val_categorical_crossentropy: 3.0598\n",
      "Epoch 197/500\n",
      " - 26s - loss: 2.0661 - acc: 0.4389 - top_3_accuracy: 0.6769 - categorical_crossentropy: 2.0661 - val_loss: 3.0770 - val_acc: 0.3199 - val_top_3_accuracy: 0.5236 - val_categorical_crossentropy: 3.0770\n",
      "Epoch 198/500\n",
      " - 27s - loss: 2.0715 - acc: 0.4407 - top_3_accuracy: 0.6762 - categorical_crossentropy: 2.0715 - val_loss: 3.0618 - val_acc: 0.3195 - val_top_3_accuracy: 0.5264 - val_categorical_crossentropy: 3.0618\n",
      "Epoch 199/500\n",
      " - 26s - loss: 2.0756 - acc: 0.4387 - top_3_accuracy: 0.6751 - categorical_crossentropy: 2.0756 - val_loss: 3.0775 - val_acc: 0.3225 - val_top_3_accuracy: 0.5236 - val_categorical_crossentropy: 3.0775\n",
      "Epoch 200/500\n",
      " - 26s - loss: 2.0506 - acc: 0.4420 - top_3_accuracy: 0.6814 - categorical_crossentropy: 2.0506 - val_loss: 3.0800 - val_acc: 0.3228 - val_top_3_accuracy: 0.5276 - val_categorical_crossentropy: 3.0800\n",
      "Epoch 201/500\n",
      " - 26s - loss: 2.0694 - acc: 0.4376 - top_3_accuracy: 0.6766 - categorical_crossentropy: 2.0694 - val_loss: 3.0822 - val_acc: 0.3259 - val_top_3_accuracy: 0.5273 - val_categorical_crossentropy: 3.0822\n",
      "Epoch 202/500\n",
      " - 26s - loss: 2.0549 - acc: 0.4408 - top_3_accuracy: 0.6801 - categorical_crossentropy: 2.0549 - val_loss: 3.0965 - val_acc: 0.3202 - val_top_3_accuracy: 0.5181 - val_categorical_crossentropy: 3.0965\n",
      "Epoch 203/500\n",
      " - 25s - loss: 2.0515 - acc: 0.4438 - top_3_accuracy: 0.6795 - categorical_crossentropy: 2.0515 - val_loss: 3.0786 - val_acc: 0.3236 - val_top_3_accuracy: 0.5268 - val_categorical_crossentropy: 3.0786\n",
      "Epoch 204/500\n",
      " - 26s - loss: 2.0723 - acc: 0.4410 - top_3_accuracy: 0.6777 - categorical_crossentropy: 2.0723 - val_loss: 3.0927 - val_acc: 0.3227 - val_top_3_accuracy: 0.5264 - val_categorical_crossentropy: 3.0927\n",
      "Epoch 205/500\n",
      " - 26s - loss: 2.0565 - acc: 0.4409 - top_3_accuracy: 0.6801 - categorical_crossentropy: 2.0565 - val_loss: 3.0945 - val_acc: 0.3198 - val_top_3_accuracy: 0.5242 - val_categorical_crossentropy: 3.0945\n",
      "Epoch 206/500\n",
      " - 26s - loss: 2.0459 - acc: 0.4439 - top_3_accuracy: 0.6817 - categorical_crossentropy: 2.0459 - val_loss: 3.0802 - val_acc: 0.3231 - val_top_3_accuracy: 0.5280 - val_categorical_crossentropy: 3.0802\n",
      "Epoch 207/500\n",
      " - 26s - loss: 2.0528 - acc: 0.4450 - top_3_accuracy: 0.6817 - categorical_crossentropy: 2.0528 - val_loss: 3.0770 - val_acc: 0.3231 - val_top_3_accuracy: 0.5256 - val_categorical_crossentropy: 3.0770\n",
      "Epoch 208/500\n",
      " - 35s - loss: 2.0332 - acc: 0.4491 - top_3_accuracy: 0.6879 - categorical_crossentropy: 2.0332 - val_loss: 3.0814 - val_acc: 0.3236 - val_top_3_accuracy: 0.5280 - val_categorical_crossentropy: 3.0814\n",
      "Epoch 209/500\n",
      " - 27s - loss: 2.0410 - acc: 0.4458 - top_3_accuracy: 0.6834 - categorical_crossentropy: 2.0410 - val_loss: 3.0824 - val_acc: 0.3226 - val_top_3_accuracy: 0.5272 - val_categorical_crossentropy: 3.0824\n",
      "Epoch 210/500\n",
      " - 26s - loss: 2.0442 - acc: 0.4445 - top_3_accuracy: 0.6839 - categorical_crossentropy: 2.0442 - val_loss: 3.1274 - val_acc: 0.3181 - val_top_3_accuracy: 0.5195 - val_categorical_crossentropy: 3.1274\n",
      "Epoch 211/500\n",
      " - 26s - loss: 2.0508 - acc: 0.4446 - top_3_accuracy: 0.6820 - categorical_crossentropy: 2.0508 - val_loss: 3.1468 - val_acc: 0.3183 - val_top_3_accuracy: 0.5173 - val_categorical_crossentropy: 3.1468\n",
      "Epoch 212/500\n",
      " - 26s - loss: 2.0337 - acc: 0.4469 - top_3_accuracy: 0.6828 - categorical_crossentropy: 2.0337 - val_loss: 3.0749 - val_acc: 0.3251 - val_top_3_accuracy: 0.5315 - val_categorical_crossentropy: 3.0749\n",
      "Epoch 213/500\n",
      " - 27s - loss: 2.0511 - acc: 0.4450 - top_3_accuracy: 0.6810 - categorical_crossentropy: 2.0511 - val_loss: 3.0719 - val_acc: 0.3280 - val_top_3_accuracy: 0.5277 - val_categorical_crossentropy: 3.0719\n",
      "Epoch 214/500\n",
      " - 26s - loss: 2.0287 - acc: 0.4477 - top_3_accuracy: 0.6854 - categorical_crossentropy: 2.0287 - val_loss: 3.1492 - val_acc: 0.3131 - val_top_3_accuracy: 0.5152 - val_categorical_crossentropy: 3.1492\n",
      "Epoch 215/500\n",
      " - 26s - loss: 2.0342 - acc: 0.4463 - top_3_accuracy: 0.6843 - categorical_crossentropy: 2.0342 - val_loss: 3.0943 - val_acc: 0.3260 - val_top_3_accuracy: 0.5272 - val_categorical_crossentropy: 3.0943\n",
      "Epoch 216/500\n",
      " - 26s - loss: 2.0269 - acc: 0.4479 - top_3_accuracy: 0.6855 - categorical_crossentropy: 2.0269 - val_loss: 3.0677 - val_acc: 0.3260 - val_top_3_accuracy: 0.5327 - val_categorical_crossentropy: 3.0677\n",
      "Epoch 217/500\n",
      " - 26s - loss: 2.0317 - acc: 0.4480 - top_3_accuracy: 0.6843 - categorical_crossentropy: 2.0317 - val_loss: 3.0692 - val_acc: 0.3247 - val_top_3_accuracy: 0.5248 - val_categorical_crossentropy: 3.0692\n",
      "Epoch 218/500\n",
      " - 30s - loss: 2.0209 - acc: 0.4515 - top_3_accuracy: 0.6885 - categorical_crossentropy: 2.0209 - val_loss: 3.1281 - val_acc: 0.3196 - val_top_3_accuracy: 0.5193 - val_categorical_crossentropy: 3.1281\n",
      "Epoch 219/500\n",
      " - 36s - loss: 2.0270 - acc: 0.4506 - top_3_accuracy: 0.6879 - categorical_crossentropy: 2.0270 - val_loss: 3.0909 - val_acc: 0.3187 - val_top_3_accuracy: 0.5273 - val_categorical_crossentropy: 3.0909\n",
      "Epoch 220/500\n",
      " - 30s - loss: 2.0298 - acc: 0.4492 - top_3_accuracy: 0.6860 - categorical_crossentropy: 2.0298 - val_loss: 3.1055 - val_acc: 0.3183 - val_top_3_accuracy: 0.5253 - val_categorical_crossentropy: 3.1055\n",
      "Epoch 221/500\n",
      " - 28s - loss: 2.0242 - acc: 0.4495 - top_3_accuracy: 0.6893 - categorical_crossentropy: 2.0242 - val_loss: 3.1040 - val_acc: 0.3205 - val_top_3_accuracy: 0.5282 - val_categorical_crossentropy: 3.1040\n",
      "Epoch 222/500\n",
      " - 26s - loss: 2.0186 - acc: 0.4511 - top_3_accuracy: 0.6882 - categorical_crossentropy: 2.0186 - val_loss: 3.1103 - val_acc: 0.3219 - val_top_3_accuracy: 0.5219 - val_categorical_crossentropy: 3.1103\n",
      "Epoch 223/500\n",
      " - 27s - loss: 1.9965 - acc: 0.4559 - top_3_accuracy: 0.6933 - categorical_crossentropy: 1.9965 - val_loss: 3.0882 - val_acc: 0.3223 - val_top_3_accuracy: 0.5289 - val_categorical_crossentropy: 3.0882\n",
      "Epoch 224/500\n",
      " - 26s - loss: 2.0091 - acc: 0.4524 - top_3_accuracy: 0.6897 - categorical_crossentropy: 2.0091 - val_loss: 3.1153 - val_acc: 0.3167 - val_top_3_accuracy: 0.5232 - val_categorical_crossentropy: 3.1153\n",
      "Epoch 225/500\n",
      " - 26s - loss: 1.9961 - acc: 0.4550 - top_3_accuracy: 0.6939 - categorical_crossentropy: 1.9961 - val_loss: 3.1156 - val_acc: 0.3213 - val_top_3_accuracy: 0.5246 - val_categorical_crossentropy: 3.1156\n",
      "Epoch 226/500\n",
      " - 26s - loss: 2.0147 - acc: 0.4521 - top_3_accuracy: 0.6885 - categorical_crossentropy: 2.0147 - val_loss: 3.1266 - val_acc: 0.3181 - val_top_3_accuracy: 0.5223 - val_categorical_crossentropy: 3.1266\n",
      "Epoch 227/500\n",
      " - 26s - loss: 2.0132 - acc: 0.4528 - top_3_accuracy: 0.6874 - categorical_crossentropy: 2.0132 - val_loss: 3.1082 - val_acc: 0.3214 - val_top_3_accuracy: 0.5280 - val_categorical_crossentropy: 3.1082\n",
      "Epoch 228/500\n",
      " - 27s - loss: 1.9979 - acc: 0.4557 - top_3_accuracy: 0.6928 - categorical_crossentropy: 1.9979 - val_loss: 3.0948 - val_acc: 0.3218 - val_top_3_accuracy: 0.5267 - val_categorical_crossentropy: 3.0948\n",
      "Epoch 229/500\n",
      " - 27s - loss: 1.9932 - acc: 0.4569 - top_3_accuracy: 0.6962 - categorical_crossentropy: 1.9932 - val_loss: 3.0978 - val_acc: 0.3215 - val_top_3_accuracy: 0.5233 - val_categorical_crossentropy: 3.0978\n",
      "Epoch 230/500\n",
      " - 26s - loss: 1.9966 - acc: 0.4573 - top_3_accuracy: 0.6933 - categorical_crossentropy: 1.9966 - val_loss: 3.1522 - val_acc: 0.3169 - val_top_3_accuracy: 0.5181 - val_categorical_crossentropy: 3.1522\n",
      "Epoch 231/500\n",
      " - 27s - loss: 1.9955 - acc: 0.4572 - top_3_accuracy: 0.6922 - categorical_crossentropy: 1.9955 - val_loss: 3.1171 - val_acc: 0.3187 - val_top_3_accuracy: 0.5205 - val_categorical_crossentropy: 3.1171\n",
      "Epoch 232/500\n",
      " - 26s - loss: 1.9915 - acc: 0.4570 - top_3_accuracy: 0.6929 - categorical_crossentropy: 1.9915 - val_loss: 3.0883 - val_acc: 0.3231 - val_top_3_accuracy: 0.5284 - val_categorical_crossentropy: 3.0883\n",
      "Epoch 233/500\n"
     ]
    }
   ],
   "source": [
    "model.fit(X_train, y_train, \n",
    "          validation_data=(X_test, y_test),\n",
    "          epochs=500, batch_size=1000, verbose=2)\n",
    "scores = model.evaluate(X_test, y_test, verbose=0)\n",
    "print(\"CNN Error: %.2f%%\" % (100-scores[1]*100))"
   ]
  },
  {
   "cell_type": "code",
   "execution_count": null,
   "metadata": {},
   "outputs": [],
   "source": [
    "model.fit(X_train, y_train, \n",
    "          validation_data=(X_test, y_test),\n",
    "          epochs=500, batch_size=1000, verbose=2)\n",
    "scores = model.evaluate(X_test, y_test, verbose=0)\n",
    "print(\"CNN Error: %.2f%%\" % (100-scores[1]*100))"
   ]
  },
  {
   "cell_type": "code",
   "execution_count": null,
   "metadata": {},
   "outputs": [],
   "source": []
  },
  {
   "cell_type": "code",
   "execution_count": null,
   "metadata": {},
   "outputs": [],
   "source": []
  },
  {
   "cell_type": "code",
   "execution_count": 131,
   "metadata": {},
   "outputs": [
    {
     "data": {
      "text/plain": [
       "(27200, 50, 50, 1)"
      ]
     },
     "execution_count": 131,
     "metadata": {},
     "output_type": "execute_result"
    }
   ],
   "source": [
    "# X_train.shape"
   ]
  },
  {
   "cell_type": "code",
   "execution_count": 85,
   "metadata": {},
   "outputs": [
    {
     "data": {
      "text/plain": [
       "['',\n",
       " '/usr/local/Cellar/python@2/2.7.15_1/Frameworks/Python.framework/Versions/2.7/lib/python27.zip',\n",
       " '/usr/local/Cellar/python@2/2.7.15_1/Frameworks/Python.framework/Versions/2.7/lib/python2.7',\n",
       " '/usr/local/Cellar/python@2/2.7.15_1/Frameworks/Python.framework/Versions/2.7/lib/python2.7/plat-darwin',\n",
       " '/usr/local/Cellar/python@2/2.7.15_1/Frameworks/Python.framework/Versions/2.7/lib/python2.7/plat-mac',\n",
       " '/usr/local/Cellar/python@2/2.7.15_1/Frameworks/Python.framework/Versions/2.7/lib/python2.7/plat-mac/lib-scriptpackages',\n",
       " '/usr/local/Cellar/python@2/2.7.15_1/Frameworks/Python.framework/Versions/2.7/lib/python2.7/lib-tk',\n",
       " '/usr/local/Cellar/python@2/2.7.15_1/Frameworks/Python.framework/Versions/2.7/lib/python2.7/lib-old',\n",
       " '/usr/local/Cellar/python@2/2.7.15_1/Frameworks/Python.framework/Versions/2.7/lib/python2.7/lib-dynload',\n",
       " '/Users/vaibhavb/Library/Python/2.7/lib/python/site-packages',\n",
       " '/usr/local/lib/python2.7/site-packages',\n",
       " '/usr/local/lib/python2.7/site-packages/PIL',\n",
       " '/usr/local/lib/python2.7/site-packages/IPython/extensions',\n",
       " '/Users/vaibhavb/.ipython']"
      ]
     },
     "execution_count": 85,
     "metadata": {},
     "output_type": "execute_result"
    }
   ],
   "source": [
    "import sys\n",
    "sys.path"
   ]
  },
  {
   "cell_type": "code",
   "execution_count": 8,
   "metadata": {},
   "outputs": [],
   "source": [
    "from PIL import Image"
   ]
  },
  {
   "cell_type": "code",
   "execution_count": 10,
   "metadata": {},
   "outputs": [],
   "source": [
    "# Image.new(\"P\", (255,255))"
   ]
  },
  {
   "cell_type": "code",
   "execution_count": null,
   "metadata": {},
   "outputs": [],
   "source": []
  }
 ],
 "metadata": {
  "kernelspec": {
   "display_name": "Python 2",
   "language": "python",
   "name": "python2"
  }
 },
 "nbformat": 4,
 "nbformat_minor": 2
}
