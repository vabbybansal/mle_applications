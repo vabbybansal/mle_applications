{
 "cells": [
  {
   "cell_type": "code",
   "execution_count": 1,
   "metadata": {},
   "outputs": [
    {
     "name": "stderr",
     "output_type": "stream",
     "text": [
      "Using TensorFlow backend.\n"
     ]
    },
    {
     "data": {
      "text/html": [
       "<style>.container { width:100% !important; }</style>"
      ],
      "text/plain": [
       "<IPython.core.display.HTML object>"
      ]
     },
     "metadata": {},
     "output_type": "display_data"
    }
   ],
   "source": [
    "import random\n",
    "import os\n",
    "import re\n",
    "from glob import glob\n",
    "from tqdm import tqdm\n",
    "import numpy as np\n",
    "import pandas as pd\n",
    "import ast\n",
    "import matplotlib.pyplot as plt\n",
    "%matplotlib inline\n",
    "import numpy as np\n",
    "from PIL import Image, ImageDraw\n",
    "from __future__ import print_function\n",
    "import keras\n",
    "from keras.datasets import mnist\n",
    "from keras.models import Sequential\n",
    "from keras.layers import Dense, Dropout, Flatten\n",
    "from keras.layers import Conv2D, MaxPooling2D\n",
    "from keras import backend as K\n",
    "from keras import metrics\n",
    "from IPython.core.display import display, HTML\n",
    "display(HTML(\"<style>.container { width:100% !important; }</style>\"))\n",
    "from sklearn.model_selection import train_test_split"
   ]
  },
  {
   "cell_type": "markdown",
   "metadata": {},
   "source": [
    "# Get Data"
   ]
  },
  {
   "cell_type": "code",
   "execution_count": 2,
   "metadata": {},
   "outputs": [
    {
     "data": {
      "text/plain": [
       "(112199, 3)"
      ]
     },
     "execution_count": 2,
     "metadata": {},
     "output_type": "execute_result"
    }
   ],
   "source": [
    "test_df = pd.read_csv('test_simplified.csv')\n",
    "test_df.shape"
   ]
  },
  {
   "cell_type": "code",
   "execution_count": 3,
   "metadata": {},
   "outputs": [],
   "source": [
    "# Get names of all train csv files with the pattern match below\n",
    "fnames = glob('train_simplified/*.csv')"
   ]
  },
  {
   "cell_type": "code",
   "execution_count": 4,
   "metadata": {},
   "outputs": [],
   "source": [
    "rows = 200\n",
    "# Get n rows from all the csv files and append them into one dataframe\n",
    "train_df = pd.DataFrame(columns=pd.read_csv(fnames[0], nrows=20).columns)\n",
    "for name in fnames:\n",
    "    data = pd.read_csv(name, nrows=rows)\n",
    "    train_df = train_df.append(data)\n",
    "train_df = train_df.reset_index().drop('index', axis=1)\n",
    "# Get only those which were correctly recognized\n",
    "train_df = train_df[train_df['recognized'] == True]"
   ]
  },
  {
   "cell_type": "code",
   "execution_count": 5,
   "metadata": {},
   "outputs": [],
   "source": [
    "# Convert the drawing column to matrix\n",
    "train_df['drawing'] = train_df['drawing'].apply(ast.literal_eval)\n",
    "test_df['drawing'] = test_df['drawing'].apply(ast.literal_eval)"
   ]
  },
  {
   "cell_type": "code",
   "execution_count": 6,
   "metadata": {},
   "outputs": [],
   "source": [
    "# train_df.head()\n",
    "# train_df['recognized'].value_counts()"
   ]
  },
  {
   "cell_type": "markdown",
   "metadata": {},
   "source": [
    "# Draw Sample"
   ]
  },
  {
   "cell_type": "code",
   "execution_count": 7,
   "metadata": {},
   "outputs": [
    {
     "data": {
      "text/html": [
       "<div>\n",
       "<style scoped>\n",
       "    .dataframe tbody tr th:only-of-type {\n",
       "        vertical-align: middle;\n",
       "    }\n",
       "\n",
       "    .dataframe tbody tr th {\n",
       "        vertical-align: top;\n",
       "    }\n",
       "\n",
       "    .dataframe thead th {\n",
       "        text-align: right;\n",
       "    }\n",
       "</style>\n",
       "<table border=\"1\" class=\"dataframe\">\n",
       "  <thead>\n",
       "    <tr style=\"text-align: right;\">\n",
       "      <th></th>\n",
       "      <th>countrycode</th>\n",
       "      <th>drawing</th>\n",
       "      <th>key_id</th>\n",
       "      <th>recognized</th>\n",
       "      <th>timestamp</th>\n",
       "      <th>word</th>\n",
       "    </tr>\n",
       "  </thead>\n",
       "  <tbody>\n",
       "    <tr>\n",
       "      <th>7106</th>\n",
       "      <td>US</td>\n",
       "      <td>[[[9, 50, 137], [164, 173, 181]], [[6, 7, 18, ...</td>\n",
       "      <td>6002209202372608</td>\n",
       "      <td>True</td>\n",
       "      <td>2017-03-26 21:24:58.348980</td>\n",
       "      <td>shovel</td>\n",
       "    </tr>\n",
       "    <tr>\n",
       "      <th>20502</th>\n",
       "      <td>US</td>\n",
       "      <td>[[[49, 34, 25, 13, 1, 0, 8, 18, 35, 51, 60, 67...</td>\n",
       "      <td>6365588265893888</td>\n",
       "      <td>True</td>\n",
       "      <td>2017-03-22 04:40:52.674720</td>\n",
       "      <td>blackberry</td>\n",
       "    </tr>\n",
       "    <tr>\n",
       "      <th>55260</th>\n",
       "      <td>US</td>\n",
       "      <td>[[[53, 58, 63], [3, 109, 143]], [[57, 147, 155...</td>\n",
       "      <td>4710603471978496</td>\n",
       "      <td>True</td>\n",
       "      <td>2017-01-30 18:48:45.788020</td>\n",
       "      <td>hat</td>\n",
       "    </tr>\n",
       "    <tr>\n",
       "      <th>52621</th>\n",
       "      <td>CZ</td>\n",
       "      <td>[[[0, 19, 57, 124, 148, 154], [5, 10, 10, 19, ...</td>\n",
       "      <td>4596179834765312</td>\n",
       "      <td>True</td>\n",
       "      <td>2017-03-04 21:34:14.000950</td>\n",
       "      <td>hourglass</td>\n",
       "    </tr>\n",
       "    <tr>\n",
       "      <th>11688</th>\n",
       "      <td>GB</td>\n",
       "      <td>[[[0, 37, 71, 73, 75, 89, 105, 145, 162, 170, ...</td>\n",
       "      <td>5126973787471872</td>\n",
       "      <td>True</td>\n",
       "      <td>2017-03-25 13:59:46.856160</td>\n",
       "      <td>sock</td>\n",
       "    </tr>\n",
       "    <tr>\n",
       "      <th>18376</th>\n",
       "      <td>VN</td>\n",
       "      <td>[[[5, 23, 41, 61, 71, 76, 74, 64, 33, 13, 4, 1...</td>\n",
       "      <td>6463800595185664</td>\n",
       "      <td>True</td>\n",
       "      <td>2017-03-08 14:19:28.245210</td>\n",
       "      <td>peanut</td>\n",
       "    </tr>\n",
       "    <tr>\n",
       "      <th>56029</th>\n",
       "      <td>TH</td>\n",
       "      <td>[[[8, 6, 8, 25, 35, 44, 61, 81, 116, 132, 179,...</td>\n",
       "      <td>6318773575352320</td>\n",
       "      <td>True</td>\n",
       "      <td>2017-03-13 10:16:24.273180</td>\n",
       "      <td>roller coaster</td>\n",
       "    </tr>\n",
       "    <tr>\n",
       "      <th>32131</th>\n",
       "      <td>US</td>\n",
       "      <td>[[[253, 255, 253, 219, 184, 142, 87, 69, 60, 5...</td>\n",
       "      <td>4861451493703680</td>\n",
       "      <td>True</td>\n",
       "      <td>2017-03-14 21:19:33.602050</td>\n",
       "      <td>cannon</td>\n",
       "    </tr>\n",
       "    <tr>\n",
       "      <th>61639</th>\n",
       "      <td>US</td>\n",
       "      <td>[[[2, 0, 24, 29, 31, 34, 25, 10], [94, 155, 15...</td>\n",
       "      <td>4991298303950848</td>\n",
       "      <td>True</td>\n",
       "      <td>2017-03-07 14:28:11.563210</td>\n",
       "      <td>headphones</td>\n",
       "    </tr>\n",
       "    <tr>\n",
       "      <th>50188</th>\n",
       "      <td>US</td>\n",
       "      <td>[[[23, 99, 123, 194, 194], [48, 148, 116, 38, ...</td>\n",
       "      <td>6723060390428672</td>\n",
       "      <td>True</td>\n",
       "      <td>2017-03-09 16:40:27.760460</td>\n",
       "      <td>elbow</td>\n",
       "    </tr>\n",
       "  </tbody>\n",
       "</table>\n",
       "</div>"
      ],
      "text/plain": [
       "      countrycode                                            drawing  \\\n",
       "7106           US  [[[9, 50, 137], [164, 173, 181]], [[6, 7, 18, ...   \n",
       "20502          US  [[[49, 34, 25, 13, 1, 0, 8, 18, 35, 51, 60, 67...   \n",
       "55260          US  [[[53, 58, 63], [3, 109, 143]], [[57, 147, 155...   \n",
       "52621          CZ  [[[0, 19, 57, 124, 148, 154], [5, 10, 10, 19, ...   \n",
       "11688          GB  [[[0, 37, 71, 73, 75, 89, 105, 145, 162, 170, ...   \n",
       "18376          VN  [[[5, 23, 41, 61, 71, 76, 74, 64, 33, 13, 4, 1...   \n",
       "56029          TH  [[[8, 6, 8, 25, 35, 44, 61, 81, 116, 132, 179,...   \n",
       "32131          US  [[[253, 255, 253, 219, 184, 142, 87, 69, 60, 5...   \n",
       "61639          US  [[[2, 0, 24, 29, 31, 34, 25, 10], [94, 155, 15...   \n",
       "50188          US  [[[23, 99, 123, 194, 194], [48, 148, 116, 38, ...   \n",
       "\n",
       "                 key_id recognized                   timestamp            word  \n",
       "7106   6002209202372608       True  2017-03-26 21:24:58.348980          shovel  \n",
       "20502  6365588265893888       True  2017-03-22 04:40:52.674720      blackberry  \n",
       "55260  4710603471978496       True  2017-01-30 18:48:45.788020             hat  \n",
       "52621  4596179834765312       True  2017-03-04 21:34:14.000950       hourglass  \n",
       "11688  5126973787471872       True  2017-03-25 13:59:46.856160            sock  \n",
       "18376  6463800595185664       True  2017-03-08 14:19:28.245210          peanut  \n",
       "56029  6318773575352320       True  2017-03-13 10:16:24.273180  roller coaster  \n",
       "32131  4861451493703680       True  2017-03-14 21:19:33.602050          cannon  \n",
       "61639  4991298303950848       True  2017-03-07 14:28:11.563210      headphones  \n",
       "50188  6723060390428672       True  2017-03-09 16:40:27.760460           elbow  "
      ]
     },
     "execution_count": 7,
     "metadata": {},
     "output_type": "execute_result"
    }
   ],
   "source": [
    "train_df.sample(10)"
   ]
  },
  {
   "cell_type": "code",
   "execution_count": 8,
   "metadata": {},
   "outputs": [
    {
     "data": {
      "image/png": "[encoded data removed]",
      "text/plain": [
       "<Figure size 288x288 with 3 Axes>"
      ]
     },
     "metadata": {
      "needs_background": "light"
     },
     "output_type": "display_data"
    }
   ],
   "source": [
    "n_samp = 3\n",
    "train_df_sample = train_df.sample(n_samp)\n",
    "plt.figure(figsize=(4,4))\n",
    "for i in range(n_samp):\n",
    "    draw = train_df_sample.iloc[i]['drawing']\n",
    "    label = train_df_sample.iloc[i]['word']\n",
    "    plt.subplot(n_samp,1,i+1)\n",
    "    for stroke in draw:\n",
    "        plt.plot(stroke[0], stroke[1], marker='.', color='black')\n",
    "        plt.title(label)\n",
    "        plt.axis('off')\n",
    "plt.show()    "
   ]
  },
  {
   "cell_type": "markdown",
   "metadata": {},
   "source": [
    "# Convert drawings to images"
   ]
  },
  {
   "cell_type": "code",
   "execution_count": 9,
   "metadata": {},
   "outputs": [],
   "source": [
    "def draw_it(raw_strokes, output_height, output_width):\n",
    "    image = Image.new(\"P\", (255,255)\n",
    "#                       , color=1\n",
    "            )\n",
    "    image_draw = ImageDraw.Draw(image)\n",
    "\n",
    "    for stroke in raw_strokes:\n",
    "        for i in range(len(stroke[0])-1):\n",
    "\n",
    "            image_draw.line([stroke[0][i], \n",
    "                             stroke[1][i],\n",
    "                             stroke[0][i+1], \n",
    "                             stroke[1][i+1]],\n",
    "                            fill=255, width=6)\n",
    "    # Reduce image size\n",
    "    image = image.resize((output_height,output_width),Image.ANTIALIAS)\n",
    "    \n",
    "    return np.array(image)"
   ]
  },
  {
   "cell_type": "code",
   "execution_count": 49,
   "metadata": {},
   "outputs": [],
   "source": [
    "output_height = 64\n",
    "output_width = 64\n",
    "train_df['img'] = train_df[['drawing']].apply(lambda x: draw_it(x['drawing'], output_height, output_width), axis=1)\n",
    "test_df['img'] = test_df[['drawing']].apply(lambda x: draw_it(x['drawing'], output_height, output_width), axis=1)"
   ]
  },
  {
   "cell_type": "code",
   "execution_count": 50,
   "metadata": {},
   "outputs": [
    {
     "data": {
      "image/png": "[encoded data removed]",
      "text/plain": [
       "<Figure size 432x288 with 1 Axes>"
      ]
     },
     "metadata": {
      "needs_background": "light"
     },
     "output_type": "display_data"
    }
   ],
   "source": [
    "# Show an image\n",
    "ind = 100\n",
    "plt.imshow(train_df.iloc[ind]['img'],cmap='gray')\n",
    "plt.title(train_df.iloc[ind]['word'])\n",
    "plt.show()"
   ]
  },
  {
   "cell_type": "code",
   "execution_count": null,
   "metadata": {},
   "outputs": [],
   "source": []
  },
  {
   "cell_type": "markdown",
   "metadata": {},
   "source": [
    "# Create a baseline CNN"
   ]
  },
  {
   "cell_type": "code",
   "execution_count": 51,
   "metadata": {},
   "outputs": [],
   "source": [
    "batch_size = 10\n",
    "num_classes = len(fnames)\n",
    "epochs = 12"
   ]
  },
  {
   "cell_type": "markdown",
   "metadata": {},
   "source": [
    "### Data Preprocessing"
   ]
  },
  {
   "cell_type": "code",
   "execution_count": 52,
   "metadata": {},
   "outputs": [],
   "source": [
    "# Shuffle the data\n",
    "random.seed(111)\n",
    "train_df = train_df.sample(train_df.shape[0])"
   ]
  },
  {
   "cell_type": "code",
   "execution_count": 53,
   "metadata": {},
   "outputs": [],
   "source": [
    "# input image dimensions\n",
    "img_rows, img_cols = output_height, output_width\n",
    "input_shape = (img_rows, img_cols)"
   ]
  },
  {
   "cell_type": "code",
   "execution_count": 54,
   "metadata": {},
   "outputs": [],
   "source": [
    "# Reshape the array\n",
    "imgArr = np.vstack(train_df['img'].values).flatten().reshape((train_df['img'].shape[0], img_rows, img_cols))\n",
    "imgArr_test = np.vstack(test_df['img'].values).flatten().reshape((test_df['img'].shape[0], img_rows, img_cols))"
   ]
  },
  {
   "cell_type": "code",
   "execution_count": 55,
   "metadata": {},
   "outputs": [],
   "source": [
    "# In Keras, the layers used for two-dimensional convolutions expect pixel values with the dimensions [width][height][pixels] for TF.\n",
    "# In the case of RGB, the first dimension pixels would be 3 for the red, green and blue components and it would be like having 3 image inputs for every color image. In this case, the pixel values are gray scale, the pixel dimension is set to 1.\n",
    "imgArr = imgArr.reshape(imgArr.shape[0], img_rows, img_cols, 1).astype('float32')\n",
    "imgArr_test = imgArr_test.reshape(imgArr_test.shape[0], img_rows, img_cols, 1).astype('float32')"
   ]
  },
  {
   "cell_type": "code",
   "execution_count": null,
   "metadata": {},
   "outputs": [],
   "source": []
  },
  {
   "cell_type": "code",
   "execution_count": 56,
   "metadata": {},
   "outputs": [],
   "source": [
    "y_train = train_df['word']"
   ]
  },
  {
   "cell_type": "code",
   "execution_count": 57,
   "metadata": {},
   "outputs": [],
   "source": [
    "# Convert class labels from categorical to numerical\n",
    "unique_classes_list = y_train.unique()\n",
    "map_class_to_numeric = {k: v for v, k in enumerate(y_train.unique())}\n",
    "map_numeric_to_class = {v: k for k, v in map_class_to_numeric.iteritems()}\n",
    "y_train_numeric = y_train.apply(lambda x: map_class_to_numeric[x])\n",
    "\n",
    "# convert class vectors to binary class matrices\n",
    "y_train_one_hot = keras.utils.to_categorical(y_train_numeric, num_classes)\n",
    "num_classes = y_train_one_hot.shape[1]"
   ]
  },
  {
   "cell_type": "code",
   "execution_count": 58,
   "metadata": {},
   "outputs": [],
   "source": [
    "X_train, X_test, y_train, y_test = train_test_split(imgArr, y_train_one_hot, test_size=0.2)"
   ]
  },
  {
   "cell_type": "code",
   "execution_count": 59,
   "metadata": {},
   "outputs": [],
   "source": [
    "def top_3_accuracy(y_true, y_pred):\n",
    "    return metrics.top_k_categorical_accuracy(y_true, y_pred, k=3)"
   ]
  },
  {
   "cell_type": "markdown",
   "metadata": {},
   "source": [
    "### Model Architecture"
   ]
  },
  {
   "cell_type": "code",
   "execution_count": 60,
   "metadata": {},
   "outputs": [],
   "source": [
    "num_filters = 8 # num of channels / filters\n",
    "def baseline_conv_model(num_filters):\n",
    "    model = Sequential()\n",
    "    model.add(Conv2D(num_filters, (15,15), input_shape=(img_rows,img_cols,1), activation='relu')) \n",
    "    model.add(MaxPooling2D(pool_size=(2,2)))\n",
    "    model.add(Dropout(0.2))\n",
    "    model.add(Conv2D(num_filters*2, (15,15), input_shape=(img_rows,img_cols,1), activation='relu')) \n",
    "    model.add(MaxPooling2D(pool_size=(2,2)))\n",
    "    model.add(Dropout(0.2))    \n",
    "    model.add(Flatten())\n",
    "    model.add(Dense(1000, activation='relu'))\n",
    "    model.add(Dropout(0.2))\n",
    "    model.add(Dense(500, activation='relu'))\n",
    "    model.add(Dropout(0.2))\n",
    "#     model.add(Dense(100, activation='relu'))\n",
    "    model.add(Dense(num_classes, activation='softmax'))\n",
    "    \n",
    "    # Compile\n",
    "    model.compile(loss='categorical_crossentropy', optimizer='adam', metrics=['accuracy', top_3_accuracy, 'categorical_crossentropy'])\n",
    "    return model"
   ]
  },
  {
   "cell_type": "code",
   "execution_count": 61,
   "metadata": {},
   "outputs": [
    {
     "name": "stdout",
     "output_type": "stream",
     "text": [
      "_________________________________________________________________\n",
      "Layer (type)                 Output Shape              Param #   \n",
      "=================================================================\n",
      "conv2d_20 (Conv2D)           (None, 50, 50, 8)         1808      \n",
      "_________________________________________________________________\n",
      "max_pooling2d_14 (MaxPooling (None, 25, 25, 8)         0         \n",
      "_________________________________________________________________\n",
      "dropout_37 (Dropout)         (None, 25, 25, 8)         0         \n",
      "_________________________________________________________________\n",
      "conv2d_21 (Conv2D)           (None, 11, 11, 16)        28816     \n",
      "_________________________________________________________________\n",
      "max_pooling2d_15 (MaxPooling (None, 5, 5, 16)          0         \n",
      "_________________________________________________________________\n",
      "dropout_38 (Dropout)         (None, 5, 5, 16)          0         \n",
      "_________________________________________________________________\n",
      "flatten_10 (Flatten)         (None, 400)               0         \n",
      "_________________________________________________________________\n",
      "dense_29 (Dense)             (None, 1000)              401000    \n",
      "_________________________________________________________________\n",
      "dropout_39 (Dropout)         (None, 1000)              0         \n",
      "_________________________________________________________________\n",
      "dense_30 (Dense)             (None, 500)               500500    \n",
      "_________________________________________________________________\n",
      "dropout_40 (Dropout)         (None, 500)               0         \n",
      "_________________________________________________________________\n",
      "dense_31 (Dense)             (None, 340)               170340    \n",
      "=================================================================\n",
      "Total params: 1,102,464\n",
      "Trainable params: 1,102,464\n",
      "Non-trainable params: 0\n",
      "_________________________________________________________________\n"
     ]
    }
   ],
   "source": [
    "model = baseline_conv_model(num_filters)\n",
    "model.summary()"
   ]
  },
  {
   "cell_type": "code",
   "execution_count": 62,
   "metadata": {},
   "outputs": [
    {
     "name": "stdout",
     "output_type": "stream",
     "text": [
      "Train on 50072 samples, validate on 12518 samples\n",
      "Epoch 1/500\n",
      " - 836s - loss: 6.7617 - acc: 0.0028 - top_3_accuracy: 0.0088 - categorical_crossentropy: 6.7617 - val_loss: 5.8237 - val_acc: 0.0049 - val_top_3_accuracy: 0.0111 - val_categorical_crossentropy: 5.8237\n",
      "Epoch 2/500\n",
      " - 856s - loss: 5.7710 - acc: 0.0061 - top_3_accuracy: 0.0162 - categorical_crossentropy: 5.7710 - val_loss: 5.7182 - val_acc: 0.0099 - val_top_3_accuracy: 0.0249 - val_categorical_crossentropy: 5.7182\n",
      "Epoch 3/500\n",
      " - 829s - loss: 5.6591 - acc: 0.0128 - top_3_accuracy: 0.0313 - categorical_crossentropy: 5.6591 - val_loss: 5.5556 - val_acc: 0.0171 - val_top_3_accuracy: 0.0419 - val_categorical_crossentropy: 5.5556\n",
      "Epoch 4/500\n",
      " - 831s - loss: 5.4935 - acc: 0.0210 - top_3_accuracy: 0.0499 - categorical_crossentropy: 5.4935 - val_loss: 5.3602 - val_acc: 0.0278 - val_top_3_accuracy: 0.0635 - val_categorical_crossentropy: 5.3602\n",
      "Epoch 5/500\n",
      " - 836s - loss: 5.2814 - acc: 0.0279 - top_3_accuracy: 0.0661 - categorical_crossentropy: 5.2814 - val_loss: 5.1440 - val_acc: 0.0396 - val_top_3_accuracy: 0.0906 - val_categorical_crossentropy: 5.1440\n",
      "Epoch 6/500\n",
      " - 1299s - loss: 5.1220 - acc: 0.0380 - top_3_accuracy: 0.0843 - categorical_crossentropy: 5.1220 - val_loss: 4.9570 - val_acc: 0.0531 - val_top_3_accuracy: 0.1167 - val_categorical_crossentropy: 4.9570\n",
      "Epoch 7/500\n",
      " - 1163s - loss: 4.9519 - acc: 0.0487 - top_3_accuracy: 0.1098 - categorical_crossentropy: 4.9519 - val_loss: 4.7919 - val_acc: 0.0679 - val_top_3_accuracy: 0.1451 - val_categorical_crossentropy: 4.7919\n",
      "Epoch 8/500\n",
      " - 1165s - loss: 4.7734 - acc: 0.0652 - top_3_accuracy: 0.1395 - categorical_crossentropy: 4.7734 - val_loss: 4.6309 - val_acc: 0.0830 - val_top_3_accuracy: 0.1795 - val_categorical_crossentropy: 4.6309\n",
      "Epoch 9/500\n",
      " - 1114s - loss: 4.6117 - acc: 0.0779 - top_3_accuracy: 0.1692 - categorical_crossentropy: 4.6117 - val_loss: 4.4132 - val_acc: 0.1069 - val_top_3_accuracy: 0.2189 - val_categorical_crossentropy: 4.4132\n",
      "Epoch 10/500\n",
      " - 1189s - loss: 4.4588 - acc: 0.0933 - top_3_accuracy: 0.1973 - categorical_crossentropy: 4.4588 - val_loss: 4.2916 - val_acc: 0.1239 - val_top_3_accuracy: 0.2459 - val_categorical_crossentropy: 4.2916\n",
      "Epoch 11/500\n",
      " - 1176s - loss: 4.3143 - acc: 0.1064 - top_3_accuracy: 0.2219 - categorical_crossentropy: 4.3143 - val_loss: 4.1275 - val_acc: 0.1383 - val_top_3_accuracy: 0.2694 - val_categorical_crossentropy: 4.1275\n",
      "Epoch 12/500\n",
      " - 1123s - loss: 4.1961 - acc: 0.1204 - top_3_accuracy: 0.2465 - categorical_crossentropy: 4.1961 - val_loss: 4.0895 - val_acc: 0.1446 - val_top_3_accuracy: 0.2806 - val_categorical_crossentropy: 4.0895\n",
      "Epoch 13/500\n",
      " - 1138s - loss: 4.0827 - acc: 0.1356 - top_3_accuracy: 0.2699 - categorical_crossentropy: 4.0827 - val_loss: 3.8969 - val_acc: 0.1659 - val_top_3_accuracy: 0.3187 - val_categorical_crossentropy: 3.8969\n",
      "Epoch 14/500\n",
      " - 1133s - loss: 3.9695 - acc: 0.1469 - top_3_accuracy: 0.2890 - categorical_crossentropy: 3.9695 - val_loss: 3.7816 - val_acc: 0.1883 - val_top_3_accuracy: 0.3489 - val_categorical_crossentropy: 3.7816\n",
      "Epoch 15/500\n",
      " - 1128s - loss: 3.8545 - acc: 0.1613 - top_3_accuracy: 0.3137 - categorical_crossentropy: 3.8545 - val_loss: 3.7114 - val_acc: 0.1980 - val_top_3_accuracy: 0.3569 - val_categorical_crossentropy: 3.7114\n",
      "Epoch 16/500\n",
      " - 1135s - loss: 3.7700 - acc: 0.1741 - top_3_accuracy: 0.3334 - categorical_crossentropy: 3.7700 - val_loss: 3.6256 - val_acc: 0.2104 - val_top_3_accuracy: 0.3779 - val_categorical_crossentropy: 3.6256\n",
      "Epoch 17/500\n",
      " - 1112s - loss: 3.6932 - acc: 0.1839 - top_3_accuracy: 0.3458 - categorical_crossentropy: 3.6932 - val_loss: 3.6517 - val_acc: 0.2058 - val_top_3_accuracy: 0.3681 - val_categorical_crossentropy: 3.6517\n",
      "Epoch 18/500\n",
      " - 1141s - loss: 3.6352 - acc: 0.1914 - top_3_accuracy: 0.3597 - categorical_crossentropy: 3.6352 - val_loss: 3.5403 - val_acc: 0.2206 - val_top_3_accuracy: 0.3965 - val_categorical_crossentropy: 3.5403\n",
      "Epoch 19/500\n",
      " - 1123s - loss: 3.5473 - acc: 0.2055 - top_3_accuracy: 0.3793 - categorical_crossentropy: 3.5473 - val_loss: 3.5933 - val_acc: 0.2151 - val_top_3_accuracy: 0.3910 - val_categorical_crossentropy: 3.5933\n",
      "Epoch 20/500\n",
      " - 1117s - loss: 3.4801 - acc: 0.2134 - top_3_accuracy: 0.3914 - categorical_crossentropy: 3.4801 - val_loss: 3.4304 - val_acc: 0.2377 - val_top_3_accuracy: 0.4225 - val_categorical_crossentropy: 3.4304\n",
      "Epoch 21/500\n",
      " - 1141s - loss: 3.4205 - acc: 0.2204 - top_3_accuracy: 0.4029 - categorical_crossentropy: 3.4205 - val_loss: 3.4036 - val_acc: 0.2442 - val_top_3_accuracy: 0.4282 - val_categorical_crossentropy: 3.4036\n",
      "Epoch 22/500\n",
      " - 1121s - loss: 3.3690 - acc: 0.2296 - top_3_accuracy: 0.4138 - categorical_crossentropy: 3.3690 - val_loss: 3.3589 - val_acc: 0.2490 - val_top_3_accuracy: 0.4352 - val_categorical_crossentropy: 3.3589\n",
      "Epoch 23/500\n",
      " - 1139s - loss: 3.2979 - acc: 0.2370 - top_3_accuracy: 0.4276 - categorical_crossentropy: 3.2979 - val_loss: 3.3606 - val_acc: 0.2546 - val_top_3_accuracy: 0.4401 - val_categorical_crossentropy: 3.3606\n",
      "Epoch 24/500\n",
      " - 1128s - loss: 3.2561 - acc: 0.2480 - top_3_accuracy: 0.4362 - categorical_crossentropy: 3.2561 - val_loss: 3.3457 - val_acc: 0.2554 - val_top_3_accuracy: 0.4367 - val_categorical_crossentropy: 3.3457\n",
      "Epoch 25/500\n",
      " - 1113s - loss: 3.2099 - acc: 0.2555 - top_3_accuracy: 0.4482 - categorical_crossentropy: 3.2099 - val_loss: 3.3058 - val_acc: 0.2626 - val_top_3_accuracy: 0.4444 - val_categorical_crossentropy: 3.3058\n",
      "Epoch 26/500\n",
      " - 1239s - loss: 3.1684 - acc: 0.2583 - top_3_accuracy: 0.4531 - categorical_crossentropy: 3.1684 - val_loss: 3.2903 - val_acc: 0.2642 - val_top_3_accuracy: 0.4494 - val_categorical_crossentropy: 3.2903\n",
      "Epoch 27/500\n",
      " - 1459s - loss: 3.1114 - acc: 0.2682 - top_3_accuracy: 0.4655 - categorical_crossentropy: 3.1114 - val_loss: 3.2174 - val_acc: 0.2738 - val_top_3_accuracy: 0.4633 - val_categorical_crossentropy: 3.2174\n",
      "Epoch 28/500\n",
      " - 1366s - loss: 3.0857 - acc: 0.2718 - top_3_accuracy: 0.4700 - categorical_crossentropy: 3.0857 - val_loss: 3.2383 - val_acc: 0.2661 - val_top_3_accuracy: 0.4609 - val_categorical_crossentropy: 3.2383\n",
      "Epoch 29/500\n"
     ]
    },
    {
     "ename": "KeyboardInterrupt",
     "evalue": "",
     "output_type": "error",
     "traceback": [
      "\u001b[0;31m---------------------------------------------------------------------------\u001b[0m",
      "\u001b[0;31mKeyboardInterrupt\u001b[0m                         Traceback (most recent call last)",
      "\u001b[0;32m<ipython-input-62-5dec8ef3db75>\u001b[0m in \u001b[0;36m<module>\u001b[0;34m()\u001b[0m\n\u001b[1;32m      1\u001b[0m model.fit(X_train, y_train, \n\u001b[1;32m      2\u001b[0m           \u001b[0mvalidation_data\u001b[0m\u001b[0;34m=\u001b[0m\u001b[0;34m(\u001b[0m\u001b[0mX_test\u001b[0m\u001b[0;34m,\u001b[0m \u001b[0my_test\u001b[0m\u001b[0;34m)\u001b[0m\u001b[0;34m,\u001b[0m\u001b[0;34m\u001b[0m\u001b[0m\n\u001b[0;32m----> 3\u001b[0;31m           epochs=500, batch_size=1000, verbose=2)\n\u001b[0m\u001b[1;32m      4\u001b[0m \u001b[0mscores\u001b[0m \u001b[0;34m=\u001b[0m \u001b[0mmodel\u001b[0m\u001b[0;34m.\u001b[0m\u001b[0mevaluate\u001b[0m\u001b[0;34m(\u001b[0m\u001b[0mX_test\u001b[0m\u001b[0;34m,\u001b[0m \u001b[0my_test\u001b[0m\u001b[0;34m,\u001b[0m \u001b[0mverbose\u001b[0m\u001b[0;34m=\u001b[0m\u001b[0;36m0\u001b[0m\u001b[0;34m)\u001b[0m\u001b[0;34m\u001b[0m\u001b[0m\n\u001b[1;32m      5\u001b[0m \u001b[0;32mprint\u001b[0m\u001b[0;34m(\u001b[0m\u001b[0;34m\"CNN Error: %.2f%%\"\u001b[0m \u001b[0;34m%\u001b[0m \u001b[0;34m(\u001b[0m\u001b[0;36m100\u001b[0m\u001b[0;34m-\u001b[0m\u001b[0mscores\u001b[0m\u001b[0;34m[\u001b[0m\u001b[0;36m1\u001b[0m\u001b[0;34m]\u001b[0m\u001b[0;34m*\u001b[0m\u001b[0;36m100\u001b[0m\u001b[0;34m)\u001b[0m\u001b[0;34m)\u001b[0m\u001b[0;34m\u001b[0m\u001b[0m\n",
      "\u001b[0;32m/usr/local/lib/python2.7/site-packages/keras/engine/training.pyc\u001b[0m in \u001b[0;36mfit\u001b[0;34m(self, x, y, batch_size, epochs, verbose, callbacks, validation_split, validation_data, shuffle, class_weight, sample_weight, initial_epoch, steps_per_epoch, validation_steps, **kwargs)\u001b[0m\n\u001b[1;32m   1037\u001b[0m                                         \u001b[0minitial_epoch\u001b[0m\u001b[0;34m=\u001b[0m\u001b[0minitial_epoch\u001b[0m\u001b[0;34m,\u001b[0m\u001b[0;34m\u001b[0m\u001b[0m\n\u001b[1;32m   1038\u001b[0m                                         \u001b[0msteps_per_epoch\u001b[0m\u001b[0;34m=\u001b[0m\u001b[0msteps_per_epoch\u001b[0m\u001b[0;34m,\u001b[0m\u001b[0;34m\u001b[0m\u001b[0m\n\u001b[0;32m-> 1039\u001b[0;31m                                         validation_steps=validation_steps)\n\u001b[0m\u001b[1;32m   1040\u001b[0m \u001b[0;34m\u001b[0m\u001b[0m\n\u001b[1;32m   1041\u001b[0m     def evaluate(self, x=None, y=None,\n",
      "\u001b[0;32m/usr/local/lib/python2.7/site-packages/keras/engine/training_arrays.pyc\u001b[0m in \u001b[0;36mfit_loop\u001b[0;34m(model, f, ins, out_labels, batch_size, epochs, verbose, callbacks, val_f, val_ins, shuffle, callback_metrics, initial_epoch, steps_per_epoch, validation_steps)\u001b[0m\n\u001b[1;32m    197\u001b[0m                     \u001b[0mins_batch\u001b[0m\u001b[0;34m[\u001b[0m\u001b[0mi\u001b[0m\u001b[0;34m]\u001b[0m \u001b[0;34m=\u001b[0m \u001b[0mins_batch\u001b[0m\u001b[0;34m[\u001b[0m\u001b[0mi\u001b[0m\u001b[0;34m]\u001b[0m\u001b[0;34m.\u001b[0m\u001b[0mtoarray\u001b[0m\u001b[0;34m(\u001b[0m\u001b[0;34m)\u001b[0m\u001b[0;34m\u001b[0m\u001b[0m\n\u001b[1;32m    198\u001b[0m \u001b[0;34m\u001b[0m\u001b[0m\n\u001b[0;32m--> 199\u001b[0;31m                 \u001b[0mouts\u001b[0m \u001b[0;34m=\u001b[0m \u001b[0mf\u001b[0m\u001b[0;34m(\u001b[0m\u001b[0mins_batch\u001b[0m\u001b[0;34m)\u001b[0m\u001b[0;34m\u001b[0m\u001b[0m\n\u001b[0m\u001b[1;32m    200\u001b[0m                 \u001b[0mouts\u001b[0m \u001b[0;34m=\u001b[0m \u001b[0mto_list\u001b[0m\u001b[0;34m(\u001b[0m\u001b[0mouts\u001b[0m\u001b[0;34m)\u001b[0m\u001b[0;34m\u001b[0m\u001b[0m\n\u001b[1;32m    201\u001b[0m                 \u001b[0;32mfor\u001b[0m \u001b[0ml\u001b[0m\u001b[0;34m,\u001b[0m \u001b[0mo\u001b[0m \u001b[0;32min\u001b[0m \u001b[0mzip\u001b[0m\u001b[0;34m(\u001b[0m\u001b[0mout_labels\u001b[0m\u001b[0;34m,\u001b[0m \u001b[0mouts\u001b[0m\u001b[0;34m)\u001b[0m\u001b[0;34m:\u001b[0m\u001b[0;34m\u001b[0m\u001b[0m\n",
      "\u001b[0;32m/usr/local/lib/python2.7/site-packages/keras/backend/tensorflow_backend.pyc\u001b[0m in \u001b[0;36m__call__\u001b[0;34m(self, inputs)\u001b[0m\n\u001b[1;32m   2713\u001b[0m                 \u001b[0;32mreturn\u001b[0m \u001b[0mself\u001b[0m\u001b[0;34m.\u001b[0m\u001b[0m_legacy_call\u001b[0m\u001b[0;34m(\u001b[0m\u001b[0minputs\u001b[0m\u001b[0;34m)\u001b[0m\u001b[0;34m\u001b[0m\u001b[0m\n\u001b[1;32m   2714\u001b[0m \u001b[0;34m\u001b[0m\u001b[0m\n\u001b[0;32m-> 2715\u001b[0;31m             \u001b[0;32mreturn\u001b[0m \u001b[0mself\u001b[0m\u001b[0;34m.\u001b[0m\u001b[0m_call\u001b[0m\u001b[0;34m(\u001b[0m\u001b[0minputs\u001b[0m\u001b[0;34m)\u001b[0m\u001b[0;34m\u001b[0m\u001b[0m\n\u001b[0m\u001b[1;32m   2716\u001b[0m         \u001b[0;32melse\u001b[0m\u001b[0;34m:\u001b[0m\u001b[0;34m\u001b[0m\u001b[0m\n\u001b[1;32m   2717\u001b[0m             \u001b[0;32mif\u001b[0m \u001b[0mpy_any\u001b[0m\u001b[0;34m(\u001b[0m\u001b[0mis_tensor\u001b[0m\u001b[0;34m(\u001b[0m\u001b[0mx\u001b[0m\u001b[0;34m)\u001b[0m \u001b[0;32mfor\u001b[0m \u001b[0mx\u001b[0m \u001b[0;32min\u001b[0m \u001b[0minputs\u001b[0m\u001b[0;34m)\u001b[0m\u001b[0;34m:\u001b[0m\u001b[0;34m\u001b[0m\u001b[0m\n",
      "\u001b[0;32m/usr/local/lib/python2.7/site-packages/keras/backend/tensorflow_backend.pyc\u001b[0m in \u001b[0;36m_call\u001b[0;34m(self, inputs)\u001b[0m\n\u001b[1;32m   2673\u001b[0m             \u001b[0mfetched\u001b[0m \u001b[0;34m=\u001b[0m \u001b[0mself\u001b[0m\u001b[0;34m.\u001b[0m\u001b[0m_callable_fn\u001b[0m\u001b[0;34m(\u001b[0m\u001b[0;34m*\u001b[0m\u001b[0marray_vals\u001b[0m\u001b[0;34m,\u001b[0m \u001b[0mrun_metadata\u001b[0m\u001b[0;34m=\u001b[0m\u001b[0mself\u001b[0m\u001b[0;34m.\u001b[0m\u001b[0mrun_metadata\u001b[0m\u001b[0;34m)\u001b[0m\u001b[0;34m\u001b[0m\u001b[0m\n\u001b[1;32m   2674\u001b[0m         \u001b[0;32melse\u001b[0m\u001b[0;34m:\u001b[0m\u001b[0;34m\u001b[0m\u001b[0m\n\u001b[0;32m-> 2675\u001b[0;31m             \u001b[0mfetched\u001b[0m \u001b[0;34m=\u001b[0m \u001b[0mself\u001b[0m\u001b[0;34m.\u001b[0m\u001b[0m_callable_fn\u001b[0m\u001b[0;34m(\u001b[0m\u001b[0;34m*\u001b[0m\u001b[0marray_vals\u001b[0m\u001b[0;34m)\u001b[0m\u001b[0;34m\u001b[0m\u001b[0m\n\u001b[0m\u001b[1;32m   2676\u001b[0m         \u001b[0;32mreturn\u001b[0m \u001b[0mfetched\u001b[0m\u001b[0;34m[\u001b[0m\u001b[0;34m:\u001b[0m\u001b[0mlen\u001b[0m\u001b[0;34m(\u001b[0m\u001b[0mself\u001b[0m\u001b[0;34m.\u001b[0m\u001b[0moutputs\u001b[0m\u001b[0;34m)\u001b[0m\u001b[0;34m]\u001b[0m\u001b[0;34m\u001b[0m\u001b[0m\n\u001b[1;32m   2677\u001b[0m \u001b[0;34m\u001b[0m\u001b[0m\n",
      "\u001b[0;32m/usr/local/lib/python2.7/site-packages/tensorflow/python/client/session.pyc\u001b[0m in \u001b[0;36m__call__\u001b[0;34m(self, *args, **kwargs)\u001b[0m\n\u001b[1;32m   1397\u001b[0m           ret = tf_session.TF_SessionRunCallable(\n\u001b[1;32m   1398\u001b[0m               \u001b[0mself\u001b[0m\u001b[0;34m.\u001b[0m\u001b[0m_session\u001b[0m\u001b[0;34m.\u001b[0m\u001b[0m_session\u001b[0m\u001b[0;34m,\u001b[0m \u001b[0mself\u001b[0m\u001b[0;34m.\u001b[0m\u001b[0m_handle\u001b[0m\u001b[0;34m,\u001b[0m \u001b[0margs\u001b[0m\u001b[0;34m,\u001b[0m \u001b[0mstatus\u001b[0m\u001b[0;34m,\u001b[0m\u001b[0;34m\u001b[0m\u001b[0m\n\u001b[0;32m-> 1399\u001b[0;31m               run_metadata_ptr)\n\u001b[0m\u001b[1;32m   1400\u001b[0m         \u001b[0;32mif\u001b[0m \u001b[0mrun_metadata\u001b[0m\u001b[0;34m:\u001b[0m\u001b[0;34m\u001b[0m\u001b[0m\n\u001b[1;32m   1401\u001b[0m           \u001b[0mproto_data\u001b[0m \u001b[0;34m=\u001b[0m \u001b[0mtf_session\u001b[0m\u001b[0;34m.\u001b[0m\u001b[0mTF_GetBuffer\u001b[0m\u001b[0;34m(\u001b[0m\u001b[0mrun_metadata_ptr\u001b[0m\u001b[0;34m)\u001b[0m\u001b[0;34m\u001b[0m\u001b[0m\n",
      "\u001b[0;31mKeyboardInterrupt\u001b[0m: "
     ]
    }
   ],
   "source": [
    "model.fit(X_train, y_train, \n",
    "          validation_data=(X_test, y_test),\n",
    "          epochs=500, batch_size=1000, verbose=2)\n",
    "scores = model.evaluate(X_test, y_test, verbose=0)\n",
    "print(\"CNN Error: %.2f%%\" % (100-scores[1]*100))"
   ]
  },
  {
   "cell_type": "code",
   "execution_count": null,
   "metadata": {},
   "outputs": [],
   "source": [
    "model.fit(X_train, y_train, \n",
    "          validation_data=(X_test, y_test),\n",
    "          epochs=500, batch_size=1000, verbose=2)\n",
    "scores = model.evaluate(X_test, y_test, verbose=0)\n",
    "print(\"CNN Error: %.2f%%\" % (100-scores[1]*100))"
   ]
  },
  {
   "cell_type": "code",
   "execution_count": null,
   "metadata": {},
   "outputs": [],
   "source": []
  },
  {
   "cell_type": "code",
   "execution_count": 65,
   "metadata": {},
   "outputs": [
    {
     "ename": "ImportError",
     "evalue": "No module named pillow",
     "output_type": "error",
     "traceback": [
      "\u001b[0;31m---------------------------------------------------------------------------\u001b[0m",
      "\u001b[0;31mImportError\u001b[0m                               Traceback (most recent call last)",
      "\u001b[0;32m<ipython-input-65-e32915389b2c>\u001b[0m in \u001b[0;36m<module>\u001b[0;34m()\u001b[0m\n\u001b[0;32m----> 1\u001b[0;31m \u001b[0;32mimport\u001b[0m \u001b[0mpillow\u001b[0m\u001b[0;34m\u001b[0m\u001b[0m\n\u001b[0m",
      "\u001b[0;31mImportError\u001b[0m: No module named pillow"
     ]
    }
   ],
   "source": [
    "import pillow"
   ]
  },
  {
   "cell_type": "code",
   "execution_count": 131,
   "metadata": {},
   "outputs": [
    {
     "data": {
      "text/plain": [
       "(27200, 50, 50, 1)"
      ]
     },
     "execution_count": 131,
     "metadata": {},
     "output_type": "execute_result"
    }
   ],
   "source": [
    "# X_train.shape"
   ]
  },
  {
   "cell_type": "code",
   "execution_count": null,
   "metadata": {},
   "outputs": [],
   "source": []
  }
 ],
 "metadata": {
  "kernelspec": {
   "display_name": "Python 2",
   "language": "python",
   "name": "python2"
  },
  "language_info": {
   "codemirror_mode": {
    "name": "ipython",
    "version": 2
   },
   "file_extension": ".py",
   "mimetype": "text/x-python",
   "name": "python",
   "nbconvert_exporter": "python",
   "pygments_lexer": "ipython2",
   "version": "2.7.15"
  }
 },
 "nbformat": 4,
 "nbformat_minor": 2
}
