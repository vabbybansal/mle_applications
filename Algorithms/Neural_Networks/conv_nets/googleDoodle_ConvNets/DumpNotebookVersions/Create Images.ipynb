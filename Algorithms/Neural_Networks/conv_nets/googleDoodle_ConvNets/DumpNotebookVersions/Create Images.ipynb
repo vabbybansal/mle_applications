{
 "cells": [
  {
   "cell_type": "code",
   "execution_count": 2,
   "metadata": {},
   "outputs": [
    {
     "name": "stderr",
     "output_type": "stream",
     "text": [
      "Using TensorFlow backend.\n"
     ]
    },
    {
     "data": {
      "text/html": [
       "<style>.container { width:100% !important; }</style>"
      ],
      "text/plain": [
       "<IPython.core.display.HTML object>"
      ]
     },
     "metadata": {},
     "output_type": "display_data"
    }
   ],
   "source": [
    "import random\n",
    "import os\n",
    "import re\n",
    "from glob import glob\n",
    "from tqdm import tqdm\n",
    "import numpy as np\n",
    "\n",
    "import pandas as pd\n",
    "import ast\n",
    "import matplotlib.pyplot as plt\n",
    "%matplotlib inline\n",
    "import numpy as np\n",
    "from PIL import Image, ImageDraw, _imaging\n",
    "from __future__ import print_function\n",
    "import keras\n",
    "from keras.datasets import mnist\n",
    "from keras.models import Sequential\n",
    "from keras.layers import Dense, Dropout, Flatten, Activation\n",
    "from keras.layers import Conv2D, MaxPooling2D\n",
    "from keras import backend as K\n",
    "from keras import metrics\n",
    "from IPython.core.display import display, HTML\n",
    "display(HTML(\"<style>.container { width:100% !important; }</style>\"))\n",
    "from sklearn.model_selection import train_test_split\n",
    "import tensorflow as tf\n",
    "from datetime import datetime\n",
    "from keras.callbacks import History, ModelCheckpoint\n",
    "history = History()\n",
    "from keras.models import model_from_json"
   ]
  },
  {
   "cell_type": "code",
   "execution_count": 29,
   "metadata": {},
   "outputs": [],
   "source": [
    "def draw_it(raw_strokes):\n",
    "    image = Image.new(\"P\", (255,255)\n",
    "#                       , color=1\n",
    "            )\n",
    "    image_draw = ImageDraw.Draw(image)\n",
    "\n",
    "    for stroke in raw_strokes:\n",
    "        for i in range(len(stroke[0])-1):\n",
    "\n",
    "            image_draw.line([stroke[0][i], \n",
    "                             stroke[1][i],\n",
    "                             stroke[0][i+1], \n",
    "                             stroke[1][i+1]],\n",
    "                            fill=255, width=6)\n",
    "    # Reduce image size\n",
    "    image = image.resize((32,32),Image.ANTIALIAS)\n",
    "    \n",
    "    return np.array(image)"
   ]
  },
  {
   "cell_type": "code",
   "execution_count": 34,
   "metadata": {},
   "outputs": [
    {
     "name": "stdout",
     "output_type": "stream",
     "text": [
      "CPU times: user 5.55 ms, sys: 5.18 ms, total: 10.7 ms\n",
      "Wall time: 26.1 ms\n"
     ]
    }
   ],
   "source": [
    "%%time\n",
    "output_height = output_width = 32\n",
    "NROWS = 100000\n",
    "fnames = glob('train_simplified/*.csv')\n",
    "# df = pd.read_csv(fnames[0], nrows=NROWS)\n",
    "# p = df.copy()\n",
    "# for i in range(50):\n",
    "#     df = df.append(p)\n",
    "\n",
    "# df['drawing'] = df['drawing'].apply(eval)\n",
    "\n",
    "# train_df = pd.DataFrame(columns=pd.read_csv(fnames[0], nrows=1).columns)\n",
    "for name in fnames:\n",
    "# for i in tqdm(range(len(fnames))):\n",
    "    train_df = pd.read_csv(fnames[0], nrows=500, skiprows=range(1,1))\n",
    "    break\n",
    "#     train_df = train_df.append(data)"
   ]
  },
  {
   "cell_type": "code",
   "execution_count": 35,
   "metadata": {},
   "outputs": [
    {
     "data": {
      "text/html": [
       "<div>\n",
       "<style scoped>\n",
       "    .dataframe tbody tr th:only-of-type {\n",
       "        vertical-align: middle;\n",
       "    }\n",
       "\n",
       "    .dataframe tbody tr th {\n",
       "        vertical-align: top;\n",
       "    }\n",
       "\n",
       "    .dataframe thead th {\n",
       "        text-align: right;\n",
       "    }\n",
       "</style>\n",
       "<table border=\"1\" class=\"dataframe\">\n",
       "  <thead>\n",
       "    <tr style=\"text-align: right;\">\n",
       "      <th></th>\n",
       "      <th>countrycode</th>\n",
       "      <th>drawing</th>\n",
       "      <th>key_id</th>\n",
       "      <th>recognized</th>\n",
       "      <th>timestamp</th>\n",
       "      <th>word</th>\n",
       "    </tr>\n",
       "  </thead>\n",
       "  <tbody>\n",
       "    <tr>\n",
       "      <th>0</th>\n",
       "      <td>US</td>\n",
       "      <td>[[[0, 126, 190, 255], [7, 1, 4, 0]]]</td>\n",
       "      <td>4819728134569984</td>\n",
       "      <td>True</td>\n",
       "      <td>2017-03-26 23:57:14.639540</td>\n",
       "      <td>line</td>\n",
       "    </tr>\n",
       "    <tr>\n",
       "      <th>1</th>\n",
       "      <td>US</td>\n",
       "      <td>[[[0, 15, 115, 180, 251], [0, 6, 13, 27, 33]]]</td>\n",
       "      <td>6630630412517376</td>\n",
       "      <td>True</td>\n",
       "      <td>2017-03-08 19:27:39.942440</td>\n",
       "      <td>line</td>\n",
       "    </tr>\n",
       "    <tr>\n",
       "      <th>2</th>\n",
       "      <td>AU</td>\n",
       "      <td>[[[32, 91, 255], [32, 48, 70]], [[179, 146, 47...</td>\n",
       "      <td>5532301360365568</td>\n",
       "      <td>True</td>\n",
       "      <td>2017-03-17 03:12:15.066140</td>\n",
       "      <td>line</td>\n",
       "    </tr>\n",
       "    <tr>\n",
       "      <th>3</th>\n",
       "      <td>FI</td>\n",
       "      <td>[[[0, 9, 56, 92, 186, 255], [0, 10, 28, 36, 66...</td>\n",
       "      <td>5703119189049344</td>\n",
       "      <td>True</td>\n",
       "      <td>2017-03-17 14:13:12.645900</td>\n",
       "      <td>line</td>\n",
       "    </tr>\n",
       "    <tr>\n",
       "      <th>4</th>\n",
       "      <td>UA</td>\n",
       "      <td>[[[0, 101, 155, 240, 255], [27, 11, 6, 4, 0]]]</td>\n",
       "      <td>5859843703308288</td>\n",
       "      <td>True</td>\n",
       "      <td>2017-03-12 17:11:23.741940</td>\n",
       "      <td>line</td>\n",
       "    </tr>\n",
       "    <tr>\n",
       "      <th>5</th>\n",
       "      <td>US</td>\n",
       "      <td>[[[255, 157, 27, 0], [0, 71, 156, 168]]]</td>\n",
       "      <td>4952560655925248</td>\n",
       "      <td>True</td>\n",
       "      <td>2017-01-28 00:13:35.562250</td>\n",
       "      <td>line</td>\n",
       "    </tr>\n",
       "    <tr>\n",
       "      <th>6</th>\n",
       "      <td>TH</td>\n",
       "      <td>[[[0, 208, 255], [3, 3, 8]], [[186, 176, 170, ...</td>\n",
       "      <td>5229145711706112</td>\n",
       "      <td>True</td>\n",
       "      <td>2017-01-25 04:19:26.770320</td>\n",
       "      <td>line</td>\n",
       "    </tr>\n",
       "    <tr>\n",
       "      <th>7</th>\n",
       "      <td>US</td>\n",
       "      <td>[[[0, 71, 121, 251, 255], [16, 3, 1, 3, 0]]]</td>\n",
       "      <td>4828258107392000</td>\n",
       "      <td>True</td>\n",
       "      <td>2017-03-17 19:06:14.783300</td>\n",
       "      <td>line</td>\n",
       "    </tr>\n",
       "    <tr>\n",
       "      <th>8</th>\n",
       "      <td>GB</td>\n",
       "      <td>[[[255, 225, 147, 58, 0], [12, 5, 0, 3, 10]]]</td>\n",
       "      <td>5192575570935808</td>\n",
       "      <td>True</td>\n",
       "      <td>2017-03-12 09:21:00.095530</td>\n",
       "      <td>line</td>\n",
       "    </tr>\n",
       "    <tr>\n",
       "      <th>9</th>\n",
       "      <td>HU</td>\n",
       "      <td>[[[242, 227, 205, 177, 145, 0], [0, 3, 15, 38,...</td>\n",
       "      <td>6106664400846848</td>\n",
       "      <td>True</td>\n",
       "      <td>2017-03-07 10:20:05.322620</td>\n",
       "      <td>line</td>\n",
       "    </tr>\n",
       "    <tr>\n",
       "      <th>10</th>\n",
       "      <td>GB</td>\n",
       "      <td>[[[0, 95, 134, 249, 255], [10, 12, 5, 3, 0]]]</td>\n",
       "      <td>5803948801785856</td>\n",
       "      <td>True</td>\n",
       "      <td>2017-01-24 11:10:29.586600</td>\n",
       "      <td>line</td>\n",
       "    </tr>\n",
       "    <tr>\n",
       "      <th>11</th>\n",
       "      <td>KR</td>\n",
       "      <td>[[[0, 16, 73, 197], [0, 24, 90, 255]]]</td>\n",
       "      <td>4920386699395072</td>\n",
       "      <td>True</td>\n",
       "      <td>2017-03-21 07:53:15.217210</td>\n",
       "      <td>line</td>\n",
       "    </tr>\n",
       "    <tr>\n",
       "      <th>12</th>\n",
       "      <td>RU</td>\n",
       "      <td>[[[0, 255], [51, 0]]]</td>\n",
       "      <td>5640599552131072</td>\n",
       "      <td>True</td>\n",
       "      <td>2017-01-24 19:49:58.391330</td>\n",
       "      <td>line</td>\n",
       "    </tr>\n",
       "    <tr>\n",
       "      <th>13</th>\n",
       "      <td>GB</td>\n",
       "      <td>[[[0, 92, 138], [0, 156, 255]]]</td>\n",
       "      <td>5642423684300800</td>\n",
       "      <td>True</td>\n",
       "      <td>2017-03-22 20:18:42.359960</td>\n",
       "      <td>line</td>\n",
       "    </tr>\n",
       "    <tr>\n",
       "      <th>14</th>\n",
       "      <td>US</td>\n",
       "      <td>[[[0, 31, 92, 255], [0, 5, 6, 1]]]</td>\n",
       "      <td>6032629432320000</td>\n",
       "      <td>True</td>\n",
       "      <td>2017-03-15 19:35:18.322560</td>\n",
       "      <td>line</td>\n",
       "    </tr>\n",
       "    <tr>\n",
       "      <th>15</th>\n",
       "      <td>FI</td>\n",
       "      <td>[[[5, 255], [0, 10]], [[0, 75], [19, 23]]]</td>\n",
       "      <td>4549735014727680</td>\n",
       "      <td>True</td>\n",
       "      <td>2017-03-26 10:08:12.411890</td>\n",
       "      <td>line</td>\n",
       "    </tr>\n",
       "    <tr>\n",
       "      <th>16</th>\n",
       "      <td>NO</td>\n",
       "      <td>[[[0, 46, 97, 255], [3, 7, 7, 0]]]</td>\n",
       "      <td>6420095549046784</td>\n",
       "      <td>True</td>\n",
       "      <td>2017-01-27 21:13:52.528570</td>\n",
       "      <td>line</td>\n",
       "    </tr>\n",
       "    <tr>\n",
       "      <th>17</th>\n",
       "      <td>US</td>\n",
       "      <td>[[[0, 12, 21, 24], [0, 94, 243, 255]]]</td>\n",
       "      <td>5012211040780288</td>\n",
       "      <td>True</td>\n",
       "      <td>2017-01-27 14:48:37.647320</td>\n",
       "      <td>line</td>\n",
       "    </tr>\n",
       "    <tr>\n",
       "      <th>18</th>\n",
       "      <td>EE</td>\n",
       "      <td>[[[0, 60, 159, 213, 246, 255], [0, 3, 20, 22, ...</td>\n",
       "      <td>5495297285292032</td>\n",
       "      <td>True</td>\n",
       "      <td>2017-01-29 10:34:01.242170</td>\n",
       "      <td>line</td>\n",
       "    </tr>\n",
       "    <tr>\n",
       "      <th>19</th>\n",
       "      <td>US</td>\n",
       "      <td>[[[0, 34, 68, 141, 254], [33, 22, 17, 15, 0]]]</td>\n",
       "      <td>4736308092076032</td>\n",
       "      <td>True</td>\n",
       "      <td>2017-03-19 00:57:51.524840</td>\n",
       "      <td>line</td>\n",
       "    </tr>\n",
       "    <tr>\n",
       "      <th>20</th>\n",
       "      <td>ES</td>\n",
       "      <td>[[[1, 1, 13], [255, 138, 0]]]</td>\n",
       "      <td>4600858077560832</td>\n",
       "      <td>True</td>\n",
       "      <td>2017-03-29 02:01:19.042370</td>\n",
       "      <td>line</td>\n",
       "    </tr>\n",
       "    <tr>\n",
       "      <th>21</th>\n",
       "      <td>FI</td>\n",
       "      <td>[[[0, 33, 137, 205, 255], [44, 34, 14, 9, 0]]]</td>\n",
       "      <td>6326576260055040</td>\n",
       "      <td>True</td>\n",
       "      <td>2017-01-26 15:24:15.397750</td>\n",
       "      <td>line</td>\n",
       "    </tr>\n",
       "    <tr>\n",
       "      <th>22</th>\n",
       "      <td>US</td>\n",
       "      <td>[[[255, 235, 195, 63, 0], [2, 7, 8, 0, 0]]]</td>\n",
       "      <td>5167688756232192</td>\n",
       "      <td>True</td>\n",
       "      <td>2017-01-23 18:44:16.098370</td>\n",
       "      <td>line</td>\n",
       "    </tr>\n",
       "    <tr>\n",
       "      <th>23</th>\n",
       "      <td>JE</td>\n",
       "      <td>[[[0, 47, 223, 255], [0, 5, 2, 9]]]</td>\n",
       "      <td>4937632469483520</td>\n",
       "      <td>True</td>\n",
       "      <td>2017-03-19 12:28:48.256410</td>\n",
       "      <td>line</td>\n",
       "    </tr>\n",
       "    <tr>\n",
       "      <th>24</th>\n",
       "      <td>US</td>\n",
       "      <td>[[[0, 59, 239, 255, 255], [36, 33, 12, 9, 0]]]</td>\n",
       "      <td>6674870257582080</td>\n",
       "      <td>True</td>\n",
       "      <td>2017-01-31 16:00:47.549090</td>\n",
       "      <td>line</td>\n",
       "    </tr>\n",
       "    <tr>\n",
       "      <th>25</th>\n",
       "      <td>US</td>\n",
       "      <td>[[[0, 186, 229, 255], [23, 16, 10, 0]]]</td>\n",
       "      <td>6204286797086720</td>\n",
       "      <td>True</td>\n",
       "      <td>2017-01-31 19:48:16.058970</td>\n",
       "      <td>line</td>\n",
       "    </tr>\n",
       "    <tr>\n",
       "      <th>26</th>\n",
       "      <td>RO</td>\n",
       "      <td>[[[0, 238, 255, 255], [72, 41, 36, 0]]]</td>\n",
       "      <td>4864229418991616</td>\n",
       "      <td>True</td>\n",
       "      <td>2017-01-27 12:45:52.488550</td>\n",
       "      <td>line</td>\n",
       "    </tr>\n",
       "    <tr>\n",
       "      <th>27</th>\n",
       "      <td>US</td>\n",
       "      <td>[[[0, 12, 44, 100, 118, 188, 216, 246, 254, 25...</td>\n",
       "      <td>6692374795255808</td>\n",
       "      <td>True</td>\n",
       "      <td>2017-03-12 23:57:57.278720</td>\n",
       "      <td>line</td>\n",
       "    </tr>\n",
       "    <tr>\n",
       "      <th>28</th>\n",
       "      <td>US</td>\n",
       "      <td>[[[0, 49, 135, 172, 221, 255], [4, 0, 0, 6, 19...</td>\n",
       "      <td>5099020630360064</td>\n",
       "      <td>True</td>\n",
       "      <td>2017-03-13 23:01:39.995140</td>\n",
       "      <td>line</td>\n",
       "    </tr>\n",
       "    <tr>\n",
       "      <th>29</th>\n",
       "      <td>US</td>\n",
       "      <td>[[[10, 4, 4, 0, 0, 16], [0, 35, 63, 95, 173, 2...</td>\n",
       "      <td>4983732081524736</td>\n",
       "      <td>True</td>\n",
       "      <td>2017-03-02 20:26:50.745090</td>\n",
       "      <td>line</td>\n",
       "    </tr>\n",
       "    <tr>\n",
       "      <th>...</th>\n",
       "      <td>...</td>\n",
       "      <td>...</td>\n",
       "      <td>...</td>\n",
       "      <td>...</td>\n",
       "      <td>...</td>\n",
       "      <td>...</td>\n",
       "    </tr>\n",
       "    <tr>\n",
       "      <th>470</th>\n",
       "      <td>US</td>\n",
       "      <td>[[[0, 61, 121, 167], [84, 78, 80, 76]], [[32, ...</td>\n",
       "      <td>5571281191698432</td>\n",
       "      <td>True</td>\n",
       "      <td>2017-03-06 04:13:17.812730</td>\n",
       "      <td>line</td>\n",
       "    </tr>\n",
       "    <tr>\n",
       "      <th>471</th>\n",
       "      <td>FI</td>\n",
       "      <td>[[[0, 55, 104, 147, 225, 255], [0, 14, 33, 43,...</td>\n",
       "      <td>4638165270790144</td>\n",
       "      <td>True</td>\n",
       "      <td>2017-03-15 09:44:58.937340</td>\n",
       "      <td>line</td>\n",
       "    </tr>\n",
       "    <tr>\n",
       "      <th>472</th>\n",
       "      <td>US</td>\n",
       "      <td>[[[124, 106, 57, 47, 0], [0, 37, 121, 136, 188...</td>\n",
       "      <td>6711523923722240</td>\n",
       "      <td>True</td>\n",
       "      <td>2017-03-27 21:29:56.300380</td>\n",
       "      <td>line</td>\n",
       "    </tr>\n",
       "    <tr>\n",
       "      <th>473</th>\n",
       "      <td>US</td>\n",
       "      <td>[[[0, 100, 255], [13, 3, 1]]]</td>\n",
       "      <td>5027579507507200</td>\n",
       "      <td>True</td>\n",
       "      <td>2017-01-26 19:45:43.912380</td>\n",
       "      <td>line</td>\n",
       "    </tr>\n",
       "    <tr>\n",
       "      <th>474</th>\n",
       "      <td>AU</td>\n",
       "      <td>[[[0, 203], [7, 2]], [[225, 225], [0, 0]], [[2...</td>\n",
       "      <td>5792848626581504</td>\n",
       "      <td>True</td>\n",
       "      <td>2017-01-24 08:50:32.331150</td>\n",
       "      <td>line</td>\n",
       "    </tr>\n",
       "    <tr>\n",
       "      <th>475</th>\n",
       "      <td>US</td>\n",
       "      <td>[[[2, 0, 7, 6], [0, 6, 88, 255]]]</td>\n",
       "      <td>4889349072093184</td>\n",
       "      <td>True</td>\n",
       "      <td>2017-01-26 13:36:11.806960</td>\n",
       "      <td>line</td>\n",
       "    </tr>\n",
       "    <tr>\n",
       "      <th>476</th>\n",
       "      <td>US</td>\n",
       "      <td>[[[0, 149], [237, 0]], [[40, 42, 63, 88, 112],...</td>\n",
       "      <td>5997383454294016</td>\n",
       "      <td>True</td>\n",
       "      <td>2017-03-10 01:18:00.063050</td>\n",
       "      <td>line</td>\n",
       "    </tr>\n",
       "    <tr>\n",
       "      <th>477</th>\n",
       "      <td>US</td>\n",
       "      <td>[[[0, 171, 255], [11, 11, 0]]]</td>\n",
       "      <td>5436355851059200</td>\n",
       "      <td>True</td>\n",
       "      <td>2017-03-26 21:35:21.707060</td>\n",
       "      <td>line</td>\n",
       "    </tr>\n",
       "    <tr>\n",
       "      <th>478</th>\n",
       "      <td>CA</td>\n",
       "      <td>[[[1, 1, 12, 19, 29], [0, 18, 77, 166, 226]], ...</td>\n",
       "      <td>5488258035220480</td>\n",
       "      <td>True</td>\n",
       "      <td>2017-01-29 03:37:07.686240</td>\n",
       "      <td>line</td>\n",
       "    </tr>\n",
       "    <tr>\n",
       "      <th>479</th>\n",
       "      <td>US</td>\n",
       "      <td>[[[3, 4, 0], [0, 194, 255]]]</td>\n",
       "      <td>5951304914436096</td>\n",
       "      <td>True</td>\n",
       "      <td>2017-03-24 21:11:59.889170</td>\n",
       "      <td>line</td>\n",
       "    </tr>\n",
       "    <tr>\n",
       "      <th>480</th>\n",
       "      <td>HR</td>\n",
       "      <td>[[[0, 78, 101, 157, 215, 255], [21, 21, 17, 15...</td>\n",
       "      <td>5522532323033088</td>\n",
       "      <td>True</td>\n",
       "      <td>2017-03-14 07:43:17.529940</td>\n",
       "      <td>line</td>\n",
       "    </tr>\n",
       "    <tr>\n",
       "      <th>481</th>\n",
       "      <td>US</td>\n",
       "      <td>[[[0, 153, 255], [0, 23, 61]]]</td>\n",
       "      <td>5272484645437440</td>\n",
       "      <td>True</td>\n",
       "      <td>2017-03-13 14:37:49.588490</td>\n",
       "      <td>line</td>\n",
       "    </tr>\n",
       "    <tr>\n",
       "      <th>482</th>\n",
       "      <td>US</td>\n",
       "      <td>[[[0, 42, 107, 255], [0, 11, 19, 19]]]</td>\n",
       "      <td>4838684174057472</td>\n",
       "      <td>True</td>\n",
       "      <td>2017-03-23 02:38:57.240170</td>\n",
       "      <td>line</td>\n",
       "    </tr>\n",
       "    <tr>\n",
       "      <th>483</th>\n",
       "      <td>DK</td>\n",
       "      <td>[[[0, 114, 170, 225, 255], [13, 1, 0, 6, 14]]]</td>\n",
       "      <td>6050134829826048</td>\n",
       "      <td>True</td>\n",
       "      <td>2017-03-19 19:53:37.126240</td>\n",
       "      <td>line</td>\n",
       "    </tr>\n",
       "    <tr>\n",
       "      <th>484</th>\n",
       "      <td>US</td>\n",
       "      <td>[[[255, 219, 171, 24, 2], [0, 17, 54, 186, 201]]]</td>\n",
       "      <td>5336776145108992</td>\n",
       "      <td>True</td>\n",
       "      <td>2017-03-10 16:01:37.904760</td>\n",
       "      <td>line</td>\n",
       "    </tr>\n",
       "    <tr>\n",
       "      <th>485</th>\n",
       "      <td>US</td>\n",
       "      <td>[[[0, 6, 1, 0, 5], [0, 157, 201, 241, 255]]]</td>\n",
       "      <td>6129723996372992</td>\n",
       "      <td>True</td>\n",
       "      <td>2017-03-19 21:30:51.160440</td>\n",
       "      <td>line</td>\n",
       "    </tr>\n",
       "    <tr>\n",
       "      <th>486</th>\n",
       "      <td>US</td>\n",
       "      <td>[[[0, 106, 167, 255], [58, 61, 68, 70]], [[27,...</td>\n",
       "      <td>6285284444471296</td>\n",
       "      <td>True</td>\n",
       "      <td>2017-01-27 13:19:36.367090</td>\n",
       "      <td>line</td>\n",
       "    </tr>\n",
       "    <tr>\n",
       "      <th>487</th>\n",
       "      <td>DE</td>\n",
       "      <td>[[[0, 69, 105, 255], [37, 16, 9, 0]]]</td>\n",
       "      <td>6415789844332544</td>\n",
       "      <td>True</td>\n",
       "      <td>2017-01-29 08:21:48.473990</td>\n",
       "      <td>line</td>\n",
       "    </tr>\n",
       "    <tr>\n",
       "      <th>488</th>\n",
       "      <td>US</td>\n",
       "      <td>[[[0, 137, 228, 255], [0, 7, 6, 10]]]</td>\n",
       "      <td>6070245779308544</td>\n",
       "      <td>True</td>\n",
       "      <td>2017-03-26 22:13:46.435210</td>\n",
       "      <td>line</td>\n",
       "    </tr>\n",
       "    <tr>\n",
       "      <th>489</th>\n",
       "      <td>GB</td>\n",
       "      <td>[[[0, 255, 255], [13, 12, 0]]]</td>\n",
       "      <td>5523562930634752</td>\n",
       "      <td>True</td>\n",
       "      <td>2017-03-11 12:36:27.809710</td>\n",
       "      <td>line</td>\n",
       "    </tr>\n",
       "    <tr>\n",
       "      <th>490</th>\n",
       "      <td>BG</td>\n",
       "      <td>[[[205, 199, 181, 157, 128, 94, 77, 68, 68, 75...</td>\n",
       "      <td>4570935409508352</td>\n",
       "      <td>False</td>\n",
       "      <td>2017-03-20 19:26:15.286130</td>\n",
       "      <td>line</td>\n",
       "    </tr>\n",
       "    <tr>\n",
       "      <th>491</th>\n",
       "      <td>KR</td>\n",
       "      <td>[[[0, 145, 255], [0, 123, 227]]]</td>\n",
       "      <td>5533761682800640</td>\n",
       "      <td>True</td>\n",
       "      <td>2017-03-23 13:04:33.637550</td>\n",
       "      <td>line</td>\n",
       "    </tr>\n",
       "    <tr>\n",
       "      <th>492</th>\n",
       "      <td>US</td>\n",
       "      <td>[[[12, 10, 1, 0], [0, 80, 186, 253]]]</td>\n",
       "      <td>5856081785913344</td>\n",
       "      <td>True</td>\n",
       "      <td>2017-01-26 19:24:54.511190</td>\n",
       "      <td>line</td>\n",
       "    </tr>\n",
       "    <tr>\n",
       "      <th>493</th>\n",
       "      <td>IQ</td>\n",
       "      <td>[[[0, 31, 151, 187, 239, 255], [0, 7, 54, 62, ...</td>\n",
       "      <td>5600492421906432</td>\n",
       "      <td>True</td>\n",
       "      <td>2017-03-14 14:53:15.860050</td>\n",
       "      <td>line</td>\n",
       "    </tr>\n",
       "    <tr>\n",
       "      <th>494</th>\n",
       "      <td>DE</td>\n",
       "      <td>[[[0, 43, 97, 145, 255], [2, 12, 12, 0, 0]]]</td>\n",
       "      <td>5698648698519552</td>\n",
       "      <td>True</td>\n",
       "      <td>2017-03-25 23:13:47.579710</td>\n",
       "      <td>line</td>\n",
       "    </tr>\n",
       "    <tr>\n",
       "      <th>495</th>\n",
       "      <td>GB</td>\n",
       "      <td>[[[35, 38, 38, 21, 17], [10, 18, 54, 195, 255]...</td>\n",
       "      <td>6376156368470016</td>\n",
       "      <td>False</td>\n",
       "      <td>2017-03-28 13:39:51.897300</td>\n",
       "      <td>line</td>\n",
       "    </tr>\n",
       "    <tr>\n",
       "      <th>496</th>\n",
       "      <td>US</td>\n",
       "      <td>[[[0, 22, 177, 255], [9, 5, 0, 7]], [[235, 208...</td>\n",
       "      <td>5923065592545280</td>\n",
       "      <td>True</td>\n",
       "      <td>2017-01-24 18:50:26.722240</td>\n",
       "      <td>line</td>\n",
       "    </tr>\n",
       "    <tr>\n",
       "      <th>497</th>\n",
       "      <td>DE</td>\n",
       "      <td>[[[0, 105, 174, 209, 232, 255], [128, 68, 40, ...</td>\n",
       "      <td>4956133800280064</td>\n",
       "      <td>True</td>\n",
       "      <td>2017-01-27 20:09:04.935010</td>\n",
       "      <td>line</td>\n",
       "    </tr>\n",
       "    <tr>\n",
       "      <th>498</th>\n",
       "      <td>US</td>\n",
       "      <td>[[[0, 17, 23, 23], [0, 73, 178, 255]]]</td>\n",
       "      <td>4631756508495872</td>\n",
       "      <td>True</td>\n",
       "      <td>2017-03-19 18:31:31.422970</td>\n",
       "      <td>line</td>\n",
       "    </tr>\n",
       "    <tr>\n",
       "      <th>499</th>\n",
       "      <td>FI</td>\n",
       "      <td>[[[0, 140, 255], [0, 9, 5]]]</td>\n",
       "      <td>5927670871228416</td>\n",
       "      <td>True</td>\n",
       "      <td>2017-01-24 13:10:49.469430</td>\n",
       "      <td>line</td>\n",
       "    </tr>\n",
       "  </tbody>\n",
       "</table>\n",
       "<p>500 rows × 6 columns</p>\n",
       "</div>"
      ],
      "text/plain": [
       "    countrycode                                            drawing  \\\n",
       "0            US               [[[0, 126, 190, 255], [7, 1, 4, 0]]]   \n",
       "1            US     [[[0, 15, 115, 180, 251], [0, 6, 13, 27, 33]]]   \n",
       "2            AU  [[[32, 91, 255], [32, 48, 70]], [[179, 146, 47...   \n",
       "3            FI  [[[0, 9, 56, 92, 186, 255], [0, 10, 28, 36, 66...   \n",
       "4            UA     [[[0, 101, 155, 240, 255], [27, 11, 6, 4, 0]]]   \n",
       "5            US           [[[255, 157, 27, 0], [0, 71, 156, 168]]]   \n",
       "6            TH  [[[0, 208, 255], [3, 3, 8]], [[186, 176, 170, ...   \n",
       "7            US       [[[0, 71, 121, 251, 255], [16, 3, 1, 3, 0]]]   \n",
       "8            GB      [[[255, 225, 147, 58, 0], [12, 5, 0, 3, 10]]]   \n",
       "9            HU  [[[242, 227, 205, 177, 145, 0], [0, 3, 15, 38,...   \n",
       "10           GB      [[[0, 95, 134, 249, 255], [10, 12, 5, 3, 0]]]   \n",
       "11           KR             [[[0, 16, 73, 197], [0, 24, 90, 255]]]   \n",
       "12           RU                              [[[0, 255], [51, 0]]]   \n",
       "13           GB                    [[[0, 92, 138], [0, 156, 255]]]   \n",
       "14           US                 [[[0, 31, 92, 255], [0, 5, 6, 1]]]   \n",
       "15           FI         [[[5, 255], [0, 10]], [[0, 75], [19, 23]]]   \n",
       "16           NO                 [[[0, 46, 97, 255], [3, 7, 7, 0]]]   \n",
       "17           US             [[[0, 12, 21, 24], [0, 94, 243, 255]]]   \n",
       "18           EE  [[[0, 60, 159, 213, 246, 255], [0, 3, 20, 22, ...   \n",
       "19           US     [[[0, 34, 68, 141, 254], [33, 22, 17, 15, 0]]]   \n",
       "20           ES                      [[[1, 1, 13], [255, 138, 0]]]   \n",
       "21           FI     [[[0, 33, 137, 205, 255], [44, 34, 14, 9, 0]]]   \n",
       "22           US        [[[255, 235, 195, 63, 0], [2, 7, 8, 0, 0]]]   \n",
       "23           JE                [[[0, 47, 223, 255], [0, 5, 2, 9]]]   \n",
       "24           US     [[[0, 59, 239, 255, 255], [36, 33, 12, 9, 0]]]   \n",
       "25           US            [[[0, 186, 229, 255], [23, 16, 10, 0]]]   \n",
       "26           RO            [[[0, 238, 255, 255], [72, 41, 36, 0]]]   \n",
       "27           US  [[[0, 12, 44, 100, 118, 188, 216, 246, 254, 25...   \n",
       "28           US  [[[0, 49, 135, 172, 221, 255], [4, 0, 0, 6, 19...   \n",
       "29           US  [[[10, 4, 4, 0, 0, 16], [0, 35, 63, 95, 173, 2...   \n",
       "..          ...                                                ...   \n",
       "470          US  [[[0, 61, 121, 167], [84, 78, 80, 76]], [[32, ...   \n",
       "471          FI  [[[0, 55, 104, 147, 225, 255], [0, 14, 33, 43,...   \n",
       "472          US  [[[124, 106, 57, 47, 0], [0, 37, 121, 136, 188...   \n",
       "473          US                      [[[0, 100, 255], [13, 3, 1]]]   \n",
       "474          AU  [[[0, 203], [7, 2]], [[225, 225], [0, 0]], [[2...   \n",
       "475          US                  [[[2, 0, 7, 6], [0, 6, 88, 255]]]   \n",
       "476          US  [[[0, 149], [237, 0]], [[40, 42, 63, 88, 112],...   \n",
       "477          US                     [[[0, 171, 255], [11, 11, 0]]]   \n",
       "478          CA  [[[1, 1, 12, 19, 29], [0, 18, 77, 166, 226]], ...   \n",
       "479          US                       [[[3, 4, 0], [0, 194, 255]]]   \n",
       "480          HR  [[[0, 78, 101, 157, 215, 255], [21, 21, 17, 15...   \n",
       "481          US                     [[[0, 153, 255], [0, 23, 61]]]   \n",
       "482          US             [[[0, 42, 107, 255], [0, 11, 19, 19]]]   \n",
       "483          DK     [[[0, 114, 170, 225, 255], [13, 1, 0, 6, 14]]]   \n",
       "484          US  [[[255, 219, 171, 24, 2], [0, 17, 54, 186, 201]]]   \n",
       "485          US       [[[0, 6, 1, 0, 5], [0, 157, 201, 241, 255]]]   \n",
       "486          US  [[[0, 106, 167, 255], [58, 61, 68, 70]], [[27,...   \n",
       "487          DE              [[[0, 69, 105, 255], [37, 16, 9, 0]]]   \n",
       "488          US              [[[0, 137, 228, 255], [0, 7, 6, 10]]]   \n",
       "489          GB                     [[[0, 255, 255], [13, 12, 0]]]   \n",
       "490          BG  [[[205, 199, 181, 157, 128, 94, 77, 68, 68, 75...   \n",
       "491          KR                   [[[0, 145, 255], [0, 123, 227]]]   \n",
       "492          US              [[[12, 10, 1, 0], [0, 80, 186, 253]]]   \n",
       "493          IQ  [[[0, 31, 151, 187, 239, 255], [0, 7, 54, 62, ...   \n",
       "494          DE       [[[0, 43, 97, 145, 255], [2, 12, 12, 0, 0]]]   \n",
       "495          GB  [[[35, 38, 38, 21, 17], [10, 18, 54, 195, 255]...   \n",
       "496          US  [[[0, 22, 177, 255], [9, 5, 0, 7]], [[235, 208...   \n",
       "497          DE  [[[0, 105, 174, 209, 232, 255], [128, 68, 40, ...   \n",
       "498          US             [[[0, 17, 23, 23], [0, 73, 178, 255]]]   \n",
       "499          FI                       [[[0, 140, 255], [0, 9, 5]]]   \n",
       "\n",
       "               key_id  recognized                   timestamp  word  \n",
       "0    4819728134569984        True  2017-03-26 23:57:14.639540  line  \n",
       "1    6630630412517376        True  2017-03-08 19:27:39.942440  line  \n",
       "2    5532301360365568        True  2017-03-17 03:12:15.066140  line  \n",
       "3    5703119189049344        True  2017-03-17 14:13:12.645900  line  \n",
       "4    5859843703308288        True  2017-03-12 17:11:23.741940  line  \n",
       "5    4952560655925248        True  2017-01-28 00:13:35.562250  line  \n",
       "6    5229145711706112        True  2017-01-25 04:19:26.770320  line  \n",
       "7    4828258107392000        True  2017-03-17 19:06:14.783300  line  \n",
       "8    5192575570935808        True  2017-03-12 09:21:00.095530  line  \n",
       "9    6106664400846848        True  2017-03-07 10:20:05.322620  line  \n",
       "10   5803948801785856        True  2017-01-24 11:10:29.586600  line  \n",
       "11   4920386699395072        True  2017-03-21 07:53:15.217210  line  \n",
       "12   5640599552131072        True  2017-01-24 19:49:58.391330  line  \n",
       "13   5642423684300800        True  2017-03-22 20:18:42.359960  line  \n",
       "14   6032629432320000        True  2017-03-15 19:35:18.322560  line  \n",
       "15   4549735014727680        True  2017-03-26 10:08:12.411890  line  \n",
       "16   6420095549046784        True  2017-01-27 21:13:52.528570  line  \n",
       "17   5012211040780288        True  2017-01-27 14:48:37.647320  line  \n",
       "18   5495297285292032        True  2017-01-29 10:34:01.242170  line  \n",
       "19   4736308092076032        True  2017-03-19 00:57:51.524840  line  \n",
       "20   4600858077560832        True  2017-03-29 02:01:19.042370  line  \n",
       "21   6326576260055040        True  2017-01-26 15:24:15.397750  line  \n",
       "22   5167688756232192        True  2017-01-23 18:44:16.098370  line  \n",
       "23   4937632469483520        True  2017-03-19 12:28:48.256410  line  \n",
       "24   6674870257582080        True  2017-01-31 16:00:47.549090  line  \n",
       "25   6204286797086720        True  2017-01-31 19:48:16.058970  line  \n",
       "26   4864229418991616        True  2017-01-27 12:45:52.488550  line  \n",
       "27   6692374795255808        True  2017-03-12 23:57:57.278720  line  \n",
       "28   5099020630360064        True  2017-03-13 23:01:39.995140  line  \n",
       "29   4983732081524736        True  2017-03-02 20:26:50.745090  line  \n",
       "..                ...         ...                         ...   ...  \n",
       "470  5571281191698432        True  2017-03-06 04:13:17.812730  line  \n",
       "471  4638165270790144        True  2017-03-15 09:44:58.937340  line  \n",
       "472  6711523923722240        True  2017-03-27 21:29:56.300380  line  \n",
       "473  5027579507507200        True  2017-01-26 19:45:43.912380  line  \n",
       "474  5792848626581504        True  2017-01-24 08:50:32.331150  line  \n",
       "475  4889349072093184        True  2017-01-26 13:36:11.806960  line  \n",
       "476  5997383454294016        True  2017-03-10 01:18:00.063050  line  \n",
       "477  5436355851059200        True  2017-03-26 21:35:21.707060  line  \n",
       "478  5488258035220480        True  2017-01-29 03:37:07.686240  line  \n",
       "479  5951304914436096        True  2017-03-24 21:11:59.889170  line  \n",
       "480  5522532323033088        True  2017-03-14 07:43:17.529940  line  \n",
       "481  5272484645437440        True  2017-03-13 14:37:49.588490  line  \n",
       "482  4838684174057472        True  2017-03-23 02:38:57.240170  line  \n",
       "483  6050134829826048        True  2017-03-19 19:53:37.126240  line  \n",
       "484  5336776145108992        True  2017-03-10 16:01:37.904760  line  \n",
       "485  6129723996372992        True  2017-03-19 21:30:51.160440  line  \n",
       "486  6285284444471296        True  2017-01-27 13:19:36.367090  line  \n",
       "487  6415789844332544        True  2017-01-29 08:21:48.473990  line  \n",
       "488  6070245779308544        True  2017-03-26 22:13:46.435210  line  \n",
       "489  5523562930634752        True  2017-03-11 12:36:27.809710  line  \n",
       "490  4570935409508352       False  2017-03-20 19:26:15.286130  line  \n",
       "491  5533761682800640        True  2017-03-23 13:04:33.637550  line  \n",
       "492  5856081785913344        True  2017-01-26 19:24:54.511190  line  \n",
       "493  5600492421906432        True  2017-03-14 14:53:15.860050  line  \n",
       "494  5698648698519552        True  2017-03-25 23:13:47.579710  line  \n",
       "495  6376156368470016       False  2017-03-28 13:39:51.897300  line  \n",
       "496  5923065592545280        True  2017-01-24 18:50:26.722240  line  \n",
       "497  4956133800280064        True  2017-01-27 20:09:04.935010  line  \n",
       "498  4631756508495872        True  2017-03-19 18:31:31.422970  line  \n",
       "499  5927670871228416        True  2017-01-24 13:10:49.469430  line  \n",
       "\n",
       "[500 rows x 6 columns]"
      ]
     },
     "execution_count": 35,
     "metadata": {},
     "output_type": "execute_result"
    }
   ],
   "source": [
    "# train_df[train_df['key_id']==5927670871228416]\n",
    "train_df"
   ]
  },
  {
   "cell_type": "code",
   "execution_count": 22,
   "metadata": {},
   "outputs": [
    {
     "name": "stdout",
     "output_type": "stream",
     "text": [
      "CPU times: user 5.82 ms, sys: 2.53 ms, total: 8.36 ms\n",
      "Wall time: 6.23 ms\n"
     ]
    }
   ],
   "source": [
    "%%time\n",
    "train_df = train_df.reset_index().drop('index', axis=1)\n",
    "# Get only those which were correctly recognized\n",
    "train_df = train_df[train_df['recognized'] == True]"
   ]
  },
  {
   "cell_type": "code",
   "execution_count": 23,
   "metadata": {},
   "outputs": [],
   "source": [
    "train_df_C = train_df.copy()"
   ]
  },
  {
   "cell_type": "code",
   "execution_count": 24,
   "metadata": {},
   "outputs": [],
   "source": [
    "# %%time\n",
    "# train_df['drawing'] = train_df['drawing'].apply(eval)"
   ]
  },
  {
   "cell_type": "code",
   "execution_count": 25,
   "metadata": {},
   "outputs": [],
   "source": [
    "def draw_it(raw_strokes, output_height = 64, output_width = 64):\n",
    "    raw_strokes = eval(raw_strokes)\n",
    "    image = Image.new(\"P\", (255,255)\n",
    "#                       , color=1\n",
    "            )\n",
    "    image_draw = ImageDraw.Draw(image)\n",
    "\n",
    "    for stroke in raw_strokes:\n",
    "        for i in range(len(stroke[0])-1):\n",
    "\n",
    "            image_draw.line([stroke[0][i], \n",
    "                             stroke[1][i],\n",
    "                             stroke[0][i+1], \n",
    "                             stroke[1][i+1]],\n",
    "                            fill=255, width=6)\n",
    "    # Reduce image size\n",
    "    image = image.resize((output_height,output_width),Image.ANTIALIAS)\n",
    "    \n",
    "    return np.array(image)\n"
   ]
  },
  {
   "cell_type": "code",
   "execution_count": 26,
   "metadata": {},
   "outputs": [
    {
     "name": "stdout",
     "output_type": "stream",
     "text": [
      "CPU times: user 129 ms, sys: 7.24 ms, total: 136 ms\n",
      "Wall time: 144 ms\n"
     ]
    }
   ],
   "source": [
    "%%time\n",
    "train_df['img'] = train_df['drawing'].apply(lambda x: draw_it(x, output_height, output_width))"
   ]
  },
  {
   "cell_type": "code",
   "execution_count": 28,
   "metadata": {},
   "outputs": [
    {
     "data": {
      "text/plain": [
       "array([  0,   0,   0,   0,   0, 255, 255, 255, 255, 255, 255, 255, 255,\n",
       "       255, 255, 255, 255, 255, 255, 255, 255, 255, 255, 255, 255, 255,\n",
       "       255, 255, 255, 255, 255, 255], dtype=uint8)"
      ]
     },
     "execution_count": 28,
     "metadata": {},
     "output_type": "execute_result"
    }
   ],
   "source": [
    "train_df['img'][0][0]"
   ]
  },
  {
   "cell_type": "code",
   "execution_count": null,
   "metadata": {},
   "outputs": [],
   "source": []
  },
  {
   "cell_type": "code",
   "execution_count": null,
   "metadata": {},
   "outputs": [],
   "source": []
  },
  {
   "cell_type": "code",
   "execution_count": 11,
   "metadata": {},
   "outputs": [
    {
     "name": "stdout",
     "output_type": "stream",
     "text": [
      "CPU times: user 57.8 ms, sys: 9.86 ms, total: 67.6 ms\n",
      "Wall time: 74.2 ms\n"
     ]
    }
   ],
   "source": [
    "%%time\n",
    "num_classes = train_df['word'].nunique()"
   ]
  },
  {
   "cell_type": "code",
   "execution_count": 12,
   "metadata": {},
   "outputs": [
    {
     "name": "stdout",
     "output_type": "stream",
     "text": [
      "CPU times: user 2.07 s, sys: 311 ms, total: 2.38 s\n",
      "Wall time: 2.81 s\n"
     ]
    }
   ],
   "source": [
    "%%time\n",
    "train_df = train_df.sample(train_df.shape[0])"
   ]
  },
  {
   "cell_type": "code",
   "execution_count": 13,
   "metadata": {},
   "outputs": [
    {
     "name": "stdout",
     "output_type": "stream",
     "text": [
      "CPU times: user 11.1 s, sys: 31.2 s, total: 42.2 s\n",
      "Wall time: 1min 2s\n"
     ]
    }
   ],
   "source": [
    "%%time\n",
    "img_rows = img_cols = 64\n",
    "imgArr = np.vstack(train_df['img'].values).flatten().reshape((train_df['img'].shape[0], img_rows, img_cols))"
   ]
  },
  {
   "cell_type": "code",
   "execution_count": 14,
   "metadata": {},
   "outputs": [
    {
     "name": "stdout",
     "output_type": "stream",
     "text": [
      "CPU times: user 10.2 s, sys: 20.8 s, total: 30.9 s\n",
      "Wall time: 42.8 s\n"
     ]
    }
   ],
   "source": [
    "%%time\n",
    "imgArr = imgArr.reshape(imgArr.shape[0], img_rows, img_cols, 1).astype('float32')"
   ]
  },
  {
   "cell_type": "code",
   "execution_count": 15,
   "metadata": {},
   "outputs": [
    {
     "name": "stdout",
     "output_type": "stream",
     "text": [
      "CPU times: user 801 µs, sys: 7.82 ms, total: 8.62 ms\n",
      "Wall time: 23.4 ms\n"
     ]
    }
   ],
   "source": [
    "%%time\n",
    "y_train = train_df['word']"
   ]
  },
  {
   "cell_type": "code",
   "execution_count": 16,
   "metadata": {},
   "outputs": [
    {
     "name": "stdout",
     "output_type": "stream",
     "text": [
      "CPU times: user 83.9 ms, sys: 44.5 ms, total: 128 ms\n",
      "Wall time: 219 ms\n"
     ]
    }
   ],
   "source": [
    "%%time\n",
    "# Convert class labels from categorical to numerical\n",
    "unique_classes_list = y_train.unique()"
   ]
  },
  {
   "cell_type": "code",
   "execution_count": 17,
   "metadata": {},
   "outputs": [
    {
     "name": "stdout",
     "output_type": "stream",
     "text": [
      "CPU times: user 68.2 ms, sys: 12.2 ms, total: 80.5 ms\n",
      "Wall time: 93.6 ms\n"
     ]
    }
   ],
   "source": [
    "%%time\n",
    "map_class_to_numeric = {k: v for v, k in enumerate(y_train.unique())}"
   ]
  },
  {
   "cell_type": "code",
   "execution_count": 18,
   "metadata": {},
   "outputs": [
    {
     "name": "stdout",
     "output_type": "stream",
     "text": [
      "CPU times: user 143 µs, sys: 1.45 ms, total: 1.6 ms\n",
      "Wall time: 3.25 ms\n"
     ]
    }
   ],
   "source": [
    "%%time\n",
    "map_numeric_to_class = {v: k for k, v in map_class_to_numeric.iteritems()}"
   ]
  },
  {
   "cell_type": "code",
   "execution_count": 19,
   "metadata": {},
   "outputs": [
    {
     "name": "stdout",
     "output_type": "stream",
     "text": [
      "CPU times: user 565 ms, sys: 43.3 ms, total: 608 ms\n",
      "Wall time: 677 ms\n"
     ]
    }
   ],
   "source": [
    "%%time\n",
    "y_train_numeric = y_train.apply(lambda x: map_class_to_numeric[x])"
   ]
  },
  {
   "cell_type": "code",
   "execution_count": 20,
   "metadata": {},
   "outputs": [
    {
     "name": "stdout",
     "output_type": "stream",
     "text": [
      "CPU times: user 433 ms, sys: 615 ms, total: 1.05 s\n",
      "Wall time: 1.13 s\n"
     ]
    }
   ],
   "source": [
    "%%time\n",
    "y_train_one_hot = keras.utils.to_categorical(y_train_numeric, num_classes)"
   ]
  },
  {
   "cell_type": "code",
   "execution_count": 21,
   "metadata": {},
   "outputs": [
    {
     "name": "stdout",
     "output_type": "stream",
     "text": [
      "CPU times: user 7 µs, sys: 3 µs, total: 10 µs\n",
      "Wall time: 11 µs\n"
     ]
    }
   ],
   "source": [
    "%%time\n",
    "num_classes = y_train_one_hot.shape[1]"
   ]
  },
  {
   "cell_type": "code",
   "execution_count": 22,
   "metadata": {},
   "outputs": [
    {
     "name": "stdout",
     "output_type": "stream",
     "text": [
      "CPU times: user 13.1 s, sys: 42.7 s, total: 55.8 s\n",
      "Wall time: 1min 21s\n"
     ]
    }
   ],
   "source": [
    "%%time\n",
    "X_train, X_test, y_train, y_test = train_test_split(imgArr, y_train_one_hot, test_size=0.2)"
   ]
  },
  {
   "cell_type": "code",
   "execution_count": null,
   "metadata": {},
   "outputs": [],
   "source": []
  },
  {
   "cell_type": "code",
   "execution_count": null,
   "metadata": {},
   "outputs": [],
   "source": []
  },
  {
   "cell_type": "code",
   "execution_count": null,
   "metadata": {},
   "outputs": [],
   "source": []
  },
  {
   "cell_type": "code",
   "execution_count": null,
   "metadata": {},
   "outputs": [],
   "source": []
  },
  {
   "cell_type": "code",
   "execution_count": 23,
   "metadata": {},
   "outputs": [],
   "source": [
    "# %%time\n",
    "# df['drawing'] = df['drawing'].apply(eval)"
   ]
  },
  {
   "cell_type": "code",
   "execution_count": null,
   "metadata": {},
   "outputs": [],
   "source": [
    "%%time\n",
    "pp = np.array(map(draw_it, train_df[\"drawing\"]))\n",
    "print(pp.shape)\n",
    "# out_imgs = list(map(strokes_to_img, dfs[\"drawing\"]))\n",
    "# X = np.array(out_imgs)[:, :, :, :3].astype(np.float32)"
   ]
  },
  {
   "cell_type": "code",
   "execution_count": 146,
   "metadata": {},
   "outputs": [
    {
     "name": "stdout",
     "output_type": "stream",
     "text": [
      "(5100000, 32, 32)\n",
      "CPU times: user 7min 43s, sys: 32.9 s, total: 8min 16s\n",
      "Wall time: 8min 53s\n"
     ]
    }
   ],
   "source": [
    "%%time\n",
    "# Convert drawing to images\n",
    "df['img'] = df['drawing'].apply(lambda x: draw_it(x))\n",
    "ll = np.vstack(df['img'].values).flatten().reshape((df['img'].shape[0], output_height, output_height))\n",
    "print(ll.shape)\n",
    "# print(ll[0])"
   ]
  },
  {
   "cell_type": "code",
   "execution_count": null,
   "metadata": {},
   "outputs": [],
   "source": []
  },
  {
   "cell_type": "code",
   "execution_count": 147,
   "metadata": {},
   "outputs": [],
   "source": [
    "# train = pd.read_csv(fnames[0], usecols=['drawing', 'recognized'], nrows=NROWS)\n",
    "# train = train[train.recognized == True]\n",
    "# train['drawing'] = train['drawing'].apply(eval)"
   ]
  },
  {
   "cell_type": "code",
   "execution_count": 148,
   "metadata": {},
   "outputs": [
    {
     "name": "stderr",
     "output_type": "stream",
     "text": [
      "Process PoolWorker-64:\n",
      "Traceback (most recent call last):\n",
      "  File \"/usr/local/Cellar/python@2/2.7.15_1/Frameworks/Python.framework/Versions/2.7/lib/python2.7/multiprocessing/process.py\", line 267, in _bootstrap\n",
      "    self.run()\n",
      "  File \"/usr/local/Cellar/python@2/2.7.15_1/Frameworks/Python.framework/Versions/2.7/lib/python2.7/multiprocessing/process.py\", line 114, in run\n",
      "    self._target(*self._args, **self._kwargs)\n",
      "  File \"/usr/local/Cellar/python@2/2.7.15_1/Frameworks/Python.framework/Versions/2.7/lib/python2.7/multiprocessing/pool.py\", line 102, in worker\n",
      "    task = get()\n",
      "  File \"/usr/local/Cellar/python@2/2.7.15_1/Frameworks/Python.framework/Versions/2.7/lib/python2.7/multiprocessing/queues.py\", line 376, in get\n",
      "    return recv()\n",
      "KeyboardInterrupt\n",
      "KeyboardInterrupt\n",
      "    return send(obj)\n",
      "  File \"/usr/local/Cellar/python@2/2.7.15_1/Frameworks/Python.framework/Versions/2.7/lib/python2.7/multiprocessing/queues.py\", line 390, in put\n",
      "    put((job, i, result))\n",
      "  File \"/usr/local/Cellar/python@2/2.7.15_1/Frameworks/Python.framework/Versions/2.7/lib/python2.7/multiprocessing/pool.py\", line 117, in worker\n",
      "    self._target(*self._args, **self._kwargs)\n",
      "  File \"/usr/local/Cellar/python@2/2.7.15_1/Frameworks/Python.framework/Versions/2.7/lib/python2.7/multiprocessing/process.py\", line 114, in run\n",
      "    self.run()\n",
      "  File \"/usr/local/Cellar/python@2/2.7.15_1/Frameworks/Python.framework/Versions/2.7/lib/python2.7/multiprocessing/process.py\", line 267, in _bootstrap\n",
      "Traceback (most recent call last):\n",
      "Process PoolWorker-62:\n"
     ]
    },
    {
     "ename": "KeyboardInterrupt",
     "evalue": "",
     "output_type": "error",
     "traceback": [
      "\u001b[0;31m---------------------------------------------------------------------------\u001b[0m",
      "\u001b[0;31mKeyboardInterrupt\u001b[0m                         Traceback (most recent call last)",
      "\u001b[0;32m<ipython-input-148-37df83331d4d>\u001b[0m in \u001b[0;36m<module>\u001b[0;34m()\u001b[0m\n\u001b[0;32m----> 1\u001b[0;31m \u001b[0mget_ipython\u001b[0m\u001b[0;34m(\u001b[0m\u001b[0;34m)\u001b[0m\u001b[0;34m.\u001b[0m\u001b[0mrun_cell_magic\u001b[0m\u001b[0;34m(\u001b[0m\u001b[0;34mu'time'\u001b[0m\u001b[0;34m,\u001b[0m \u001b[0;34mu''\u001b[0m\u001b[0;34m,\u001b[0m \u001b[0;34mu'# imheight = 32\\n# imwidth = 32\\n# # faster conversion function\\n# def draw_it(strokes):\\n#     image = Image.new(\"P\", (256,256), color=255)\\n#     image_draw = ImageDraw.Draw(image)\\n#     for stroke in ast.literal_eval(strokes):\\n#         for i in range(len(stroke[0])-1):\\n#             image_draw.line([stroke[0][i], \\n#                              stroke[1][i],\\n#                              stroke[0][i+1], \\n#                              stroke[1][i+1]],\\n#                             fill=0, width=5)\\n#     image = image.resize((imheight, imwidth))\\n#     return np.array(image)/255.\\n\\n#%% get train arrays\\n# train_grand = []\\n# class_paths = glob(\\'../input/train_simplified/*.csv\\')\\n# for i,c in enumerate(tqdm(class_paths[0: num_classes])):\\nimagebag = bag.from_sequence(df.drawing.values).map(draw_it) \\ntrainarray = np.array(imagebag.compute())  # PARALLELIZE\\n# trainarray = np.reshape(trainarray, (ims_per_class, -1))    \\n# labelarray = np.full((train.shape[0], 1), i)\\n# trainarray = np.concatenate((labelarray, trainarray), axis=1)\\n# train_grand.append(trainarray)\\n    \\n# train_grand = np.array([train_grand.pop() for i in np.arange(num_classes)]) #less memory than np.concatenate\\n# train_grand = train_grand.reshape((-1, (imheight*imwidth+1)))\\n\\n# del trainarray\\n# del train\\nprint(trainarray.shape)'\u001b[0m\u001b[0;34m)\u001b[0m\u001b[0;34m\u001b[0m\u001b[0m\n\u001b[0m",
      "\u001b[0;32m/usr/local/lib/python2.7/site-packages/IPython/core/interactiveshell.pyc\u001b[0m in \u001b[0;36mrun_cell_magic\u001b[0;34m(self, magic_name, line, cell)\u001b[0m\n\u001b[1;32m   2115\u001b[0m             \u001b[0mmagic_arg_s\u001b[0m \u001b[0;34m=\u001b[0m \u001b[0mself\u001b[0m\u001b[0;34m.\u001b[0m\u001b[0mvar_expand\u001b[0m\u001b[0;34m(\u001b[0m\u001b[0mline\u001b[0m\u001b[0;34m,\u001b[0m \u001b[0mstack_depth\u001b[0m\u001b[0;34m)\u001b[0m\u001b[0;34m\u001b[0m\u001b[0m\n\u001b[1;32m   2116\u001b[0m             \u001b[0;32mwith\u001b[0m \u001b[0mself\u001b[0m\u001b[0;34m.\u001b[0m\u001b[0mbuiltin_trap\u001b[0m\u001b[0;34m:\u001b[0m\u001b[0;34m\u001b[0m\u001b[0m\n\u001b[0;32m-> 2117\u001b[0;31m                 \u001b[0mresult\u001b[0m \u001b[0;34m=\u001b[0m \u001b[0mfn\u001b[0m\u001b[0;34m(\u001b[0m\u001b[0mmagic_arg_s\u001b[0m\u001b[0;34m,\u001b[0m \u001b[0mcell\u001b[0m\u001b[0;34m)\u001b[0m\u001b[0;34m\u001b[0m\u001b[0m\n\u001b[0m\u001b[1;32m   2118\u001b[0m             \u001b[0;32mreturn\u001b[0m \u001b[0mresult\u001b[0m\u001b[0;34m\u001b[0m\u001b[0m\n\u001b[1;32m   2119\u001b[0m \u001b[0;34m\u001b[0m\u001b[0m\n",
      "\u001b[0;32m<decorator-gen-60>\u001b[0m in \u001b[0;36mtime\u001b[0;34m(self, line, cell, local_ns)\u001b[0m\n",
      "\u001b[0;32m/usr/local/lib/python2.7/site-packages/IPython/core/magic.pyc\u001b[0m in \u001b[0;36m<lambda>\u001b[0;34m(f, *a, **k)\u001b[0m\n\u001b[1;32m    186\u001b[0m     \u001b[0;31m# but it's overkill for just that one bit of state.\u001b[0m\u001b[0;34m\u001b[0m\u001b[0;34m\u001b[0m\u001b[0m\n\u001b[1;32m    187\u001b[0m     \u001b[0;32mdef\u001b[0m \u001b[0mmagic_deco\u001b[0m\u001b[0;34m(\u001b[0m\u001b[0marg\u001b[0m\u001b[0;34m)\u001b[0m\u001b[0;34m:\u001b[0m\u001b[0;34m\u001b[0m\u001b[0m\n\u001b[0;32m--> 188\u001b[0;31m         \u001b[0mcall\u001b[0m \u001b[0;34m=\u001b[0m \u001b[0;32mlambda\u001b[0m \u001b[0mf\u001b[0m\u001b[0;34m,\u001b[0m \u001b[0;34m*\u001b[0m\u001b[0ma\u001b[0m\u001b[0;34m,\u001b[0m \u001b[0;34m**\u001b[0m\u001b[0mk\u001b[0m\u001b[0;34m:\u001b[0m \u001b[0mf\u001b[0m\u001b[0;34m(\u001b[0m\u001b[0;34m*\u001b[0m\u001b[0ma\u001b[0m\u001b[0;34m,\u001b[0m \u001b[0;34m**\u001b[0m\u001b[0mk\u001b[0m\u001b[0;34m)\u001b[0m\u001b[0;34m\u001b[0m\u001b[0m\n\u001b[0m\u001b[1;32m    189\u001b[0m \u001b[0;34m\u001b[0m\u001b[0m\n\u001b[1;32m    190\u001b[0m         \u001b[0;32mif\u001b[0m \u001b[0mcallable\u001b[0m\u001b[0;34m(\u001b[0m\u001b[0marg\u001b[0m\u001b[0;34m)\u001b[0m\u001b[0;34m:\u001b[0m\u001b[0;34m\u001b[0m\u001b[0m\n",
      "\u001b[0;32m/usr/local/lib/python2.7/site-packages/IPython/core/magics/execution.pyc\u001b[0m in \u001b[0;36mtime\u001b[0;34m(self, line, cell, local_ns)\u001b[0m\n\u001b[1;32m   1191\u001b[0m         \u001b[0;32melse\u001b[0m\u001b[0;34m:\u001b[0m\u001b[0;34m\u001b[0m\u001b[0m\n\u001b[1;32m   1192\u001b[0m             \u001b[0mst\u001b[0m \u001b[0;34m=\u001b[0m \u001b[0mclock2\u001b[0m\u001b[0;34m(\u001b[0m\u001b[0;34m)\u001b[0m\u001b[0;34m\u001b[0m\u001b[0m\n\u001b[0;32m-> 1193\u001b[0;31m             \u001b[0;32mexec\u001b[0m\u001b[0;34m(\u001b[0m\u001b[0mcode\u001b[0m\u001b[0;34m,\u001b[0m \u001b[0mglob\u001b[0m\u001b[0;34m,\u001b[0m \u001b[0mlocal_ns\u001b[0m\u001b[0;34m)\u001b[0m\u001b[0;34m\u001b[0m\u001b[0m\n\u001b[0m\u001b[1;32m   1194\u001b[0m             \u001b[0mend\u001b[0m \u001b[0;34m=\u001b[0m \u001b[0mclock2\u001b[0m\u001b[0;34m(\u001b[0m\u001b[0;34m)\u001b[0m\u001b[0;34m\u001b[0m\u001b[0m\n\u001b[1;32m   1195\u001b[0m             \u001b[0mout\u001b[0m \u001b[0;34m=\u001b[0m \u001b[0mNone\u001b[0m\u001b[0;34m\u001b[0m\u001b[0m\n",
      "\u001b[0;32m<timed exec>\u001b[0m in \u001b[0;36m<module>\u001b[0;34m()\u001b[0m\n",
      "\u001b[0;32m/usr/local/lib/python2.7/site-packages/dask/base.pyc\u001b[0m in \u001b[0;36mcompute\u001b[0;34m(self, **kwargs)\u001b[0m\n\u001b[1;32m    154\u001b[0m         \u001b[0mdask\u001b[0m\u001b[0;34m.\u001b[0m\u001b[0mbase\u001b[0m\u001b[0;34m.\u001b[0m\u001b[0mcompute\u001b[0m\u001b[0;34m\u001b[0m\u001b[0m\n\u001b[1;32m    155\u001b[0m         \"\"\"\n\u001b[0;32m--> 156\u001b[0;31m         \u001b[0;34m(\u001b[0m\u001b[0mresult\u001b[0m\u001b[0;34m,\u001b[0m\u001b[0;34m)\u001b[0m \u001b[0;34m=\u001b[0m \u001b[0mcompute\u001b[0m\u001b[0;34m(\u001b[0m\u001b[0mself\u001b[0m\u001b[0;34m,\u001b[0m \u001b[0mtraverse\u001b[0m\u001b[0;34m=\u001b[0m\u001b[0mFalse\u001b[0m\u001b[0;34m,\u001b[0m \u001b[0;34m**\u001b[0m\u001b[0mkwargs\u001b[0m\u001b[0;34m)\u001b[0m\u001b[0;34m\u001b[0m\u001b[0m\n\u001b[0m\u001b[1;32m    157\u001b[0m         \u001b[0;32mreturn\u001b[0m \u001b[0mresult\u001b[0m\u001b[0;34m\u001b[0m\u001b[0m\n\u001b[1;32m    158\u001b[0m \u001b[0;34m\u001b[0m\u001b[0m\n",
      "\u001b[0;32m/usr/local/lib/python2.7/site-packages/dask/base.pyc\u001b[0m in \u001b[0;36mcompute\u001b[0;34m(*args, **kwargs)\u001b[0m\n\u001b[1;32m    395\u001b[0m     \u001b[0mkeys\u001b[0m \u001b[0;34m=\u001b[0m \u001b[0;34m[\u001b[0m\u001b[0mx\u001b[0m\u001b[0;34m.\u001b[0m\u001b[0m__dask_keys__\u001b[0m\u001b[0;34m(\u001b[0m\u001b[0;34m)\u001b[0m \u001b[0;32mfor\u001b[0m \u001b[0mx\u001b[0m \u001b[0;32min\u001b[0m \u001b[0mcollections\u001b[0m\u001b[0;34m]\u001b[0m\u001b[0;34m\u001b[0m\u001b[0m\n\u001b[1;32m    396\u001b[0m     \u001b[0mpostcomputes\u001b[0m \u001b[0;34m=\u001b[0m \u001b[0;34m[\u001b[0m\u001b[0mx\u001b[0m\u001b[0;34m.\u001b[0m\u001b[0m__dask_postcompute__\u001b[0m\u001b[0;34m(\u001b[0m\u001b[0;34m)\u001b[0m \u001b[0;32mfor\u001b[0m \u001b[0mx\u001b[0m \u001b[0;32min\u001b[0m \u001b[0mcollections\u001b[0m\u001b[0;34m]\u001b[0m\u001b[0;34m\u001b[0m\u001b[0m\n\u001b[0;32m--> 397\u001b[0;31m     \u001b[0mresults\u001b[0m \u001b[0;34m=\u001b[0m \u001b[0mschedule\u001b[0m\u001b[0;34m(\u001b[0m\u001b[0mdsk\u001b[0m\u001b[0;34m,\u001b[0m \u001b[0mkeys\u001b[0m\u001b[0;34m,\u001b[0m \u001b[0;34m**\u001b[0m\u001b[0mkwargs\u001b[0m\u001b[0;34m)\u001b[0m\u001b[0;34m\u001b[0m\u001b[0m\n\u001b[0m\u001b[1;32m    398\u001b[0m     \u001b[0;32mreturn\u001b[0m \u001b[0mrepack\u001b[0m\u001b[0;34m(\u001b[0m\u001b[0;34m[\u001b[0m\u001b[0mf\u001b[0m\u001b[0;34m(\u001b[0m\u001b[0mr\u001b[0m\u001b[0;34m,\u001b[0m \u001b[0;34m*\u001b[0m\u001b[0ma\u001b[0m\u001b[0;34m)\u001b[0m \u001b[0;32mfor\u001b[0m \u001b[0mr\u001b[0m\u001b[0;34m,\u001b[0m \u001b[0;34m(\u001b[0m\u001b[0mf\u001b[0m\u001b[0;34m,\u001b[0m \u001b[0ma\u001b[0m\u001b[0;34m)\u001b[0m \u001b[0;32min\u001b[0m \u001b[0mzip\u001b[0m\u001b[0;34m(\u001b[0m\u001b[0mresults\u001b[0m\u001b[0;34m,\u001b[0m \u001b[0mpostcomputes\u001b[0m\u001b[0;34m)\u001b[0m\u001b[0;34m]\u001b[0m\u001b[0;34m)\u001b[0m\u001b[0;34m\u001b[0m\u001b[0m\n\u001b[1;32m    399\u001b[0m \u001b[0;34m\u001b[0m\u001b[0m\n",
      "\u001b[0;32m/usr/local/lib/python2.7/site-packages/dask/multiprocessing.pyc\u001b[0m in \u001b[0;36mget\u001b[0;34m(dsk, keys, num_workers, func_loads, func_dumps, optimize_graph, **kwargs)\u001b[0m\n\u001b[1;32m    190\u001b[0m                            \u001b[0mget_id\u001b[0m\u001b[0;34m=\u001b[0m\u001b[0m_process_get_id\u001b[0m\u001b[0;34m,\u001b[0m \u001b[0mdumps\u001b[0m\u001b[0;34m=\u001b[0m\u001b[0mdumps\u001b[0m\u001b[0;34m,\u001b[0m \u001b[0mloads\u001b[0m\u001b[0;34m=\u001b[0m\u001b[0mloads\u001b[0m\u001b[0;34m,\u001b[0m\u001b[0;34m\u001b[0m\u001b[0m\n\u001b[1;32m    191\u001b[0m                            \u001b[0mpack_exception\u001b[0m\u001b[0;34m=\u001b[0m\u001b[0mpack_exception\u001b[0m\u001b[0;34m,\u001b[0m\u001b[0;34m\u001b[0m\u001b[0m\n\u001b[0;32m--> 192\u001b[0;31m                            raise_exception=reraise, **kwargs)\n\u001b[0m\u001b[1;32m    193\u001b[0m     \u001b[0;32mfinally\u001b[0m\u001b[0;34m:\u001b[0m\u001b[0;34m\u001b[0m\u001b[0m\n\u001b[1;32m    194\u001b[0m         \u001b[0;32mif\u001b[0m \u001b[0mcleanup\u001b[0m\u001b[0;34m:\u001b[0m\u001b[0;34m\u001b[0m\u001b[0m\n",
      "\u001b[0;32m/usr/local/lib/python2.7/site-packages/dask/local.pyc\u001b[0m in \u001b[0;36mget_async\u001b[0;34m(apply_async, num_workers, dsk, result, cache, get_id, rerun_exceptions_locally, pack_exception, raise_exception, callbacks, dumps, loads, **kwargs)\u001b[0m\n\u001b[1;32m    500\u001b[0m                     \u001b[0;32melse\u001b[0m\u001b[0;34m:\u001b[0m\u001b[0;34m\u001b[0m\u001b[0m\n\u001b[1;32m    501\u001b[0m                         \u001b[0mraise_exception\u001b[0m\u001b[0;34m(\u001b[0m\u001b[0mexc\u001b[0m\u001b[0;34m,\u001b[0m \u001b[0mtb\u001b[0m\u001b[0;34m)\u001b[0m\u001b[0;34m\u001b[0m\u001b[0m\n\u001b[0;32m--> 502\u001b[0;31m                 \u001b[0mres\u001b[0m\u001b[0;34m,\u001b[0m \u001b[0mworker_id\u001b[0m \u001b[0;34m=\u001b[0m \u001b[0mloads\u001b[0m\u001b[0;34m(\u001b[0m\u001b[0mres_info\u001b[0m\u001b[0;34m)\u001b[0m\u001b[0;34m\u001b[0m\u001b[0m\n\u001b[0m\u001b[1;32m    503\u001b[0m                 \u001b[0mstate\u001b[0m\u001b[0;34m[\u001b[0m\u001b[0;34m'cache'\u001b[0m\u001b[0;34m]\u001b[0m\u001b[0;34m[\u001b[0m\u001b[0mkey\u001b[0m\u001b[0;34m]\u001b[0m \u001b[0;34m=\u001b[0m \u001b[0mres\u001b[0m\u001b[0;34m\u001b[0m\u001b[0m\n\u001b[1;32m    504\u001b[0m                 \u001b[0mfinish_task\u001b[0m\u001b[0;34m(\u001b[0m\u001b[0mdsk\u001b[0m\u001b[0;34m,\u001b[0m \u001b[0mkey\u001b[0m\u001b[0;34m,\u001b[0m \u001b[0mstate\u001b[0m\u001b[0;34m,\u001b[0m \u001b[0mresults\u001b[0m\u001b[0;34m,\u001b[0m \u001b[0mkeyorder\u001b[0m\u001b[0;34m.\u001b[0m\u001b[0mget\u001b[0m\u001b[0;34m)\u001b[0m\u001b[0;34m\u001b[0m\u001b[0m\n",
      "\u001b[0;32m/usr/local/Cellar/python@2/2.7.15_1/Frameworks/Python.framework/Versions/2.7/lib/python2.7/pickle.pyc\u001b[0m in \u001b[0;36mloads\u001b[0;34m(str)\u001b[0m\n\u001b[1;32m   1386\u001b[0m \u001b[0;32mdef\u001b[0m \u001b[0mloads\u001b[0m\u001b[0;34m(\u001b[0m\u001b[0mstr\u001b[0m\u001b[0;34m)\u001b[0m\u001b[0;34m:\u001b[0m\u001b[0;34m\u001b[0m\u001b[0m\n\u001b[1;32m   1387\u001b[0m     \u001b[0mfile\u001b[0m \u001b[0;34m=\u001b[0m \u001b[0mStringIO\u001b[0m\u001b[0;34m(\u001b[0m\u001b[0mstr\u001b[0m\u001b[0;34m)\u001b[0m\u001b[0;34m\u001b[0m\u001b[0m\n\u001b[0;32m-> 1388\u001b[0;31m     \u001b[0;32mreturn\u001b[0m \u001b[0mUnpickler\u001b[0m\u001b[0;34m(\u001b[0m\u001b[0mfile\u001b[0m\u001b[0;34m)\u001b[0m\u001b[0;34m.\u001b[0m\u001b[0mload\u001b[0m\u001b[0;34m(\u001b[0m\u001b[0;34m)\u001b[0m\u001b[0;34m\u001b[0m\u001b[0m\n\u001b[0m\u001b[1;32m   1389\u001b[0m \u001b[0;34m\u001b[0m\u001b[0m\n\u001b[1;32m   1390\u001b[0m \u001b[0;31m# Doctest\u001b[0m\u001b[0;34m\u001b[0m\u001b[0;34m\u001b[0m\u001b[0m\n",
      "\u001b[0;32m/usr/local/Cellar/python@2/2.7.15_1/Frameworks/Python.framework/Versions/2.7/lib/python2.7/pickle.pyc\u001b[0m in \u001b[0;36mload\u001b[0;34m(self)\u001b[0m\n\u001b[1;32m    862\u001b[0m             \u001b[0;32mwhile\u001b[0m \u001b[0;36m1\u001b[0m\u001b[0;34m:\u001b[0m\u001b[0;34m\u001b[0m\u001b[0m\n\u001b[1;32m    863\u001b[0m                 \u001b[0mkey\u001b[0m \u001b[0;34m=\u001b[0m \u001b[0mread\u001b[0m\u001b[0;34m(\u001b[0m\u001b[0;36m1\u001b[0m\u001b[0;34m)\u001b[0m\u001b[0;34m\u001b[0m\u001b[0m\n\u001b[0;32m--> 864\u001b[0;31m                 \u001b[0mdispatch\u001b[0m\u001b[0;34m[\u001b[0m\u001b[0mkey\u001b[0m\u001b[0;34m]\u001b[0m\u001b[0;34m(\u001b[0m\u001b[0mself\u001b[0m\u001b[0;34m)\u001b[0m\u001b[0;34m\u001b[0m\u001b[0m\n\u001b[0m\u001b[1;32m    865\u001b[0m         \u001b[0;32mexcept\u001b[0m \u001b[0m_Stop\u001b[0m\u001b[0;34m,\u001b[0m \u001b[0mstopinst\u001b[0m\u001b[0;34m:\u001b[0m\u001b[0;34m\u001b[0m\u001b[0m\n\u001b[1;32m    866\u001b[0m             \u001b[0;32mreturn\u001b[0m \u001b[0mstopinst\u001b[0m\u001b[0;34m.\u001b[0m\u001b[0mvalue\u001b[0m\u001b[0;34m\u001b[0m\u001b[0m\n",
      "\u001b[0;32m/usr/local/Cellar/python@2/2.7.15_1/Frameworks/Python.framework/Versions/2.7/lib/python2.7/pickle.pyc\u001b[0m in \u001b[0;36mload_binint1\u001b[0;34m(self)\u001b[0m\n\u001b[1;32m    933\u001b[0m     \u001b[0mdispatch\u001b[0m\u001b[0;34m[\u001b[0m\u001b[0mBININT\u001b[0m\u001b[0;34m]\u001b[0m \u001b[0;34m=\u001b[0m \u001b[0mload_binint\u001b[0m\u001b[0;34m\u001b[0m\u001b[0m\n\u001b[1;32m    934\u001b[0m \u001b[0;34m\u001b[0m\u001b[0m\n\u001b[0;32m--> 935\u001b[0;31m     \u001b[0;32mdef\u001b[0m \u001b[0mload_binint1\u001b[0m\u001b[0;34m(\u001b[0m\u001b[0mself\u001b[0m\u001b[0;34m)\u001b[0m\u001b[0;34m:\u001b[0m\u001b[0;34m\u001b[0m\u001b[0m\n\u001b[0m\u001b[1;32m    936\u001b[0m         \u001b[0mself\u001b[0m\u001b[0;34m.\u001b[0m\u001b[0mappend\u001b[0m\u001b[0;34m(\u001b[0m\u001b[0mord\u001b[0m\u001b[0;34m(\u001b[0m\u001b[0mself\u001b[0m\u001b[0;34m.\u001b[0m\u001b[0mread\u001b[0m\u001b[0;34m(\u001b[0m\u001b[0;36m1\u001b[0m\u001b[0;34m)\u001b[0m\u001b[0;34m)\u001b[0m\u001b[0;34m)\u001b[0m\u001b[0;34m\u001b[0m\u001b[0m\n\u001b[1;32m    937\u001b[0m     \u001b[0mdispatch\u001b[0m\u001b[0;34m[\u001b[0m\u001b[0mBININT1\u001b[0m\u001b[0;34m]\u001b[0m \u001b[0;34m=\u001b[0m \u001b[0mload_binint1\u001b[0m\u001b[0;34m\u001b[0m\u001b[0m\n",
      "\u001b[0;31mKeyboardInterrupt\u001b[0m: "
     ]
    }
   ],
   "source": [
    "%%time\n",
    "# imheight = 32\n",
    "# imwidth = 32\n",
    "# # faster conversion function\n",
    "# def draw_it(strokes):\n",
    "#     image = Image.new(\"P\", (256,256), color=255)\n",
    "#     image_draw = ImageDraw.Draw(image)\n",
    "#     for stroke in ast.literal_eval(strokes):\n",
    "#         for i in range(len(stroke[0])-1):\n",
    "#             image_draw.line([stroke[0][i], \n",
    "#                              stroke[1][i],\n",
    "#                              stroke[0][i+1], \n",
    "#                              stroke[1][i+1]],\n",
    "#                             fill=0, width=5)\n",
    "#     image = image.resize((imheight, imwidth))\n",
    "#     return np.array(image)/255.\n",
    "\n",
    "#%% get train arrays\n",
    "# train_grand = []\n",
    "# class_paths = glob('../input/train_simplified/*.csv')\n",
    "# for i,c in enumerate(tqdm(class_paths[0: num_classes])):\n",
    "imagebag = bag.from_sequence(df.drawing.values).map(draw_it) \n",
    "trainarray = np.array(imagebag.compute())  # PARALLELIZE\n",
    "# trainarray = np.reshape(trainarray, (ims_per_class, -1))    \n",
    "# labelarray = np.full((train.shape[0], 1), i)\n",
    "# trainarray = np.concatenate((labelarray, trainarray), axis=1)\n",
    "# train_grand.append(trainarray)\n",
    "    \n",
    "# train_grand = np.array([train_grand.pop() for i in np.arange(num_classes)]) #less memory than np.concatenate\n",
    "# train_grand = train_grand.reshape((-1, (imheight*imwidth+1)))\n",
    "\n",
    "# del trainarray\n",
    "# del train\n",
    "print(trainarray.shape)"
   ]
  },
  {
   "cell_type": "code",
   "execution_count": 77,
   "metadata": {},
   "outputs": [],
   "source": [
    "# trainarray[0]"
   ]
  },
  {
   "cell_type": "code",
   "execution_count": null,
   "metadata": {},
   "outputs": [],
   "source": []
  },
  {
   "cell_type": "code",
   "execution_count": null,
   "metadata": {},
   "outputs": [],
   "source": []
  },
  {
   "cell_type": "code",
   "execution_count": null,
   "metadata": {},
   "outputs": [],
   "source": []
  },
  {
   "cell_type": "code",
   "execution_count": null,
   "metadata": {},
   "outputs": [],
   "source": []
  },
  {
   "cell_type": "code",
   "execution_count": null,
   "metadata": {},
   "outputs": [],
   "source": []
  },
  {
   "cell_type": "code",
   "execution_count": null,
   "metadata": {},
   "outputs": [],
   "source": []
  },
  {
   "cell_type": "code",
   "execution_count": null,
   "metadata": {},
   "outputs": [],
   "source": []
  },
  {
   "cell_type": "code",
   "execution_count": 3,
   "metadata": {},
   "outputs": [
    {
     "name": "stderr",
     "output_type": "stream",
     "text": [
      "100%|██████████| 340/340 [05:32<00:00,  1.10it/s]"
     ]
    },
    {
     "name": "stdout",
     "output_type": "stream",
     "text": [
      "CPU times: user 3min 55s, sys: 38.1 s, total: 4min 33s\n",
      "Wall time: 5min 32s\n"
     ]
    },
    {
     "name": "stderr",
     "output_type": "stream",
     "text": [
      "\n"
     ]
    }
   ],
   "source": [
    "%%time\n",
    "# output_height = output_width = 64\n",
    "# NROWS = 100000\n",
    "fnames = glob('train_simplified/*.csv')\n",
    "fileLens = {}\n",
    "fileLensRecog = {}\n",
    "for i in tqdm(range(len(fnames))):\n",
    "    data = pd.read_csv(fnames[i])\n",
    "    len_ = data.shape[0]\n",
    "    len_recog = data[data['recognized'] == True].shape[0]\n",
    "    \n",
    "    fileLens[i] = len_\n",
    "    fileLensRecog[i] = len_recog\n",
    "    \n"
   ]
  },
  {
   "cell_type": "code",
   "execution_count": 6,
   "metadata": {},
   "outputs": [
    {
     "name": "stderr",
     "output_type": "stream",
     "text": [
      "100%|██████████| 340/340 [00:00<00:00, 435838.44it/s]"
     ]
    },
    {
     "name": "stdout",
     "output_type": "stream",
     "text": [
      "323952\n",
      "94584\n"
     ]
    },
    {
     "name": "stderr",
     "output_type": "stream",
     "text": [
      "\n"
     ]
    }
   ],
   "source": [
    "max_ = 0\n",
    "min_ = 100000000\n",
    "for i in tqdm(range(340)):\n",
    "    val = fileLensRecog[i]\n",
    "    if val > max_:\n",
    "        max_ = val\n",
    "    if val < min_:\n",
    "        min_ = val\n",
    "print(max_)\n",
    "print(min_)"
   ]
  },
  {
   "cell_type": "code",
   "execution_count": null,
   "metadata": {},
   "outputs": [],
   "source": []
  }
 ],
 "metadata": {
  "kernelspec": {
   "display_name": "Python 2",
   "language": "python",
   "name": "python2"
  },
  "language_info": {
   "codemirror_mode": {
    "name": "ipython",
    "version": 2
   },
   "file_extension": ".py",
   "mimetype": "text/x-python",
   "name": "python",
   "nbconvert_exporter": "python",
   "pygments_lexer": "ipython2",
   "version": "2.7.15"
  }
 },
 "nbformat": 4,
 "nbformat_minor": 2
}
