{
 "cells": [
  {
   "cell_type": "code",
   "execution_count": 1,
   "id": "08f9b965-025f-461c-bd1b-bb05728c760a",
   "metadata": {},
   "outputs": [],
   "source": [
    "import torch\n",
    "import torch.nn.functional as F"
   ]
  },
  {
   "cell_type": "code",
   "execution_count": 2,
   "id": "9834556f-7853-4c73-9757-cc6741eb6af0",
   "metadata": {},
   "outputs": [],
   "source": [
    "# torch.device(\"cuda:0\"\n",
    "device = torch.device('cuda:0' if torch.cuda.is_available() else 'cpu')"
   ]
  },
  {
   "cell_type": "markdown",
   "id": "b78bfe40-b1bd-465c-b790-5b4f5316c123",
   "metadata": {},
   "source": [
    "# Simple Self Attention without trainable weights"
   ]
  },
  {
   "cell_type": "code",
   "execution_count": 3,
   "id": "cbafaf36-b9e2-4dc8-b2f7-71ea767ed528",
   "metadata": {},
   "outputs": [],
   "source": [
    "# input embeddings\n",
    "inputs = torch.tensor(\n",
    "  [[0.43, 0.15, 0.89], # Your     (x^1)\n",
    "   [0.55, 0.87, 0.66], # journey  (x^2)\n",
    "   [0.57, 0.85, 0.64], # starts   (x^3)\n",
    "   [0.22, 0.58, 0.33], # with     (x^4)\n",
    "   [0.77, 0.25, 0.10], # one      (x^5)\n",
    "   [0.05, 0.80, 0.55]] # step     (x^6)\n",
    ").to(device=device)"
   ]
  },
  {
   "cell_type": "code",
   "execution_count": 4,
   "id": "051d80e7-1786-424e-9486-6da9709dd4a1",
   "metadata": {},
   "outputs": [
    {
     "data": {
      "text/plain": [
       "tensor([[0.4300, 0.1500, 0.8900],\n",
       "        [0.5500, 0.8700, 0.6600],\n",
       "        [0.5700, 0.8500, 0.6400],\n",
       "        [0.2200, 0.5800, 0.3300],\n",
       "        [0.7700, 0.2500, 0.1000],\n",
       "        [0.0500, 0.8000, 0.5500]], device='cuda:0')"
      ]
     },
     "execution_count": 4,
     "metadata": {},
     "output_type": "execute_result"
    }
   ],
   "source": [
    "inputs"
   ]
  },
  {
   "cell_type": "code",
   "execution_count": 5,
   "id": "3db47e54-347c-4dca-822e-32a74a5c80d7",
   "metadata": {},
   "outputs": [
    {
     "data": {
      "text/plain": [
       "tensor([0.5500, 0.8700, 0.6600], device='cuda:0')"
      ]
     },
     "execution_count": 5,
     "metadata": {},
     "output_type": "execute_result"
    }
   ],
   "source": [
    "input_query = inputs[1]\n",
    "input_query"
   ]
  },
  {
   "cell_type": "code",
   "execution_count": 6,
   "id": "ce48b080-db97-48d3-897f-ece70aacc7a2",
   "metadata": {},
   "outputs": [
    {
     "data": {
      "text/plain": [
       "tensor([0.4300, 0.1500, 0.8900], device='cuda:0')"
      ]
     },
     "execution_count": 6,
     "metadata": {},
     "output_type": "execute_result"
    }
   ],
   "source": [
    "input_1 = inputs[0]\n",
    "input_1"
   ]
  },
  {
   "cell_type": "code",
   "execution_count": 7,
   "id": "26209972-cb22-4eb0-aabd-cc8f21e90d1e",
   "metadata": {},
   "outputs": [
    {
     "data": {
      "text/plain": [
       "tensor(0.9544, device='cuda:0')"
      ]
     },
     "execution_count": 7,
     "metadata": {},
     "output_type": "execute_result"
    }
   ],
   "source": [
    "torch.dot(input_query, input_1)"
   ]
  },
  {
   "cell_type": "code",
   "execution_count": 8,
   "id": "393561ec-b963-4fed-a595-4cc1985df3c8",
   "metadata": {},
   "outputs": [
    {
     "data": {
      "text/plain": [
       "torch.Size([6, 3])"
      ]
     },
     "execution_count": 8,
     "metadata": {},
     "output_type": "execute_result"
    }
   ],
   "source": [
    "inputs.shape"
   ]
  },
  {
   "cell_type": "code",
   "execution_count": 9,
   "id": "c4e8745b-7698-4c47-b645-1ea6f751b213",
   "metadata": {},
   "outputs": [
    {
     "data": {
      "text/plain": [
       "torch.Size([3])"
      ]
     },
     "execution_count": 9,
     "metadata": {},
     "output_type": "execute_result"
    }
   ],
   "source": [
    "input_query.shape"
   ]
  },
  {
   "cell_type": "code",
   "execution_count": 10,
   "id": "08a30c40-d421-4017-a4a0-92b3c6d427c0",
   "metadata": {},
   "outputs": [
    {
     "data": {
      "text/plain": [
       "torch.Size([3, 1])"
      ]
     },
     "execution_count": 10,
     "metadata": {},
     "output_type": "execute_result"
    }
   ],
   "source": [
    "input_query.unsqueeze(1).shape"
   ]
  },
  {
   "cell_type": "markdown",
   "id": "817a9573-99be-4aae-93b3-e6007292a79d",
   "metadata": {},
   "source": [
    "### Attention scores\n",
    "- dot product each token with the other tokens to get the similarity score (attention score)\n",
    "- norm the scores using softmax"
   ]
  },
  {
   "cell_type": "code",
   "execution_count": 11,
   "id": "cda9d451-3c29-4216-a13b-781b49575139",
   "metadata": {},
   "outputs": [
    {
     "name": "stdout",
     "output_type": "stream",
     "text": [
      "tensor([[0.9544],\n",
      "        [1.4950],\n",
      "        [1.4754],\n",
      "        [0.8434],\n",
      "        [0.7070],\n",
      "        [1.0865]], device='cuda:0')\n",
      "attention scores shape: torch.Size([6, 1])\n",
      "attention scores unsqueezed shape: torch.Size([6])\n",
      "tensor([0.9544, 1.4950, 1.4754, 0.8434, 0.7070, 1.0865], device='cuda:0')\n"
     ]
    }
   ],
   "source": [
    "attention_scores = torch.matmul(inputs, input_query.unsqueeze(1))\n",
    "print(attention_scores)\n",
    "print(f'attention scores shape: {attention_scores.shape}')\n",
    "attention_scores = attention_scores.squeeze(1)\n",
    "print(f'attention scores unsqueezed shape: {attention_scores.shape}')\n",
    "print(attention_scores)"
   ]
  },
  {
   "cell_type": "code",
   "execution_count": 12,
   "id": "a2e72220-b79f-46a3-a4ef-28b79dc2a97c",
   "metadata": {},
   "outputs": [
    {
     "name": "stdout",
     "output_type": "stream",
     "text": [
      "tensor([0.1385, 0.2379, 0.2333, 0.1240, 0.1082, 0.1581], device='cuda:0')\n",
      "shape of norm attention scores torch.Size([6])\n",
      "sum of norm attention scores: 0.9999999403953552\n"
     ]
    }
   ],
   "source": [
    "norm_attention_scores = F.softmax(attention_scores, dim=0)\n",
    "print(norm_attention_scores)\n",
    "print(f'shape of norm attention scores {norm_attention_scores.shape}')\n",
    "print(f'sum of norm attention scores: {torch.sum(norm_attention_scores)}')"
   ]
  },
  {
   "cell_type": "markdown",
   "id": "ce253fcc-e7c2-40e7-9fce-cc11688761f6",
   "metadata": {},
   "source": [
    "### Context Vector\n",
    "- weighted sum of each input * attention score"
   ]
  },
  {
   "cell_type": "code",
   "execution_count": 13,
   "id": "78b90e6d-9a7b-4df2-a344-6532a07d91e4",
   "metadata": {},
   "outputs": [
    {
     "name": "stdout",
     "output_type": "stream",
     "text": [
      "\n",
      "inputs.shape torch.Size([6, 3])\n",
      "tensor([[0.4300, 0.1500, 0.8900],\n",
      "        [0.5500, 0.8700, 0.6600],\n",
      "        [0.5700, 0.8500, 0.6400],\n",
      "        [0.2200, 0.5800, 0.3300],\n",
      "        [0.7700, 0.2500, 0.1000],\n",
      "        [0.0500, 0.8000, 0.5500]], device='cuda:0')\n",
      "\n",
      "norm_attention_scores.shape torch.Size([6])\n",
      "tensor([0.1385, 0.2379, 0.2333, 0.1240, 0.1082, 0.1581], device='cuda:0')\n",
      "\n",
      "norm_attention_scores.shape after unsqueeze torch.Size([6, 1])\n",
      "\n",
      "element wise broadcast of attention weights of size torch.Size([6, 1]) on inputs.shape torch.Size([6, 3]) = shape torch.Size([6, 3])\n",
      "tensor([[0.0596, 0.0208, 0.1233],\n",
      "        [0.1308, 0.2070, 0.1570],\n",
      "        [0.1330, 0.1983, 0.1493],\n",
      "        [0.0273, 0.0719, 0.0409],\n",
      "        [0.0833, 0.0270, 0.0108],\n",
      "        [0.0079, 0.1265, 0.0870]], device='cuda:0')\n",
      "\n",
      "context vector - weighted sum of inputs over the normed attention scores. Same size as the input vector size\n",
      "tensor([0.4419, 0.6515, 0.5683], device='cuda:0')\n"
     ]
    }
   ],
   "source": [
    "print(f'\\ninputs.shape {inputs.shape}')\n",
    "print(inputs)\n",
    "print(f'\\nnorm_attention_scores.shape {norm_attention_scores.shape}')\n",
    "print(norm_attention_scores)\n",
    "\n",
    "print(f'\\nnorm_attention_scores.shape after unsqueeze {norm_attention_scores.unsqueeze(-1).shape}')\n",
    "\n",
    "element_wise_score_multiplied_inputs = (norm_attention_scores.unsqueeze(-1) * inputs)\n",
    "print(f'\\nelement wise broadcast of attention weights of size {norm_attention_scores.unsqueeze(-1).shape} on inputs.shape {inputs.shape} = shape {element_wise_score_multiplied_inputs.shape}')\n",
    "print(element_wise_score_multiplied_inputs)\n",
    "\n",
    "print(f'\\ncontext vector - weighted sum of inputs over the normed attention scores. Same size as the input vector size')\n",
    "context_vector = element_wise_score_multiplied_inputs.sum(dim=0)\n",
    "print(context_vector)"
   ]
  },
  {
   "cell_type": "code",
   "execution_count": 15,
   "id": "51763733-ac73-4364-8e60-f435707c942d",
   "metadata": {},
   "outputs": [
    {
     "name": "stdout",
     "output_type": "stream",
     "text": [
      "inputs.shape torch.Size([6, 3])\n"
     ]
    }
   ],
   "source": [
    "print(f'inputs.shape {inputs.shape}')\n",
    "# print(f'inputs.shape.transpose {torch.transpose(inputs, inputs.shape[1], inputs.shape[0]).shape}')"
   ]
  },
  {
   "cell_type": "code",
   "execution_count": 18,
   "id": "5e352335-7281-472b-bf4f-36170163c65a",
   "metadata": {},
   "outputs": [
    {
     "data": {
      "text/plain": [
       "torch.Size([3, 1])"
      ]
     },
     "execution_count": 18,
     "metadata": {},
     "output_type": "execute_result"
    }
   ],
   "source": [
    "# torch.matmul(inputs, input_query.unsqueeze(1))\n",
    "input_query.unsqueeze(1).shape"
   ]
  },
  {
   "cell_type": "code",
   "execution_count": 19,
   "id": "1fc46aee-e872-43c3-a1dd-af57060741c0",
   "metadata": {},
   "outputs": [
    {
     "name": "stdout",
     "output_type": "stream",
     "text": [
      "\n",
      "(Q) torch.Size([1, 6, 3])\n",
      "\n",
      "(Kt) torch.Size([1, 6, 3])\n",
      "\n",
      "Matmul taken to get the dot product (QKt) torch.Size([1, 6, 6])\n",
      "tensor([[[0.9995, 0.9544, 0.9422, 0.4753, 0.4576, 0.6310],\n",
      "         [0.9544, 1.4950, 1.4754, 0.8434, 0.7070, 1.0865],\n",
      "         [0.9422, 1.4754, 1.4570, 0.8296, 0.7154, 1.0605],\n",
      "         [0.4753, 0.8434, 0.8296, 0.4937, 0.3474, 0.6565],\n",
      "         [0.4576, 0.7070, 0.7154, 0.3474, 0.6654, 0.2935],\n",
      "         [0.6310, 1.0865, 1.0605, 0.6565, 0.2935, 0.9450]]], device='cuda:0')\n",
      "\n",
      "Softmax_QKt in mid dimension torch.Size([1, 6, 6])\n",
      "tensor([[[0.2098, 0.1385, 0.1390, 0.1435, 0.1526, 0.1385],\n",
      "         [0.2006, 0.2379, 0.2369, 0.2074, 0.1958, 0.2184],\n",
      "         [0.1981, 0.2333, 0.2326, 0.2046, 0.1975, 0.2128],\n",
      "         [0.1242, 0.1240, 0.1242, 0.1462, 0.1367, 0.1420],\n",
      "         [0.1220, 0.1082, 0.1108, 0.1263, 0.1879, 0.0988],\n",
      "         [0.1452, 0.1581, 0.1565, 0.1720, 0.1295, 0.1896]]], device='cuda:0')\n",
      "\n",
      "Context vectors shape torch.Size([1, 6, 3]), one for each time step and also, of the same dim as input token embeddings\n",
      "tensor([[[0.4017, 0.5023, 0.5059],\n",
      "         [0.5595, 0.7824, 0.6953],\n",
      "         [0.5538, 0.7686, 0.6834],\n",
      "         [0.3369, 0.4647, 0.4119],\n",
      "         [0.3525, 0.4059, 0.3657],\n",
      "         [0.3856, 0.5761, 0.5077]]], device='cuda:0')\n"
     ]
    }
   ],
   "source": [
    "Q, K, V = inputs.unsqueeze(0), inputs.unsqueeze(0), inputs.unsqueeze(0)\n",
    "print(f'\\n(Q) {Q.shape}')\n",
    "Kt = torch.transpose(K, -2, -1)\n",
    "print(f'\\n(Kt) {K.shape}')\n",
    "QKt = torch.matmul(Q, Kt)\n",
    "print(f'\\nMatmul taken to get the dot product (QKt) {QKt.shape}')\n",
    "print(QKt)\n",
    "Softmax_QKt = F.softmax(QKt, dim=-2)\n",
    "print(f'\\nSoftmax_QKt in mid dimension {Softmax_QKt.shape}')\n",
    "print(Softmax_QKt)\n",
    "\n",
    "context_vectors = torch.matmul(Softmax_QKt, V)\n",
    "print(f'\\nContext vectors shape {context_vectors.shape}, one for each time step and also, of the same dim as input token embeddings')\n",
    "print(context_vectors)\n"
   ]
  },
  {
   "cell_type": "code",
   "execution_count": 16,
   "id": "295f7e25-b4ad-4692-ab96-a287bd6810bf",
   "metadata": {},
   "outputs": [],
   "source": [
    "def self_attention(inputs):\n",
    "    Q = inputs\n",
    "    # first dim should be the batch dimension\n",
    "    if len(inputs.shape) == 2:\n",
    "        Q = inputs.unsqueeze(0) # (B, C, D)\n",
    "    K, V = Q,Q # (B, C, D)\n",
    "    QKt = torch.matmul(Q, torch.transpose(K, -2, -1)) # (B, C, C)\n",
    "    soft_QKt = F.softmax(QKt, dim=-1) # (B, C, C)\n",
    "\n",
    "    context_vectors = torch.matmul(soft_QKt, V) # (B, C, D)\n",
    "\n",
    "    return context_vectors\n"
   ]
  },
  {
   "cell_type": "code",
   "execution_count": 17,
   "id": "701a3065-3a42-4f71-8ef8-2c7dc1e8b735",
   "metadata": {},
   "outputs": [
    {
     "data": {
      "text/plain": [
       "tensor([[[0.4421, 0.5931, 0.5790],\n",
       "         [0.4419, 0.6515, 0.5683],\n",
       "         [0.4431, 0.6496, 0.5671],\n",
       "         [0.4304, 0.6298, 0.5510],\n",
       "         [0.4671, 0.5910, 0.5266],\n",
       "         [0.4177, 0.6503, 0.5645]]], device='cuda:0')"
      ]
     },
     "execution_count": 17,
     "metadata": {},
     "output_type": "execute_result"
    }
   ],
   "source": [
    "self_attention(inputs)"
   ]
  },
  {
   "cell_type": "code",
   "execution_count": null,
   "id": "0d21ec6f-5dff-4577-992b-70512c8cc773",
   "metadata": {},
   "outputs": [],
   "source": []
  },
  {
   "cell_type": "code",
   "execution_count": null,
   "id": "7a55a530-06c5-417e-aed3-2582fb7969e3",
   "metadata": {},
   "outputs": [],
   "source": []
  },
  {
   "cell_type": "code",
   "execution_count": null,
   "id": "5c9ea5c3-8f1a-4feb-b8c5-cd63a351d751",
   "metadata": {},
   "outputs": [],
   "source": []
  }
 ],
 "metadata": {
  "kernelspec": {
   "display_name": "Python 3 (ipykernel)",
   "language": "python",
   "name": "python3"
  },
  "language_info": {
   "codemirror_mode": {
    "name": "ipython",
    "version": 3
   },
   "file_extension": ".py",
   "mimetype": "text/x-python",
   "name": "python",
   "nbconvert_exporter": "python",
   "pygments_lexer": "ipython3",
   "version": "3.10.12"
  }
 },
 "nbformat": 4,
 "nbformat_minor": 5
}
